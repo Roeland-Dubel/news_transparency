{
 "cells": [
  {
   "cell_type": "code",
   "execution_count": 1,
   "id": "57117966-3bec-4e8e-bad6-0163b5ae8161",
   "metadata": {
    "tags": []
   },
   "outputs": [],
   "source": [
    "#We import all necessary libraries.\n",
    "import pandas as pd\n",
    "from tqdm import tqdm; tqdm.pandas()\n",
    "import re\n",
    "import numpy as np\n",
    "from collections import Counter\n",
    "import Levenshtein\n",
    "from nltk.tokenize import sent_tokenize\n",
    "import joblib\n",
    "import statsmodels.api as sm\n",
    "import statsmodels.formula.api as smf\n",
    "from statsmodels.tools.sm_exceptions import ConvergenceWarning\n",
    "from scipy.stats import spearmanr\n",
    "from itertools import zip_longest"
   ]
  },
  {
   "cell_type": "code",
   "execution_count": 2,
   "id": "45d6dca0-f14d-4bc1-bb94-12849c9746ec",
   "metadata": {
    "tags": []
   },
   "outputs": [],
   "source": [
    "#We read in the data.\n",
    "df = pd.read_csv(\"52_micro_data.csv\")"
   ]
  },
  {
   "cell_type": "code",
   "execution_count": 3,
   "id": "1ce76cb4-aa37-498d-ab59-889d9fa9dc4a",
   "metadata": {
    "tags": []
   },
   "outputs": [],
   "source": [
    "#We convert the retrieval time to a datetime object.\n",
    "df[\"retrieval_time\"] = pd.to_datetime(df.retrieval_time,  format=\"mixed\", utc=True)"
   ]
  },
  {
   "cell_type": "code",
   "execution_count": 4,
   "id": "fef683b3-c99d-4dcc-8976-09ed608f2b5f",
   "metadata": {
    "tags": []
   },
   "outputs": [
    {
     "data": {
      "text/plain": [
       "Timedelta('0 days 20:15:57.827447')"
      ]
     },
     "execution_count": 4,
     "metadata": {},
     "output_type": "execute_result"
    }
   ],
   "source": [
    "#We assess how long the scraping took place.\n",
    "df.retrieval_time.max() - df.retrieval_time.min()"
   ]
  },
  {
   "cell_type": "code",
   "execution_count": 5,
   "id": "063e472a-5505-468d-a2b1-6ea8c80e86be",
   "metadata": {
    "tags": []
   },
   "outputs": [
    {
     "data": {
      "text/plain": [
       "Timestamp('2023-11-11 13:15:43.746295+0000', tz='UTC')"
      ]
     },
     "execution_count": 5,
     "metadata": {},
     "output_type": "execute_result"
    }
   ],
   "source": [
    "#We assess when it started.\n",
    "df.retrieval_time.min()"
   ]
  },
  {
   "cell_type": "code",
   "execution_count": 6,
   "id": "be642ef2-acc2-4e8d-8b03-6166c463a375",
   "metadata": {
    "tags": []
   },
   "outputs": [
    {
     "name": "stdout",
     "output_type": "stream",
     "text": [
      "36215\n"
     ]
    }
   ],
   "source": [
    "#We print the complete length.\n",
    "print(len(df))"
   ]
  },
  {
   "cell_type": "markdown",
   "id": "d8d08024-8aca-4408-b548-e1da08a40024",
   "metadata": {},
   "source": [
    "## extra row filters"
   ]
  },
  {
   "cell_type": "code",
   "execution_count": 7,
   "id": "862ace76-cfea-4884-8b4d-e1f35cc1fa93",
   "metadata": {
    "tags": []
   },
   "outputs": [],
   "source": [
    "#We define a function to clean the body text.\n",
    "def get_clean_text(x):\n",
    "    \n",
    "    lst = []\n",
    "    #We first want to filter out any wrongly scraped content.\n",
    "    #In this case we define a list of sentences with promotional content, such as to take subscriptions.\n",
    "    flter = [\"Na de gekozen periode kunt u maandelijks opzeggen\", \n",
    "             \"Door mijn rekeningnummer in te vullen\", \n",
    "             \"Log in of maak een account aan\"]\n",
    "    \n",
    "    #We first check if the value is correctly stored as a list.\n",
    "    if isinstance(x, str):\n",
    "        x = eval(x)\n",
    "    else:\n",
    "        pass\n",
    "    \n",
    "    #If so we loop over the paragraphs in the list of texts.\n",
    "    for item in x:\n",
    "        #We check if any of the filter items is present in the text.\n",
    "        if not any(f in item for f in flter):\n",
    "            #Furterhmore we replace all faulty symbols by simply empty spaces.\n",
    "            result = item.replace(\"\\\\\", \" \").replace(\"\\n\", \" \").replace(\"\\t\", \" \")\n",
    "            #If more then one space after each other exist, we replace it by a single space.\n",
    "            result = re.sub(r\" +\", \" \", result)\n",
    "            #If we end up with NOT an empty string, we append it to the result list.\n",
    "            if result != \"\":\n",
    "                lst.append(result)\n",
    "            else:\n",
    "                pass\n",
    "        else:\n",
    "            pass\n",
    "    #We return the list.\n",
    "    return lst\n",
    "\n",
    "#We also create a function to combine the paragraphs into one piece of string.\n",
    "def get_text_one(x): \n",
    "    #If there is only one paragraph we simply store the first element of the list.\n",
    "    if len(x) == 1:\n",
    "        x = x[0]\n",
    "    else:\n",
    "        #In any other case we join the paragraphs by single spaces.\n",
    "        x = \" \".join(x)\n",
    "    #We return our result.\n",
    "    return x"
   ]
  },
  {
   "cell_type": "code",
   "execution_count": 8,
   "id": "b819bfe8-09b1-4aa9-86b4-7692a0c3faaa",
   "metadata": {
    "tags": []
   },
   "outputs": [
    {
     "name": "stdout",
     "output_type": "stream",
     "text": [
      "35587\n"
     ]
    }
   ],
   "source": [
    "#We remove all irrelevant links.\n",
    "df = df[~df[\"links\"].str.contains(\"live|podcast|sudoku|in-het-midden|scrypto|nieuwsbrieven\")]; print(len(df))"
   ]
  },
  {
   "cell_type": "code",
   "execution_count": 9,
   "id": "1bbaba32-be7c-491a-8b0d-be1156dcbabf",
   "metadata": {
    "tags": []
   },
   "outputs": [
    {
     "name": "stdout",
     "output_type": "stream",
     "text": [
      "32965\n"
     ]
    }
   ],
   "source": [
    "#We drop all rows with too many missing values.\n",
    "threshold = 2; df = df.dropna(thresh=len(df.columns) - threshold); print(len(df))"
   ]
  },
  {
   "cell_type": "code",
   "execution_count": 10,
   "id": "5a4e99be-87cb-4fd1-9e41-f910c65a3a55",
   "metadata": {
    "tags": []
   },
   "outputs": [
    {
     "name": "stderr",
     "output_type": "stream",
     "text": [
      "100%|██████████████████████████████████████████████████████████████████████████| 32965/32965 [00:05<00:00, 5683.83it/s]\n"
     ]
    }
   ],
   "source": [
    "#We apply the text clean function.\n",
    "df[\"txt_text_clean\"] = df.txt_text.progress_apply(lambda x: get_clean_text(x))"
   ]
  },
  {
   "cell_type": "code",
   "execution_count": 11,
   "id": "11c5a04f-3dfb-4a83-8304-43594b099206",
   "metadata": {
    "tags": []
   },
   "outputs": [
    {
     "name": "stderr",
     "output_type": "stream",
     "text": [
      "100%|████████████████████████████████████████████████████████████████████████| 32965/32965 [00:00<00:00, 226503.90it/s]\n"
     ]
    }
   ],
   "source": [
    "#We combine the cleaned text into one text.\n",
    "df[\"txt_text_one\"] = df.txt_text_clean.progress_apply(lambda x: get_text_one(x))"
   ]
  },
  {
   "cell_type": "code",
   "execution_count": 12,
   "id": "505bfda4-692a-4089-a9d7-c36b8c1068d3",
   "metadata": {
    "tags": []
   },
   "outputs": [
    {
     "name": "stdout",
     "output_type": "stream",
     "text": [
      "32381\n"
     ]
    }
   ],
   "source": [
    "#We exclude articles with no text at all.\n",
    "df = df[df.txt_text_one != \"\"]; print(len(df))"
   ]
  },
  {
   "cell_type": "code",
   "execution_count": 13,
   "id": "e6c65ed4-c813-4554-b073-7cdd4c92a9ea",
   "metadata": {
    "tags": []
   },
   "outputs": [
    {
     "name": "stderr",
     "output_type": "stream",
     "text": [
      "100%|███████████████████████████████████████████████████████████████████████| 32381/32381 [00:00<00:00, 1191805.38it/s]\n"
     ]
    }
   ],
   "source": [
    "#We calculate the text length.\n",
    "df[\"text_length\"] = df.txt_text_one.progress_apply(lambda x: len(str(x)))"
   ]
  },
  {
   "cell_type": "code",
   "execution_count": 14,
   "id": "44196976-50a7-447b-bc1a-fd569bd63070",
   "metadata": {
    "tags": []
   },
   "outputs": [
    {
     "name": "stdout",
     "output_type": "stream",
     "text": [
      "28491\n"
     ]
    }
   ],
   "source": [
    "#We calculate the mean of text length plus three times the standard deviation.\n",
    "txt_length_max = round(np.mean(df.text_length) + 3*np.std(df.text_length)); print(txt_length_max)"
   ]
  },
  {
   "cell_type": "code",
   "execution_count": 15,
   "id": "fdfb226c-e02e-428b-ad88-931f2f3b94c8",
   "metadata": {
    "tags": []
   },
   "outputs": [
    {
     "name": "stdout",
     "output_type": "stream",
     "text": [
      "32251\n"
     ]
    }
   ],
   "source": [
    "#We remove all texts that are too long.\n",
    "df = df[df.text_length < txt_length_max]; print(len(df))"
   ]
  },
  {
   "cell_type": "code",
   "execution_count": 16,
   "id": "220262f0-faee-4e81-bb15-6a24c7823beb",
   "metadata": {
    "tags": []
   },
   "outputs": [
    {
     "name": "stderr",
     "output_type": "stream",
     "text": [
      "100%|█████████████████████████████████████████████████████████████████████████████████| 53/53 [00:00<00:00, 814.28it/s]"
     ]
    },
    {
     "name": "stdout",
     "output_type": "stream",
     "text": [
      "32251\n"
     ]
    },
    {
     "name": "stderr",
     "output_type": "stream",
     "text": [
      "\n"
     ]
    }
   ],
   "source": [
    "#We remove possible duplicates.                       \n",
    "df = df.groupby([\"iteration\"]).progress_apply(lambda group: group.drop_duplicates(subset=\"links\")).reset_index(drop=True);print(len(df))"
   ]
  },
  {
   "cell_type": "markdown",
   "id": "3df58610-8a9a-4615-ba4b-b41543028071",
   "metadata": {},
   "source": [
    "## processing"
   ]
  },
  {
   "cell_type": "markdown",
   "id": "b24b88dc-2d4c-4c34-87c6-d7859f52d4f8",
   "metadata": {},
   "source": [
    "### news_source"
   ]
  },
  {
   "cell_type": "code",
   "execution_count": 17,
   "id": "71a06c0a-3abe-4d96-b5c2-2865d4b63c57",
   "metadata": {
    "tags": []
   },
   "outputs": [
    {
     "name": "stderr",
     "output_type": "stream",
     "text": [
      "100%|████████████████████████████████████████████████████████████████████████| 32251/32251 [00:00<00:00, 428427.77it/s]\n"
     ]
    }
   ],
   "source": [
    "#We extract the news source by the stem of the websites.\n",
    "df[\"news_source\"] = df.links.progress_apply(lambda x : re.search(r\"www\\.(.+)\\.nl\", x).group(1))"
   ]
  },
  {
   "cell_type": "code",
   "execution_count": 18,
   "id": "93de85cb-ef6d-4249-ad9a-ad2a01d9141d",
   "metadata": {},
   "outputs": [],
   "source": [
    "#We assess whether the text contains an error disclosure.\n",
    "def get_error_correction_sentence(text, max_distance=20):\n",
    "    text = str(text).strip().lower()\n",
    "    #We turn the text in sentences.\n",
    "    sentences = sent_tokenize(text)\n",
    "    pattern = f\"\\\\b(eerder|vorig).{{0,{max_distance}}}\\\\b(versie|publicatie|bericht\\\\b)|\\\\b(versie|publicatie).{{0,{max_distance}}}\\\\b(eerder|vorig)\"\n",
    "    hits = []\n",
    "    #For each sentence we look if it matches our regular expression.\n",
    "    #We namely thus test whether a sentence contains earlier and version, or synonyms, within a range of 20 words.\n",
    "    for sen in sentences:\n",
    "        #If found we append the sentence to a list.\n",
    "        result = re.search(pattern, string=sen)\n",
    "        if result:\n",
    "            hits.append(sen)\n",
    "        else:\n",
    "            pass\n",
    "    return hits"
   ]
  },
  {
   "cell_type": "code",
   "execution_count": 19,
   "id": "0fa60f8c-1809-4270-b100-7bf367ba3109",
   "metadata": {},
   "outputs": [
    {
     "name": "stderr",
     "output_type": "stream",
     "text": [
      "100%|██████████████████████████████████████████████████████████████████████████| 32251/32251 [00:19<00:00, 1654.55it/s]\n"
     ]
    }
   ],
   "source": [
    "#We use the above function on our data.\n",
    "df[\"error_cor_sen\"] = df.txt_text.progress_apply(lambda x: get_error_correction_sentence(x))"
   ]
  },
  {
   "cell_type": "markdown",
   "id": "0c8efef3-8cba-43f7-b357-0c62210ab0a0",
   "metadata": {
    "tags": []
   },
   "source": [
    "### peak hours"
   ]
  },
  {
   "cell_type": "code",
   "execution_count": 20,
   "id": "9c199793-2a9d-4655-a9c8-f3fa14847544",
   "metadata": {
    "tags": []
   },
   "outputs": [],
   "source": [
    "#We convert the publication date to an actual datetime object.\n",
    "df[\"datePublished\"] = pd.to_datetime(df.datePublished,  format=\"mixed\", utc=True)"
   ]
  },
  {
   "cell_type": "code",
   "execution_count": 21,
   "id": "2e406219-5bd8-4aac-b0fc-73fc9fa3bafc",
   "metadata": {
    "tags": []
   },
   "outputs": [],
   "source": [
    "#We extract the publication hour.\n",
    "df[\"pub_hour\"] = df.datePublished.dt.hour"
   ]
  },
  {
   "cell_type": "code",
   "execution_count": 22,
   "id": "e900e000-c2d7-4224-9b9e-db7486d56ae7",
   "metadata": {
    "tags": []
   },
   "outputs": [],
   "source": [
    "#We purely focus on the unique links.\n",
    "df_unique = df[[\"links\", \"pub_hour\"]].drop_duplicates()"
   ]
  },
  {
   "cell_type": "code",
   "execution_count": 23,
   "id": "7de28c24-6a39-4282-8241-29ec713f25aa",
   "metadata": {
    "tags": []
   },
   "outputs": [
    {
     "data": {
      "text/plain": [
       "<Axes: >"
      ]
     },
     "execution_count": 23,
     "metadata": {},
     "output_type": "execute_result"
    },
    {
     "data": {
      "image/png": "[encoded data removed]",
      "text/plain": [
       "<Figure size 640x480 with 1 Axes>"
      ]
     },
     "metadata": {},
     "output_type": "display_data"
    }
   ],
   "source": [
    "#We plot the publication hour distribution.\n",
    "df_unique[\"pub_hour\"].hist()"
   ]
  },
  {
   "cell_type": "code",
   "execution_count": 24,
   "id": "c0b0606d-d442-4ba1-b970-efb44f2d20d7",
   "metadata": {
    "tags": []
   },
   "outputs": [],
   "source": [
    "#We calculate the median hour based on its amount of publications.\n",
    "pub_hour_median = df_unique[\"pub_hour\"].value_counts(sort=True).median()"
   ]
  },
  {
   "cell_type": "code",
   "execution_count": 25,
   "id": "d45bf3bf-72c3-4e66-8de7-8dd3f010a612",
   "metadata": {
    "tags": []
   },
   "outputs": [],
   "source": [
    "#We create a dictionary in which for each hour of the day we store whether it is an hour with an above amount of publications.\n",
    "pub_hour_dict = dict(df_unique[\"pub_hour\"].value_counts(sort=True) > pub_hour_median)"
   ]
  },
  {
   "cell_type": "code",
   "execution_count": 26,
   "id": "a5588e63-3bf8-4f08-b3cb-b60b66a840c1",
   "metadata": {
    "tags": []
   },
   "outputs": [],
   "source": [
    "#We define a function to loop over the above defined dictionary.\n",
    "def get_peak_hour(x, dist=pub_hour_dict):\n",
    "    #Namely we loop over the dictionary until we find the hour of the publication.\n",
    "    #And then we send back the value that is related to it.\n",
    "    for key, value in dist.items():\n",
    "        if x == key:\n",
    "            return value\n",
    "            break\n",
    "        else:\n",
    "            continue"
   ]
  },
  {
   "cell_type": "code",
   "execution_count": 27,
   "id": "94d0782f-7f80-4294-beac-4528a6673b44",
   "metadata": {
    "tags": []
   },
   "outputs": [
    {
     "name": "stderr",
     "output_type": "stream",
     "text": [
      "100%|████████████████████████████████████████████████████████████████████████| 32251/32251 [00:00<00:00, 694692.37it/s]\n"
     ]
    }
   ],
   "source": [
    "#We use the function to create a new column.\n",
    "df[\"peak_hour\"] = df.pub_hour.progress_apply(lambda x: get_peak_hour(x))"
   ]
  },
  {
   "cell_type": "markdown",
   "id": "b49dad32-82dc-4ca4-ba36-4af4b981b733",
   "metadata": {},
   "source": [
    "### numbers"
   ]
  },
  {
   "cell_type": "code",
   "execution_count": 28,
   "id": "51df99da-b0fa-430a-a614-fc7b6f682033",
   "metadata": {
    "tags": []
   },
   "outputs": [
    {
     "name": "stderr",
     "output_type": "stream",
     "text": [
      "100%|█████████████████████████████████████████████████████████████████████████| 32251/32251 [00:01<00:00, 19182.39it/s]\n"
     ]
    }
   ],
   "source": [
    "#We try to find all numbers in the body of the text.\n",
    "df[\"numbers_in_text\"] = df.txt_text_one.progress_apply(lambda x: re.findall(r\"\\d+\", x))"
   ]
  },
  {
   "cell_type": "code",
   "execution_count": 29,
   "id": "06cb312b-5275-45aa-ae82-c7270961cfa1",
   "metadata": {
    "tags": []
   },
   "outputs": [
    {
     "data": {
      "text/plain": [
       "0                                               [27, 2016]\n",
       "1        [6, 2, 6, 3, 27, 24, 218, 3, 2, 6, 2, 2, 0, 3,...\n",
       "2                             [36, 4, 2, 321, 4, 4, 2, 36]\n",
       "3                                                       []\n",
       "4                                                      [1]\n",
       "                               ...                        \n",
       "32246    [250, 000, 0, 15, 19, 2016, 1, 2019, 4, 37, 00...\n",
       "32247                               [14, 00, 20, 30, 2018]\n",
       "32248                                                  [1]\n",
       "32249    [5, 000, 28, 6, 10, 99, 6, 13, 01, 500, 1, 000...\n",
       "32250                         [3, 18, 1990, 125, 130, 246]\n",
       "Name: numbers_in_text, Length: 32251, dtype: object"
      ]
     },
     "execution_count": 29,
     "metadata": {},
     "output_type": "execute_result"
    }
   ],
   "source": [
    "df.numbers_in_text"
   ]
  },
  {
   "cell_type": "markdown",
   "id": "ed895b64-e106-40a9-8bde-803d7a3312c2",
   "metadata": {},
   "source": [
    "### changes"
   ]
  },
  {
   "cell_type": "code",
   "execution_count": 30,
   "id": "b8ddd9f7-df5d-45f4-9a0f-93302955c823",
   "metadata": {
    "tags": []
   },
   "outputs": [],
   "source": [
    "#We create a column keeping track per article link, how often it has been iterated.\n",
    "df[\"iter_since_pub\"] = df.groupby(\"links\").cumcount() + 1"
   ]
  },
  {
   "cell_type": "code",
   "execution_count": 31,
   "id": "623a69ef-55c2-49ba-96d7-da93021a3596",
   "metadata": {
    "tags": []
   },
   "outputs": [],
   "source": [
    "#Sometimes scraping appeared faulty.\n",
    "#Namely in some iterations a page could be fully loaded, while in others it would not be fully loaded.\n",
    "#This gave the impression that the body changed, while in reality, scraping was unstable.\n",
    "#We therefore define a function to assess whether scraping was succesfull.\n",
    "def assess_scrape_success(group):\n",
    "    #We firstly assess how big the change was if it is there.\n",
    "    group[\"change_length\"] = group[\"text_length\"].shift() - group[\"text_length\"]\n",
    "    #We also assess what the length is of the introduction.\n",
    "    group[\"intro_length\"] = group.txt_text_clean.apply(lambda x: len(x[0]))\n",
    "    #Specifcally for nrc there was sometimes an additional text of promotion.\n",
    "    group[\"tmp_column\"] = group.apply(lambda row: bool(re.search(r\"\\s\\bVolg\\b\\s.*\", row[\"txt_text_one\"])) and row[\"news_source\"] == \"nrc\", axis=1)\n",
    "    \n",
    "    #We have a few conditions which were indicative of faulty scraping.\n",
    "    #Namely if the text length was simply based on the change of text length plus the intro length.\n",
    "    #This would indicate that the change is purely on the basis that sometimes the intro was scraped, and sometimes it was not.\n",
    "    #ADdditionally we check for the specific NRC mistake of sometimes having extra promotional text.\n",
    "    conditions = [(group[\"intro_length\"] + abs(group[\"change_length\"]) != group[\"text_length\"]) &\n",
    "                  (group[\"intro_length\"] + abs(group[\"change_length\"]) != group[\"text_length\"].shift(1)) &\n",
    "                  (group[\"intro_length\"] + abs(group[\"change_length\"]) != group[\"text_length\"].shift(-1)),\n",
    "                  (group[\"tmp_column\"] == True)]\n",
    "    \n",
    "    choices = [\"yes\", \"follow_error\"]\n",
    "    \n",
    "    #We return yes if it meets the first conditions.\n",
    "    #We return follow error if it matches the second condition.\n",
    "    #In all other cases we return no.\n",
    "    group[\"scrape_success\"] = np.select(conditions, choices, default=\"no\")\n",
    "    \n",
    "    group.drop(columns=[\"tmp_column\"], inplace=True)\n",
    "    \n",
    "    return group"
   ]
  },
  {
   "cell_type": "code",
   "execution_count": 32,
   "id": "2104af59-a8c1-4d9d-beb4-ee3976a3355a",
   "metadata": {
    "tags": []
   },
   "outputs": [
    {
     "name": "stderr",
     "output_type": "stream",
     "text": [
      "100%|███████████████████████████████████████████████████████████████████████████████| 750/750 [00:03<00:00, 212.46it/s]\n"
     ]
    }
   ],
   "source": [
    "#We use the function on the links.\n",
    "df = df.groupby(\"links\").progress_apply(assess_scrape_success).reset_index(level=0, drop=True)"
   ]
  },
  {
   "cell_type": "code",
   "execution_count": 33,
   "id": "caf84352-0942-4c0b-925c-cdd81b7c1a50",
   "metadata": {
    "tags": []
   },
   "outputs": [
    {
     "data": {
      "text/plain": [
       "Counter({'yes': 22703, 'no': 5547, 'follow_error': 4001})"
      ]
     },
     "execution_count": 33,
     "metadata": {},
     "output_type": "execute_result"
    }
   ],
   "source": [
    "Counter(df.scrape_success)"
   ]
  },
  {
   "cell_type": "code",
   "execution_count": 34,
   "id": "45bdfd99-1177-4c30-9979-ebf598ec70c1",
   "metadata": {
    "tags": []
   },
   "outputs": [],
   "source": [
    "#We only keep the cases which were successfully scraped.\n",
    "df_success = df[(df.scrape_success == \"yes\")]"
   ]
  },
  {
   "cell_type": "code",
   "execution_count": 35,
   "id": "f418c18e-1813-4324-99f8-a5c3d2a5089a",
   "metadata": {
    "tags": []
   },
   "outputs": [],
   "source": [
    "#We define a function to assess whether the date tags have changed.\n",
    "def assess_meta_change(group):\n",
    "    \n",
    "    #In the case that the dateModified tag is empty we assume that it remained unchanged.\n",
    "    #We therefore fill it simply with the publication date.\n",
    "    group[\"dateModified\"] = group[\"dateModified\"].fillna(group[\"datePublished\"])\n",
    "    \n",
    "    #The first condition assesses whether both have changed.\n",
    "    #The second condition checks whether solely the publication date changed.\n",
    "    #The third does so for the modification date.\n",
    "    #The last one checks whether both remained the same.\n",
    "    conditions = [(group[\"datePublished\"] != group[\"datePublished\"].shift()) & (group[\"dateModified\"] != group[\"dateModified\"].shift()).iloc[1:], \n",
    "                  (group[\"datePublished\"] != group[\"datePublished\"].shift()) & (group[\"dateModified\"] == group[\"dateModified\"].shift()).iloc[1:], \n",
    "                  (group[\"datePublished\"] == group[\"datePublished\"].shift()) & (group[\"dateModified\"] != group[\"dateModified\"].shift()).iloc[1:],  \n",
    "                  (group[\"datePublished\"] == group[\"datePublished\"].shift()) & (group[\"dateModified\"] == group[\"dateModified\"].shift()).iloc[1:]]\n",
    "    \n",
    "    #We return the respective choices to the conditions.\n",
    "    choices = [\"both\", \"pub\", \"mod\", \"none\"]\n",
    "\n",
    "    group[\"meta_change\"] = np.select(conditions, choices, default=\"missing\")\n",
    "    \n",
    "    return group"
   ]
  },
  {
   "cell_type": "code",
   "execution_count": 36,
   "id": "ced22fd1-8fd4-461b-b4b4-210ed3f646c7",
   "metadata": {
    "tags": []
   },
   "outputs": [],
   "source": [
    "#We also assessed whether elements in the text changed.\n",
    "def assess_article_change(group):\n",
    "    \n",
    "    #We firstly define a column with the initial article length.\n",
    "    group[\"initial_length\"] = group[\"text_length\"].iloc[0]\n",
    "    #We also define a column with the original count of numbers in text.\n",
    "    group[\"initial_n_numbers_in_text\"] = len(group[\"numbers_in_text\"].iloc[0])\n",
    "    #We limit the numbers in text to the length of the initial amount of numbers in text.\n",
    "    #In doing so we truly try to compare the same numbers.\n",
    "    group[\"numbers_in_text\"] = group[\"numbers_in_text\"][:len(group[\"initial_n_numbers_in_text\"])]\n",
    "    #We assess how many characters were added or removed.\n",
    "    group[\"change_length\"] = group[\"text_length\"].shift() - group[\"text_length\"]\n",
    "    #We also transform this change to its direction.\n",
    "    group[\"change_direction\"] = np.sign(group[\"change_length\"])\n",
    "    #We create a column for the second text of the pair.\n",
    "    group[\"txt_text_one_shift\"] = group.groupby(\"links\")[\"txt_text_one\"].shift()\n",
    "    #We assess how many character changes are needed to come to the same texts.\n",
    "    group[\"change_size\"] = group.apply(lambda row: Levenshtein.distance(str(row[\"txt_text_one\"]), str(row[\"txt_text_one_shift\"])), axis=1)\n",
    "    #We assess whether the initial numbers in text remained the same.\n",
    "    group[\"initial_numbers_change\"] = group[\"numbers_in_text\"] != group[\"numbers_in_text\"].shift()\n",
    "    \n",
    "    #We define four conditions: did both the headline and body change, did solely the headline change, the body changed, or did nothing changed.    \n",
    "    conditions = [(group[\"headline\"] != group[\"headline\"].shift()) & (group[\"txt_text_one\"] != group[\"txt_text_one\"].shift()).iloc[1:], \n",
    "                  (group[\"headline\"] != group[\"headline\"].shift()) & (group[\"txt_text_one\"] == group[\"txt_text_one\"].shift()).iloc[1:], \n",
    "                  (group[\"headline\"] == group[\"headline\"].shift()) & (group[\"txt_text_one\"] != group[\"txt_text_one\"].shift()).iloc[1:],  \n",
    "                  (group[\"headline\"] == group[\"headline\"].shift()) & (group[\"txt_text_one\"] == group[\"txt_text_one\"].shift()).iloc[1:]]\n",
    "    \n",
    "    #We return the corresponding answers.\n",
    "    choices = [\"both\", \"head\", \"text\", \"none\"]\n",
    "\n",
    "    group[\"article_change\"] = np.select(conditions, choices, default=\"missing\")\n",
    "    \n",
    "    group.drop(columns=[\"txt_text_one_shift\"], inplace=True)\n",
    "\n",
    "    return group"
   ]
  },
  {
   "cell_type": "code",
   "execution_count": 37,
   "id": "33166cfa-dc16-45d8-9940-ab9fc69d3ac7",
   "metadata": {
    "tags": []
   },
   "outputs": [
    {
     "name": "stderr",
     "output_type": "stream",
     "text": [
      "100%|███████████████████████████████████████████████████████████████████████████████| 750/750 [00:02<00:00, 270.13it/s]\n"
     ]
    }
   ],
   "source": [
    "#We apply the meta change function.\n",
    "df_success = df_success.groupby(\"links\").progress_apply(assess_meta_change).reset_index(level=0, drop=True)"
   ]
  },
  {
   "cell_type": "code",
   "execution_count": 213,
   "id": "4332435e-acbf-427f-bd47-2c96f087994b",
   "metadata": {
    "tags": []
   },
   "outputs": [
    {
     "data": {
      "text/plain": [
       "Counter({'none': 21593, 'missing': 750, 'mod': 331, 'both': 29})"
      ]
     },
     "execution_count": 213,
     "metadata": {},
     "output_type": "execute_result"
    }
   ],
   "source": [
    "Counter(df_success.meta_change)"
   ]
  },
  {
   "cell_type": "code",
   "execution_count": 38,
   "id": "fa493275-bf8e-43f6-8c7f-9d5bfe9bd897",
   "metadata": {
    "tags": []
   },
   "outputs": [
    {
     "name": "stderr",
     "output_type": "stream",
     "text": [
      "100%|███████████████████████████████████████████████████████████████████████████████| 750/750 [00:04<00:00, 157.72it/s]\n"
     ]
    }
   ],
   "source": [
    "#We apply the article change function.\n",
    "df_success = df_success.groupby(\"links\").progress_apply(assess_article_change).reset_index(level=0, drop=True)"
   ]
  },
  {
   "cell_type": "code",
   "execution_count": 39,
   "id": "9a9dbd14-ce8e-4e60-b1e8-9be7af9d5f94",
   "metadata": {
    "tags": []
   },
   "outputs": [
    {
     "data": {
      "text/plain": [
       "Counter({'none': 21529, 'missing': 750, 'text': 313, 'both': 66, 'head': 45})"
      ]
     },
     "execution_count": 39,
     "metadata": {},
     "output_type": "execute_result"
    }
   ],
   "source": [
    "Counter(df_success.article_change)"
   ]
  },
  {
   "cell_type": "code",
   "execution_count": 40,
   "id": "3cd8ce86-cdfa-4b18-9687-f145b54fba65",
   "metadata": {
    "tags": []
   },
   "outputs": [],
   "source": [
    "#We create a function to assess whether changes were disclosed.\n",
    "def assess_error_disclosure(group):\n",
    "     \n",
    "    #It could either be that the timestamps changed.\n",
    "    #Or it could be that the error correction sentences were changed.\n",
    "    conditions = [(group[\"txt_timestamps\"].astype(str) != group[\"txt_timestamps\"].astype(str).shift()) & (group.index != group.index[0]),\n",
    "                  (group[\"error_cor_sen\"].astype(str) != group[\"error_cor_sen\"].astype(str).shift()) & (group.index != group.index[0])]\n",
    "    \n",
    "    #We return the corresponding answers.\n",
    "    #In the case that both did not change, we just return none.\n",
    "    choices = [\"timestamp\", \"text\"]\n",
    "\n",
    "    group[\"error_disclosure\"] = np.select(conditions, choices, default=\"none\")\n",
    "\n",
    "    return group"
   ]
  },
  {
   "cell_type": "code",
   "execution_count": 41,
   "id": "147d8f63-8a90-4f01-ab68-e93c07d55223",
   "metadata": {
    "tags": []
   },
   "outputs": [
    {
     "name": "stderr",
     "output_type": "stream",
     "text": [
      "100%|███████████████████████████████████████████████████████████████████████████████| 750/750 [00:01<00:00, 732.15it/s]\n"
     ]
    }
   ],
   "source": [
    "#We apply the above defined function.\n",
    "df_success = df_success.groupby(\"links\").progress_apply(assess_error_disclosure).reset_index(level=0, drop=True)"
   ]
  },
  {
   "cell_type": "code",
   "execution_count": 42,
   "id": "09d0ae18-5521-412e-b7b0-d57692457088",
   "metadata": {
    "tags": []
   },
   "outputs": [],
   "source": [
    "#We create a function to assess how prominent the change was.\n",
    "def get_change_prominence(A, B):\n",
    "    A = str(A); B = str(B)\n",
    "    index = 0\n",
    "    #We do so by iterating over the characters for both texts.\n",
    "    for i, (lA, lB) in enumerate(zip_longest(A, B, fillvalue=None)):\n",
    "        match = lA == lB\n",
    "        #When we find a mismatch between the characters, we store the index of the mismatch.\n",
    "        #We then divide the index by the total lenght of the initial text.\n",
    "        #We return this score.\n",
    "        if not match:\n",
    "            mismatch = i \n",
    "            prominence = 1 - (i / len(A))\n",
    "            return prominence\n",
    "            break\n",
    "        index += 1\n",
    "    return \"end\""
   ]
  },
  {
   "cell_type": "code",
   "execution_count": 43,
   "id": "fd0a3e1f-6fe0-456a-946f-c3585f6c0f31",
   "metadata": {
    "tags": []
   },
   "outputs": [],
   "source": [
    "#We create a column for every subsequent text.\n",
    "df_success[\"txt_text_one_B\"] = df_success.groupby(\"links\").txt_text_one.shift()"
   ]
  },
  {
   "cell_type": "code",
   "execution_count": 44,
   "id": "2d2233aa-f2c9-4cce-8e3a-e8a101eeaa43",
   "metadata": {
    "tags": []
   },
   "outputs": [
    {
     "name": "stderr",
     "output_type": "stream",
     "text": [
      "100%|██████████████████████████████████████████████████████████████████████████| 22703/22703 [00:06<00:00, 3663.72it/s]\n"
     ]
    }
   ],
   "source": [
    "#We calculate the prominence of change.\n",
    "df_success[\"prominence_factor\"] = df_success.progress_apply(lambda x: get_change_prominence(A=x[\"txt_text_one\"], B=x[\"txt_text_one_B\"]), axis=1)"
   ]
  },
  {
   "cell_type": "code",
   "execution_count": 49,
   "id": "e6cf86f7-39dd-4a71-927f-69761edcae9f",
   "metadata": {
    "tags": []
   },
   "outputs": [],
   "source": [
    "#We only keep the articles that changed in text.\n",
    "df_changed = df_success[(df_success.article_change == \"text\")]"
   ]
  },
  {
   "cell_type": "markdown",
   "id": "8cb36562-fa55-40ed-8252-19a30377bb16",
   "metadata": {},
   "source": [
    "### features"
   ]
  },
  {
   "cell_type": "code",
   "execution_count": 50,
   "id": "5fd17398-dc9d-4cc3-b898-dcd681343c0a",
   "metadata": {
    "tags": []
   },
   "outputs": [],
   "source": [
    "#We create a dummy to assess disclosure.\n",
    "def get_tp_error_disclosure_dummy(x):\n",
    "    #If there is no disclosure at all we return 0.\n",
    "    #Otherwise we return 1.\n",
    "    if x == \"none\":\n",
    "        return 0\n",
    "    else:\n",
    "        return 1"
   ]
  },
  {
   "cell_type": "code",
   "execution_count": 53,
   "id": "6ce75da5-a90c-4ced-badb-90b99f73b5e5",
   "metadata": {
    "tags": []
   },
   "outputs": [
    {
     "name": "stderr",
     "output_type": "stream",
     "text": [
      "100%|████████████████████████████████████████████████████████████████████████████| 313/313 [00:00<00:00, 611465.84it/s]\n",
      "C:\\Users\\dubel\\AppData\\Local\\Temp\\ipykernel_16728\\2866211869.py:2: SettingWithCopyWarning: \n",
      "A value is trying to be set on a copy of a slice from a DataFrame.\n",
      "Try using .loc[row_indexer,col_indexer] = value instead\n",
      "\n",
      "See the caveats in the documentation: https://pandas.pydata.org/pandas-docs/stable/user_guide/indexing.html#returning-a-view-versus-a-copy\n",
      "  df_changed[\"tp_error_disclosure_dum\"] = df_changed.error_disclosure.progress_apply(lambda x: get_tp_error_disclosure_dummy(x))\n"
     ]
    }
   ],
   "source": [
    "#We add it as a column.\n",
    "df_changed[\"tp_error_disclosure_dum\"] = df_changed.error_disclosure.progress_apply(lambda x: get_tp_error_disclosure_dummy(x))"
   ]
  },
  {
   "cell_type": "code",
   "execution_count": 54,
   "id": "7b1da6c2-1279-4add-ab91-f4572f2187ea",
   "metadata": {
    "tags": []
   },
   "outputs": [
    {
     "data": {
      "text/plain": [
       "0.48"
      ]
     },
     "execution_count": 54,
     "metadata": {},
     "output_type": "execute_result"
    }
   ],
   "source": [
    "#We assess how many article changes were disclosed.\n",
    "round(df_changed.tp_error_disclosure_dum.mean(), 2)"
   ]
  },
  {
   "cell_type": "code",
   "execution_count": 55,
   "id": "7dfda09e-6820-4d00-87ed-e156f5fb7c13",
   "metadata": {
    "tags": []
   },
   "outputs": [],
   "source": [
    "#We load in the softness vectorizer and classifier.\n",
    "vectorizer = joblib.load(\"52_softness_vectorizer.joblib\")\n",
    "nb = joblib.load(\"52_softness_classifier.joblib\")"
   ]
  },
  {
   "cell_type": "code",
   "execution_count": 56,
   "id": "c8bcbe25-566f-4bbd-acc5-98609ce811a6",
   "metadata": {
    "tags": []
   },
   "outputs": [],
   "source": [
    "#We used the vectorizer and classifier the predict the softness of the news articles.\n",
    "def predict_softness(x, nb=nb):\n",
    "    y = nb.predict(vectorizer.transform([x]))[0]\n",
    "    if y == 0:\n",
    "        return \"soft\"\n",
    "    elif y == 1:\n",
    "        return \"hard\""
   ]
  },
  {
   "cell_type": "code",
   "execution_count": 57,
   "id": "7b57ee7c-8567-4c3a-8e8f-d789d9442f99",
   "metadata": {
    "tags": []
   },
   "outputs": [
    {
     "name": "stderr",
     "output_type": "stream",
     "text": [
      "100%|██████████████████████████████████████████████████████████████████████████████| 313/313 [00:00<00:00, 1059.42it/s]\n",
      "C:\\Users\\dubel\\AppData\\Local\\Temp\\ipykernel_16728\\665770249.py:1: SettingWithCopyWarning: \n",
      "A value is trying to be set on a copy of a slice from a DataFrame.\n",
      "Try using .loc[row_indexer,col_indexer] = value instead\n",
      "\n",
      "See the caveats in the documentation: https://pandas.pydata.org/pandas-docs/stable/user_guide/indexing.html#returning-a-view-versus-a-copy\n",
      "  df_changed[\"p_article_softness\"] = df_changed.txt_text_one.progress_apply(lambda x: predict_softness(x))\n"
     ]
    }
   ],
   "source": [
    "df_changed[\"p_article_softness\"] = df_changed.txt_text_one.progress_apply(lambda x: predict_softness(x))"
   ]
  },
  {
   "cell_type": "code",
   "execution_count": 58,
   "id": "b077e756-616a-4984-93fb-d0a82d7d2b5a",
   "metadata": {
    "tags": []
   },
   "outputs": [
    {
     "data": {
      "text/plain": [
       "Counter({'hard': 186, 'soft': 127})"
      ]
     },
     "execution_count": 58,
     "metadata": {},
     "output_type": "execute_result"
    }
   ],
   "source": [
    "Counter(df_changed.p_article_softness)"
   ]
  },
  {
   "cell_type": "code",
   "execution_count": 59,
   "id": "803f2731-e751-419b-bbcd-a0e7b924a567",
   "metadata": {
    "tags": []
   },
   "outputs": [
    {
     "data": {
      "text/plain": [
       "Counter({-1.0: 195, 1.0: 102, 0.0: 16})"
      ]
     },
     "execution_count": 59,
     "metadata": {},
     "output_type": "execute_result"
    }
   ],
   "source": [
    "Counter(df_changed.change_direction)"
   ]
  },
  {
   "cell_type": "markdown",
   "id": "fcad3b52-c641-46f1-a05f-aae8e35b7bf8",
   "metadata": {
    "tags": []
   },
   "source": [
    "## analysis"
   ]
  },
  {
   "cell_type": "code",
   "execution_count": 60,
   "id": "f1ea3210-f9dc-4ed4-a783-6721010b2d3d",
   "metadata": {
    "tags": []
   },
   "outputs": [
    {
     "name": "stdout",
     "output_type": "stream",
     "text": [
      "750\n"
     ]
    }
   ],
   "source": [
    "#We assess how many unique articles are in the entire data.\n",
    "n_articles = len(pd.unique(df.links.values)); print(n_articles)"
   ]
  },
  {
   "cell_type": "code",
   "execution_count": 61,
   "id": "36696223-bf91-447d-a430-cd61a3b876a6",
   "metadata": {
    "tags": []
   },
   "outputs": [
    {
     "data": {
      "text/plain": [
       "172"
      ]
     },
     "execution_count": 61,
     "metadata": {},
     "output_type": "execute_result"
    }
   ],
   "source": [
    "#We assessed how many articles changed atleast once.\n",
    "n_changed_once = len(df_changed.groupby(\"links\")); n_changed_once"
   ]
  },
  {
   "cell_type": "code",
   "execution_count": 62,
   "id": "106c0c3f-492b-496e-9ccb-c948472d0e48",
   "metadata": {
    "tags": []
   },
   "outputs": [
    {
     "data": {
      "text/plain": [
       "22.93"
      ]
     },
     "execution_count": 62,
     "metadata": {},
     "output_type": "execute_result"
    }
   ],
   "source": [
    "#We calculate how many changed percentage wise.\n",
    "round(n_changed_once / n_articles * 100, 2)"
   ]
  },
  {
   "cell_type": "code",
   "execution_count": 63,
   "id": "8357ef22-34a3-4cc1-97f7-b573e595e769",
   "metadata": {
    "tags": []
   },
   "outputs": [
    {
     "name": "stdout",
     "output_type": "stream",
     "text": [
      "313\n"
     ]
    }
   ],
   "source": [
    "#We asses how many changes there were in total.\n",
    "n_changed = len(df_changed); print(n_changed)"
   ]
  },
  {
   "cell_type": "code",
   "execution_count": 64,
   "id": "c7afcfc9-97b5-468f-b5e2-c4efa5f71fff",
   "metadata": {
    "tags": []
   },
   "outputs": [
    {
     "data": {
      "text/plain": [
       "0.48"
      ]
     },
     "execution_count": 64,
     "metadata": {},
     "output_type": "execute_result"
    }
   ],
   "source": [
    "#We assess how many were disclosed.\n",
    "round(df_changed.tp_error_disclosure_dum.mean(),2)"
   ]
  },
  {
   "cell_type": "code",
   "execution_count": 65,
   "id": "7328039b-b9f0-4aaa-92f6-646403ab0170",
   "metadata": {
    "tags": []
   },
   "outputs": [
    {
     "data": {
      "text/plain": [
       "Counter({'none': 162, 'timestamp': 150, 'text': 1})"
      ]
     },
     "execution_count": 65,
     "metadata": {},
     "output_type": "execute_result"
    }
   ],
   "source": [
    "Counter(df_changed.error_disclosure)"
   ]
  },
  {
   "cell_type": "code",
   "execution_count": 67,
   "id": "2eec96e2-1457-4d86-aa22-7c0fc3e86793",
   "metadata": {
    "tags": []
   },
   "outputs": [
    {
     "data": {
      "text/plain": [
       "news_source\n",
       "ad            67\n",
       "nos           48\n",
       "nrc           82\n",
       "nu            78\n",
       "telegraaf     32\n",
       "volkskrant     6\n",
       "dtype: int64"
      ]
     },
     "execution_count": 67,
     "metadata": {},
     "output_type": "execute_result"
    }
   ],
   "source": [
    "#We calculate the changes per outlet.\n",
    "df_changed.groupby(\"news_source\").size()"
   ]
  },
  {
   "cell_type": "code",
   "execution_count": 68,
   "id": "473f8cbf-2854-436a-901a-b26e7fe14382",
   "metadata": {
    "tags": []
   },
   "outputs": [
    {
     "name": "stderr",
     "output_type": "stream",
     "text": [
      "C:\\Users\\dubel\\AppData\\Local\\Temp\\ipykernel_16728\\3131193607.py:2: SettingWithCopyWarning: \n",
      "A value is trying to be set on a copy of a slice from a DataFrame.\n",
      "Try using .loc[row_indexer,col_indexer] = value instead\n",
      "\n",
      "See the caveats in the documentation: https://pandas.pydata.org/pandas-docs/stable/user_guide/indexing.html#returning-a-view-versus-a-copy\n",
      "  df_changed[\"prominence_factor\"] = df_changed.prominence_factor.astype(float)\n"
     ]
    }
   ],
   "source": [
    "#We make sure that the prominence factor is read as a float.\n",
    "df_changed[\"prominence_factor\"] = df_changed.prominence_factor.astype(float)"
   ]
  },
  {
   "cell_type": "code",
   "execution_count": 70,
   "id": "c59d725b-0ca0-4aea-9dcf-9acf3c9cf1c3",
   "metadata": {
    "tags": []
   },
   "outputs": [
    {
     "data": {
      "text/plain": [
       "<Axes: >"
      ]
     },
     "execution_count": 70,
     "metadata": {},
     "output_type": "execute_result"
    },
    {
     "data": {
      "image/png": "[encoded data removed]",
      "text/plain": [
       "<Figure size 640x480 with 1 Axes>"
      ]
     },
     "metadata": {},
     "output_type": "display_data"
    }
   ],
   "source": [
    "#We calculate its distribution.\n",
    "df_changed.prominence_factor.hist(bins=20)"
   ]
  },
  {
   "cell_type": "code",
   "execution_count": 71,
   "id": "d2e6c6e5-76e3-4246-9400-496c604181e2",
   "metadata": {
    "tags": []
   },
   "outputs": [
    {
     "data": {
      "text/plain": [
       "Counter({True: 211, False: 102})"
      ]
     },
     "execution_count": 71,
     "metadata": {},
     "output_type": "execute_result"
    }
   ],
   "source": [
    "Counter(df_changed.initial_numbers_change)"
   ]
  },
  {
   "cell_type": "code",
   "execution_count": 72,
   "id": "2721abb9-9206-41ff-8ef9-7510f0f7a041",
   "metadata": {
    "tags": []
   },
   "outputs": [],
   "source": [
    "#We define our predictors.\n",
    "predictors = \"change_size + change_direction + initial_numbers_change + prominence_factor + C(p_article_softness, Treatment(reference='soft')) + peak_hour + initial_length + initial_n_numbers_in_text + iter_since_pub\""
   ]
  },
  {
   "cell_type": "code",
   "execution_count": 73,
   "id": "84f30789-6a14-4e8f-b11e-b806947e8cf3",
   "metadata": {
    "tags": []
   },
   "outputs": [],
   "source": [
    "#We create a function to perform the analysis.\n",
    "def get_output(y=\"tp_error_disclosure_dum\", x=predictors):\n",
    "    #We namely define a logistic regression function.\n",
    "    md = smf.logit(f\"{y} ~ {x}\", df_changed)\n",
    "    #We fit the model and return the summary.\n",
    "    mdf = md.fit()\n",
    "    summary = mdf.summary()\n",
    "    #We extract the coefficients.\n",
    "    coef_table = summary.tables[1]\n",
    "    #We convert it to a dataframe.\n",
    "    coef_data = pd.DataFrame(coef_table.data, columns=coef_table.data[0])\n",
    "    coef_data = coef_data.drop(0)\n",
    "    \n",
    "    #We extract the statistics we need.\n",
    "    coef_data = coef_data[[\"coef\", \"std err\", \"P>|z|\"]]\n",
    "    #We define a new column with readable names for all our predictors.\n",
    "    coef_data[\"feature\"] = [\"Intercept\", \"initial numbers changed [yes]\", \"article type [hard]\", \"peak hour [yes]\",\n",
    "                            \"change size\", \"change direction\", \"change prominence\", \"initial length\", \n",
    "                            \"initial n numbers\", \"iterations since publication\"]\n",
    "     \n",
    "    #We set the feature name as our index.\n",
    "    coef_data.set_index(\"feature\", inplace=True)    \n",
    "    coef_data.index.name=None\n",
    "    #We rename the statistics columns.\n",
    "    coef_data.rename(columns={\"coef\":\"$B$\", \"std err\":\"$se$\", \"P>|z|\":\"$p$\"}, inplace=True)\n",
    "    #We round some of the columns.\n",
    "    coef_data[[\"$B$\", \"$se$\"]] = coef_data[[\"$B$\", \"$se$\"]].astype(float).apply(lambda x: round(x, 2))\n",
    "    \n",
    "    #We print the summary, and the latex table.\n",
    "    print(coef_data.to_latex(float_format=\"%.2f\"))\n",
    "    print(summary)\n",
    "    #We extract some model summary statistics.\n",
    "    print(f\"$N = {round(mdf.nobs)}, \\chi^2 ({mdf.df_model}, {mdf.df_resid}) = {round((mdf.llnull - mdf.llf) * -2, 2)}, pseudo$-$R^2 = {round(mdf.prsquared,2)}.$\")\n",
    "    return coef_data"
   ]
  },
  {
   "cell_type": "code",
   "execution_count": 74,
   "id": "9433b3f2-df63-408b-9f1f-392cdeb34222",
   "metadata": {
    "tags": []
   },
   "outputs": [
    {
     "name": "stdout",
     "output_type": "stream",
     "text": [
      "Optimization terminated successfully.\n",
      "         Current function value: 0.496325\n",
      "         Iterations 6\n",
      "\\begin{tabular}{lrrl}\n",
      "\\toprule\n",
      " & $B$ & $se$ & $p$ \\\\\n",
      "\\midrule\n",
      "Intercept & 0.12 & 0.52 &  0.821 \\\\\n",
      "initial numbers changed [yes] & -0.82 & 0.34 &  0.014 \\\\\n",
      "article type [hard] & -0.29 & 0.33 &  0.373 \\\\\n",
      "peak hour [yes] & 0.65 & 0.31 &  0.035 \\\\\n",
      "change size & -0.00 & 0.00 &  0.016 \\\\\n",
      "change direction & -0.21 & 0.17 &  0.204 \\\\\n",
      "change prominence & 2.18 & 0.48 &  0.000 \\\\\n",
      "initial length & -0.00 & 0.00 &  0.000 \\\\\n",
      "initial n numbers & 0.02 & 0.01 &  0.266 \\\\\n",
      "iterations since publication & -0.00 & 0.01 &  0.968 \\\\\n",
      "\\bottomrule\n",
      "\\end{tabular}\n",
      "\n",
      "                              Logit Regression Results                             \n",
      "===================================================================================\n",
      "Dep. Variable:     tp_error_disclosure_dum   No. Observations:                  313\n",
      "Model:                               Logit   Df Residuals:                      303\n",
      "Method:                                MLE   Df Model:                            9\n",
      "Date:                     Sun, 28 Jan 2024   Pseudo R-squ.:                  0.2833\n",
      "Time:                             19:16:56   Log-Likelihood:                -155.35\n",
      "converged:                            True   LL-Null:                       -216.76\n",
      "Covariance Type:                 nonrobust   LLR p-value:                 3.527e-22\n",
      "==============================================================================================================================\n",
      "                                                                 coef    std err          z      P>|z|      [0.025      0.975]\n",
      "------------------------------------------------------------------------------------------------------------------------------\n",
      "Intercept                                                      0.1167      0.516      0.226      0.821      -0.896       1.129\n",
      "initial_numbers_change[T.True]                                -0.8200      0.335     -2.447      0.014      -1.477      -0.163\n",
      "C(p_article_softness, Treatment(reference='soft'))[T.hard]    -0.2925      0.328     -0.891      0.373      -0.936       0.351\n",
      "peak_hour[T.True]                                              0.6478      0.307      2.107      0.035       0.045       1.250\n",
      "change_size                                                   -0.0006      0.000     -2.406      0.016      -0.001      -0.000\n",
      "change_direction                                              -0.2135      0.168     -1.271      0.204      -0.543       0.116\n",
      "prominence_factor                                              2.1815      0.481      4.538      0.000       1.239       3.124\n",
      "initial_length                                                -0.0003    7.4e-05     -3.827      0.000      -0.000      -0.000\n",
      "initial_n_numbers_in_text                                      0.0154      0.014      1.112      0.266      -0.012       0.043\n",
      "iter_since_pub                                                -0.0005      0.012     -0.040      0.968      -0.024       0.023\n",
      "==============================================================================================================================\n",
      "$N = 313, \\chi^2 (9.0, 303.0) = 122.82, pseudo$-$R^2 = 0.28.$\n"
     ]
    },
    {
     "data": {
      "text/html": [
       "<div>\n",
       "<style scoped>\n",
       "    .dataframe tbody tr th:only-of-type {\n",
       "        vertical-align: middle;\n",
       "    }\n",
       "\n",
       "    .dataframe tbody tr th {\n",
       "        vertical-align: top;\n",
       "    }\n",
       "\n",
       "    .dataframe thead th {\n",
       "        text-align: right;\n",
       "    }\n",
       "</style>\n",
       "<table border=\"1\" class=\"dataframe\">\n",
       "  <thead>\n",
       "    <tr style=\"text-align: right;\">\n",
       "      <th></th>\n",
       "      <th>$B$</th>\n",
       "      <th>$se$</th>\n",
       "      <th>$p$</th>\n",
       "    </tr>\n",
       "  </thead>\n",
       "  <tbody>\n",
       "    <tr>\n",
       "      <th>Intercept</th>\n",
       "      <td>0.12</td>\n",
       "      <td>0.52</td>\n",
       "      <td>0.821</td>\n",
       "    </tr>\n",
       "    <tr>\n",
       "      <th>initial numbers changed [yes]</th>\n",
       "      <td>-0.82</td>\n",
       "      <td>0.34</td>\n",
       "      <td>0.014</td>\n",
       "    </tr>\n",
       "    <tr>\n",
       "      <th>article type [hard]</th>\n",
       "      <td>-0.29</td>\n",
       "      <td>0.33</td>\n",
       "      <td>0.373</td>\n",
       "    </tr>\n",
       "    <tr>\n",
       "      <th>peak hour [yes]</th>\n",
       "      <td>0.65</td>\n",
       "      <td>0.31</td>\n",
       "      <td>0.035</td>\n",
       "    </tr>\n",
       "    <tr>\n",
       "      <th>change size</th>\n",
       "      <td>-0.00</td>\n",
       "      <td>0.00</td>\n",
       "      <td>0.016</td>\n",
       "    </tr>\n",
       "    <tr>\n",
       "      <th>change direction</th>\n",
       "      <td>-0.21</td>\n",
       "      <td>0.17</td>\n",
       "      <td>0.204</td>\n",
       "    </tr>\n",
       "    <tr>\n",
       "      <th>change prominence</th>\n",
       "      <td>2.18</td>\n",
       "      <td>0.48</td>\n",
       "      <td>0.000</td>\n",
       "    </tr>\n",
       "    <tr>\n",
       "      <th>initial length</th>\n",
       "      <td>-0.00</td>\n",
       "      <td>0.00</td>\n",
       "      <td>0.000</td>\n",
       "    </tr>\n",
       "    <tr>\n",
       "      <th>initial n numbers</th>\n",
       "      <td>0.02</td>\n",
       "      <td>0.01</td>\n",
       "      <td>0.266</td>\n",
       "    </tr>\n",
       "    <tr>\n",
       "      <th>iterations since publication</th>\n",
       "      <td>-0.00</td>\n",
       "      <td>0.01</td>\n",
       "      <td>0.968</td>\n",
       "    </tr>\n",
       "  </tbody>\n",
       "</table>\n",
       "</div>"
      ],
      "text/plain": [
       "                                $B$  $se$     $p$\n",
       "Intercept                      0.12  0.52   0.821\n",
       "initial numbers changed [yes] -0.82  0.34   0.014\n",
       "article type [hard]           -0.29  0.33   0.373\n",
       "peak hour [yes]                0.65  0.31   0.035\n",
       "change size                   -0.00  0.00   0.016\n",
       "change direction              -0.21  0.17   0.204\n",
       "change prominence              2.18  0.48   0.000\n",
       "initial length                -0.00  0.00   0.000\n",
       "initial n numbers              0.02  0.01   0.266\n",
       "iterations since publication  -0.00  0.01   0.968"
      ]
     },
     "execution_count": 74,
     "metadata": {},
     "output_type": "execute_result"
    }
   ],
   "source": [
    "get_output()"
   ]
  },
  {
   "cell_type": "code",
   "execution_count": null,
   "id": "15076dec-aeaa-4286-bf6e-6a2f35a0fef4",
   "metadata": {},
   "outputs": [],
   "source": []
  }
 ],
 "metadata": {
  "kernelspec": {
   "display_name": "Python 3 (ipykernel)",
   "language": "python",
   "name": "python3"
  },
  "language_info": {
   "codemirror_mode": {
    "name": "ipython",
    "version": 3
   },
   "file_extension": ".py",
   "mimetype": "text/x-python",
   "name": "python",
   "nbconvert_exporter": "python",
   "pygments_lexer": "ipython3",
   "version": "3.11.3"
  }
 },
 "nbformat": 4,
 "nbformat_minor": 5
}
