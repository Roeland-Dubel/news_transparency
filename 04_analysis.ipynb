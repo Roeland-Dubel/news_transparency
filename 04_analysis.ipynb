{
 "cells": [
  {
   "cell_type": "code",
   "execution_count": 1,
   "id": "e36bea5b-bce2-4ce2-a7d9-bfcfc8f0846e",
   "metadata": {
    "tags": []
   },
   "outputs": [],
   "source": [
    "#We import the necessary libraries.\n",
    "import pandas as pd\n",
    "from tqdm import tqdm; tqdm.pandas()\n",
    "from collections import Counter\n",
    "import pyreadstat\n",
    "import numpy as np\n",
    "import statsmodels.api as sm\n",
    "import statsmodels.formula.api as smf\n",
    "from statsmodels.tools.sm_exceptions import ConvergenceWarning\n",
    "from sklearn.preprocessing import MinMaxScaler\n",
    "import matplotlib.pyplot as plt\n",
    "import seaborn as sns\n",
    "import pyreadstat\n",
    "from statsmodels.othermod.betareg import BetaModel\n",
    "from scipy.stats import shapiro, kstest\n",
    "from matplotlib.ticker import FuncFormatter"
   ]
  },
  {
   "cell_type": "markdown",
   "id": "3d0ee0e4-3c9a-4f26-a90a-b6687472c21f",
   "metadata": {
    "tags": []
   },
   "source": [
    "## preprocessing"
   ]
  },
  {
   "cell_type": "code",
   "execution_count": 2,
   "id": "23fcb337-8b5f-457a-b670-b1a5c3a1cf89",
   "metadata": {
    "tags": []
   },
   "outputs": [],
   "source": [
    "#We read in our complete data file.\n",
    "df = pd.read_csv(\"04_contents_clean_w_nos.csv\", index_col=0)"
   ]
  },
  {
   "cell_type": "code",
   "execution_count": 3,
   "id": "c88f93cf-fd75-4dce-9e03-fc78f665acd4",
   "metadata": {
    "tags": []
   },
   "outputs": [
    {
     "data": {
      "text/plain": [
       "news_source\n",
       "AD            4897\n",
       "NOS           4997\n",
       "NRC           4516\n",
       "NU            4868\n",
       "Telegraaf     4929\n",
       "Volkskrant    4694\n",
       "dtype: int64"
      ]
     },
     "execution_count": 3,
     "metadata": {},
     "output_type": "execute_result"
    }
   ],
   "source": [
    "#We look at the size for each outlet.\n",
    "df.groupby(\"news_source\").size()"
   ]
  },
  {
   "cell_type": "code",
   "execution_count": 4,
   "id": "74afa7c8-0b21-4d19-b9e0-bbbc35182f7c",
   "metadata": {
    "tags": []
   },
   "outputs": [
    {
     "data": {
      "text/plain": [
       "p_article_softness\n",
       "hard    60.53\n",
       "soft    39.47\n",
       "Name: proportion, dtype: float64"
      ]
     },
     "execution_count": 4,
     "metadata": {},
     "output_type": "execute_result"
    }
   ],
   "source": [
    "#We calculate the presence of soft and hard articles.\n",
    "round(df.p_article_softness.value_counts(normalize=True)*100, 2)"
   ]
  },
  {
   "cell_type": "code",
   "execution_count": 5,
   "id": "b0235f0c-9ecb-483a-9422-0f1f79f6bbe6",
   "metadata": {
    "tags": []
   },
   "outputs": [
    {
     "data": {
      "text/plain": [
       "Counter({False: 28678, True: 223})"
      ]
     },
     "execution_count": 5,
     "metadata": {},
     "output_type": "execute_result"
    }
   ],
   "source": [
    "#We count the presence of textual error corrections.\n",
    "Counter(df.error_correction)"
   ]
  },
  {
   "cell_type": "code",
   "execution_count": 6,
   "id": "57e048f4-0ff7-48ac-bc7b-70155933f442",
   "metadata": {
    "tags": []
   },
   "outputs": [],
   "source": [
    "#We downsample to the least present outlet.\n",
    "df = df.groupby(\"news_source\").sample(min(df.groupby(\"news_source\").size()), random_state=1)"
   ]
  },
  {
   "cell_type": "code",
   "execution_count": 8,
   "id": "48555e99-2351-457d-ba37-74cad8e2e89e",
   "metadata": {
    "tags": []
   },
   "outputs": [
    {
     "data": {
      "text/plain": [
       "27096"
      ]
     },
     "execution_count": 8,
     "metadata": {},
     "output_type": "execute_result"
    }
   ],
   "source": [
    "#We assess the length of the dataframe.\n",
    "len(df)"
   ]
  },
  {
   "cell_type": "code",
   "execution_count": 9,
   "id": "0a6ecc9d-4fc1-48b0-b0e8-f5c3e030d21a",
   "metadata": {
    "tags": []
   },
   "outputs": [
    {
     "data": {
      "text/plain": [
       "Index(['index', 'news_source', 'links', 'retrieval_time', 'errors',\n",
       "       'txt_author', 'txt_author_links', 'txt_timestamps', 'txt_text',\n",
       "       'hyperlinks', 'comments', 'isAccessibleForFree', 'headline',\n",
       "       'datePublished', 'dateModified', 'author', 'articleBody',\n",
       "       'articleSection', 'txt_text_clean', 'txt_text_one', 'text_length',\n",
       "       'hyperlinks_clean', 'n_hyperlinks', 'dateMonth', 'author_clean',\n",
       "       'author_categories', 'tp_authors', 'author_additions', 'tp_contact',\n",
       "       'tp_bio', 'txt_timestamps_clean', 'txt_timestamps_cat', 'changed',\n",
       "       'tp_timestamp', 'error_correction', 'tp_error', 'link_stems',\n",
       "       'data_types', 'hyperlinks_cat', 'tp_internal', 'tp_document',\n",
       "       'tp_family', 'tp_external', 'intro', 'intro_sentences',\n",
       "       'intro_1st_5_sent', 'self_referral_presence', 'self_referral_text',\n",
       "       'process_info_factor', 'tp_comments', 'np_funding', 'np_mode',\n",
       "       'np_quality', 'section_clean', 'article_softness', 'p_article_softness',\n",
       "       'nos_changed', 'tp_timestamp_w_nos', 'changed_w_nos', 'sourcing',\n",
       "       'tp_sourcing'],\n",
       "      dtype='object')"
      ]
     },
     "execution_count": 9,
     "metadata": {},
     "output_type": "execute_result"
    }
   ],
   "source": [
    "#We look at all columns.\n",
    "df.columns"
   ]
  },
  {
   "cell_type": "code",
   "execution_count": 10,
   "id": "640af654-9b05-4e06-bfc1-dd1c350ad268",
   "metadata": {
    "tags": []
   },
   "outputs": [
    {
     "data": {
      "text/plain": [
       "news_source\n",
       "AD            2715.923384\n",
       "NOS           2388.043623\n",
       "NRC           3222.177369\n",
       "NU            2264.193091\n",
       "Telegraaf      695.550266\n",
       "Volkskrant    3393.025244\n",
       "Name: text_length, dtype: float64"
      ]
     },
     "execution_count": 10,
     "metadata": {},
     "output_type": "execute_result"
    }
   ],
   "source": [
    "#We assess the average text length of each outlet.\n",
    "df.groupby(\"news_source\").text_length.mean()"
   ]
  },
  {
   "cell_type": "code",
   "execution_count": 11,
   "id": "9c56bc59-adcc-47f7-b786-7c2189845c48",
   "metadata": {
    "tags": []
   },
   "outputs": [],
   "source": [
    "#We define a custom color palette.\n",
    "custom_palette = [\"#D10A10\", \"#949494\", \"#F5F1E5\", \"#020051\", \"#27509A\", \"#000000\"]"
   ]
  },
  {
   "cell_type": "markdown",
   "id": "a7c79705-d532-4bbb-a491-600a725a008a",
   "metadata": {
    "tags": []
   },
   "source": [
    "import matplotlib.font_manager\n",
    "font_names = [f.name for f in matplotlib.font_manager.fontManager.ttflist]\n",
    "print(font_names)"
   ]
  },
  {
   "cell_type": "code",
   "execution_count": 13,
   "id": "2ea07daf-0617-4f6d-944a-b6a4206fff47",
   "metadata": {
    "tags": []
   },
   "outputs": [
    {
     "data": {
      "image/png": "[encoded data removed]",
      "text/plain": [
       "<Figure size 1200x600 with 1 Axes>"
      ]
     },
     "metadata": {},
     "output_type": "display_data"
    }
   ],
   "source": [
    "#We set the font.\n",
    "plt.rcParams['font.family'] = ['Latin Modern Roman']\n",
    "#We create a pivot table with the size of each outlet in each month.\n",
    "pivot_df = df.pivot_table(index=\"dateMonth\", columns=\"news_source\", aggfunc=\"size\", fill_value=0) \n",
    "fig, ax = plt.subplots(figsize=(12, 6))\n",
    "#We set our colors.\n",
    "sns.set(font_scale=1, palette=custom_palette, style=\"whitegrid\")\n",
    "#We plot our pivotted table as a barplot.\n",
    "pivot_df.plot(kind=\"bar\", stacked=False, ax=ax)\n",
    "legend = ax.legend(bbox_to_anchor=(1.11, 0), loc=\"lower center\", ncol=1)\n",
    "for text in legend.get_texts():\n",
    "    text.set_fontfamily(\"Latin Modern Roman\")\n",
    "ax.set_xlabel(\"\")\n",
    "def format_n(value, _):\n",
    "    return f\"{value:.0f} n\"\n",
    "ax.yaxis.set_major_formatter(FuncFormatter(format_n))\n",
    "plt.xticks(rotation=0)\n",
    "ax.set_xticklabels([\"Jan.\", \"Feb.\", \"Mar.\", \"Apr.\", \"May\", \"June\", \"July\", \"Aug.\", \"Sept.\", \"Oct.\", \"Nov.\", \"Dec.\"])\n",
    "plt.savefig(\"month_dist.pdf\", format=\"pdf\", bbox_inches=\"tight\")"
   ]
  },
  {
   "cell_type": "code",
   "execution_count": 15,
   "id": "3ee87fe0-e792-486f-ace0-150724361acc",
   "metadata": {
    "tags": []
   },
   "outputs": [],
   "source": [
    "#We transform the datePublished to an actual datetime object.\n",
    "df[\"datePublished\"] = pd.to_datetime(df.datePublished,  format=\"mixed\", utc=True)"
   ]
  },
  {
   "cell_type": "code",
   "execution_count": 16,
   "id": "598f33f6-9f39-4a1d-8954-be674679c749",
   "metadata": {
    "tags": []
   },
   "outputs": [],
   "source": [
    "#We extract the hour of the day of the publication.\n",
    "df[\"pub_hour\"] = df.datePublished.dt.hour"
   ]
  },
  {
   "cell_type": "code",
   "execution_count": 17,
   "id": "7f3f94a5-fd4e-473b-bd3c-b7cf1ff6a111",
   "metadata": {
    "tags": []
   },
   "outputs": [
    {
     "data": {
      "text/plain": [
       "<Axes: >"
      ]
     },
     "execution_count": 17,
     "metadata": {},
     "output_type": "execute_result"
    },
    {
     "data": {
      "image/png": "[encoded data removed]",
      "text/plain": [
       "<Figure size 640x480 with 1 Axes>"
      ]
     },
     "metadata": {},
     "output_type": "display_data"
    }
   ],
   "source": [
    "#We plot the distribution of it.\n",
    "df[\"pub_hour\"].hist()"
   ]
  },
  {
   "cell_type": "code",
   "execution_count": 18,
   "id": "72ed1f8e-1bd8-45dc-95b4-062efed47bdd",
   "metadata": {
    "tags": []
   },
   "outputs": [],
   "source": [
    "#We assess the median value of publications per hour.\n",
    "pub_hour_median = df[\"pub_hour\"].value_counts(sort=True).median()"
   ]
  },
  {
   "cell_type": "code",
   "execution_count": 19,
   "id": "ebcc5a29-4afa-49ab-9d6f-aa32c0ffd625",
   "metadata": {
    "tags": []
   },
   "outputs": [],
   "source": [
    "#We assses whether each hour is above or below the median value.\n",
    "pub_hour_dict = dict(df[\"pub_hour\"].value_counts(sort=True) > pub_hour_median)"
   ]
  },
  {
   "cell_type": "code",
   "execution_count": 20,
   "id": "31a3b3f6-4a71-45d6-9c09-d1858174fae3",
   "metadata": {
    "tags": []
   },
   "outputs": [],
   "source": [
    "#We define a function to loop over the above defined dictionary.\n",
    "def get_peak_hour(x, dist=pub_hour_dict):\n",
    "    #Namely we loop over the dictionary until we find the hour of the publication.\n",
    "    #And then we send back the value that is related to it.\n",
    "    for key, value in dist.items():\n",
    "        if x == key:\n",
    "            return value\n",
    "            break\n",
    "        else:\n",
    "            continue"
   ]
  },
  {
   "cell_type": "code",
   "execution_count": 21,
   "id": "12fb15e2-6318-4714-ab02-bf28224d798c",
   "metadata": {
    "tags": []
   },
   "outputs": [
    {
     "name": "stderr",
     "output_type": "stream",
     "text": [
      "100%|████████████████████████████████████████████████████████████████████████| 27096/27096 [00:00<00:00, 788915.92it/s]\n"
     ]
    }
   ],
   "source": [
    "#We apply the peak hour function and return it as a column.\n",
    "df[\"peak_hour\"] = df.pub_hour.progress_apply(lambda x: get_peak_hour(x))"
   ]
  },
  {
   "cell_type": "code",
   "execution_count": 19,
   "id": "caf82377-6e48-431c-afac-c26c668d0658",
   "metadata": {
    "tags": []
   },
   "outputs": [
    {
     "data": {
      "text/plain": [
       "array([ True,  True, False, ...,  True,  True,  True])"
      ]
     },
     "execution_count": 19,
     "metadata": {},
     "output_type": "execute_result"
    }
   ],
   "source": [
    "df.peak_hour.values"
   ]
  },
  {
   "cell_type": "code",
   "execution_count": 22,
   "id": "a7eb125f-6267-43a4-a500-255d160d682e",
   "metadata": {
    "tags": []
   },
   "outputs": [],
   "source": [
    "#We extract the day of the week of publication.\n",
    "df[\"pub_day\"] = df.datePublished.dt.day_name()"
   ]
  },
  {
   "cell_type": "code",
   "execution_count": 23,
   "id": "52358d33-8015-4d3c-8ff5-514aab12d59c",
   "metadata": {
    "tags": []
   },
   "outputs": [
    {
     "data": {
      "text/plain": [
       "{'Thursday': 4766,\n",
       " 'Wednesday': 4226,\n",
       " 'Friday': 4204,\n",
       " 'Tuesday': 4103,\n",
       " 'Monday': 3943,\n",
       " 'Sunday': 3318,\n",
       " 'Saturday': 2536}"
      ]
     },
     "execution_count": 23,
     "metadata": {},
     "output_type": "execute_result"
    }
   ],
   "source": [
    "#We assess the size for each day.\n",
    "dict(df[\"pub_day\"].value_counts(sort=True))"
   ]
  },
  {
   "cell_type": "code",
   "execution_count": 24,
   "id": "f98d6d89-3fbf-496b-b261-54bc94f4bacc",
   "metadata": {
    "tags": []
   },
   "outputs": [],
   "source": [
    "#We make a simple function to assess whether the day is part of the weekend.\n",
    "def get_weekend(x):\n",
    "    if x in [\"Saturday\", \"Sunday\"]:\n",
    "        return True\n",
    "    else:\n",
    "        return False"
   ]
  },
  {
   "cell_type": "code",
   "execution_count": 25,
   "id": "0ee5f908-68b4-4753-b5ed-a12993222a38",
   "metadata": {
    "tags": []
   },
   "outputs": [
    {
     "name": "stderr",
     "output_type": "stream",
     "text": [
      "100%|███████████████████████████████████████████████████████████████████████| 27096/27096 [00:00<00:00, 1754138.22it/s]\n"
     ]
    }
   ],
   "source": [
    "#We create a column to define this.\n",
    "df[\"weekend\"] = df.pub_day.progress_apply(lambda x: get_weekend(x))"
   ]
  },
  {
   "cell_type": "code",
   "execution_count": 26,
   "id": "5fede8ba-68d4-4bd6-913f-d8835e361392",
   "metadata": {
    "tags": []
   },
   "outputs": [
    {
     "data": {
      "text/plain": [
       "Counter({False: 21242, True: 5854})"
      ]
     },
     "execution_count": 26,
     "metadata": {},
     "output_type": "execute_result"
    }
   ],
   "source": [
    "Counter(df.weekend)"
   ]
  },
  {
   "cell_type": "code",
   "execution_count": 36,
   "id": "5322fe53-6385-4d95-9f02-052912346da3",
   "metadata": {
    "tags": []
   },
   "outputs": [],
   "source": [
    "#We create a new dataframe with all variables that we need for our analyses.\n",
    "tp = df[[\"news_source\", \"np_funding\", \"np_mode\", \"np_quality\", \"p_article_softness\",\n",
    "         \"author_clean\", \"section_clean\", \"dateMonth\",\n",
    "         \"text_length\", \"peak_hour\", \"weekend\",\n",
    "         \"tp_authors\", \"tp_contact\", \"tp_bio\",\n",
    "         \"tp_timestamp_w_nos\", \"tp_error\", \"changed_w_nos\",\n",
    "         \"tp_internal\", \"tp_document\", \"tp_family\", \"tp_external\", \n",
    "         \"tp_sourcing\",\n",
    "         \"process_info_factor\"]]"
   ]
  },
  {
   "cell_type": "code",
   "execution_count": 37,
   "id": "77fd2a3b-3398-4aa5-8549-31a529ca199f",
   "metadata": {
    "tags": []
   },
   "outputs": [],
   "source": [
    "#We define a minmaxscaler.\n",
    "scaler = MinMaxScaler()\n",
    "\n",
    "#We define a function to recode variables to dummies containing explicit as their highest transparency category.\n",
    "def recode_explicit(x):\n",
    "    if x == \"explicit\":\n",
    "        return 1\n",
    "    else:\n",
    "        return 0\n",
    "\n",
    "#We create a function to transform a boolean variable to a numeric dummy.\n",
    "def recode_boolean(x):\n",
    "    if x == True:\n",
    "        return 1\n",
    "    else:\n",
    "        return 0\n",
    "\n",
    "#In specific for change disclosure we create a numeric dummy transformation function.\n",
    "def recode_change_disclosure(x):\n",
    "    if x == \"change disclosed\":\n",
    "        return 1\n",
    "    else:\n",
    "        return 0\n",
    "\n",
    "#We also do so for numeric values.\n",
    "def recode_numeric(x):\n",
    "    if x == 0:\n",
    "        return 0\n",
    "    else:\n",
    "        return 1"
   ]
  },
  {
   "cell_type": "code",
   "execution_count": 38,
   "id": "dffcf23c-ace0-4668-870e-d36c615e9e62",
   "metadata": {
    "tags": []
   },
   "outputs": [
    {
     "name": "stderr",
     "output_type": "stream",
     "text": [
      "100%|███████████████████████████████████████████████████████████████████████| 54192/54192 [00:00<00:00, 1551901.64it/s]\n",
      "C:\\Users\\dubel\\AppData\\Local\\Temp\\ipykernel_9444\\2233665232.py:2: SettingWithCopyWarning: \n",
      "A value is trying to be set on a copy of a slice from a DataFrame.\n",
      "Try using .loc[row_indexer,col_indexer] = value instead\n",
      "\n",
      "See the caveats in the documentation: https://pandas.pydata.org/pandas-docs/stable/user_guide/indexing.html#returning-a-view-versus-a-copy\n",
      "  tp[[\"tp_authors\",  \"explicit_sourcing\"]] = tp[[\"tp_authors\", \"tp_sourcing\"]].progress_applymap(recode_explicit)\n",
      "C:\\Users\\dubel\\AppData\\Local\\Temp\\ipykernel_9444\\2233665232.py:2: SettingWithCopyWarning: \n",
      "A value is trying to be set on a copy of a slice from a DataFrame.\n",
      "Try using .loc[row_indexer,col_indexer] = value instead\n",
      "\n",
      "See the caveats in the documentation: https://pandas.pydata.org/pandas-docs/stable/user_guide/indexing.html#returning-a-view-versus-a-copy\n",
      "  tp[[\"tp_authors\",  \"explicit_sourcing\"]] = tp[[\"tp_authors\", \"tp_sourcing\"]].progress_applymap(recode_explicit)\n"
     ]
    }
   ],
   "source": [
    "#We transform explicit sourcing en author transparency to dummies.\n",
    "tp[[\"tp_authors\",  \"explicit_sourcing\"]] = tp[[\"tp_authors\", \"tp_sourcing\"]].progress_applymap(recode_explicit)"
   ]
  },
  {
   "cell_type": "code",
   "execution_count": 39,
   "id": "86ff1d1f-0bd1-4f93-bf86-5494313757da",
   "metadata": {
    "tags": []
   },
   "outputs": [
    {
     "name": "stderr",
     "output_type": "stream",
     "text": [
      "100%|███████████████████████████████████████████████████████████████████████| 54192/54192 [00:00<00:00, 1498425.89it/s]\n",
      "C:\\Users\\dubel\\AppData\\Local\\Temp\\ipykernel_9444\\580812465.py:2: SettingWithCopyWarning: \n",
      "A value is trying to be set on a copy of a slice from a DataFrame.\n",
      "Try using .loc[row_indexer,col_indexer] = value instead\n",
      "\n",
      "See the caveats in the documentation: https://pandas.pydata.org/pandas-docs/stable/user_guide/indexing.html#returning-a-view-versus-a-copy\n",
      "  tp[[\"tp_contact\", \"tp_bio\"]] = tp[[\"tp_contact\", \"tp_bio\"]].progress_applymap(recode_boolean)\n"
     ]
    }
   ],
   "source": [
    "#We transform the boolean variables to dummies.\n",
    "tp[[\"tp_contact\", \"tp_bio\"]] = tp[[\"tp_contact\", \"tp_bio\"]].progress_applymap(recode_boolean)"
   ]
  },
  {
   "cell_type": "code",
   "execution_count": 40,
   "id": "db477156-a71f-4ab5-bdb7-d3d964d9cf81",
   "metadata": {
    "tags": []
   },
   "outputs": [
    {
     "name": "stderr",
     "output_type": "stream",
     "text": [
      "100%|███████████████████████████████████████████████████████████████████████| 54192/54192 [00:00<00:00, 1503510.58it/s]\n",
      "C:\\Users\\dubel\\AppData\\Local\\Temp\\ipykernel_9444\\2018185256.py:2: SettingWithCopyWarning: \n",
      "A value is trying to be set on a copy of a slice from a DataFrame.\n",
      "Try using .loc[row_indexer,col_indexer] = value instead\n",
      "\n",
      "See the caveats in the documentation: https://pandas.pydata.org/pandas-docs/stable/user_guide/indexing.html#returning-a-view-versus-a-copy\n",
      "  tp[[\"tp_timestamp_w_nos\", \"tp_error\"]] = tp[[\"tp_timestamp_w_nos\", \"tp_error\"]].progress_applymap(recode_change_disclosure)\n"
     ]
    }
   ],
   "source": [
    "#We transform the update disclosure variables to dummies.\n",
    "tp[[\"tp_timestamp_w_nos\", \"tp_error\"]] = tp[[\"tp_timestamp_w_nos\", \"tp_error\"]].progress_applymap(recode_change_disclosure)"
   ]
  },
  {
   "cell_type": "code",
   "execution_count": 41,
   "id": "1b49401b-2f0d-4d79-9325-c51c14c2eb10",
   "metadata": {
    "tags": []
   },
   "outputs": [
    {
     "name": "stderr",
     "output_type": "stream",
     "text": [
      "C:\\Users\\dubel\\AppData\\Local\\Temp\\ipykernel_9444\\1954625419.py:2: SettingWithCopyWarning: \n",
      "A value is trying to be set on a copy of a slice from a DataFrame.\n",
      "Try using .loc[row_indexer,col_indexer] = value instead\n",
      "\n",
      "See the caveats in the documentation: https://pandas.pydata.org/pandas-docs/stable/user_guide/indexing.html#returning-a-view-versus-a-copy\n",
      "  tp[\"tp_internal_and_family\"] = tp.tp_internal + tp.tp_family\n"
     ]
    }
   ],
   "source": [
    "#We combine the internal and family variables.\n",
    "tp[\"tp_internal_and_family\"] = tp.tp_internal + tp.tp_family"
   ]
  },
  {
   "cell_type": "code",
   "execution_count": 42,
   "id": "1fc101c5-4152-49e8-8b08-b78e6bb63bf7",
   "metadata": {
    "tags": []
   },
   "outputs": [
    {
     "name": "stderr",
     "output_type": "stream",
     "text": [
      "100%|█████████████████████████████████████████████████████████████████████| 162576/162576 [00:00<00:00, 1520759.09it/s]\n",
      "C:\\Users\\dubel\\AppData\\Local\\Temp\\ipykernel_9444\\1498052201.py:2: SettingWithCopyWarning: \n",
      "A value is trying to be set on a copy of a slice from a DataFrame.\n",
      "Try using .loc[row_indexer,col_indexer] = value instead\n",
      "\n",
      "See the caveats in the documentation: https://pandas.pydata.org/pandas-docs/stable/user_guide/indexing.html#returning-a-view-versus-a-copy\n",
      "  tp[[\"tp_internal\",\n",
      "C:\\Users\\dubel\\AppData\\Local\\Temp\\ipykernel_9444\\1498052201.py:2: SettingWithCopyWarning: \n",
      "A value is trying to be set on a copy of a slice from a DataFrame.\n",
      "Try using .loc[row_indexer,col_indexer] = value instead\n",
      "\n",
      "See the caveats in the documentation: https://pandas.pydata.org/pandas-docs/stable/user_guide/indexing.html#returning-a-view-versus-a-copy\n",
      "  tp[[\"tp_internal\",\n"
     ]
    }
   ],
   "source": [
    "#We recode all numeric variables to dummies.\n",
    "tp[[\"tp_internal\",\n",
    "    \"tp_document\",\n",
    "    \"tp_family\",\n",
    "    \"tp_external\",\n",
    "    \"tp_internal_and_family\",\n",
    "    \"tp_process_info\"]] = tp[[\"tp_internal\",\n",
    "                                     \"tp_document\",\n",
    "                                     \"tp_family\",\n",
    "                                     \"tp_external\", \n",
    "                                     \"tp_internal_and_family\",\n",
    "                                     \"process_info_factor\"]].progress_applymap(recode_numeric)"
   ]
  },
  {
   "cell_type": "code",
   "execution_count": 43,
   "id": "acff1c3a-95bd-4deb-8fe4-ec4289e9b9c9",
   "metadata": {
    "tags": []
   },
   "outputs": [
    {
     "data": {
      "text/html": [
       "<div>\n",
       "<style scoped>\n",
       "    .dataframe tbody tr th:only-of-type {\n",
       "        vertical-align: middle;\n",
       "    }\n",
       "\n",
       "    .dataframe tbody tr th {\n",
       "        vertical-align: top;\n",
       "    }\n",
       "\n",
       "    .dataframe thead th {\n",
       "        text-align: right;\n",
       "    }\n",
       "</style>\n",
       "<table border=\"1\" class=\"dataframe\">\n",
       "  <thead>\n",
       "    <tr style=\"text-align: right;\">\n",
       "      <th></th>\n",
       "      <th>tp_authors</th>\n",
       "      <th>tp_contact</th>\n",
       "      <th>tp_bio</th>\n",
       "      <th>tp_timestamp_w_nos</th>\n",
       "      <th>tp_error</th>\n",
       "      <th>tp_internal</th>\n",
       "      <th>tp_document</th>\n",
       "      <th>tp_family</th>\n",
       "      <th>tp_external</th>\n",
       "      <th>explicit_sourcing</th>\n",
       "      <th>tp_internal_and_family</th>\n",
       "      <th>tp_process_info</th>\n",
       "    </tr>\n",
       "  </thead>\n",
       "  <tbody>\n",
       "    <tr>\n",
       "      <th>0</th>\n",
       "      <td>0.477008</td>\n",
       "      <td>0.96601</td>\n",
       "      <td>0.72734</td>\n",
       "      <td>0.71457</td>\n",
       "      <td>0.992139</td>\n",
       "      <td>0.765537</td>\n",
       "      <td>0.979259</td>\n",
       "      <td>0.973133</td>\n",
       "      <td>0.820306</td>\n",
       "      <td>0.594147</td>\n",
       "      <td>0.746974</td>\n",
       "      <td>0.948332</td>\n",
       "    </tr>\n",
       "    <tr>\n",
       "      <th>1</th>\n",
       "      <td>0.522992</td>\n",
       "      <td>0.03399</td>\n",
       "      <td>0.27266</td>\n",
       "      <td>0.28543</td>\n",
       "      <td>0.007861</td>\n",
       "      <td>0.234463</td>\n",
       "      <td>0.020741</td>\n",
       "      <td>0.026867</td>\n",
       "      <td>0.179694</td>\n",
       "      <td>0.405853</td>\n",
       "      <td>0.253026</td>\n",
       "      <td>0.051668</td>\n",
       "    </tr>\n",
       "  </tbody>\n",
       "</table>\n",
       "</div>"
      ],
      "text/plain": [
       "   tp_authors  tp_contact   tp_bio  tp_timestamp_w_nos  tp_error  tp_internal  \\\n",
       "0    0.477008     0.96601  0.72734             0.71457  0.992139     0.765537   \n",
       "1    0.522992     0.03399  0.27266             0.28543  0.007861     0.234463   \n",
       "\n",
       "   tp_document  tp_family  tp_external  explicit_sourcing  \\\n",
       "0     0.979259   0.973133     0.820306           0.594147   \n",
       "1     0.020741   0.026867     0.179694           0.405853   \n",
       "\n",
       "   tp_internal_and_family  tp_process_info  \n",
       "0                0.746974         0.948332  \n",
       "1                0.253026         0.051668  "
      ]
     },
     "execution_count": 43,
     "metadata": {},
     "output_type": "execute_result"
    }
   ],
   "source": [
    "#For each dummy transparency indicator we calculate its relative prevalence over the entire data.\n",
    "tp_n = tp.drop(columns=[\"process_info_factor\", \"text_length\", \"dateMonth\"]).select_dtypes(include=\"number\").apply(lambda col: col.value_counts(normalize=True)); tp_n"
   ]
  },
  {
   "cell_type": "code",
   "execution_count": 44,
   "id": "5ab43189-61f7-4ba1-8f58-e484a0e1ca0d",
   "metadata": {
    "tags": []
   },
   "outputs": [
    {
     "data": {
      "text/html": [
       "<div>\n",
       "<style scoped>\n",
       "    .dataframe tbody tr th:only-of-type {\n",
       "        vertical-align: middle;\n",
       "    }\n",
       "\n",
       "    .dataframe tbody tr th {\n",
       "        vertical-align: top;\n",
       "    }\n",
       "\n",
       "    .dataframe thead th {\n",
       "        text-align: right;\n",
       "    }\n",
       "</style>\n",
       "<table border=\"1\" class=\"dataframe\">\n",
       "  <thead>\n",
       "    <tr style=\"text-align: right;\">\n",
       "      <th></th>\n",
       "      <th>tp_authors</th>\n",
       "      <th>tp_contact</th>\n",
       "      <th>tp_bio</th>\n",
       "      <th>tp_timestamp_w_nos</th>\n",
       "      <th>tp_error</th>\n",
       "      <th>tp_document</th>\n",
       "      <th>tp_external</th>\n",
       "      <th>explicit_sourcing</th>\n",
       "      <th>tp_internal_and_family</th>\n",
       "      <th>tp_process_info</th>\n",
       "    </tr>\n",
       "  </thead>\n",
       "  <tbody>\n",
       "    <tr>\n",
       "      <th>0</th>\n",
       "      <td>0.390018</td>\n",
       "      <td>0.676006</td>\n",
       "      <td>0.546583</td>\n",
       "      <td>0.539163</td>\n",
       "      <td>0.689209</td>\n",
       "      <td>0.682722</td>\n",
       "      <td>0.599004</td>\n",
       "      <td>0.466339</td>\n",
       "      <td>0.557885</td>\n",
       "      <td>0.666974</td>\n",
       "    </tr>\n",
       "  </tbody>\n",
       "</table>\n",
       "</div>"
      ],
      "text/plain": [
       "   tp_authors  tp_contact    tp_bio  tp_timestamp_w_nos  tp_error  \\\n",
       "0    0.390018    0.676006  0.546583            0.539163  0.689209   \n",
       "\n",
       "   tp_document  tp_external  explicit_sourcing  tp_internal_and_family  \\\n",
       "0     0.682722     0.599004           0.466339                0.557885   \n",
       "\n",
       "   tp_process_info  \n",
       "0         0.666974  "
      ]
     },
     "execution_count": 44,
     "metadata": {},
     "output_type": "execute_result"
    }
   ],
   "source": [
    "#We try to normalize the weight by taking the logarithm plus 1 for each of the needed transparency indicators.\n",
    "tp_weights = tp_n[:1].apply(lambda x: np.log(1 + x)).drop(columns=[\"tp_family\", \"tp_internal\"]); tp_weights"
   ]
  },
  {
   "cell_type": "code",
   "execution_count": 45,
   "id": "7ffb5960-1e39-4be9-8948-76e95cb7ed50",
   "metadata": {
    "tags": []
   },
   "outputs": [],
   "source": [
    "#We rename all the weights to full names.\n",
    "tp_weights_table = tp_weights.rename(columns={\"tp_authors\":\"explict author(s)\",\n",
    "                                              \"tp_contact\":\"contact information\",\n",
    "                                              \"tp_bio\":\"biographic information\",\n",
    "                                              \"tp_timestamp_w_nos\":\"timestamp disclosure\",\n",
    "                                              \"tp_error\":\"textual disclosure\",\n",
    "                                              \"tp_document\":\"document hyperlinking\",\n",
    "                                              \"tp_external\":\"external hyperlinking\",\n",
    "                                              \"explicit_sourcing\":\"explicit sourcing\",\n",
    "                                              \"tp_internal_and_family\":\"internal \\& family hyperlinking\",\n",
    "                                              \"tp_process_info\": \"process information\"}).transpose().rename(columns={0:\"weight\"})"
   ]
  },
  {
   "cell_type": "code",
   "execution_count": 46,
   "id": "d8a605cb-b05f-4568-8c0c-1626c67bf7d9",
   "metadata": {
    "tags": []
   },
   "outputs": [],
   "source": [
    "#We add the dimension to it as a column.\n",
    "tp_weights_table[\"dimension\"] = [\"author\", \"author\", \"author\",\n",
    "                                 \"error\", \"error\", \n",
    "                                 \"sourcing\", \"sourcing\", \"sourcing\", \"sourcing\",\n",
    "                                 \"process\"]\n",
    "#We add the ritual name as a column.\n",
    "tp_weights_table[\"ritual\"] = tp_weights_table.index\n",
    "#We round the weights.\n",
    "tp_weights_table[\"weight\"] = tp_weights_table.weight.apply(lambda x: round(x, 2))"
   ]
  },
  {
   "cell_type": "code",
   "execution_count": 47,
   "id": "faf2a2c9-4bfd-4772-b791-f424918c65e7",
   "metadata": {
    "tags": []
   },
   "outputs": [],
   "source": [
    "#We drop the index.\n",
    "tp_weights_table = tp_weights_table[[\"dimension\", \"ritual\", \"weight\"]].reset_index().drop(columns=\"index\")"
   ]
  },
  {
   "cell_type": "code",
   "execution_count": 48,
   "id": "41653e7a-d0bd-4beb-a154-2582318487ff",
   "metadata": {
    "tags": []
   },
   "outputs": [
    {
     "name": "stdout",
     "output_type": "stream",
     "text": [
      "\\begin{tabular}{llr}\n",
      "\\toprule\n",
      "dimension & ritual & weight \\\\\n",
      "\\midrule\n",
      "author & explict author(s) & 0.39 \\\\\n",
      "author & contact information & 0.68 \\\\\n",
      "author & biographic information & 0.55 \\\\\n",
      "error & timestamp disclosure & 0.54 \\\\\n",
      "error & textual disclosure & 0.69 \\\\\n",
      "sourcing & document hyperlinking & 0.68 \\\\\n",
      "sourcing & external hyperlinking & 0.60 \\\\\n",
      "sourcing & explicit sourcing & 0.47 \\\\\n",
      "sourcing & internal \\& family hyperlinking & 0.56 \\\\\n",
      "process & process information & 0.67 \\\\\n",
      "\\bottomrule\n",
      "\\end{tabular}\n",
      "\n"
     ]
    }
   ],
   "source": [
    "#We print a latex version of the table.\n",
    "print(tp_weights_table.to_latex(float_format=\"{:.2f}\".format, index=False))"
   ]
  },
  {
   "cell_type": "code",
   "execution_count": 49,
   "id": "a4e3734c-ce25-4ef8-8a04-40f08f1b93c1",
   "metadata": {
    "tags": []
   },
   "outputs": [],
   "source": [
    "#We define function that calculate the overall transparency per dimension (author, update and sourcing) and the entire transparency.\n",
    "#Each time we take the sum of the dummies of the indicators within the dimension for the unweighted score and we return so.\n",
    "#Additionally we also calculate the version where we multiply the dummy column by the respective weights we calculated and return it as a weighted variant.\n",
    "\n",
    "def get_author_transparency(x, weights=tp_weights):\n",
    "    \n",
    "    author_transparency = x[\"tp_authors\"] + x[\"tp_contact\"] + x[\"tp_bio\"]\n",
    "\n",
    "    author_score = x[\"tp_authors\"] * weights[\"tp_authors\"][0]\n",
    "    contact_score = x[\"tp_contact\"] * weights[\"tp_contact\"][0]\n",
    "    bio_score = x[\"tp_bio\"] * weights[\"tp_bio\"][0]\n",
    "    \n",
    "    author_transparency_w = author_score + contact_score + bio_score\n",
    "    \n",
    "    return author_transparency, author_transparency_w\n",
    "\n",
    "def get_error_transparency(x, weights=tp_weights):\n",
    "    \n",
    "    error_transparency = x[\"tp_timestamp_w_nos\"] + x[\"tp_error\"]\n",
    "    \n",
    "    timestamp_score = x[\"tp_timestamp_w_nos\"] * weights[\"tp_timestamp_w_nos\"][0]\n",
    "    error_score = x[\"tp_error\"] * weights[\"tp_error\"][0]\n",
    "    error_transparency_w = timestamp_score + error_score\n",
    "    \n",
    "    return error_transparency, error_transparency_w\n",
    "\n",
    "def get_sourcing_transparency(x, weights=tp_weights):\n",
    "    \n",
    "    sourcing_transparency = x[\"tp_external\"] + x[\"tp_internal_and_family\"] + x[\"tp_document\"] + x[\"explicit_sourcing\"] \n",
    "    \n",
    "    external_score = x[\"tp_external\"] * weights[\"tp_external\"][0]\n",
    "    internal_score = x[\"tp_internal_and_family\"] * weights[\"tp_internal_and_family\"][0]\n",
    "    document_score = x[\"tp_document\"] * weights[\"tp_document\"][0]\n",
    "    explicit_score = x[\"explicit_sourcing\"] * weights[\"explicit_sourcing\"][0]\n",
    "    sourcing_transparency_w = external_score + internal_score + document_score + explicit_score \n",
    "    \n",
    "    return sourcing_transparency, sourcing_transparency_w\n",
    "\n",
    "def get_transparency_index(x, weights=tp_weights):\n",
    "    \n",
    "    author_score = x[\"tp_authors\"] * weights[\"tp_authors\"][0]\n",
    "    contact_score = x[\"tp_contact\"] * weights[\"tp_contact\"][0]\n",
    "    bio_score = x[\"tp_bio\"] * weights[\"tp_bio\"][0]\n",
    "    \n",
    "    timestamp_score = x[\"tp_timestamp_w_nos\"] * weights[\"tp_timestamp_w_nos\"][0]\n",
    "    error_score = x[\"tp_error\"] * weights[\"tp_error\"][0]\n",
    "    \n",
    "    external_score = x[\"tp_external\"] * weights[\"tp_external\"][0]\n",
    "    internal_score = x[\"tp_internal_and_family\"] * weights[\"tp_internal_and_family\"][0]\n",
    "    document_score = x[\"tp_document\"] * weights[\"tp_document\"][0]\n",
    "    explicit_score = x[\"explicit_sourcing\"] * weights[\"explicit_sourcing\"][0]\n",
    "    \n",
    "    process_info_score = x[\"tp_process_info\"] * weights[\"tp_process_info\"][0]\n",
    "    \n",
    "    transparency_index = author_score + contact_score + bio_score +\\\n",
    "    timestamp_score + error_score +\\\n",
    "    external_score + internal_score + document_score + explicit_score +\\\n",
    "    process_info_score\n",
    "    \n",
    "    return transparency_index"
   ]
  },
  {
   "cell_type": "code",
   "execution_count": 50,
   "id": "83744f3c-ccf1-4738-8386-d5d4158d05f8",
   "metadata": {
    "tags": []
   },
   "outputs": [
    {
     "name": "stderr",
     "output_type": "stream",
     "text": [
      "100%|██████████████████████████████████████████████████████████████████████████| 27096/27096 [00:03<00:00, 8250.15it/s]\n",
      "C:\\Users\\dubel\\AppData\\Local\\Temp\\ipykernel_9444\\2003012740.py:2: SettingWithCopyWarning: \n",
      "A value is trying to be set on a copy of a slice from a DataFrame.\n",
      "Try using .loc[row_indexer,col_indexer] = value instead\n",
      "\n",
      "See the caveats in the documentation: https://pandas.pydata.org/pandas-docs/stable/user_guide/indexing.html#returning-a-view-versus-a-copy\n",
      "  tp[[\"author_transparency\", \"author_transparency_w\"]] = tp.progress_apply(lambda x: pd.Series(get_author_transparency(x)), axis=1)\n",
      "C:\\Users\\dubel\\AppData\\Local\\Temp\\ipykernel_9444\\2003012740.py:2: SettingWithCopyWarning: \n",
      "A value is trying to be set on a copy of a slice from a DataFrame.\n",
      "Try using .loc[row_indexer,col_indexer] = value instead\n",
      "\n",
      "See the caveats in the documentation: https://pandas.pydata.org/pandas-docs/stable/user_guide/indexing.html#returning-a-view-versus-a-copy\n",
      "  tp[[\"author_transparency\", \"author_transparency_w\"]] = tp.progress_apply(lambda x: pd.Series(get_author_transparency(x)), axis=1)\n"
     ]
    }
   ],
   "source": [
    "#We create the columns for each dimension.\n",
    "tp[[\"author_transparency\", \"author_transparency_w\"]] = tp.progress_apply(lambda x: pd.Series(get_author_transparency(x)), axis=1)"
   ]
  },
  {
   "cell_type": "code",
   "execution_count": 51,
   "id": "364ddc97-99d0-4dd6-86ad-42019b7eb017",
   "metadata": {
    "tags": []
   },
   "outputs": [
    {
     "name": "stderr",
     "output_type": "stream",
     "text": [
      "100%|██████████████████████████████████████████████████████████████████████████| 27096/27096 [00:03<00:00, 8310.11it/s]\n",
      "C:\\Users\\dubel\\AppData\\Local\\Temp\\ipykernel_9444\\2824023450.py:1: SettingWithCopyWarning: \n",
      "A value is trying to be set on a copy of a slice from a DataFrame.\n",
      "Try using .loc[row_indexer,col_indexer] = value instead\n",
      "\n",
      "See the caveats in the documentation: https://pandas.pydata.org/pandas-docs/stable/user_guide/indexing.html#returning-a-view-versus-a-copy\n",
      "  tp[[\"sourcing_transparency\", \"sourcing_transparency_w\"]] = tp.progress_apply(lambda x: pd.Series(get_sourcing_transparency(x)), axis=1)\n",
      "C:\\Users\\dubel\\AppData\\Local\\Temp\\ipykernel_9444\\2824023450.py:1: SettingWithCopyWarning: \n",
      "A value is trying to be set on a copy of a slice from a DataFrame.\n",
      "Try using .loc[row_indexer,col_indexer] = value instead\n",
      "\n",
      "See the caveats in the documentation: https://pandas.pydata.org/pandas-docs/stable/user_guide/indexing.html#returning-a-view-versus-a-copy\n",
      "  tp[[\"sourcing_transparency\", \"sourcing_transparency_w\"]] = tp.progress_apply(lambda x: pd.Series(get_sourcing_transparency(x)), axis=1)\n"
     ]
    }
   ],
   "source": [
    "tp[[\"sourcing_transparency\", \"sourcing_transparency_w\"]] = tp.progress_apply(lambda x: pd.Series(get_sourcing_transparency(x)), axis=1)"
   ]
  },
  {
   "cell_type": "code",
   "execution_count": 52,
   "id": "40588834-aba6-4503-b946-ec3bb4d5a5e4",
   "metadata": {
    "tags": []
   },
   "outputs": [
    {
     "name": "stderr",
     "output_type": "stream",
     "text": [
      "100%|██████████████████████████████████████████████████████████████████████████| 27096/27096 [00:03<00:00, 8708.17it/s]\n",
      "C:\\Users\\dubel\\AppData\\Local\\Temp\\ipykernel_9444\\88623100.py:1: SettingWithCopyWarning: \n",
      "A value is trying to be set on a copy of a slice from a DataFrame.\n",
      "Try using .loc[row_indexer,col_indexer] = value instead\n",
      "\n",
      "See the caveats in the documentation: https://pandas.pydata.org/pandas-docs/stable/user_guide/indexing.html#returning-a-view-versus-a-copy\n",
      "  tp[[\"error_transparency\", \"error_transparency_w\"]] = tp.progress_apply(lambda x: pd.Series(get_error_transparency(x)), axis=1)\n",
      "C:\\Users\\dubel\\AppData\\Local\\Temp\\ipykernel_9444\\88623100.py:1: SettingWithCopyWarning: \n",
      "A value is trying to be set on a copy of a slice from a DataFrame.\n",
      "Try using .loc[row_indexer,col_indexer] = value instead\n",
      "\n",
      "See the caveats in the documentation: https://pandas.pydata.org/pandas-docs/stable/user_guide/indexing.html#returning-a-view-versus-a-copy\n",
      "  tp[[\"error_transparency\", \"error_transparency_w\"]] = tp.progress_apply(lambda x: pd.Series(get_error_transparency(x)), axis=1)\n"
     ]
    }
   ],
   "source": [
    "tp[[\"error_transparency\", \"error_transparency_w\"]] = tp.progress_apply(lambda x: pd.Series(get_error_transparency(x)), axis=1)"
   ]
  },
  {
   "cell_type": "code",
   "execution_count": 53,
   "id": "454b0d24-15c7-434c-ad86-2e77ff239204",
   "metadata": {
    "tags": []
   },
   "outputs": [
    {
     "name": "stderr",
     "output_type": "stream",
     "text": [
      "100%|█████████████████████████████████████████████████████████████████████████| 27096/27096 [00:01<00:00, 21510.55it/s]\n",
      "C:\\Users\\dubel\\AppData\\Local\\Temp\\ipykernel_9444\\439933196.py:2: SettingWithCopyWarning: \n",
      "A value is trying to be set on a copy of a slice from a DataFrame.\n",
      "Try using .loc[row_indexer,col_indexer] = value instead\n",
      "\n",
      "See the caveats in the documentation: https://pandas.pydata.org/pandas-docs/stable/user_guide/indexing.html#returning-a-view-versus-a-copy\n",
      "  tp[\"transparency_index\"] = tp.progress_apply(lambda x: get_transparency_index(x), axis=1)\n"
     ]
    }
   ],
   "source": [
    "#We also create the column for the entire transparency index. For this we only have the weighted variant.\n",
    "tp[\"transparency_index\"] = tp.progress_apply(lambda x: get_transparency_index(x), axis=1)"
   ]
  },
  {
   "cell_type": "code",
   "execution_count": 54,
   "id": "0b4f8f35-1e31-43c8-83b0-cf611c6fc313",
   "metadata": {
    "tags": []
   },
   "outputs": [],
   "source": [
    "scaler = MinMaxScaler()"
   ]
  },
  {
   "cell_type": "code",
   "execution_count": 55,
   "id": "1e569907-6106-4054-9f46-a46144cced41",
   "metadata": {
    "tags": []
   },
   "outputs": [],
   "source": [
    "#We will also rescale the weighted transparency indices, as well as the process info factor.\n",
    "col_to_scale = [\"author_transparency_w\",\n",
    "                \"sourcing_transparency_w\",\n",
    "                \"error_transparency_w\",\n",
    "                \"process_info_factor\",\n",
    "                \"transparency_index\"]"
   ]
  },
  {
   "cell_type": "code",
   "execution_count": 56,
   "id": "2bb24171-b48b-4d8f-8ac4-aad468f35322",
   "metadata": {
    "tags": []
   },
   "outputs": [
    {
     "name": "stderr",
     "output_type": "stream",
     "text": [
      "C:\\Users\\dubel\\AppData\\Local\\Temp\\ipykernel_9444\\85448463.py:2: SettingWithCopyWarning: \n",
      "A value is trying to be set on a copy of a slice from a DataFrame.\n",
      "Try using .loc[row_indexer,col_indexer] = value instead\n",
      "\n",
      "See the caveats in the documentation: https://pandas.pydata.org/pandas-docs/stable/user_guide/indexing.html#returning-a-view-versus-a-copy\n",
      "  tp[col_to_scale] = scaler.fit_transform(tp[col_to_scale])\n"
     ]
    }
   ],
   "source": [
    "#We apply the scaler.\n",
    "tp[col_to_scale] = scaler.fit_transform(tp[col_to_scale])"
   ]
  },
  {
   "cell_type": "code",
   "execution_count": 57,
   "id": "1b68bcf8-55cb-4fd5-bc0b-5305aedb78b2",
   "metadata": {
    "tags": []
   },
   "outputs": [
    {
     "data": {
      "text/html": [
       "<div>\n",
       "<style scoped>\n",
       "    .dataframe tbody tr th:only-of-type {\n",
       "        vertical-align: middle;\n",
       "    }\n",
       "\n",
       "    .dataframe tbody tr th {\n",
       "        vertical-align: top;\n",
       "    }\n",
       "\n",
       "    .dataframe thead th {\n",
       "        text-align: right;\n",
       "    }\n",
       "</style>\n",
       "<table border=\"1\" class=\"dataframe\">\n",
       "  <thead>\n",
       "    <tr style=\"text-align: right;\">\n",
       "      <th></th>\n",
       "      <th>author_transparency_w</th>\n",
       "      <th>sourcing_transparency_w</th>\n",
       "      <th>error_transparency_w</th>\n",
       "      <th>process_info_factor</th>\n",
       "    </tr>\n",
       "  </thead>\n",
       "  <tbody>\n",
       "    <tr>\n",
       "      <th>count</th>\n",
       "      <td>27096.000000</td>\n",
       "      <td>27096.000000</td>\n",
       "      <td>27096.000000</td>\n",
       "      <td>27096.000000</td>\n",
       "    </tr>\n",
       "    <tr>\n",
       "      <th>mean</th>\n",
       "      <td>0.233154</td>\n",
       "      <td>0.196111</td>\n",
       "      <td>0.129693</td>\n",
       "      <td>0.006060</td>\n",
       "    </tr>\n",
       "    <tr>\n",
       "      <th>std</th>\n",
       "      <td>0.251562</td>\n",
       "      <td>0.205696</td>\n",
       "      <td>0.203000</td>\n",
       "      <td>0.037439</td>\n",
       "    </tr>\n",
       "    <tr>\n",
       "      <th>min</th>\n",
       "      <td>0.000000</td>\n",
       "      <td>0.000000</td>\n",
       "      <td>0.000000</td>\n",
       "      <td>0.000000</td>\n",
       "    </tr>\n",
       "    <tr>\n",
       "      <th>25%</th>\n",
       "      <td>0.000000</td>\n",
       "      <td>0.000000</td>\n",
       "      <td>0.000000</td>\n",
       "      <td>0.000000</td>\n",
       "    </tr>\n",
       "    <tr>\n",
       "      <th>50%</th>\n",
       "      <td>0.241856</td>\n",
       "      <td>0.202233</td>\n",
       "      <td>0.000000</td>\n",
       "      <td>0.000000</td>\n",
       "    </tr>\n",
       "    <tr>\n",
       "      <th>75%</th>\n",
       "      <td>0.580799</td>\n",
       "      <td>0.259765</td>\n",
       "      <td>0.438925</td>\n",
       "      <td>0.000000</td>\n",
       "    </tr>\n",
       "    <tr>\n",
       "      <th>max</th>\n",
       "      <td>1.000000</td>\n",
       "      <td>1.000000</td>\n",
       "      <td>1.000000</td>\n",
       "      <td>1.000000</td>\n",
       "    </tr>\n",
       "  </tbody>\n",
       "</table>\n",
       "</div>"
      ],
      "text/plain": [
       "       author_transparency_w  sourcing_transparency_w  error_transparency_w  \\\n",
       "count           27096.000000             27096.000000          27096.000000   \n",
       "mean                0.233154                 0.196111              0.129693   \n",
       "std                 0.251562                 0.205696              0.203000   \n",
       "min                 0.000000                 0.000000              0.000000   \n",
       "25%                 0.000000                 0.000000              0.000000   \n",
       "50%                 0.241856                 0.202233              0.000000   \n",
       "75%                 0.580799                 0.259765              0.438925   \n",
       "max                 1.000000                 1.000000              1.000000   \n",
       "\n",
       "       process_info_factor  \n",
       "count         27096.000000  \n",
       "mean              0.006060  \n",
       "std               0.037439  \n",
       "min               0.000000  \n",
       "25%               0.000000  \n",
       "50%               0.000000  \n",
       "75%               0.000000  \n",
       "max               1.000000  "
      ]
     },
     "execution_count": 57,
     "metadata": {},
     "output_type": "execute_result"
    }
   ],
   "source": [
    "#We print some descriptives of our indices and scale.\n",
    "tp[[\"author_transparency_w\", \"sourcing_transparency_w\", \"error_transparency_w\", \"process_info_factor\"]].describe()"
   ]
  },
  {
   "cell_type": "code",
   "execution_count": 58,
   "id": "5d4c2ade-c993-47eb-bac4-abdac4294e39",
   "metadata": {
    "tags": []
   },
   "outputs": [
    {
     "data": {
      "text/html": [
       "<div>\n",
       "<style scoped>\n",
       "    .dataframe tbody tr th:only-of-type {\n",
       "        vertical-align: middle;\n",
       "    }\n",
       "\n",
       "    .dataframe tbody tr th {\n",
       "        vertical-align: top;\n",
       "    }\n",
       "\n",
       "    .dataframe thead th {\n",
       "        text-align: right;\n",
       "    }\n",
       "</style>\n",
       "<table border=\"1\" class=\"dataframe\">\n",
       "  <thead>\n",
       "    <tr style=\"text-align: right;\">\n",
       "      <th></th>\n",
       "      <th>author_transparency_w</th>\n",
       "      <th>sourcing_transparency_w</th>\n",
       "      <th>error_transparency_w</th>\n",
       "      <th>process_info_factor</th>\n",
       "    </tr>\n",
       "  </thead>\n",
       "  <tbody>\n",
       "    <tr>\n",
       "      <th>author_transparency_w</th>\n",
       "      <td>1.00</td>\n",
       "      <td>0.07</td>\n",
       "      <td>-0.30</td>\n",
       "      <td>0.02</td>\n",
       "    </tr>\n",
       "    <tr>\n",
       "      <th>sourcing_transparency_w</th>\n",
       "      <td>0.07</td>\n",
       "      <td>1.00</td>\n",
       "      <td>0.04</td>\n",
       "      <td>-0.00</td>\n",
       "    </tr>\n",
       "    <tr>\n",
       "      <th>error_transparency_w</th>\n",
       "      <td>-0.30</td>\n",
       "      <td>0.04</td>\n",
       "      <td>1.00</td>\n",
       "      <td>-0.02</td>\n",
       "    </tr>\n",
       "    <tr>\n",
       "      <th>process_info_factor</th>\n",
       "      <td>0.02</td>\n",
       "      <td>-0.00</td>\n",
       "      <td>-0.02</td>\n",
       "      <td>1.00</td>\n",
       "    </tr>\n",
       "  </tbody>\n",
       "</table>\n",
       "</div>"
      ],
      "text/plain": [
       "                         author_transparency_w  sourcing_transparency_w  \\\n",
       "author_transparency_w                     1.00                     0.07   \n",
       "sourcing_transparency_w                   0.07                     1.00   \n",
       "error_transparency_w                     -0.30                     0.04   \n",
       "process_info_factor                       0.02                    -0.00   \n",
       "\n",
       "                         error_transparency_w  process_info_factor  \n",
       "author_transparency_w                   -0.30                 0.02  \n",
       "sourcing_transparency_w                  0.04                -0.00  \n",
       "error_transparency_w                     1.00                -0.02  \n",
       "process_info_factor                     -0.02                 1.00  "
      ]
     },
     "execution_count": 58,
     "metadata": {},
     "output_type": "execute_result"
    }
   ],
   "source": [
    "#We print some correlations of it as well.\n",
    "tp[[\"author_transparency_w\", \"sourcing_transparency_w\", \"error_transparency_w\", \"process_info_factor\"]].corr().apply(lambda x: (round(x,2)))"
   ]
  },
  {
   "cell_type": "markdown",
   "id": "40bcfe08-127c-4a6f-ae50-1955219516e7",
   "metadata": {
    "tags": []
   },
   "source": [
    "## visual results"
   ]
  },
  {
   "cell_type": "markdown",
   "id": "014c60a1-1c8e-4fdf-ac84-d141743acb72",
   "metadata": {
    "tags": []
   },
   "source": [
    "### author transparency"
   ]
  },
  {
   "cell_type": "code",
   "execution_count": 59,
   "id": "54f433ec-a836-473e-b0ce-0ec4c4d3c502",
   "metadata": {
    "tags": []
   },
   "outputs": [],
   "source": [
    "#We redefine our palette.\n",
    "custom_palette = [\"#D10A10\", \"#949494\", \"#F5F1E5\", \"#020051\", \"#27509A\", \"#000000\"]"
   ]
  },
  {
   "cell_type": "code",
   "execution_count": 61,
   "id": "4de1a220-b7f9-47e3-bb1d-2f83497bbf69",
   "metadata": {
    "tags": []
   },
   "outputs": [],
   "source": [
    "#We create an extensive function to vizualize the prevalence of each transparency class for each indicator.\n",
    "def get_stacked_bar_chart(x, data=df, order=None, labels=None, size=(8,8), anchor=1.2):\n",
    "    #If we input multiple columns at once, then we group by outlet and take the percentual sum of each column.\n",
    "    if type(x) == list:\n",
    "        pivot_df = data.groupby(\"news_source\")[x].sum().transpose() / len(df) * 100\n",
    "    else:\n",
    "        #In the scenario of vizualizing one column we directly calculate its relative size.\n",
    "        pivot_df = data.pivot_table(index=x, columns=\"news_source\", aggfunc=\"size\", fill_value=0) / len(df) * 100\n",
    "    #If no order is given we just follow the order of the pivot table.\n",
    "    if order is not None:\n",
    "        pivot_df = pivot_df.loc[order]\n",
    "    #We define our font.\n",
    "    plt.rcParams['font.family'] = ['Latin Modern Roman']\n",
    "    fig, ax = plt.subplots(figsize=size)\n",
    "    #We define our colors and style.\n",
    "    sns.set(font_scale=1.2, palette=custom_palette, style=\"whitegrid\")\n",
    "    #We plot the percentual prevalence as stacked bars.\n",
    "    pivot_df.plot(kind=\"bar\", stacked=True, ax=ax)\n",
    "    legend = ax.legend(bbox_to_anchor=(anchor, 0), loc=\"lower center\", ncol=1)\n",
    "    for text in legend.get_texts():\n",
    "        text.set_fontfamily(\"Latin Modern Roman\")\n",
    "    ax.set_xlabel(\"\")\n",
    "    if labels is not None:\n",
    "        ax.set_xticklabels(labels, rotation=0)\n",
    "    def format_percent(value, _):\n",
    "        return f\"{value:.0f}%\"\n",
    "    ax.yaxis.set_major_formatter(FuncFormatter(format_percent))\n",
    "    plt.xticks(rotation=0)\n",
    "    plt.savefig(f\"{x}_prevalence.pdf\", format=\"pdf\", bbox_inches=\"tight\")"
   ]
  },
  {
   "cell_type": "code",
   "execution_count": 63,
   "id": "2edc8ad6-5231-416f-ab12-c2ffb5f7d869",
   "metadata": {
    "tags": []
   },
   "outputs": [
    {
     "data": {
      "image/png": "[encoded data removed]",
      "text/plain": [
       "<Figure size 800x800 with 1 Axes>"
      ]
     },
     "metadata": {},
     "output_type": "display_data"
    }
   ],
   "source": [
    "#We plot it for authors.\n",
    "get_stacked_bar_chart(\"tp_authors\")"
   ]
  },
  {
   "cell_type": "code",
   "execution_count": 64,
   "id": "d4d3d278-d587-4403-a0b9-e8e2d9311d52",
   "metadata": {
    "tags": []
   },
   "outputs": [
    {
     "data": {
      "text/html": [
       "<div>\n",
       "<style scoped>\n",
       "    .dataframe tbody tr th:only-of-type {\n",
       "        vertical-align: middle;\n",
       "    }\n",
       "\n",
       "    .dataframe tbody tr th {\n",
       "        vertical-align: top;\n",
       "    }\n",
       "\n",
       "    .dataframe thead th {\n",
       "        text-align: right;\n",
       "    }\n",
       "</style>\n",
       "<table border=\"1\" class=\"dataframe\">\n",
       "  <thead>\n",
       "    <tr style=\"text-align: right;\">\n",
       "      <th></th>\n",
       "      <th>tp_authors</th>\n",
       "      <th>proportion</th>\n",
       "    </tr>\n",
       "  </thead>\n",
       "  <tbody>\n",
       "    <tr>\n",
       "      <th>0</th>\n",
       "      <td>explicit</td>\n",
       "      <td>0.522992</td>\n",
       "    </tr>\n",
       "    <tr>\n",
       "      <th>1</th>\n",
       "      <td>absent</td>\n",
       "      <td>0.268047</td>\n",
       "    </tr>\n",
       "    <tr>\n",
       "      <th>2</th>\n",
       "      <td>abstract</td>\n",
       "      <td>0.201690</td>\n",
       "    </tr>\n",
       "    <tr>\n",
       "      <th>3</th>\n",
       "      <td>other</td>\n",
       "      <td>0.007270</td>\n",
       "    </tr>\n",
       "  </tbody>\n",
       "</table>\n",
       "</div>"
      ],
      "text/plain": [
       "  tp_authors  proportion\n",
       "0   explicit    0.522992\n",
       "1     absent    0.268047\n",
       "2   abstract    0.201690\n",
       "3      other    0.007270"
      ]
     },
     "execution_count": 64,
     "metadata": {},
     "output_type": "execute_result"
    }
   ],
   "source": [
    "#We print the prevalence numerically.\n",
    "df.tp_authors.value_counts(normalize=True).reset_index()"
   ]
  },
  {
   "cell_type": "code",
   "execution_count": 65,
   "id": "f93da9bc-e7bb-4a88-97e0-6db97541c6c2",
   "metadata": {
    "tags": []
   },
   "outputs": [
    {
     "data": {
      "text/html": [
       "<div>\n",
       "<style scoped>\n",
       "    .dataframe tbody tr th:only-of-type {\n",
       "        vertical-align: middle;\n",
       "    }\n",
       "\n",
       "    .dataframe tbody tr th {\n",
       "        vertical-align: top;\n",
       "    }\n",
       "\n",
       "    .dataframe thead th {\n",
       "        text-align: right;\n",
       "    }\n",
       "</style>\n",
       "<table border=\"1\" class=\"dataframe\">\n",
       "  <thead>\n",
       "    <tr style=\"text-align: right;\">\n",
       "      <th></th>\n",
       "      <th>tp_authors</th>\n",
       "      <th>count</th>\n",
       "    </tr>\n",
       "  </thead>\n",
       "  <tbody>\n",
       "    <tr>\n",
       "      <th>0</th>\n",
       "      <td>explicit</td>\n",
       "      <td>14171</td>\n",
       "    </tr>\n",
       "    <tr>\n",
       "      <th>1</th>\n",
       "      <td>absent</td>\n",
       "      <td>7263</td>\n",
       "    </tr>\n",
       "    <tr>\n",
       "      <th>2</th>\n",
       "      <td>abstract</td>\n",
       "      <td>5465</td>\n",
       "    </tr>\n",
       "    <tr>\n",
       "      <th>3</th>\n",
       "      <td>other</td>\n",
       "      <td>197</td>\n",
       "    </tr>\n",
       "  </tbody>\n",
       "</table>\n",
       "</div>"
      ],
      "text/plain": [
       "  tp_authors  count\n",
       "0   explicit  14171\n",
       "1     absent   7263\n",
       "2   abstract   5465\n",
       "3      other    197"
      ]
     },
     "execution_count": 65,
     "metadata": {},
     "output_type": "execute_result"
    }
   ],
   "source": [
    "#We also do so in a discrete version.\n",
    "df.tp_authors.value_counts(normalize=False).reset_index()"
   ]
  },
  {
   "cell_type": "code",
   "execution_count": 66,
   "id": "37ec44f8-62e6-4780-a493-316e4cfac2f3",
   "metadata": {
    "tags": []
   },
   "outputs": [],
   "source": [
    "#We create a function to get a dichotomized percentual prevalence score for a class of interest.\n",
    "def get_news_source_chances(col, cat, dec=2):\n",
    "    #We group per outlet and get the percentual prevalence for the column of interest.\n",
    "    tmp = df.groupby(\"news_source\")[col].value_counts(normalize=True).unstack().loc[:, cat].reset_index()\n",
    "    #We specifically extract the class of interest.\n",
    "    tmp[cat] *= 100; tmp[cat] = round(tmp[cat].fillna(0), dec)\n",
    "    #We add it to an overall value, disregarding the outlet difference.\n",
    "    tmp.loc[len(tmp.index)] = [\"overall\", round(np.mean(tmp[cat].values), dec)]\n",
    "    #We also add a column with the opposite value.\n",
    "    tmp[\"remainder\"] = 100 - tmp[cat]\n",
    "    return tmp"
   ]
  },
  {
   "cell_type": "code",
   "execution_count": 68,
   "id": "4088286b-2b5c-43e3-850a-9d73bccac4e3",
   "metadata": {
    "tags": []
   },
   "outputs": [
    {
     "data": {
      "text/html": [
       "<div>\n",
       "<style scoped>\n",
       "    .dataframe tbody tr th:only-of-type {\n",
       "        vertical-align: middle;\n",
       "    }\n",
       "\n",
       "    .dataframe tbody tr th {\n",
       "        vertical-align: top;\n",
       "    }\n",
       "\n",
       "    .dataframe thead th {\n",
       "        text-align: right;\n",
       "    }\n",
       "</style>\n",
       "<table border=\"1\" class=\"dataframe\">\n",
       "  <thead>\n",
       "    <tr style=\"text-align: right;\">\n",
       "      <th></th>\n",
       "      <th>news_source</th>\n",
       "      <th>explicit</th>\n",
       "      <th>remainder</th>\n",
       "    </tr>\n",
       "  </thead>\n",
       "  <tbody>\n",
       "    <tr>\n",
       "      <th>0</th>\n",
       "      <td>AD</td>\n",
       "      <td>61.01</td>\n",
       "      <td>38.99</td>\n",
       "    </tr>\n",
       "    <tr>\n",
       "      <th>1</th>\n",
       "      <td>NOS</td>\n",
       "      <td>10.70</td>\n",
       "      <td>89.30</td>\n",
       "    </tr>\n",
       "    <tr>\n",
       "      <th>2</th>\n",
       "      <td>NRC</td>\n",
       "      <td>76.82</td>\n",
       "      <td>23.18</td>\n",
       "    </tr>\n",
       "    <tr>\n",
       "      <th>3</th>\n",
       "      <td>NU</td>\n",
       "      <td>31.95</td>\n",
       "      <td>68.05</td>\n",
       "    </tr>\n",
       "    <tr>\n",
       "      <th>4</th>\n",
       "      <td>Telegraaf</td>\n",
       "      <td>43.64</td>\n",
       "      <td>56.36</td>\n",
       "    </tr>\n",
       "    <tr>\n",
       "      <th>5</th>\n",
       "      <td>Volkskrant</td>\n",
       "      <td>89.68</td>\n",
       "      <td>10.32</td>\n",
       "    </tr>\n",
       "    <tr>\n",
       "      <th>6</th>\n",
       "      <td>overall</td>\n",
       "      <td>52.30</td>\n",
       "      <td>47.70</td>\n",
       "    </tr>\n",
       "  </tbody>\n",
       "</table>\n",
       "</div>"
      ],
      "text/plain": [
       "  news_source  explicit  remainder\n",
       "0          AD     61.01      38.99\n",
       "1         NOS     10.70      89.30\n",
       "2         NRC     76.82      23.18\n",
       "3          NU     31.95      68.05\n",
       "4   Telegraaf     43.64      56.36\n",
       "5  Volkskrant     89.68      10.32\n",
       "6     overall     52.30      47.70"
      ]
     },
     "execution_count": 68,
     "metadata": {},
     "output_type": "execute_result"
    }
   ],
   "source": [
    "#We print the above defined function for explicit authors.\n",
    "get_news_source_chances(col=\"tp_authors\", cat=\"explicit\")"
   ]
  },
  {
   "cell_type": "code",
   "execution_count": 69,
   "id": "4eb32e74-ddc4-4d4b-9029-cf4469df7e98",
   "metadata": {
    "tags": []
   },
   "outputs": [
    {
     "data": {
      "text/html": [
       "<div>\n",
       "<style scoped>\n",
       "    .dataframe tbody tr th:only-of-type {\n",
       "        vertical-align: middle;\n",
       "    }\n",
       "\n",
       "    .dataframe tbody tr th {\n",
       "        vertical-align: top;\n",
       "    }\n",
       "\n",
       "    .dataframe thead th {\n",
       "        text-align: right;\n",
       "    }\n",
       "</style>\n",
       "<table border=\"1\" class=\"dataframe\">\n",
       "  <thead>\n",
       "    <tr style=\"text-align: right;\">\n",
       "      <th></th>\n",
       "      <th>news_source</th>\n",
       "      <th>True</th>\n",
       "      <th>remainder</th>\n",
       "    </tr>\n",
       "  </thead>\n",
       "  <tbody>\n",
       "    <tr>\n",
       "      <th>0</th>\n",
       "      <td>AD</td>\n",
       "      <td>4.45</td>\n",
       "      <td>95.55</td>\n",
       "    </tr>\n",
       "    <tr>\n",
       "      <th>1</th>\n",
       "      <td>NOS</td>\n",
       "      <td>7.13</td>\n",
       "      <td>92.87</td>\n",
       "    </tr>\n",
       "    <tr>\n",
       "      <th>2</th>\n",
       "      <td>NRC</td>\n",
       "      <td>6.53</td>\n",
       "      <td>93.47</td>\n",
       "    </tr>\n",
       "    <tr>\n",
       "      <th>3</th>\n",
       "      <td>NU</td>\n",
       "      <td>0.53</td>\n",
       "      <td>99.47</td>\n",
       "    </tr>\n",
       "    <tr>\n",
       "      <th>4</th>\n",
       "      <td>Telegraaf</td>\n",
       "      <td>1.00</td>\n",
       "      <td>99.00</td>\n",
       "    </tr>\n",
       "    <tr>\n",
       "      <th>5</th>\n",
       "      <td>Volkskrant</td>\n",
       "      <td>0.75</td>\n",
       "      <td>99.25</td>\n",
       "    </tr>\n",
       "    <tr>\n",
       "      <th>6</th>\n",
       "      <td>overall</td>\n",
       "      <td>3.40</td>\n",
       "      <td>96.60</td>\n",
       "    </tr>\n",
       "  </tbody>\n",
       "</table>\n",
       "</div>"
      ],
      "text/plain": [
       "  news_source  True  remainder\n",
       "0          AD  4.45      95.55\n",
       "1         NOS  7.13      92.87\n",
       "2         NRC  6.53      93.47\n",
       "3          NU  0.53      99.47\n",
       "4   Telegraaf  1.00      99.00\n",
       "5  Volkskrant  0.75      99.25\n",
       "6     overall  3.40      96.60"
      ]
     },
     "execution_count": 69,
     "metadata": {},
     "output_type": "execute_result"
    }
   ],
   "source": [
    "#We also do so for contact information.\n",
    "get_news_source_chances(col=\"tp_contact\", cat=True)"
   ]
  },
  {
   "cell_type": "code",
   "execution_count": 71,
   "id": "4ad85dff-0b24-4c30-8560-a4c2733d450e",
   "metadata": {
    "tags": []
   },
   "outputs": [
    {
     "data": {
      "text/plain": [
       "array([[1.  , 0.79],\n",
       "       [0.79, 1.  ]])"
      ]
     },
     "execution_count": 71,
     "metadata": {},
     "output_type": "execute_result"
    }
   ],
   "source": [
    "#We quickly investigate an interesting pattern where NOS rarely discloses authors, but if so, tends to disclosure contact info as well.\n",
    "#We therefore calculate the correlation between these transparency dummies.\n",
    "NOS = tp[tp.news_source==\"NOS\"]\n",
    "np.round(np.corrcoef(NOS.tp_contact, NOS.tp_authors), 2)"
   ]
  },
  {
   "cell_type": "code",
   "execution_count": 72,
   "id": "576476da-3700-4924-9c66-17d60a878c5c",
   "metadata": {
    "tags": []
   },
   "outputs": [
    {
     "data": {
      "text/html": [
       "<div>\n",
       "<style scoped>\n",
       "    .dataframe tbody tr th:only-of-type {\n",
       "        vertical-align: middle;\n",
       "    }\n",
       "\n",
       "    .dataframe tbody tr th {\n",
       "        vertical-align: top;\n",
       "    }\n",
       "\n",
       "    .dataframe thead th {\n",
       "        text-align: right;\n",
       "    }\n",
       "</style>\n",
       "<table border=\"1\" class=\"dataframe\">\n",
       "  <thead>\n",
       "    <tr style=\"text-align: right;\">\n",
       "      <th></th>\n",
       "      <th>news_source</th>\n",
       "      <th>True</th>\n",
       "      <th>remainder</th>\n",
       "    </tr>\n",
       "  </thead>\n",
       "  <tbody>\n",
       "    <tr>\n",
       "      <th>0</th>\n",
       "      <td>AD</td>\n",
       "      <td>0.00</td>\n",
       "      <td>100.00</td>\n",
       "    </tr>\n",
       "    <tr>\n",
       "      <th>1</th>\n",
       "      <td>NOS</td>\n",
       "      <td>0.00</td>\n",
       "      <td>100.00</td>\n",
       "    </tr>\n",
       "    <tr>\n",
       "      <th>2</th>\n",
       "      <td>NRC</td>\n",
       "      <td>73.91</td>\n",
       "      <td>26.09</td>\n",
       "    </tr>\n",
       "    <tr>\n",
       "      <th>3</th>\n",
       "      <td>NU</td>\n",
       "      <td>0.09</td>\n",
       "      <td>99.91</td>\n",
       "    </tr>\n",
       "    <tr>\n",
       "      <th>4</th>\n",
       "      <td>Telegraaf</td>\n",
       "      <td>0.00</td>\n",
       "      <td>100.00</td>\n",
       "    </tr>\n",
       "    <tr>\n",
       "      <th>5</th>\n",
       "      <td>Volkskrant</td>\n",
       "      <td>89.59</td>\n",
       "      <td>10.41</td>\n",
       "    </tr>\n",
       "    <tr>\n",
       "      <th>6</th>\n",
       "      <td>overall</td>\n",
       "      <td>27.26</td>\n",
       "      <td>72.74</td>\n",
       "    </tr>\n",
       "  </tbody>\n",
       "</table>\n",
       "</div>"
      ],
      "text/plain": [
       "  news_source   True  remainder\n",
       "0          AD   0.00     100.00\n",
       "1         NOS   0.00     100.00\n",
       "2         NRC  73.91      26.09\n",
       "3          NU   0.09      99.91\n",
       "4   Telegraaf   0.00     100.00\n",
       "5  Volkskrant  89.59      10.41\n",
       "6     overall  27.26      72.74"
      ]
     },
     "execution_count": 72,
     "metadata": {},
     "output_type": "execute_result"
    }
   ],
   "source": [
    "#We also print the values for contact bio.\n",
    "get_news_source_chances(col=\"tp_bio\", cat=True)"
   ]
  },
  {
   "cell_type": "markdown",
   "id": "9396238b-0a95-4321-bf9c-0efa0411b298",
   "metadata": {
    "tags": []
   },
   "source": [
    "### errors"
   ]
  },
  {
   "cell_type": "code",
   "execution_count": 74,
   "id": "a9efd85d-da1d-4385-a8b1-fcf57649694c",
   "metadata": {
    "tags": []
   },
   "outputs": [],
   "source": [
    "#We create a function to combine the update disclosures.\n",
    "def get_error_combined(x):\n",
    "    changed = x[\"changed_w_nos\"]\n",
    "    timestamp = x[\"tp_timestamp_w_nos\"]\n",
    "    text = x[\"tp_error\"]\n",
    "    \n",
    "    #If there is no change, then that will be the category.\n",
    "    if changed == False:\n",
    "        return \"no change\"\n",
    "    #If it did change we first assess if it is disclosed via text.\n",
    "    elif changed == True:\n",
    "        if text == \"change disclosed\":\n",
    "            return \"text\"\n",
    "        #As a lower tier we then asses if it otherwise is disclosed via timestamps.\n",
    "        elif timestamp == \"change disclosed\":\n",
    "            return \"timestamp\"\n",
    "        #If not, it is not disclosed at all.\n",
    "        else:\n",
    "            return \"undisclosed\""
   ]
  },
  {
   "cell_type": "code",
   "execution_count": 75,
   "id": "ee4c8df6-5d55-43a5-b3a5-1030e833eb10",
   "metadata": {
    "tags": []
   },
   "outputs": [
    {
     "name": "stderr",
     "output_type": "stream",
     "text": [
      "100%|████████████████████████████████████████████████████████████████████████| 27096/27096 [00:00<00:00, 111024.68it/s]\n"
     ]
    }
   ],
   "source": [
    "#We add it as a new column.\n",
    "df[\"error_combined\"] = df.progress_apply(lambda x: get_error_combined(x), axis=1)"
   ]
  },
  {
   "cell_type": "code",
   "execution_count": 76,
   "id": "2b2fc1da-927c-435c-ad5e-6de2641082af",
   "metadata": {
    "tags": []
   },
   "outputs": [
    {
     "data": {
      "text/plain": [
       "Counter({'undisclosed': 13740,\n",
       "         'timestamp': 7703,\n",
       "         'no change': 5442,\n",
       "         'text': 211})"
      ]
     },
     "execution_count": 76,
     "metadata": {},
     "output_type": "execute_result"
    }
   ],
   "source": [
    "#We count the prevalence of each category.\n",
    "Counter(df.error_combined)"
   ]
  },
  {
   "cell_type": "code",
   "execution_count": 77,
   "id": "35e5dcad-f9e3-4c42-b1eb-598a00734f27",
   "metadata": {
    "tags": []
   },
   "outputs": [
    {
     "data": {
      "image/png": "[encoded data removed]",
      "text/plain": [
       "<Figure size 800x800 with 1 Axes>"
      ]
     },
     "metadata": {},
     "output_type": "display_data"
    }
   ],
   "source": [
    "#We vizualize the prevalence.\n",
    "get_stacked_bar_chart(\"error_combined\", order=[\"no change\", \"undisclosed\", \"timestamp\", \"text\"])"
   ]
  },
  {
   "cell_type": "code",
   "execution_count": 78,
   "id": "aa8cc84e-48f3-4148-9a4e-c9d85e9e0756",
   "metadata": {
    "tags": []
   },
   "outputs": [
    {
     "data": {
      "text/html": [
       "<div>\n",
       "<style scoped>\n",
       "    .dataframe tbody tr th:only-of-type {\n",
       "        vertical-align: middle;\n",
       "    }\n",
       "\n",
       "    .dataframe tbody tr th {\n",
       "        vertical-align: top;\n",
       "    }\n",
       "\n",
       "    .dataframe thead th {\n",
       "        text-align: right;\n",
       "    }\n",
       "</style>\n",
       "<table border=\"1\" class=\"dataframe\">\n",
       "  <thead>\n",
       "    <tr style=\"text-align: right;\">\n",
       "      <th></th>\n",
       "      <th>news_source</th>\n",
       "      <th>undisclosed</th>\n",
       "      <th>remainder</th>\n",
       "    </tr>\n",
       "  </thead>\n",
       "  <tbody>\n",
       "    <tr>\n",
       "      <th>0</th>\n",
       "      <td>AD</td>\n",
       "      <td>5.40</td>\n",
       "      <td>94.60</td>\n",
       "    </tr>\n",
       "    <tr>\n",
       "      <th>1</th>\n",
       "      <td>NOS</td>\n",
       "      <td>29.83</td>\n",
       "      <td>70.17</td>\n",
       "    </tr>\n",
       "    <tr>\n",
       "      <th>2</th>\n",
       "      <td>NRC</td>\n",
       "      <td>97.01</td>\n",
       "      <td>2.99</td>\n",
       "    </tr>\n",
       "    <tr>\n",
       "      <th>3</th>\n",
       "      <td>NU</td>\n",
       "      <td>23.72</td>\n",
       "      <td>76.28</td>\n",
       "    </tr>\n",
       "    <tr>\n",
       "      <th>4</th>\n",
       "      <td>Telegraaf</td>\n",
       "      <td>92.56</td>\n",
       "      <td>7.44</td>\n",
       "    </tr>\n",
       "    <tr>\n",
       "      <th>5</th>\n",
       "      <td>Volkskrant</td>\n",
       "      <td>55.74</td>\n",
       "      <td>44.26</td>\n",
       "    </tr>\n",
       "    <tr>\n",
       "      <th>6</th>\n",
       "      <td>overall</td>\n",
       "      <td>50.71</td>\n",
       "      <td>49.29</td>\n",
       "    </tr>\n",
       "  </tbody>\n",
       "</table>\n",
       "</div>"
      ],
      "text/plain": [
       "  news_source  undisclosed  remainder\n",
       "0          AD         5.40      94.60\n",
       "1         NOS        29.83      70.17\n",
       "2         NRC        97.01       2.99\n",
       "3          NU        23.72      76.28\n",
       "4   Telegraaf        92.56       7.44\n",
       "5  Volkskrant        55.74      44.26\n",
       "6     overall        50.71      49.29"
      ]
     },
     "execution_count": 78,
     "metadata": {},
     "output_type": "execute_result"
    }
   ],
   "source": [
    "#We print the prevalence of undisclosure.\n",
    "get_news_source_chances(col=\"error_combined\", cat=\"undisclosed\")"
   ]
  },
  {
   "cell_type": "code",
   "execution_count": 79,
   "id": "f55c7b97-7981-42e4-8e6c-d40c16107849",
   "metadata": {
    "tags": []
   },
   "outputs": [
    {
     "data": {
      "text/html": [
       "<div>\n",
       "<style scoped>\n",
       "    .dataframe tbody tr th:only-of-type {\n",
       "        vertical-align: middle;\n",
       "    }\n",
       "\n",
       "    .dataframe tbody tr th {\n",
       "        vertical-align: top;\n",
       "    }\n",
       "\n",
       "    .dataframe thead th {\n",
       "        text-align: right;\n",
       "    }\n",
       "</style>\n",
       "<table border=\"1\" class=\"dataframe\">\n",
       "  <thead>\n",
       "    <tr style=\"text-align: right;\">\n",
       "      <th></th>\n",
       "      <th>news_source</th>\n",
       "      <th>timestamp</th>\n",
       "      <th>remainder</th>\n",
       "    </tr>\n",
       "  </thead>\n",
       "  <tbody>\n",
       "    <tr>\n",
       "      <th>0</th>\n",
       "      <td>AD</td>\n",
       "      <td>63.91</td>\n",
       "      <td>36.09</td>\n",
       "    </tr>\n",
       "    <tr>\n",
       "      <th>1</th>\n",
       "      <td>NOS</td>\n",
       "      <td>23.38</td>\n",
       "      <td>76.62</td>\n",
       "    </tr>\n",
       "    <tr>\n",
       "      <th>2</th>\n",
       "      <td>NRC</td>\n",
       "      <td>0.00</td>\n",
       "      <td>100.00</td>\n",
       "    </tr>\n",
       "    <tr>\n",
       "      <th>3</th>\n",
       "      <td>NU</td>\n",
       "      <td>75.84</td>\n",
       "      <td>24.16</td>\n",
       "    </tr>\n",
       "    <tr>\n",
       "      <th>4</th>\n",
       "      <td>Telegraaf</td>\n",
       "      <td>7.44</td>\n",
       "      <td>92.56</td>\n",
       "    </tr>\n",
       "    <tr>\n",
       "      <th>5</th>\n",
       "      <td>Volkskrant</td>\n",
       "      <td>0.00</td>\n",
       "      <td>100.00</td>\n",
       "    </tr>\n",
       "    <tr>\n",
       "      <th>6</th>\n",
       "      <td>overall</td>\n",
       "      <td>28.43</td>\n",
       "      <td>71.57</td>\n",
       "    </tr>\n",
       "  </tbody>\n",
       "</table>\n",
       "</div>"
      ],
      "text/plain": [
       "  news_source  timestamp  remainder\n",
       "0          AD      63.91      36.09\n",
       "1         NOS      23.38      76.62\n",
       "2         NRC       0.00     100.00\n",
       "3          NU      75.84      24.16\n",
       "4   Telegraaf       7.44      92.56\n",
       "5  Volkskrant       0.00     100.00\n",
       "6     overall      28.43      71.57"
      ]
     },
     "execution_count": 79,
     "metadata": {},
     "output_type": "execute_result"
    }
   ],
   "source": [
    "#And of timestamp disclosure.\n",
    "get_news_source_chances(col=\"error_combined\", cat=\"timestamp\")"
   ]
  },
  {
   "cell_type": "code",
   "execution_count": 80,
   "id": "3b7e4d93-35da-4ed4-a262-c9104de5cb83",
   "metadata": {
    "tags": []
   },
   "outputs": [
    {
     "data": {
      "text/html": [
       "<div>\n",
       "<style scoped>\n",
       "    .dataframe tbody tr th:only-of-type {\n",
       "        vertical-align: middle;\n",
       "    }\n",
       "\n",
       "    .dataframe tbody tr th {\n",
       "        vertical-align: top;\n",
       "    }\n",
       "\n",
       "    .dataframe thead th {\n",
       "        text-align: right;\n",
       "    }\n",
       "</style>\n",
       "<table border=\"1\" class=\"dataframe\">\n",
       "  <thead>\n",
       "    <tr style=\"text-align: right;\">\n",
       "      <th></th>\n",
       "      <th>news_source</th>\n",
       "      <th>text</th>\n",
       "      <th>remainder</th>\n",
       "    </tr>\n",
       "  </thead>\n",
       "  <tbody>\n",
       "    <tr>\n",
       "      <th>0</th>\n",
       "      <td>AD</td>\n",
       "      <td>0.13</td>\n",
       "      <td>99.87</td>\n",
       "    </tr>\n",
       "    <tr>\n",
       "      <th>1</th>\n",
       "      <td>NOS</td>\n",
       "      <td>0.18</td>\n",
       "      <td>99.82</td>\n",
       "    </tr>\n",
       "    <tr>\n",
       "      <th>2</th>\n",
       "      <td>NRC</td>\n",
       "      <td>2.99</td>\n",
       "      <td>97.01</td>\n",
       "    </tr>\n",
       "    <tr>\n",
       "      <th>3</th>\n",
       "      <td>NU</td>\n",
       "      <td>0.44</td>\n",
       "      <td>99.56</td>\n",
       "    </tr>\n",
       "    <tr>\n",
       "      <th>4</th>\n",
       "      <td>Telegraaf</td>\n",
       "      <td>0.00</td>\n",
       "      <td>100.00</td>\n",
       "    </tr>\n",
       "    <tr>\n",
       "      <th>5</th>\n",
       "      <td>Volkskrant</td>\n",
       "      <td>0.93</td>\n",
       "      <td>99.07</td>\n",
       "    </tr>\n",
       "    <tr>\n",
       "      <th>6</th>\n",
       "      <td>overall</td>\n",
       "      <td>0.78</td>\n",
       "      <td>99.22</td>\n",
       "    </tr>\n",
       "  </tbody>\n",
       "</table>\n",
       "</div>"
      ],
      "text/plain": [
       "  news_source  text  remainder\n",
       "0          AD  0.13      99.87\n",
       "1         NOS  0.18      99.82\n",
       "2         NRC  2.99      97.01\n",
       "3          NU  0.44      99.56\n",
       "4   Telegraaf  0.00     100.00\n",
       "5  Volkskrant  0.93      99.07\n",
       "6     overall  0.78      99.22"
      ]
     },
     "execution_count": 80,
     "metadata": {},
     "output_type": "execute_result"
    }
   ],
   "source": [
    "#And of text disclosure.\n",
    "get_news_source_chances(col=\"error_combined\", cat=\"text\")"
   ]
  },
  {
   "cell_type": "markdown",
   "id": "5a0c2fbb-6722-4bad-8cc2-94ddbf6b8ce3",
   "metadata": {},
   "source": [
    "### source transparency"
   ]
  },
  {
   "cell_type": "code",
   "execution_count": 84,
   "id": "295636b6-4b83-4ae0-b2ee-6de7c5219549",
   "metadata": {
    "tags": []
   },
   "outputs": [
    {
     "name": "stderr",
     "output_type": "stream",
     "text": [
      "100%|███████████████████████████████████████████████████████████████████████| 27096/27096 [00:00<00:00, 1551541.47it/s]\n",
      "C:\\Users\\dubel\\AppData\\Local\\Temp\\ipykernel_9444\\3099666740.py:2: SettingWithCopyWarning: \n",
      "A value is trying to be set on a copy of a slice from a DataFrame.\n",
      "Try using .loc[row_indexer,col_indexer] = value instead\n",
      "\n",
      "See the caveats in the documentation: https://pandas.pydata.org/pandas-docs/stable/user_guide/indexing.html#returning-a-view-versus-a-copy\n",
      "  tp[\"opaque_sourcing\"] = tp.tp_sourcing.progress_apply(lambda x: 1 if x == \"opaque\" else 0)\n"
     ]
    }
   ],
   "source": [
    "#We have to create seperate dummy columns for opaque and anonymous sourcing.\n",
    "tp[\"opaque_sourcing\"] = tp.tp_sourcing.progress_apply(lambda x: 1 if x == \"opaque\" else 0)"
   ]
  },
  {
   "cell_type": "code",
   "execution_count": 85,
   "id": "39570ad6-4748-438d-8d9d-4b4978c50aa5",
   "metadata": {
    "tags": []
   },
   "outputs": [
    {
     "data": {
      "text/plain": [
       "Counter({0: 23787, 1: 3309})"
      ]
     },
     "execution_count": 85,
     "metadata": {},
     "output_type": "execute_result"
    }
   ],
   "source": [
    "Counter(tp.opaque_sourcing)"
   ]
  },
  {
   "cell_type": "code",
   "execution_count": 83,
   "id": "19436ffd-3ba9-488f-99b6-6de0efca027f",
   "metadata": {
    "tags": []
   },
   "outputs": [
    {
     "name": "stderr",
     "output_type": "stream",
     "text": [
      "100%|███████████████████████████████████████████████████████████████████████| 27096/27096 [00:00<00:00, 1609666.04it/s]\n",
      "C:\\Users\\dubel\\AppData\\Local\\Temp\\ipykernel_9444\\1503567697.py:1: SettingWithCopyWarning: \n",
      "A value is trying to be set on a copy of a slice from a DataFrame.\n",
      "Try using .loc[row_indexer,col_indexer] = value instead\n",
      "\n",
      "See the caveats in the documentation: https://pandas.pydata.org/pandas-docs/stable/user_guide/indexing.html#returning-a-view-versus-a-copy\n",
      "  tp[\"anonymous_sourcing\"] = tp.tp_sourcing.progress_apply(lambda x: 1 if x == \"anonymous\" else 0)\n"
     ]
    }
   ],
   "source": [
    "tp[\"anonymous_sourcing\"] = tp.tp_sourcing.progress_apply(lambda x: 1 if x == \"anonymous\" else 0)"
   ]
  },
  {
   "cell_type": "code",
   "execution_count": 86,
   "id": "2565c91a-7c4c-461e-b38f-1adaed168ce0",
   "metadata": {
    "tags": []
   },
   "outputs": [
    {
     "data": {
      "text/plain": [
       "Counter({0: 27046, 1: 50})"
      ]
     },
     "execution_count": 86,
     "metadata": {},
     "output_type": "execute_result"
    }
   ],
   "source": [
    "Counter(tp.anonymous_sourcing)"
   ]
  },
  {
   "cell_type": "code",
   "execution_count": 87,
   "id": "42c90968-abd7-4120-9c67-185ba94b05e9",
   "metadata": {
    "tags": []
   },
   "outputs": [],
   "source": [
    "#We define all possible sourcing columns.\n",
    "sourcing_categories = [\"tp_internal\", \"tp_family\", \"tp_external\", \"tp_document\", \"explicit_sourcing\", \"opaque_sourcing\", \"anonymous_sourcing\"]"
   ]
  },
  {
   "cell_type": "code",
   "execution_count": 88,
   "id": "7815112f-8ae3-454f-a1f5-9803d39cc5a4",
   "metadata": {
    "tags": []
   },
   "outputs": [
    {
     "data": {
      "image/png": "[encoded data removed]",
      "text/plain": [
       "<Figure size 1000x900 with 1 Axes>"
      ]
     },
     "metadata": {},
     "output_type": "display_data"
    }
   ],
   "source": [
    "#We vizualize them.\n",
    "get_stacked_bar_chart(sourcing_categories,data=tp, labels=[\"internal\", \"family\", \"external\", \"document\", \"explicit\", \"opaque\", \"anonymous\"], size=(10,9), anchor=1.15)"
   ]
  },
  {
   "cell_type": "code",
   "execution_count": 89,
   "id": "9b5f1a3e-2f7d-4214-aa59-d59315eb2c17",
   "metadata": {
    "tags": []
   },
   "outputs": [
    {
     "data": {
      "text/html": [
       "<div>\n",
       "<style scoped>\n",
       "    .dataframe tbody tr th:only-of-type {\n",
       "        vertical-align: middle;\n",
       "    }\n",
       "\n",
       "    .dataframe tbody tr th {\n",
       "        vertical-align: top;\n",
       "    }\n",
       "\n",
       "    .dataframe thead th {\n",
       "        text-align: right;\n",
       "    }\n",
       "</style>\n",
       "<table border=\"1\" class=\"dataframe\">\n",
       "  <thead>\n",
       "    <tr style=\"text-align: right;\">\n",
       "      <th></th>\n",
       "      <th>index</th>\n",
       "      <th>mean</th>\n",
       "    </tr>\n",
       "  </thead>\n",
       "  <tbody>\n",
       "    <tr>\n",
       "      <th>0</th>\n",
       "      <td>tp_internal</td>\n",
       "      <td>23.45</td>\n",
       "    </tr>\n",
       "    <tr>\n",
       "      <th>1</th>\n",
       "      <td>tp_family</td>\n",
       "      <td>2.69</td>\n",
       "    </tr>\n",
       "    <tr>\n",
       "      <th>2</th>\n",
       "      <td>tp_external</td>\n",
       "      <td>17.97</td>\n",
       "    </tr>\n",
       "    <tr>\n",
       "      <th>3</th>\n",
       "      <td>tp_document</td>\n",
       "      <td>2.07</td>\n",
       "    </tr>\n",
       "    <tr>\n",
       "      <th>4</th>\n",
       "      <td>explicit_sourcing</td>\n",
       "      <td>40.59</td>\n",
       "    </tr>\n",
       "    <tr>\n",
       "      <th>5</th>\n",
       "      <td>opaque_sourcing</td>\n",
       "      <td>12.21</td>\n",
       "    </tr>\n",
       "    <tr>\n",
       "      <th>6</th>\n",
       "      <td>anonymous_sourcing</td>\n",
       "      <td>0.18</td>\n",
       "    </tr>\n",
       "  </tbody>\n",
       "</table>\n",
       "</div>"
      ],
      "text/plain": [
       "                index   mean\n",
       "0         tp_internal  23.45\n",
       "1           tp_family   2.69\n",
       "2         tp_external  17.97\n",
       "3         tp_document   2.07\n",
       "4   explicit_sourcing  40.59\n",
       "5     opaque_sourcing  12.21\n",
       "6  anonymous_sourcing   0.18"
      ]
     },
     "execution_count": 89,
     "metadata": {},
     "output_type": "execute_result"
    }
   ],
   "source": [
    "#We calculate the means overall in terms of prevalence of each column.\n",
    "tp[sourcing_categories].mean().mul(100).round(2).transpose().reset_index(name=\"mean\")"
   ]
  },
  {
   "cell_type": "code",
   "execution_count": 90,
   "id": "8ac5d283-7d54-4fac-b965-ee3790f4b1ff",
   "metadata": {
    "tags": []
   },
   "outputs": [
    {
     "data": {
      "text/html": [
       "<div>\n",
       "<style scoped>\n",
       "    .dataframe tbody tr th:only-of-type {\n",
       "        vertical-align: middle;\n",
       "    }\n",
       "\n",
       "    .dataframe tbody tr th {\n",
       "        vertical-align: top;\n",
       "    }\n",
       "\n",
       "    .dataframe thead th {\n",
       "        text-align: right;\n",
       "    }\n",
       "</style>\n",
       "<table border=\"1\" class=\"dataframe\">\n",
       "  <thead>\n",
       "    <tr style=\"text-align: right;\">\n",
       "      <th>news_source</th>\n",
       "      <th>AD</th>\n",
       "      <th>NOS</th>\n",
       "      <th>NRC</th>\n",
       "      <th>NU</th>\n",
       "      <th>Telegraaf</th>\n",
       "      <th>Volkskrant</th>\n",
       "    </tr>\n",
       "  </thead>\n",
       "  <tbody>\n",
       "    <tr>\n",
       "      <th>tp_internal</th>\n",
       "      <td>32.75</td>\n",
       "      <td>41.43</td>\n",
       "      <td>30.47</td>\n",
       "      <td>19.82</td>\n",
       "      <td>0.44</td>\n",
       "      <td>15.77</td>\n",
       "    </tr>\n",
       "    <tr>\n",
       "      <th>tp_family</th>\n",
       "      <td>1.88</td>\n",
       "      <td>11.27</td>\n",
       "      <td>0.58</td>\n",
       "      <td>1.22</td>\n",
       "      <td>0.00</td>\n",
       "      <td>1.17</td>\n",
       "    </tr>\n",
       "    <tr>\n",
       "      <th>tp_external</th>\n",
       "      <td>8.41</td>\n",
       "      <td>21.46</td>\n",
       "      <td>40.48</td>\n",
       "      <td>18.40</td>\n",
       "      <td>2.24</td>\n",
       "      <td>16.83</td>\n",
       "    </tr>\n",
       "    <tr>\n",
       "      <th>tp_document</th>\n",
       "      <td>0.42</td>\n",
       "      <td>2.35</td>\n",
       "      <td>5.91</td>\n",
       "      <td>1.26</td>\n",
       "      <td>0.02</td>\n",
       "      <td>2.48</td>\n",
       "    </tr>\n",
       "    <tr>\n",
       "      <th>explicit_sourcing</th>\n",
       "      <td>36.09</td>\n",
       "      <td>47.14</td>\n",
       "      <td>51.48</td>\n",
       "      <td>42.58</td>\n",
       "      <td>33.77</td>\n",
       "      <td>32.44</td>\n",
       "    </tr>\n",
       "    <tr>\n",
       "      <th>opaque_sourcing</th>\n",
       "      <td>11.82</td>\n",
       "      <td>11.38</td>\n",
       "      <td>12.09</td>\n",
       "      <td>12.33</td>\n",
       "      <td>12.18</td>\n",
       "      <td>13.46</td>\n",
       "    </tr>\n",
       "    <tr>\n",
       "      <th>anonymous_sourcing</th>\n",
       "      <td>0.11</td>\n",
       "      <td>0.02</td>\n",
       "      <td>0.07</td>\n",
       "      <td>0.09</td>\n",
       "      <td>0.64</td>\n",
       "      <td>0.18</td>\n",
       "    </tr>\n",
       "  </tbody>\n",
       "</table>\n",
       "</div>"
      ],
      "text/plain": [
       "news_source            AD    NOS    NRC     NU  Telegraaf  Volkskrant\n",
       "tp_internal         32.75  41.43  30.47  19.82       0.44       15.77\n",
       "tp_family            1.88  11.27   0.58   1.22       0.00        1.17\n",
       "tp_external          8.41  21.46  40.48  18.40       2.24       16.83\n",
       "tp_document          0.42   2.35   5.91   1.26       0.02        2.48\n",
       "explicit_sourcing   36.09  47.14  51.48  42.58      33.77       32.44\n",
       "opaque_sourcing     11.82  11.38  12.09  12.33      12.18       13.46\n",
       "anonymous_sourcing   0.11   0.02   0.07   0.09       0.64        0.18"
      ]
     },
     "execution_count": 90,
     "metadata": {},
     "output_type": "execute_result"
    }
   ],
   "source": [
    "#We also calculate them per outlet.\n",
    "tp.groupby(\"news_source\")[sourcing_categories].mean().mul(100).round(2).transpose()"
   ]
  },
  {
   "cell_type": "markdown",
   "id": "4cf07a6d-4d30-47e6-ab97-58abbe3213c8",
   "metadata": {
    "tags": []
   },
   "source": [
    "### process transparency"
   ]
  },
  {
   "cell_type": "code",
   "execution_count": 91,
   "id": "49580dda-c6ca-444e-8804-3839423ff00f",
   "metadata": {
    "tags": []
   },
   "outputs": [
    {
     "data": {
      "text/plain": [
       "0.39"
      ]
     },
     "execution_count": 91,
     "metadata": {},
     "output_type": "execute_result"
    }
   ],
   "source": [
    "#We calculate the overall process info factor.\n",
    "round(df[\"process_info_factor\"].mean()*100,2)"
   ]
  },
  {
   "cell_type": "code",
   "execution_count": 92,
   "id": "1bfd9307-0d96-4c8f-989e-006ffbfdfc73",
   "metadata": {
    "tags": []
   },
   "outputs": [
    {
     "data": {
      "text/html": [
       "<div>\n",
       "<style scoped>\n",
       "    .dataframe tbody tr th:only-of-type {\n",
       "        vertical-align: middle;\n",
       "    }\n",
       "\n",
       "    .dataframe tbody tr th {\n",
       "        vertical-align: top;\n",
       "    }\n",
       "\n",
       "    .dataframe thead th {\n",
       "        text-align: right;\n",
       "    }\n",
       "</style>\n",
       "<table border=\"1\" class=\"dataframe\">\n",
       "  <thead>\n",
       "    <tr style=\"text-align: right;\">\n",
       "      <th></th>\n",
       "      <th>news_source</th>\n",
       "      <th>mean</th>\n",
       "    </tr>\n",
       "  </thead>\n",
       "  <tbody>\n",
       "    <tr>\n",
       "      <th>0</th>\n",
       "      <td>AD</td>\n",
       "      <td>0.25</td>\n",
       "    </tr>\n",
       "    <tr>\n",
       "      <th>1</th>\n",
       "      <td>NOS</td>\n",
       "      <td>0.13</td>\n",
       "    </tr>\n",
       "    <tr>\n",
       "      <th>2</th>\n",
       "      <td>NRC</td>\n",
       "      <td>0.95</td>\n",
       "    </tr>\n",
       "    <tr>\n",
       "      <th>3</th>\n",
       "      <td>NU</td>\n",
       "      <td>0.62</td>\n",
       "    </tr>\n",
       "    <tr>\n",
       "      <th>4</th>\n",
       "      <td>Telegraaf</td>\n",
       "      <td>0.22</td>\n",
       "    </tr>\n",
       "    <tr>\n",
       "      <th>5</th>\n",
       "      <td>Volkskrant</td>\n",
       "      <td>0.14</td>\n",
       "    </tr>\n",
       "  </tbody>\n",
       "</table>\n",
       "</div>"
      ],
      "text/plain": [
       "  news_source  mean\n",
       "0          AD  0.25\n",
       "1         NOS  0.13\n",
       "2         NRC  0.95\n",
       "3          NU  0.62\n",
       "4   Telegraaf  0.22\n",
       "5  Volkskrant  0.14"
      ]
     },
     "execution_count": 92,
     "metadata": {},
     "output_type": "execute_result"
    }
   ],
   "source": [
    "#And we calculate it per outlet.\n",
    "df.groupby(\"news_source\")[\"process_info_factor\"].mean().mul(100).round(2).transpose().reset_index(name=\"mean\")"
   ]
  },
  {
   "cell_type": "markdown",
   "id": "5648ea84-51ce-4423-8caf-05da0e4d4030",
   "metadata": {
    "tags": []
   },
   "source": [
    "## analysis"
   ]
  },
  {
   "cell_type": "markdown",
   "id": "e4b1accc-8cf2-4a25-b889-cc04064eed5d",
   "metadata": {},
   "source": [
    "### analysis > author transparency"
   ]
  },
  {
   "cell_type": "code",
   "execution_count": 93,
   "id": "1af63137-9d68-4a71-8cbc-4714e5008a2e",
   "metadata": {
    "tags": []
   },
   "outputs": [],
   "source": [
    "#We create a list of all our predictors, which are equal for all dimension analyses.\n",
    "predictors = \"C(np_mode, Treatment(reference='multimodal')) + np_funding + C(np_quality, Treatment(reference='popular')) + C(p_article_softness, Treatment(reference='soft')) + text_length + peak_hour + weekend\""
   ]
  },
  {
   "cell_type": "code",
   "execution_count": 94,
   "id": "83d4bfc8-cb5c-447c-b858-5c92c58da936",
   "metadata": {
    "tags": []
   },
   "outputs": [],
   "source": [
    "#We define a function to create analyses output.\n",
    "def get_output(y, x=predictors, model=\"OLS\", data=tp):\n",
    "    #We firstly define a simple formula which we can input with x (the predictor list) and the y of interest.\n",
    "    formula = f\"{y} ~ {x}\"\n",
    "    #We can either choose between an OLS, Beta or Poisson modelling.\n",
    "    if model == \"OLS\":\n",
    "        md = smf.ols(formula, data)\n",
    "    elif model == \"Beta\":\n",
    "        #In the case of a Beta regresison we have to truncate our values, since it can not handle edge values of 0 or 1.\n",
    "        N = len(data)\n",
    "        y_sq = y + \"_sq\"; data[y_sq] = data[y].apply(lambda x: (x*(N-1)+.5)/(N)); y = y_sq\n",
    "        md = BetaModel.from_formula(f\"{y} ~ {x}\", data)\n",
    "    elif model == \"Poisson\":\n",
    "        md = smf.glm(f\"{y} ~ {x}\", data, family=sm.families.Poisson())\n",
    "    #We fit the chosen model.\n",
    "    mdf = md.fit()\n",
    "    #We get a summary output of it.\n",
    "    summary = mdf.summary()\n",
    "    #We extract the regression table.\n",
    "    coef_table = summary.tables[1]\n",
    "    #We transform it to a dataframe.\n",
    "    coef_data = pd.DataFrame(coef_table.data, columns=coef_table.data[0])\n",
    "    coef_data = coef_data.drop(0)\n",
    "    \n",
    "    #For the OLS we depend  on t values, whereas the other models use z statistics.\n",
    "    p_col = \"P>|t|\" if model == \"OLS\" else \"P>|z|\"\n",
    "    \n",
    "    #We extract the relevant statistics.\n",
    "    coef_data = coef_data[[\"coef\", \"std err\", p_col]][:8]\n",
    "    #We name the features of interest.\n",
    "    coef_data[\"feature\"] = [\"Intercept\", \n",
    "                            \"origin [digital native]\", \"funding [public]\", \"profile [quality]\", \"article type [hard]\",\n",
    "                            \"peak hour [yes]\", \"weekend [yes]\", \"text length\"]\n",
    "    #We set these names as the index and remove the numeric index.\n",
    "    coef_data.set_index(\"feature\", inplace=True)    \n",
    "    coef_data.index.name=None\n",
    "    #We rename the columns of interest.\n",
    "    coef_data.rename(columns={\"coef\":\"$B$\", \"std err\":\"$se$\", p_col:\"$p$\"}, inplace=True)\n",
    "    #We round the statistics.\n",
    "    coef_data[[\"$B$\", \"$se$\"]] = coef_data[[\"$B$\", \"$se$\"]].astype(float).apply(lambda x: round(x, 2))\n",
    "    \n",
    "    #We print it as a latex table and print the summary.\n",
    "    print(coef_data.to_latex(float_format=\"%.2f\"))\n",
    "    print(summary)\n",
    "    \n",
    "    #We extract the degrees of freedom.\n",
    "    df = f\"({round(mdf.df_model)}, {round(mdf.df_resid)})\"\n",
    "    #We either extract the F value or Pearson Chisquared depending on the model.\n",
    "    t_stat_txt = f\"F{df} = {round(mdf.fvalue,2)}\" if model == \"OLS\" else f\"\\chi^2{df} = {round(mdf.pearson_chi2,2)}\"\n",
    "    #Similarly we either extrract the R squared or the pseudo version depending on the model.\n",
    "    r2_txt = f\"R^2 = {round(mdf.rsquared,2)}\" if model == \"OLS\" else f\"pseudo$-$R^2 = {round(mdf.pseudo_rsquared(),2)}\"\n",
    "    \n",
    "    if model == \"Beta\":\n",
    "        data.drop(columns=[y_sq], inplace=True)\n",
    "    \n",
    "    #We print the model summary statistics.\n",
    "    else:\n",
    "        print(f\"$N = {round(mdf.nobs)}, {t_stat_txt}, {r2_txt}.$\")\n",
    "    \n",
    "    return coef_data"
   ]
  },
  {
   "cell_type": "code",
   "execution_count": 96,
   "id": "09cdf617-dcea-4738-b3ac-1d3ed47f8de2",
   "metadata": {
    "tags": []
   },
   "outputs": [
    {
     "name": "stdout",
     "output_type": "stream",
     "text": [
      "\\begin{tabular}{lrrl}\n",
      "\\toprule\n",
      " & $B$ & $se$ & $p$ \\\\\n",
      "\\midrule\n",
      "Intercept & 0.09 & 0.00 &  0.000 \\\\\n",
      "origin [digital native] & -0.07 & 0.00 &  0.000 \\\\\n",
      "funding [public] & -0.41 & 0.00 &  0.000 \\\\\n",
      "profile [quality] & 0.31 & 0.00 &  0.000 \\\\\n",
      "article type [hard] & 0.01 & 0.00 &  0.000 \\\\\n",
      "peak hour [yes] & -0.01 & 0.00 &  0.000 \\\\\n",
      "weekend [yes] & -0.01 & 0.00 &  0.013 \\\\\n",
      "text length & 0.00 & 0.00 &  0.000 \\\\\n",
      "\\bottomrule\n",
      "\\end{tabular}\n",
      "\n",
      "                              OLS Regression Results                             \n",
      "=================================================================================\n",
      "Dep. Variable:     author_transparency_w   R-squared:                       0.593\n",
      "Model:                               OLS   Adj. R-squared:                  0.593\n",
      "Method:                    Least Squares   F-statistic:                     5630.\n",
      "Date:                   Sun, 28 Jan 2024   Prob (F-statistic):               0.00\n",
      "Time:                           14:11:30   Log-Likelihood:                 11115.\n",
      "No. Observations:                  27096   AIC:                        -2.221e+04\n",
      "Df Residuals:                      27088   BIC:                        -2.215e+04\n",
      "Df Model:                              7                                         \n",
      "Covariance Type:               nonrobust                                         \n",
      "===================================================================================================================================\n",
      "                                                                      coef    std err          t      P>|t|      [0.025      0.975]\n",
      "-----------------------------------------------------------------------------------------------------------------------------------\n",
      "Intercept                                                           0.0913      0.003     33.651      0.000       0.086       0.097\n",
      "C(np_mode, Treatment(reference='multimodal'))[T.digital native]    -0.0747      0.003    -25.373      0.000      -0.080      -0.069\n",
      "np_funding[T.public]                                               -0.4108      0.003   -136.856      0.000      -0.417      -0.405\n",
      "C(np_quality, Treatment(reference='popular'))[T.quality]            0.3082      0.003    118.262      0.000       0.303       0.313\n",
      "C(p_article_softness, Treatment(reference='soft'))[T.hard]          0.0089      0.002      4.302      0.000       0.005       0.013\n",
      "peak_hour[T.True]                                                  -0.0077      0.002     -3.557      0.000      -0.012      -0.003\n",
      "weekend[T.True]                                                    -0.0059      0.002     -2.475      0.013      -0.011      -0.001\n",
      "text_length                                                      2.864e-05   5.42e-07     52.861      0.000    2.76e-05    2.97e-05\n",
      "==============================================================================\n",
      "Omnibus:                     2316.992   Durbin-Watson:                   1.982\n",
      "Prob(Omnibus):                  0.000   Jarque-Bera (JB):            11646.361\n",
      "Skew:                          -0.263   Prob(JB):                         0.00\n",
      "Kurtosis:                       6.168   Cond. No.                     1.17e+04\n",
      "==============================================================================\n",
      "\n",
      "Notes:\n",
      "[1] Standard Errors assume that the covariance matrix of the errors is correctly specified.\n",
      "[2] The condition number is large, 1.17e+04. This might indicate that there are\n",
      "strong multicollinearity or other numerical problems.\n",
      "$N = 27096, F(7, 27088) = 5630.26, R^2 = 0.59.$\n"
     ]
    },
    {
     "data": {
      "text/html": [
       "<div>\n",
       "<style scoped>\n",
       "    .dataframe tbody tr th:only-of-type {\n",
       "        vertical-align: middle;\n",
       "    }\n",
       "\n",
       "    .dataframe tbody tr th {\n",
       "        vertical-align: top;\n",
       "    }\n",
       "\n",
       "    .dataframe thead th {\n",
       "        text-align: right;\n",
       "    }\n",
       "</style>\n",
       "<table border=\"1\" class=\"dataframe\">\n",
       "  <thead>\n",
       "    <tr style=\"text-align: right;\">\n",
       "      <th></th>\n",
       "      <th>$B$</th>\n",
       "      <th>$se$</th>\n",
       "      <th>$p$</th>\n",
       "    </tr>\n",
       "  </thead>\n",
       "  <tbody>\n",
       "    <tr>\n",
       "      <th>Intercept</th>\n",
       "      <td>0.09</td>\n",
       "      <td>0.0</td>\n",
       "      <td>0.000</td>\n",
       "    </tr>\n",
       "    <tr>\n",
       "      <th>origin [digital native]</th>\n",
       "      <td>-0.07</td>\n",
       "      <td>0.0</td>\n",
       "      <td>0.000</td>\n",
       "    </tr>\n",
       "    <tr>\n",
       "      <th>funding [public]</th>\n",
       "      <td>-0.41</td>\n",
       "      <td>0.0</td>\n",
       "      <td>0.000</td>\n",
       "    </tr>\n",
       "    <tr>\n",
       "      <th>profile [quality]</th>\n",
       "      <td>0.31</td>\n",
       "      <td>0.0</td>\n",
       "      <td>0.000</td>\n",
       "    </tr>\n",
       "    <tr>\n",
       "      <th>article type [hard]</th>\n",
       "      <td>0.01</td>\n",
       "      <td>0.0</td>\n",
       "      <td>0.000</td>\n",
       "    </tr>\n",
       "    <tr>\n",
       "      <th>peak hour [yes]</th>\n",
       "      <td>-0.01</td>\n",
       "      <td>0.0</td>\n",
       "      <td>0.000</td>\n",
       "    </tr>\n",
       "    <tr>\n",
       "      <th>weekend [yes]</th>\n",
       "      <td>-0.01</td>\n",
       "      <td>0.0</td>\n",
       "      <td>0.013</td>\n",
       "    </tr>\n",
       "    <tr>\n",
       "      <th>text length</th>\n",
       "      <td>0.00</td>\n",
       "      <td>0.0</td>\n",
       "      <td>0.000</td>\n",
       "    </tr>\n",
       "  </tbody>\n",
       "</table>\n",
       "</div>"
      ],
      "text/plain": [
       "                          $B$  $se$     $p$\n",
       "Intercept                0.09   0.0   0.000\n",
       "origin [digital native] -0.07   0.0   0.000\n",
       "funding [public]        -0.41   0.0   0.000\n",
       "profile [quality]        0.31   0.0   0.000\n",
       "article type [hard]      0.01   0.0   0.000\n",
       "peak hour [yes]         -0.01   0.0   0.000\n",
       "weekend [yes]           -0.01   0.0   0.013\n",
       "text length              0.00   0.0   0.000"
      ]
     },
     "execution_count": 96,
     "metadata": {},
     "output_type": "execute_result"
    }
   ],
   "source": [
    "#We print the outputs for each dimension, firstly the weighted version through OLS, and then the Poisson for the discrete index.\n",
    "get_output(\"author_transparency_w\")"
   ]
  },
  {
   "cell_type": "code",
   "execution_count": 97,
   "id": "80e36679-07e3-47e7-9643-27623ebabcf8",
   "metadata": {
    "tags": []
   },
   "outputs": [
    {
     "data": {
      "text/plain": [
       "Counter({0.0: 12520, 2.0: 7720, 1.0: 6764, 3.0: 92})"
      ]
     },
     "execution_count": 97,
     "metadata": {},
     "output_type": "execute_result"
    }
   ],
   "source": [
    "Counter(tp.author_transparency)"
   ]
  },
  {
   "cell_type": "code",
   "execution_count": 98,
   "id": "7c04c742-b478-412e-819d-fc7a51d426bf",
   "metadata": {
    "tags": []
   },
   "outputs": [
    {
     "name": "stdout",
     "output_type": "stream",
     "text": [
      "\\begin{tabular}{lrrl}\n",
      "\\toprule\n",
      " & $B$ & $se$ & $p$ \\\\\n",
      "\\midrule\n",
      "Intercept & -0.78 & 0.02 &  0.000 \\\\\n",
      "origin [digital native] & -0.58 & 0.03 &  0.000 \\\\\n",
      "funding [public] & -2.14 & 0.04 &  0.000 \\\\\n",
      "profile [quality] & 0.95 & 0.02 &  0.000 \\\\\n",
      "article type [hard] & 0.06 & 0.02 &  0.000 \\\\\n",
      "peak hour [yes] & -0.02 & 0.02 &  0.153 \\\\\n",
      "weekend [yes] & -0.01 & 0.02 &  0.450 \\\\\n",
      "text length & 0.00 & 0.00 &  0.000 \\\\\n",
      "\\bottomrule\n",
      "\\end{tabular}\n",
      "\n",
      "                  Generalized Linear Model Regression Results                  \n",
      "===============================================================================\n",
      "Dep. Variable:     author_transparency   No. Observations:                27096\n",
      "Model:                             GLM   Df Residuals:                    27088\n",
      "Model Family:                  Poisson   Df Model:                            7\n",
      "Link Function:                     Log   Scale:                          1.0000\n",
      "Method:                           IRLS   Log-Likelihood:                -25599.\n",
      "Date:                 Sun, 28 Jan 2024   Deviance:                       17217.\n",
      "Time:                         14:11:34   Pearson chi2:                 1.61e+04\n",
      "No. Iterations:                      6   Pseudo R-squ. (CS):             0.3854\n",
      "Covariance Type:             nonrobust                                         \n",
      "===================================================================================================================================\n",
      "                                                                      coef    std err          z      P>|z|      [0.025      0.975]\n",
      "-----------------------------------------------------------------------------------------------------------------------------------\n",
      "Intercept                                                          -0.7836      0.021    -37.501      0.000      -0.825      -0.743\n",
      "C(np_mode, Treatment(reference='multimodal'))[T.digital native]    -0.5775      0.030    -19.422      0.000      -0.636      -0.519\n",
      "np_funding[T.public]                                               -2.1419      0.036    -58.690      0.000      -2.213      -2.070\n",
      "C(np_quality, Treatment(reference='popular'))[T.quality]            0.9525      0.018     53.981      0.000       0.918       0.987\n",
      "C(p_article_softness, Treatment(reference='soft'))[T.hard]          0.0597      0.015      4.028      0.000       0.031       0.089\n",
      "peak_hour[T.True]                                                  -0.0223      0.016     -1.431      0.153      -0.053       0.008\n",
      "weekend[T.True]                                                    -0.0131      0.017     -0.755      0.450      -0.047       0.021\n",
      "text_length                                                      9.329e-05   3.08e-06     30.250      0.000    8.72e-05    9.93e-05\n",
      "===================================================================================================================================\n",
      "$N = 27096, \\chi^2(7, 27088) = 16116.54, pseudo$-$R^2 = 0.39.$\n"
     ]
    },
    {
     "data": {
      "text/html": [
       "<div>\n",
       "<style scoped>\n",
       "    .dataframe tbody tr th:only-of-type {\n",
       "        vertical-align: middle;\n",
       "    }\n",
       "\n",
       "    .dataframe tbody tr th {\n",
       "        vertical-align: top;\n",
       "    }\n",
       "\n",
       "    .dataframe thead th {\n",
       "        text-align: right;\n",
       "    }\n",
       "</style>\n",
       "<table border=\"1\" class=\"dataframe\">\n",
       "  <thead>\n",
       "    <tr style=\"text-align: right;\">\n",
       "      <th></th>\n",
       "      <th>$B$</th>\n",
       "      <th>$se$</th>\n",
       "      <th>$p$</th>\n",
       "    </tr>\n",
       "  </thead>\n",
       "  <tbody>\n",
       "    <tr>\n",
       "      <th>Intercept</th>\n",
       "      <td>-0.78</td>\n",
       "      <td>0.02</td>\n",
       "      <td>0.000</td>\n",
       "    </tr>\n",
       "    <tr>\n",
       "      <th>origin [digital native]</th>\n",
       "      <td>-0.58</td>\n",
       "      <td>0.03</td>\n",
       "      <td>0.000</td>\n",
       "    </tr>\n",
       "    <tr>\n",
       "      <th>funding [public]</th>\n",
       "      <td>-2.14</td>\n",
       "      <td>0.04</td>\n",
       "      <td>0.000</td>\n",
       "    </tr>\n",
       "    <tr>\n",
       "      <th>profile [quality]</th>\n",
       "      <td>0.95</td>\n",
       "      <td>0.02</td>\n",
       "      <td>0.000</td>\n",
       "    </tr>\n",
       "    <tr>\n",
       "      <th>article type [hard]</th>\n",
       "      <td>0.06</td>\n",
       "      <td>0.02</td>\n",
       "      <td>0.000</td>\n",
       "    </tr>\n",
       "    <tr>\n",
       "      <th>peak hour [yes]</th>\n",
       "      <td>-0.02</td>\n",
       "      <td>0.02</td>\n",
       "      <td>0.153</td>\n",
       "    </tr>\n",
       "    <tr>\n",
       "      <th>weekend [yes]</th>\n",
       "      <td>-0.01</td>\n",
       "      <td>0.02</td>\n",
       "      <td>0.450</td>\n",
       "    </tr>\n",
       "    <tr>\n",
       "      <th>text length</th>\n",
       "      <td>0.00</td>\n",
       "      <td>0.00</td>\n",
       "      <td>0.000</td>\n",
       "    </tr>\n",
       "  </tbody>\n",
       "</table>\n",
       "</div>"
      ],
      "text/plain": [
       "                          $B$  $se$     $p$\n",
       "Intercept               -0.78  0.02   0.000\n",
       "origin [digital native] -0.58  0.03   0.000\n",
       "funding [public]        -2.14  0.04   0.000\n",
       "profile [quality]        0.95  0.02   0.000\n",
       "article type [hard]      0.06  0.02   0.000\n",
       "peak hour [yes]         -0.02  0.02   0.153\n",
       "weekend [yes]           -0.01  0.02   0.450\n",
       "text length              0.00  0.00   0.000"
      ]
     },
     "execution_count": 98,
     "metadata": {},
     "output_type": "execute_result"
    }
   ],
   "source": [
    "get_output(\"author_transparency\", model=\"Poisson\")"
   ]
  },
  {
   "cell_type": "markdown",
   "id": "4e8bfe57-651c-4c9e-b61d-165ab1f63268",
   "metadata": {
    "tags": []
   },
   "source": [
    "### analysis > error transparency"
   ]
  },
  {
   "cell_type": "code",
   "execution_count": 100,
   "id": "1214d576-c519-4cc7-ac5b-0089f3c1d8dc",
   "metadata": {
    "tags": []
   },
   "outputs": [
    {
     "data": {
      "text/plain": [
       "Counter({0.0: 13740, 1.0: 7883, 2.0: 31})"
      ]
     },
     "execution_count": 100,
     "metadata": {},
     "output_type": "execute_result"
    }
   ],
   "source": [
    "#As for the update analyses we exclude the unchanged articles.\n",
    "Counter(tp[tp.changed_w_nos==True].error_transparency)"
   ]
  },
  {
   "cell_type": "code",
   "execution_count": 101,
   "id": "1e078b13-123a-4ef8-8188-8ba732d848ed",
   "metadata": {
    "tags": []
   },
   "outputs": [
    {
     "name": "stdout",
     "output_type": "stream",
     "text": [
      "\\begin{tabular}{lrrl}\n",
      "\\toprule\n",
      " & $B$ & $se$ & $p$ \\\\\n",
      "\\midrule\n",
      "Intercept & 0.17 & 0.00 &  0.000 \\\\\n",
      "origin [digital native] & 0.14 & 0.00 &  0.000 \\\\\n",
      "funding [public] & 0.19 & 0.00 &  0.000 \\\\\n",
      "profile [quality] & -0.20 & 0.00 &  0.000 \\\\\n",
      "article type [hard] & -0.01 & 0.00 &  0.000 \\\\\n",
      "peak hour [yes] & -0.02 & 0.00 &  0.000 \\\\\n",
      "weekend [yes] & 0.01 & 0.00 &  0.014 \\\\\n",
      "text length & 0.00 & 0.00 &  0.000 \\\\\n",
      "\\bottomrule\n",
      "\\end{tabular}\n",
      "\n",
      "                             OLS Regression Results                             \n",
      "================================================================================\n",
      "Dep. Variable:     error_transparency_w   R-squared:                       0.329\n",
      "Model:                              OLS   Adj. R-squared:                  0.329\n",
      "Method:                   Least Squares   F-statistic:                     1518.\n",
      "Date:                  Sun, 28 Jan 2024   Prob (F-statistic):               0.00\n",
      "Time:                          14:11:55   Log-Likelihood:                 6873.9\n",
      "No. Observations:                 21654   AIC:                        -1.373e+04\n",
      "Df Residuals:                     21646   BIC:                        -1.367e+04\n",
      "Df Model:                             7                                         \n",
      "Covariance Type:              nonrobust                                         \n",
      "===================================================================================================================================\n",
      "                                                                      coef    std err          t      P>|t|      [0.025      0.975]\n",
      "-----------------------------------------------------------------------------------------------------------------------------------\n",
      "Intercept                                                           0.1698      0.003     51.979      0.000       0.163       0.176\n",
      "C(np_mode, Treatment(reference='multimodal'))[T.digital native]     0.1392      0.003     41.743      0.000       0.133       0.146\n",
      "np_funding[T.public]                                                0.1930      0.004     45.591      0.000       0.185       0.201\n",
      "C(np_quality, Treatment(reference='popular'))[T.quality]           -0.2003      0.003    -62.466      0.000      -0.207      -0.194\n",
      "C(p_article_softness, Treatment(reference='soft'))[T.hard]         -0.0126      0.003     -4.936      0.000      -0.018      -0.008\n",
      "peak_hour[T.True]                                                  -0.0158      0.003     -5.944      0.000      -0.021      -0.011\n",
      "weekend[T.True]                                                     0.0073      0.003      2.467      0.014       0.001       0.013\n",
      "text_length                                                      1.946e-05   6.49e-07     30.009      0.000    1.82e-05    2.07e-05\n",
      "==============================================================================\n",
      "Omnibus:                      123.622   Durbin-Watson:                   1.412\n",
      "Prob(Omnibus):                  0.000   Jarque-Bera (JB):              125.360\n",
      "Skew:                           0.183   Prob(JB):                     6.00e-28\n",
      "Kurtosis:                       2.935   Cond. No.                     1.22e+04\n",
      "==============================================================================\n",
      "\n",
      "Notes:\n",
      "[1] Standard Errors assume that the covariance matrix of the errors is correctly specified.\n",
      "[2] The condition number is large, 1.22e+04. This might indicate that there are\n",
      "strong multicollinearity or other numerical problems.\n",
      "$N = 21654, F(7, 21646) = 1517.71, R^2 = 0.33.$\n"
     ]
    },
    {
     "data": {
      "text/html": [
       "<div>\n",
       "<style scoped>\n",
       "    .dataframe tbody tr th:only-of-type {\n",
       "        vertical-align: middle;\n",
       "    }\n",
       "\n",
       "    .dataframe tbody tr th {\n",
       "        vertical-align: top;\n",
       "    }\n",
       "\n",
       "    .dataframe thead th {\n",
       "        text-align: right;\n",
       "    }\n",
       "</style>\n",
       "<table border=\"1\" class=\"dataframe\">\n",
       "  <thead>\n",
       "    <tr style=\"text-align: right;\">\n",
       "      <th></th>\n",
       "      <th>$B$</th>\n",
       "      <th>$se$</th>\n",
       "      <th>$p$</th>\n",
       "    </tr>\n",
       "  </thead>\n",
       "  <tbody>\n",
       "    <tr>\n",
       "      <th>Intercept</th>\n",
       "      <td>0.17</td>\n",
       "      <td>0.0</td>\n",
       "      <td>0.000</td>\n",
       "    </tr>\n",
       "    <tr>\n",
       "      <th>origin [digital native]</th>\n",
       "      <td>0.14</td>\n",
       "      <td>0.0</td>\n",
       "      <td>0.000</td>\n",
       "    </tr>\n",
       "    <tr>\n",
       "      <th>funding [public]</th>\n",
       "      <td>0.19</td>\n",
       "      <td>0.0</td>\n",
       "      <td>0.000</td>\n",
       "    </tr>\n",
       "    <tr>\n",
       "      <th>profile [quality]</th>\n",
       "      <td>-0.20</td>\n",
       "      <td>0.0</td>\n",
       "      <td>0.000</td>\n",
       "    </tr>\n",
       "    <tr>\n",
       "      <th>article type [hard]</th>\n",
       "      <td>-0.01</td>\n",
       "      <td>0.0</td>\n",
       "      <td>0.000</td>\n",
       "    </tr>\n",
       "    <tr>\n",
       "      <th>peak hour [yes]</th>\n",
       "      <td>-0.02</td>\n",
       "      <td>0.0</td>\n",
       "      <td>0.000</td>\n",
       "    </tr>\n",
       "    <tr>\n",
       "      <th>weekend [yes]</th>\n",
       "      <td>0.01</td>\n",
       "      <td>0.0</td>\n",
       "      <td>0.014</td>\n",
       "    </tr>\n",
       "    <tr>\n",
       "      <th>text length</th>\n",
       "      <td>0.00</td>\n",
       "      <td>0.0</td>\n",
       "      <td>0.000</td>\n",
       "    </tr>\n",
       "  </tbody>\n",
       "</table>\n",
       "</div>"
      ],
      "text/plain": [
       "                          $B$  $se$     $p$\n",
       "Intercept                0.17   0.0   0.000\n",
       "origin [digital native]  0.14   0.0   0.000\n",
       "funding [public]         0.19   0.0   0.000\n",
       "profile [quality]       -0.20   0.0   0.000\n",
       "article type [hard]     -0.01   0.0   0.000\n",
       "peak hour [yes]         -0.02   0.0   0.000\n",
       "weekend [yes]            0.01   0.0   0.014\n",
       "text length              0.00   0.0   0.000"
      ]
     },
     "execution_count": 101,
     "metadata": {},
     "output_type": "execute_result"
    }
   ],
   "source": [
    "get_output(\"error_transparency_w\", data = tp[tp.changed_w_nos==True])"
   ]
  },
  {
   "cell_type": "code",
   "execution_count": 102,
   "id": "bd426cc5-74e6-46b2-8b0f-ed51193996db",
   "metadata": {
    "tags": []
   },
   "outputs": [
    {
     "name": "stdout",
     "output_type": "stream",
     "text": [
      "\\begin{tabular}{lrrl}\n",
      "\\toprule\n",
      " & $B$ & $se$ & $p$ \\\\\n",
      "\\midrule\n",
      "Intercept & -0.99 & 0.03 &  0.000 \\\\\n",
      "origin [digital native] & 0.53 & 0.02 &  0.000 \\\\\n",
      "funding [public] & 2.98 & 0.08 &  0.000 \\\\\n",
      "profile [quality] & -3.02 & 0.08 &  0.000 \\\\\n",
      "article type [hard] & -0.09 & 0.02 &  0.000 \\\\\n",
      "peak hour [yes] & -0.09 & 0.02 &  0.000 \\\\\n",
      "weekend [yes] & 0.02 & 0.03 &  0.434 \\\\\n",
      "text length & 0.00 & 0.00 &  0.000 \\\\\n",
      "\\bottomrule\n",
      "\\end{tabular}\n",
      "\n",
      "                 Generalized Linear Model Regression Results                  \n",
      "==============================================================================\n",
      "Dep. Variable:     error_transparency   No. Observations:                21654\n",
      "Model:                            GLM   Df Residuals:                    21646\n",
      "Model Family:                 Poisson   Df Model:                            7\n",
      "Link Function:                    Log   Scale:                          1.0000\n",
      "Method:                          IRLS   Log-Likelihood:                -12969.\n",
      "Date:                Sun, 28 Jan 2024   Deviance:                       10092.\n",
      "Time:                        14:11:58   Pearson chi2:                 1.32e+04\n",
      "No. Iterations:                     7   Pseudo R-squ. (CS):             0.2394\n",
      "Covariance Type:            nonrobust                                         \n",
      "===================================================================================================================================\n",
      "                                                                      coef    std err          z      P>|z|      [0.025      0.975]\n",
      "-----------------------------------------------------------------------------------------------------------------------------------\n",
      "Intercept                                                          -0.9897      0.029    -34.234      0.000      -1.046      -0.933\n",
      "C(np_mode, Treatment(reference='multimodal'))[T.digital native]     0.5252      0.025     21.286      0.000       0.477       0.574\n",
      "np_funding[T.public]                                                2.9794      0.082     36.493      0.000       2.819       3.139\n",
      "C(np_quality, Treatment(reference='popular'))[T.quality]           -3.0235      0.078    -38.644      0.000      -3.177      -2.870\n",
      "C(p_article_softness, Treatment(reference='soft'))[T.hard]         -0.0915      0.023     -4.011      0.000      -0.136      -0.047\n",
      "peak_hour[T.True]                                                  -0.0904      0.024     -3.817      0.000      -0.137      -0.044\n",
      "weekend[T.True]                                                     0.0205      0.026      0.783      0.434      -0.031       0.072\n",
      "text_length                                                         0.0001   5.74e-06     21.824      0.000       0.000       0.000\n",
      "===================================================================================================================================\n",
      "$N = 21654, \\chi^2(7, 21646) = 13243.83, pseudo$-$R^2 = 0.24.$\n"
     ]
    },
    {
     "data": {
      "text/html": [
       "<div>\n",
       "<style scoped>\n",
       "    .dataframe tbody tr th:only-of-type {\n",
       "        vertical-align: middle;\n",
       "    }\n",
       "\n",
       "    .dataframe tbody tr th {\n",
       "        vertical-align: top;\n",
       "    }\n",
       "\n",
       "    .dataframe thead th {\n",
       "        text-align: right;\n",
       "    }\n",
       "</style>\n",
       "<table border=\"1\" class=\"dataframe\">\n",
       "  <thead>\n",
       "    <tr style=\"text-align: right;\">\n",
       "      <th></th>\n",
       "      <th>$B$</th>\n",
       "      <th>$se$</th>\n",
       "      <th>$p$</th>\n",
       "    </tr>\n",
       "  </thead>\n",
       "  <tbody>\n",
       "    <tr>\n",
       "      <th>Intercept</th>\n",
       "      <td>-0.99</td>\n",
       "      <td>0.03</td>\n",
       "      <td>0.000</td>\n",
       "    </tr>\n",
       "    <tr>\n",
       "      <th>origin [digital native]</th>\n",
       "      <td>0.53</td>\n",
       "      <td>0.02</td>\n",
       "      <td>0.000</td>\n",
       "    </tr>\n",
       "    <tr>\n",
       "      <th>funding [public]</th>\n",
       "      <td>2.98</td>\n",
       "      <td>0.08</td>\n",
       "      <td>0.000</td>\n",
       "    </tr>\n",
       "    <tr>\n",
       "      <th>profile [quality]</th>\n",
       "      <td>-3.02</td>\n",
       "      <td>0.08</td>\n",
       "      <td>0.000</td>\n",
       "    </tr>\n",
       "    <tr>\n",
       "      <th>article type [hard]</th>\n",
       "      <td>-0.09</td>\n",
       "      <td>0.02</td>\n",
       "      <td>0.000</td>\n",
       "    </tr>\n",
       "    <tr>\n",
       "      <th>peak hour [yes]</th>\n",
       "      <td>-0.09</td>\n",
       "      <td>0.02</td>\n",
       "      <td>0.000</td>\n",
       "    </tr>\n",
       "    <tr>\n",
       "      <th>weekend [yes]</th>\n",
       "      <td>0.02</td>\n",
       "      <td>0.03</td>\n",
       "      <td>0.434</td>\n",
       "    </tr>\n",
       "    <tr>\n",
       "      <th>text length</th>\n",
       "      <td>0.00</td>\n",
       "      <td>0.00</td>\n",
       "      <td>0.000</td>\n",
       "    </tr>\n",
       "  </tbody>\n",
       "</table>\n",
       "</div>"
      ],
      "text/plain": [
       "                          $B$  $se$     $p$\n",
       "Intercept               -0.99  0.03   0.000\n",
       "origin [digital native]  0.53  0.02   0.000\n",
       "funding [public]         2.98  0.08   0.000\n",
       "profile [quality]       -3.02  0.08   0.000\n",
       "article type [hard]     -0.09  0.02   0.000\n",
       "peak hour [yes]         -0.09  0.02   0.000\n",
       "weekend [yes]            0.02  0.03   0.434\n",
       "text length              0.00  0.00   0.000"
      ]
     },
     "execution_count": 102,
     "metadata": {},
     "output_type": "execute_result"
    }
   ],
   "source": [
    "get_output(\"error_transparency\", data = tp[tp.changed_w_nos==True], model=\"Poisson\")"
   ]
  },
  {
   "cell_type": "markdown",
   "id": "933bbaae-a189-4a50-84cd-4fac85543ceb",
   "metadata": {
    "tags": []
   },
   "source": [
    "### analysis > sourcing transparency"
   ]
  },
  {
   "cell_type": "code",
   "execution_count": 103,
   "id": "53545831-0071-4f61-bfac-fe42bf6d1deb",
   "metadata": {
    "tags": []
   },
   "outputs": [
    {
     "name": "stdout",
     "output_type": "stream",
     "text": [
      "\\begin{tabular}{lrrl}\n",
      "\\toprule\n",
      " & $B$ & $se$ & $p$ \\\\\n",
      "\\midrule\n",
      "Intercept & 0.06 & 0.00 &  0.000 \\\\\n",
      "origin [digital native] & 0.05 & 0.00 &  0.000 \\\\\n",
      "funding [public] & 0.08 & 0.00 &  0.000 \\\\\n",
      "profile [quality] & 0.05 & 0.00 &  0.000 \\\\\n",
      "article type [hard] & 0.09 & 0.00 &  0.000 \\\\\n",
      "peak hour [yes] & 0.00 & 0.00 &  0.864 \\\\\n",
      "weekend [yes] & -0.02 & 0.00 &  0.000 \\\\\n",
      "text length & 0.00 & 0.00 &  0.000 \\\\\n",
      "\\bottomrule\n",
      "\\end{tabular}\n",
      "\n",
      "                               OLS Regression Results                              \n",
      "===================================================================================\n",
      "Dep. Variable:     sourcing_transparency_w   R-squared:                       0.139\n",
      "Model:                                 OLS   Adj. R-squared:                  0.139\n",
      "Method:                      Least Squares   F-statistic:                     625.0\n",
      "Date:                     Sun, 28 Jan 2024   Prob (F-statistic):               0.00\n",
      "Time:                             14:12:06   Log-Likelihood:                 6429.8\n",
      "No. Observations:                    27096   AIC:                        -1.284e+04\n",
      "Df Residuals:                        27088   BIC:                        -1.278e+04\n",
      "Df Model:                                7                                         \n",
      "Covariance Type:                 nonrobust                                         \n",
      "===================================================================================================================================\n",
      "                                                                      coef    std err          t      P>|t|      [0.025      0.975]\n",
      "-----------------------------------------------------------------------------------------------------------------------------------\n",
      "Intercept                                                           0.0588      0.003     18.241      0.000       0.053       0.065\n",
      "C(np_mode, Treatment(reference='multimodal'))[T.digital native]     0.0460      0.004     13.133      0.000       0.039       0.053\n",
      "np_funding[T.public]                                                0.0776      0.004     21.749      0.000       0.071       0.085\n",
      "C(np_quality, Treatment(reference='popular'))[T.quality]            0.0532      0.003     17.186      0.000       0.047       0.059\n",
      "C(p_article_softness, Treatment(reference='soft'))[T.hard]          0.0913      0.002     37.305      0.000       0.086       0.096\n",
      "peak_hour[T.True]                                                   0.0004      0.003      0.172      0.864      -0.005       0.006\n",
      "weekend[T.True]                                                    -0.0173      0.003     -6.050      0.000      -0.023      -0.012\n",
      "text_length                                                      1.554e-05   6.44e-07     24.131      0.000    1.43e-05    1.68e-05\n",
      "==============================================================================\n",
      "Omnibus:                     2053.069   Durbin-Watson:                   1.890\n",
      "Prob(Omnibus):                  0.000   Jarque-Bera (JB):             2547.879\n",
      "Skew:                           0.730   Prob(JB):                         0.00\n",
      "Kurtosis:                       3.353   Cond. No.                     1.17e+04\n",
      "==============================================================================\n",
      "\n",
      "Notes:\n",
      "[1] Standard Errors assume that the covariance matrix of the errors is correctly specified.\n",
      "[2] The condition number is large, 1.17e+04. This might indicate that there are\n",
      "strong multicollinearity or other numerical problems.\n",
      "$N = 27096, F(7, 27088) = 625.01, R^2 = 0.14.$\n"
     ]
    },
    {
     "data": {
      "text/html": [
       "<div>\n",
       "<style scoped>\n",
       "    .dataframe tbody tr th:only-of-type {\n",
       "        vertical-align: middle;\n",
       "    }\n",
       "\n",
       "    .dataframe tbody tr th {\n",
       "        vertical-align: top;\n",
       "    }\n",
       "\n",
       "    .dataframe thead th {\n",
       "        text-align: right;\n",
       "    }\n",
       "</style>\n",
       "<table border=\"1\" class=\"dataframe\">\n",
       "  <thead>\n",
       "    <tr style=\"text-align: right;\">\n",
       "      <th></th>\n",
       "      <th>$B$</th>\n",
       "      <th>$se$</th>\n",
       "      <th>$p$</th>\n",
       "    </tr>\n",
       "  </thead>\n",
       "  <tbody>\n",
       "    <tr>\n",
       "      <th>Intercept</th>\n",
       "      <td>0.06</td>\n",
       "      <td>0.0</td>\n",
       "      <td>0.000</td>\n",
       "    </tr>\n",
       "    <tr>\n",
       "      <th>origin [digital native]</th>\n",
       "      <td>0.05</td>\n",
       "      <td>0.0</td>\n",
       "      <td>0.000</td>\n",
       "    </tr>\n",
       "    <tr>\n",
       "      <th>funding [public]</th>\n",
       "      <td>0.08</td>\n",
       "      <td>0.0</td>\n",
       "      <td>0.000</td>\n",
       "    </tr>\n",
       "    <tr>\n",
       "      <th>profile [quality]</th>\n",
       "      <td>0.05</td>\n",
       "      <td>0.0</td>\n",
       "      <td>0.000</td>\n",
       "    </tr>\n",
       "    <tr>\n",
       "      <th>article type [hard]</th>\n",
       "      <td>0.09</td>\n",
       "      <td>0.0</td>\n",
       "      <td>0.000</td>\n",
       "    </tr>\n",
       "    <tr>\n",
       "      <th>peak hour [yes]</th>\n",
       "      <td>0.00</td>\n",
       "      <td>0.0</td>\n",
       "      <td>0.864</td>\n",
       "    </tr>\n",
       "    <tr>\n",
       "      <th>weekend [yes]</th>\n",
       "      <td>-0.02</td>\n",
       "      <td>0.0</td>\n",
       "      <td>0.000</td>\n",
       "    </tr>\n",
       "    <tr>\n",
       "      <th>text length</th>\n",
       "      <td>0.00</td>\n",
       "      <td>0.0</td>\n",
       "      <td>0.000</td>\n",
       "    </tr>\n",
       "  </tbody>\n",
       "</table>\n",
       "</div>"
      ],
      "text/plain": [
       "                          $B$  $se$     $p$\n",
       "Intercept                0.06   0.0   0.000\n",
       "origin [digital native]  0.05   0.0   0.000\n",
       "funding [public]         0.08   0.0   0.000\n",
       "profile [quality]        0.05   0.0   0.000\n",
       "article type [hard]      0.09   0.0   0.000\n",
       "peak hour [yes]          0.00   0.0   0.864\n",
       "weekend [yes]           -0.02   0.0   0.000\n",
       "text length              0.00   0.0   0.000"
      ]
     },
     "execution_count": 103,
     "metadata": {},
     "output_type": "execute_result"
    }
   ],
   "source": [
    "get_output(\"sourcing_transparency_w\")"
   ]
  },
  {
   "cell_type": "code",
   "execution_count": 104,
   "id": "0812adea-4706-4195-998e-627609f4961e",
   "metadata": {
    "tags": []
   },
   "outputs": [
    {
     "data": {
      "text/plain": [
       "Counter({0.0: 11052, 1.0: 10180, 2.0: 4577, 3.0: 1198, 4.0: 89})"
      ]
     },
     "execution_count": 104,
     "metadata": {},
     "output_type": "execute_result"
    }
   ],
   "source": [
    "Counter(tp.sourcing_transparency)"
   ]
  },
  {
   "cell_type": "code",
   "execution_count": 105,
   "id": "3e840df3-8a3d-4774-ba92-6a77665b9a72",
   "metadata": {
    "tags": []
   },
   "outputs": [
    {
     "name": "stdout",
     "output_type": "stream",
     "text": [
      "\\begin{tabular}{lrrl}\n",
      "\\toprule\n",
      " & $B$ & $se$ & $p$ \\\\\n",
      "\\midrule\n",
      "Intercept & -0.94 & 0.02 &  0.000 \\\\\n",
      "origin [digital native] & 0.29 & 0.02 &  0.000 \\\\\n",
      "funding [public] & 0.34 & 0.02 &  0.000 \\\\\n",
      "profile [quality] & 0.30 & 0.02 &  0.000 \\\\\n",
      "article type [hard] & 0.52 & 0.02 &  0.000 \\\\\n",
      "peak hour [yes] & -0.00 & 0.02 &  0.905 \\\\\n",
      "weekend [yes] & -0.09 & 0.02 &  0.000 \\\\\n",
      "text length & 0.00 & 0.00 &  0.000 \\\\\n",
      "\\bottomrule\n",
      "\\end{tabular}\n",
      "\n",
      "                   Generalized Linear Model Regression Results                   \n",
      "=================================================================================\n",
      "Dep. Variable:     sourcing_transparency   No. Observations:                27096\n",
      "Model:                               GLM   Df Residuals:                    27088\n",
      "Model Family:                    Poisson   Df Model:                            7\n",
      "Link Function:                       Log   Scale:                          1.0000\n",
      "Method:                             IRLS   Log-Likelihood:                -30737.\n",
      "Date:                   Sun, 28 Jan 2024   Deviance:                       25277.\n",
      "Time:                           14:12:08   Pearson chi2:                 2.13e+04\n",
      "No. Iterations:                        5   Pseudo R-squ. (CS):             0.1166\n",
      "Covariance Type:               nonrobust                                         \n",
      "===================================================================================================================================\n",
      "                                                                      coef    std err          z      P>|z|      [0.025      0.975]\n",
      "-----------------------------------------------------------------------------------------------------------------------------------\n",
      "Intercept                                                          -0.9377      0.021    -44.571      0.000      -0.979      -0.896\n",
      "C(np_mode, Treatment(reference='multimodal'))[T.digital native]     0.2908      0.022     13.516      0.000       0.249       0.333\n",
      "np_funding[T.public]                                                0.3419      0.018     19.153      0.000       0.307       0.377\n",
      "C(np_quality, Treatment(reference='popular'))[T.quality]            0.3016      0.019     16.134      0.000       0.265       0.338\n",
      "C(p_article_softness, Treatment(reference='soft'))[T.hard]          0.5189      0.015     34.100      0.000       0.489       0.549\n",
      "peak_hour[T.True]                                                  -0.0017      0.015     -0.119      0.905      -0.030       0.027\n",
      "weekend[T.True]                                                    -0.0938      0.017     -5.534      0.000      -0.127      -0.061\n",
      "text_length                                                       6.55e-05   3.42e-06     19.147      0.000    5.88e-05    7.22e-05\n",
      "===================================================================================================================================\n",
      "$N = 27096, \\chi^2(7, 27088) = 21279.77, pseudo$-$R^2 = 0.12.$\n"
     ]
    },
    {
     "data": {
      "text/html": [
       "<div>\n",
       "<style scoped>\n",
       "    .dataframe tbody tr th:only-of-type {\n",
       "        vertical-align: middle;\n",
       "    }\n",
       "\n",
       "    .dataframe tbody tr th {\n",
       "        vertical-align: top;\n",
       "    }\n",
       "\n",
       "    .dataframe thead th {\n",
       "        text-align: right;\n",
       "    }\n",
       "</style>\n",
       "<table border=\"1\" class=\"dataframe\">\n",
       "  <thead>\n",
       "    <tr style=\"text-align: right;\">\n",
       "      <th></th>\n",
       "      <th>$B$</th>\n",
       "      <th>$se$</th>\n",
       "      <th>$p$</th>\n",
       "    </tr>\n",
       "  </thead>\n",
       "  <tbody>\n",
       "    <tr>\n",
       "      <th>Intercept</th>\n",
       "      <td>-0.94</td>\n",
       "      <td>0.02</td>\n",
       "      <td>0.000</td>\n",
       "    </tr>\n",
       "    <tr>\n",
       "      <th>origin [digital native]</th>\n",
       "      <td>0.29</td>\n",
       "      <td>0.02</td>\n",
       "      <td>0.000</td>\n",
       "    </tr>\n",
       "    <tr>\n",
       "      <th>funding [public]</th>\n",
       "      <td>0.34</td>\n",
       "      <td>0.02</td>\n",
       "      <td>0.000</td>\n",
       "    </tr>\n",
       "    <tr>\n",
       "      <th>profile [quality]</th>\n",
       "      <td>0.30</td>\n",
       "      <td>0.02</td>\n",
       "      <td>0.000</td>\n",
       "    </tr>\n",
       "    <tr>\n",
       "      <th>article type [hard]</th>\n",
       "      <td>0.52</td>\n",
       "      <td>0.02</td>\n",
       "      <td>0.000</td>\n",
       "    </tr>\n",
       "    <tr>\n",
       "      <th>peak hour [yes]</th>\n",
       "      <td>-0.00</td>\n",
       "      <td>0.02</td>\n",
       "      <td>0.905</td>\n",
       "    </tr>\n",
       "    <tr>\n",
       "      <th>weekend [yes]</th>\n",
       "      <td>-0.09</td>\n",
       "      <td>0.02</td>\n",
       "      <td>0.000</td>\n",
       "    </tr>\n",
       "    <tr>\n",
       "      <th>text length</th>\n",
       "      <td>0.00</td>\n",
       "      <td>0.00</td>\n",
       "      <td>0.000</td>\n",
       "    </tr>\n",
       "  </tbody>\n",
       "</table>\n",
       "</div>"
      ],
      "text/plain": [
       "                          $B$  $se$     $p$\n",
       "Intercept               -0.94  0.02   0.000\n",
       "origin [digital native]  0.29  0.02   0.000\n",
       "funding [public]         0.34  0.02   0.000\n",
       "profile [quality]        0.30  0.02   0.000\n",
       "article type [hard]      0.52  0.02   0.000\n",
       "peak hour [yes]         -0.00  0.02   0.905\n",
       "weekend [yes]           -0.09  0.02   0.000\n",
       "text length              0.00  0.00   0.000"
      ]
     },
     "execution_count": 105,
     "metadata": {},
     "output_type": "execute_result"
    }
   ],
   "source": [
    "get_output(\"sourcing_transparency\", model=\"Poisson\")"
   ]
  },
  {
   "cell_type": "markdown",
   "id": "0ea007cd-f7dc-43ee-9cd7-1d01b8cf7ecc",
   "metadata": {
    "tags": []
   },
   "source": [
    "### analysis > process transparency"
   ]
  },
  {
   "cell_type": "code",
   "execution_count": 106,
   "id": "d8d8d070-b299-489a-9182-8617d71793a7",
   "metadata": {
    "tags": []
   },
   "outputs": [
    {
     "data": {
      "text/plain": [
       "count    27096.000000\n",
       "mean         0.006060\n",
       "std          0.037439\n",
       "min          0.000000\n",
       "25%          0.000000\n",
       "50%          0.000000\n",
       "75%          0.000000\n",
       "max          1.000000\n",
       "Name: process_info_factor, dtype: float64"
      ]
     },
     "execution_count": 106,
     "metadata": {},
     "output_type": "execute_result"
    }
   ],
   "source": [
    "tp.process_info_factor.describe()"
   ]
  },
  {
   "cell_type": "code",
   "execution_count": 107,
   "id": "b3b01d76-d93c-4e96-8ffb-47ef3bfd450b",
   "metadata": {
    "tags": []
   },
   "outputs": [
    {
     "name": "stdout",
     "output_type": "stream",
     "text": [
      "\\begin{tabular}{lrrl}\n",
      "\\toprule\n",
      " & $B$ & $se$ & $p$ \\\\\n",
      "\\midrule\n",
      "Intercept & 0.00 & 0.00 &  0.000 \\\\\n",
      "origin [digital native] & 0.01 & 0.00 &  0.000 \\\\\n",
      "funding [public] & -0.01 & 0.00 &  0.000 \\\\\n",
      "profile [quality] & 0.01 & 0.00 &  0.000 \\\\\n",
      "article type [hard] & 0.00 & 0.00 &  0.000 \\\\\n",
      "peak hour [yes] & 0.00 & 0.00 &  0.000 \\\\\n",
      "weekend [yes] & -0.00 & 0.00 &  0.764 \\\\\n",
      "text length & -0.00 & 0.00 &  0.000 \\\\\n",
      "\\bottomrule\n",
      "\\end{tabular}\n",
      "\n",
      "                             OLS Regression Results                            \n",
      "===============================================================================\n",
      "Dep. Variable:     process_info_factor   R-squared:                       0.016\n",
      "Model:                             OLS   Adj. R-squared:                  0.016\n",
      "Method:                  Least Squares   F-statistic:                     62.56\n",
      "Date:                 Sun, 28 Jan 2024   Prob (F-statistic):           9.70e-90\n",
      "Time:                         14:12:13   Log-Likelihood:                 50782.\n",
      "No. Observations:                27096   AIC:                        -1.015e+05\n",
      "Df Residuals:                    27088   BIC:                        -1.015e+05\n",
      "Df Model:                            7                                         \n",
      "Covariance Type:             nonrobust                                         \n",
      "===================================================================================================================================\n",
      "                                                                      coef    std err          t      P>|t|      [0.025      0.975]\n",
      "-----------------------------------------------------------------------------------------------------------------------------------\n",
      "Intercept                                                           0.0045      0.001      7.190      0.000       0.003       0.006\n",
      "C(np_mode, Treatment(reference='multimodal'))[T.digital native]     0.0069      0.001     10.171      0.000       0.006       0.008\n",
      "np_funding[T.public]                                               -0.0076      0.001    -10.955      0.000      -0.009      -0.006\n",
      "C(np_quality, Treatment(reference='popular'))[T.quality]            0.0070      0.001     11.637      0.000       0.006       0.008\n",
      "C(p_article_softness, Treatment(reference='soft'))[T.hard]          0.0023      0.000      4.841      0.000       0.001       0.003\n",
      "peak_hour[T.True]                                                   0.0021      0.001      4.097      0.000       0.001       0.003\n",
      "weekend[T.True]                                                    -0.0002      0.001     -0.300      0.764      -0.001       0.001\n",
      "text_length                                                      -1.91e-06   1.25e-07    -15.238      0.000   -2.16e-06   -1.66e-06\n",
      "==============================================================================\n",
      "Omnibus:                    43166.774   Durbin-Watson:                   1.966\n",
      "Prob(Omnibus):                  0.000   Jarque-Bera (JB):         29009838.599\n",
      "Skew:                          10.412   Prob(JB):                         0.00\n",
      "Kurtosis:                     161.939   Cond. No.                     1.17e+04\n",
      "==============================================================================\n",
      "\n",
      "Notes:\n",
      "[1] Standard Errors assume that the covariance matrix of the errors is correctly specified.\n",
      "[2] The condition number is large, 1.17e+04. This might indicate that there are\n",
      "strong multicollinearity or other numerical problems.\n",
      "$N = 27096, F(7, 27088) = 62.56, R^2 = 0.02.$\n"
     ]
    },
    {
     "data": {
      "text/html": [
       "<div>\n",
       "<style scoped>\n",
       "    .dataframe tbody tr th:only-of-type {\n",
       "        vertical-align: middle;\n",
       "    }\n",
       "\n",
       "    .dataframe tbody tr th {\n",
       "        vertical-align: top;\n",
       "    }\n",
       "\n",
       "    .dataframe thead th {\n",
       "        text-align: right;\n",
       "    }\n",
       "</style>\n",
       "<table border=\"1\" class=\"dataframe\">\n",
       "  <thead>\n",
       "    <tr style=\"text-align: right;\">\n",
       "      <th></th>\n",
       "      <th>$B$</th>\n",
       "      <th>$se$</th>\n",
       "      <th>$p$</th>\n",
       "    </tr>\n",
       "  </thead>\n",
       "  <tbody>\n",
       "    <tr>\n",
       "      <th>Intercept</th>\n",
       "      <td>0.00</td>\n",
       "      <td>0.0</td>\n",
       "      <td>0.000</td>\n",
       "    </tr>\n",
       "    <tr>\n",
       "      <th>origin [digital native]</th>\n",
       "      <td>0.01</td>\n",
       "      <td>0.0</td>\n",
       "      <td>0.000</td>\n",
       "    </tr>\n",
       "    <tr>\n",
       "      <th>funding [public]</th>\n",
       "      <td>-0.01</td>\n",
       "      <td>0.0</td>\n",
       "      <td>0.000</td>\n",
       "    </tr>\n",
       "    <tr>\n",
       "      <th>profile [quality]</th>\n",
       "      <td>0.01</td>\n",
       "      <td>0.0</td>\n",
       "      <td>0.000</td>\n",
       "    </tr>\n",
       "    <tr>\n",
       "      <th>article type [hard]</th>\n",
       "      <td>0.00</td>\n",
       "      <td>0.0</td>\n",
       "      <td>0.000</td>\n",
       "    </tr>\n",
       "    <tr>\n",
       "      <th>peak hour [yes]</th>\n",
       "      <td>0.00</td>\n",
       "      <td>0.0</td>\n",
       "      <td>0.000</td>\n",
       "    </tr>\n",
       "    <tr>\n",
       "      <th>weekend [yes]</th>\n",
       "      <td>-0.00</td>\n",
       "      <td>0.0</td>\n",
       "      <td>0.764</td>\n",
       "    </tr>\n",
       "    <tr>\n",
       "      <th>text length</th>\n",
       "      <td>-0.00</td>\n",
       "      <td>0.0</td>\n",
       "      <td>0.000</td>\n",
       "    </tr>\n",
       "  </tbody>\n",
       "</table>\n",
       "</div>"
      ],
      "text/plain": [
       "                          $B$  $se$     $p$\n",
       "Intercept                0.00   0.0   0.000\n",
       "origin [digital native]  0.01   0.0   0.000\n",
       "funding [public]        -0.01   0.0   0.000\n",
       "profile [quality]        0.01   0.0   0.000\n",
       "article type [hard]      0.00   0.0   0.000\n",
       "peak hour [yes]          0.00   0.0   0.000\n",
       "weekend [yes]           -0.00   0.0   0.764\n",
       "text length             -0.00   0.0   0.000"
      ]
     },
     "execution_count": 107,
     "metadata": {},
     "output_type": "execute_result"
    }
   ],
   "source": [
    "get_output(\"process_info_factor\")"
   ]
  },
  {
   "cell_type": "markdown",
   "id": "77935939-98d3-400b-b403-a922b8521d77",
   "metadata": {},
   "source": [
    "### multiverse"
   ]
  },
  {
   "cell_type": "code",
   "execution_count": 109,
   "id": "5dccd232-0217-4ee6-8f42-e712bcec739d",
   "metadata": {
    "tags": []
   },
   "outputs": [],
   "source": [
    "#We create a function to retrieve readable names for each main predictor as well as for each transparency dummy.\n",
    "#With it we also return the dimension to which the dummy belongs.\n",
    "def get_names(x):\n",
    "    predictor = x[\"x\"]\n",
    "    effect = x[\"y\"]\n",
    "    \n",
    "    if predictor == \"np_funding[T.public]\":\n",
    "        p_name = \"public funding [yes]\"\n",
    "    elif predictor == \"C(np_mode, Treatment(reference='multimodal'))[T.digital native]\":\n",
    "        p_name = \"digital native [yes]\"\n",
    "    elif predictor == \"C(np_quality, Treatment(reference='popular'))[T.quality]\":\n",
    "        p_name = \"quality [yes]\"\n",
    "    else:\n",
    "        p_name = \"hard news [yes]\"\n",
    "        \n",
    "    if effect == \"tp_authors\":\n",
    "        e_name = \"explicit author [yes]\"; dimension = \"author\"\n",
    "    elif effect == \"tp_contact\":\n",
    "        e_name = \"contact info [yes]\"; dimension = \"author\"\n",
    "    elif effect == \"tp_bio\":\n",
    "        e_name = \"bio info [yes]\"; dimension = \"author\"\n",
    "    elif effect == \"tp_timestamp_w_nos\":\n",
    "        e_name = \"timestamp disclosure [yes]\"; dimension = \"update\"\n",
    "    elif effect == \"tp_error\":\n",
    "        e_name = \"text disclosure [yes]\"; dimension = \"update\"\n",
    "    elif effect == \"tp_internal\":\n",
    "        e_name = \"internal linking [yes]\"; dimension = \"source\"\n",
    "    elif effect == \"tp_family\":\n",
    "        e_name = \"family linking [yes]\"; dimension = \"source\"\n",
    "    elif effect == \"tp_external\":\n",
    "        e_name = \"external linking [yes]\"; dimension = \"source\"\n",
    "    elif effect == \"tp_document\":\n",
    "        e_name = \"document linking [yes]\"; dimension = \"source\"\n",
    "    elif effect == \"explicit_sourcing\":\n",
    "        e_name = \"explicit sourcing [yes]\"; dimension = \"source\"\n",
    "    elif effect == \"tp_process_info\":\n",
    "        e_name = \"process info [yes]\"; dimension = \"production\"\n",
    "                \n",
    "    return p_name, e_name, dimension\n",
    "        \n",
    "#We create a function to perform logistic analyses for each dummy.\n",
    "def get_coefficients(y, x=predictors):\n",
    "    #We define our function and model.\n",
    "    md = smf.logit(f\"{y} ~ {x}\", tp)\n",
    "    mdf = md.fit()\n",
    "    #We extract the rgression coefficients.\n",
    "    summary = round(mdf.summary2().tables[1],2).reset_index()\n",
    "    #We rename the statistics.\n",
    "    summary.rename(columns={\"index\": \"x\", \n",
    "                            \"Coef.\": \"B\",\n",
    "                            \"[0.025\": \"lb\",\n",
    "                            \"0.975]\": \"ub\"}, inplace=True)\n",
    "    #We keep all that we need.\n",
    "    summary = summary[1:5][[\"x\", \"B\", \"lb\", \"ub\"]]\n",
    "    meta = mdf.summary2().tables[0]\n",
    "    #We extract the y of the model.\n",
    "    summary[\"y\"] = meta[[1]][1:2].values[0][0]\n",
    "    #We extract whether the model converged yes or no.\n",
    "    summary[\"converged\"] = meta[[1]][6:7].values[0][0]\n",
    "    #We rename the values through the naming function defined above.\n",
    "    summary[[\"x\", \"y\", \"dimension\"]] = summary.apply(lambda x: pd.Series(get_names(x)), axis=1)\n",
    "    \n",
    "    return summary"
   ]
  },
  {
   "cell_type": "code",
   "execution_count": 110,
   "id": "f80b700a-0de0-4742-bd91-b8772eb8c79c",
   "metadata": {
    "tags": []
   },
   "outputs": [
    {
     "name": "stdout",
     "output_type": "stream",
     "text": [
      "TP_AUTHORS\n",
      "Optimization terminated successfully.\n",
      "         Current function value: 0.491451\n",
      "         Iterations 6\n",
      "TP_CONTACT\n",
      "Optimization terminated successfully.\n",
      "         Current function value: 0.138817\n",
      "         Iterations 9\n",
      "TP_BIO\n",
      "Warning: Maximum number of iterations has been exceeded.\n",
      "         Current function value: 0.141736\n",
      "         Iterations: 35\n",
      "TP_TIMESTAMP_W_NOS\n"
     ]
    },
    {
     "name": "stderr",
     "output_type": "stream",
     "text": [
      "C:\\Users\\dubel\\AppData\\Local\\Programs\\Python\\Python311\\Lib\\site-packages\\statsmodels\\base\\model.py:607: ConvergenceWarning: Maximum Likelihood optimization failed to converge. Check mle_retvals\n",
      "  warnings.warn(\"Maximum Likelihood optimization failed to \"\n",
      "C:\\Users\\dubel\\AppData\\Local\\Programs\\Python\\Python311\\Lib\\site-packages\\statsmodels\\discrete\\discrete_model.py:2385: RuntimeWarning: overflow encountered in exp\n",
      "  return 1/(1+np.exp(-X))\n",
      "C:\\Users\\dubel\\AppData\\Local\\Programs\\Python\\Python311\\Lib\\site-packages\\statsmodels\\discrete\\discrete_model.py:2443: RuntimeWarning: divide by zero encountered in log\n",
      "  return np.sum(np.log(self.cdf(q * linpred)))\n"
     ]
    },
    {
     "name": "stdout",
     "output_type": "stream",
     "text": [
      "Warning: Maximum number of iterations has been exceeded.\n",
      "         Current function value: inf\n",
      "         Iterations: 35\n",
      "TP_ERROR\n",
      "Optimization terminated successfully.\n",
      "         Current function value: 0.039943\n",
      "         Iterations 11\n",
      "TP_INTERNAL\n",
      "Optimization terminated successfully.\n",
      "         Current function value: 0.510709\n",
      "         Iterations 6\n",
      "TP_EXTERNAL\n",
      "Optimization terminated successfully.\n",
      "         Current function value: 0.421712\n",
      "         Iterations 7\n",
      "TP_DOCUMENT\n",
      "Optimization terminated successfully.\n",
      "         Current function value: 0.085856\n",
      "         Iterations 10\n",
      "TP_FAMILY\n",
      "Optimization terminated successfully.\n",
      "         Current function value: 0.096432\n",
      "         Iterations 9\n",
      "EXPLICIT_SOURCING\n",
      "Optimization terminated successfully.\n",
      "         Current function value: 0.639280\n",
      "         Iterations 5\n",
      "TP_PROCESS_INFO\n",
      "Optimization terminated successfully.\n",
      "         Current function value: 0.188345\n",
      "         Iterations 8\n"
     ]
    }
   ],
   "source": [
    "lst = [\"tp_authors\", \"tp_contact\", \"tp_bio\",\n",
    "       \"tp_timestamp_w_nos\", \"tp_error\",\n",
    "       \"tp_internal\", \"tp_external\", \"tp_document\", \"tp_family\",\n",
    "       \"explicit_sourcing\", \n",
    "       \"tp_process_info\"]\n",
    "\n",
    "results = pd.DataFrame()\n",
    "\n",
    "#We loop over every transparency dummy and try to estimate the logistic model and append the results to a dataframe.\n",
    "for item in lst:\n",
    "    try:\n",
    "        print(item.upper())\n",
    "        tmp = get_coefficients(item)\n",
    "        results = pd.concat([tmp, results], axis=0)\n",
    "    except:\n",
    "        pass"
   ]
  },
  {
   "cell_type": "code",
   "execution_count": 111,
   "id": "98961eb4-fb01-4c9e-8138-11783fcb0b01",
   "metadata": {
    "tags": []
   },
   "outputs": [
    {
     "data": {
      "text/html": [
       "<div>\n",
       "<style scoped>\n",
       "    .dataframe tbody tr th:only-of-type {\n",
       "        vertical-align: middle;\n",
       "    }\n",
       "\n",
       "    .dataframe tbody tr th {\n",
       "        vertical-align: top;\n",
       "    }\n",
       "\n",
       "    .dataframe thead th {\n",
       "        text-align: right;\n",
       "    }\n",
       "</style>\n",
       "<table border=\"1\" class=\"dataframe\">\n",
       "  <thead>\n",
       "    <tr style=\"text-align: right;\">\n",
       "      <th></th>\n",
       "      <th>x</th>\n",
       "      <th>B</th>\n",
       "      <th>lb</th>\n",
       "      <th>ub</th>\n",
       "      <th>y</th>\n",
       "      <th>converged</th>\n",
       "      <th>dimension</th>\n",
       "    </tr>\n",
       "  </thead>\n",
       "  <tbody>\n",
       "    <tr>\n",
       "      <th>0</th>\n",
       "      <td>digital native [yes]</td>\n",
       "      <td>1.63</td>\n",
       "      <td>1.46</td>\n",
       "      <td>1.80</td>\n",
       "      <td>process info [yes]</td>\n",
       "      <td>1.0000</td>\n",
       "      <td>production</td>\n",
       "    </tr>\n",
       "    <tr>\n",
       "      <th>1</th>\n",
       "      <td>digital native [yes]</td>\n",
       "      <td>-1.26</td>\n",
       "      <td>-1.34</td>\n",
       "      <td>-1.18</td>\n",
       "      <td>explicit author [yes]</td>\n",
       "      <td>1.0000</td>\n",
       "      <td>author</td>\n",
       "    </tr>\n",
       "    <tr>\n",
       "      <th>2</th>\n",
       "      <td>digital native [yes]</td>\n",
       "      <td>-1.76</td>\n",
       "      <td>-2.18</td>\n",
       "      <td>-1.34</td>\n",
       "      <td>contact info [yes]</td>\n",
       "      <td>1.0000</td>\n",
       "      <td>author</td>\n",
       "    </tr>\n",
       "    <tr>\n",
       "      <th>3</th>\n",
       "      <td>digital native [yes]</td>\n",
       "      <td>0.30</td>\n",
       "      <td>0.22</td>\n",
       "      <td>0.37</td>\n",
       "      <td>explicit sourcing [yes]</td>\n",
       "      <td>1.0000</td>\n",
       "      <td>source</td>\n",
       "    </tr>\n",
       "    <tr>\n",
       "      <th>4</th>\n",
       "      <td>digital native [yes]</td>\n",
       "      <td>11.90</td>\n",
       "      <td>-268.51</td>\n",
       "      <td>292.31</td>\n",
       "      <td>bio info [yes]</td>\n",
       "      <td>0.0000</td>\n",
       "      <td>author</td>\n",
       "    </tr>\n",
       "    <tr>\n",
       "      <th>5</th>\n",
       "      <td>digital native [yes]</td>\n",
       "      <td>0.23</td>\n",
       "      <td>-0.12</td>\n",
       "      <td>0.57</td>\n",
       "      <td>family linking [yes]</td>\n",
       "      <td>1.0000</td>\n",
       "      <td>source</td>\n",
       "    </tr>\n",
       "    <tr>\n",
       "      <th>6</th>\n",
       "      <td>digital native [yes]</td>\n",
       "      <td>1.74</td>\n",
       "      <td>0.82</td>\n",
       "      <td>2.65</td>\n",
       "      <td>text disclosure [yes]</td>\n",
       "      <td>1.0000</td>\n",
       "      <td>update</td>\n",
       "    </tr>\n",
       "    <tr>\n",
       "      <th>7</th>\n",
       "      <td>digital native [yes]</td>\n",
       "      <td>0.10</td>\n",
       "      <td>0.01</td>\n",
       "      <td>0.19</td>\n",
       "      <td>internal linking [yes]</td>\n",
       "      <td>1.0000</td>\n",
       "      <td>source</td>\n",
       "    </tr>\n",
       "    <tr>\n",
       "      <th>8</th>\n",
       "      <td>digital native [yes]</td>\n",
       "      <td>1.52</td>\n",
       "      <td>1.00</td>\n",
       "      <td>2.03</td>\n",
       "      <td>document linking [yes]</td>\n",
       "      <td>1.0000</td>\n",
       "      <td>source</td>\n",
       "    </tr>\n",
       "    <tr>\n",
       "      <th>9</th>\n",
       "      <td>digital native [yes]</td>\n",
       "      <td>1.29</td>\n",
       "      <td>1.17</td>\n",
       "      <td>1.41</td>\n",
       "      <td>external linking [yes]</td>\n",
       "      <td>1.0000</td>\n",
       "      <td>source</td>\n",
       "    </tr>\n",
       "    <tr>\n",
       "      <th>10</th>\n",
       "      <td>hard news [yes]</td>\n",
       "      <td>-0.03</td>\n",
       "      <td>-0.17</td>\n",
       "      <td>0.11</td>\n",
       "      <td>contact info [yes]</td>\n",
       "      <td>1.0000</td>\n",
       "      <td>author</td>\n",
       "    </tr>\n",
       "    <tr>\n",
       "      <th>11</th>\n",
       "      <td>hard news [yes]</td>\n",
       "      <td>-0.26</td>\n",
       "      <td>-0.39</td>\n",
       "      <td>-0.13</td>\n",
       "      <td>bio info [yes]</td>\n",
       "      <td>0.0000</td>\n",
       "      <td>author</td>\n",
       "    </tr>\n",
       "    <tr>\n",
       "      <th>12</th>\n",
       "      <td>hard news [yes]</td>\n",
       "      <td>1.01</td>\n",
       "      <td>0.61</td>\n",
       "      <td>1.41</td>\n",
       "      <td>text disclosure [yes]</td>\n",
       "      <td>1.0000</td>\n",
       "      <td>update</td>\n",
       "    </tr>\n",
       "    <tr>\n",
       "      <th>13</th>\n",
       "      <td>hard news [yes]</td>\n",
       "      <td>0.15</td>\n",
       "      <td>0.09</td>\n",
       "      <td>0.21</td>\n",
       "      <td>internal linking [yes]</td>\n",
       "      <td>1.0000</td>\n",
       "      <td>source</td>\n",
       "    </tr>\n",
       "    <tr>\n",
       "      <th>14</th>\n",
       "      <td>hard news [yes]</td>\n",
       "      <td>1.80</td>\n",
       "      <td>1.48</td>\n",
       "      <td>2.13</td>\n",
       "      <td>document linking [yes]</td>\n",
       "      <td>1.0000</td>\n",
       "      <td>source</td>\n",
       "    </tr>\n",
       "    <tr>\n",
       "      <th>15</th>\n",
       "      <td>hard news [yes]</td>\n",
       "      <td>0.77</td>\n",
       "      <td>0.70</td>\n",
       "      <td>0.85</td>\n",
       "      <td>external linking [yes]</td>\n",
       "      <td>1.0000</td>\n",
       "      <td>source</td>\n",
       "    </tr>\n",
       "    <tr>\n",
       "      <th>16</th>\n",
       "      <td>hard news [yes]</td>\n",
       "      <td>1.07</td>\n",
       "      <td>1.01</td>\n",
       "      <td>1.12</td>\n",
       "      <td>explicit sourcing [yes]</td>\n",
       "      <td>1.0000</td>\n",
       "      <td>source</td>\n",
       "    </tr>\n",
       "    <tr>\n",
       "      <th>17</th>\n",
       "      <td>hard news [yes]</td>\n",
       "      <td>0.76</td>\n",
       "      <td>0.63</td>\n",
       "      <td>0.89</td>\n",
       "      <td>process info [yes]</td>\n",
       "      <td>1.0000</td>\n",
       "      <td>production</td>\n",
       "    </tr>\n",
       "    <tr>\n",
       "      <th>18</th>\n",
       "      <td>hard news [yes]</td>\n",
       "      <td>2.01</td>\n",
       "      <td>1.75</td>\n",
       "      <td>2.27</td>\n",
       "      <td>family linking [yes]</td>\n",
       "      <td>1.0000</td>\n",
       "      <td>source</td>\n",
       "    </tr>\n",
       "    <tr>\n",
       "      <th>19</th>\n",
       "      <td>hard news [yes]</td>\n",
       "      <td>0.32</td>\n",
       "      <td>0.26</td>\n",
       "      <td>0.38</td>\n",
       "      <td>explicit author [yes]</td>\n",
       "      <td>1.0000</td>\n",
       "      <td>author</td>\n",
       "    </tr>\n",
       "    <tr>\n",
       "      <th>20</th>\n",
       "      <td>public funding [yes]</td>\n",
       "      <td>-25.62</td>\n",
       "      <td>-4546.53</td>\n",
       "      <td>4495.29</td>\n",
       "      <td>bio info [yes]</td>\n",
       "      <td>0.0000</td>\n",
       "      <td>author</td>\n",
       "    </tr>\n",
       "    <tr>\n",
       "      <th>21</th>\n",
       "      <td>public funding [yes]</td>\n",
       "      <td>-3.69</td>\n",
       "      <td>-3.81</td>\n",
       "      <td>-3.58</td>\n",
       "      <td>explicit author [yes]</td>\n",
       "      <td>1.0000</td>\n",
       "      <td>author</td>\n",
       "    </tr>\n",
       "    <tr>\n",
       "      <th>22</th>\n",
       "      <td>public funding [yes]</td>\n",
       "      <td>-0.75</td>\n",
       "      <td>-0.96</td>\n",
       "      <td>-0.54</td>\n",
       "      <td>process info [yes]</td>\n",
       "      <td>1.0000</td>\n",
       "      <td>production</td>\n",
       "    </tr>\n",
       "    <tr>\n",
       "      <th>23</th>\n",
       "      <td>public funding [yes]</td>\n",
       "      <td>0.97</td>\n",
       "      <td>0.80</td>\n",
       "      <td>1.14</td>\n",
       "      <td>contact info [yes]</td>\n",
       "      <td>1.0000</td>\n",
       "      <td>author</td>\n",
       "    </tr>\n",
       "    <tr>\n",
       "      <th>24</th>\n",
       "      <td>public funding [yes]</td>\n",
       "      <td>-0.15</td>\n",
       "      <td>-0.24</td>\n",
       "      <td>-0.06</td>\n",
       "      <td>external linking [yes]</td>\n",
       "      <td>1.0000</td>\n",
       "      <td>source</td>\n",
       "    </tr>\n",
       "    <tr>\n",
       "      <th>25</th>\n",
       "      <td>public funding [yes]</td>\n",
       "      <td>0.36</td>\n",
       "      <td>0.29</td>\n",
       "      <td>0.44</td>\n",
       "      <td>explicit sourcing [yes]</td>\n",
       "      <td>1.0000</td>\n",
       "      <td>source</td>\n",
       "    </tr>\n",
       "    <tr>\n",
       "      <th>26</th>\n",
       "      <td>public funding [yes]</td>\n",
       "      <td>-0.04</td>\n",
       "      <td>-0.27</td>\n",
       "      <td>0.19</td>\n",
       "      <td>document linking [yes]</td>\n",
       "      <td>1.0000</td>\n",
       "      <td>source</td>\n",
       "    </tr>\n",
       "    <tr>\n",
       "      <th>27</th>\n",
       "      <td>public funding [yes]</td>\n",
       "      <td>-1.86</td>\n",
       "      <td>-2.51</td>\n",
       "      <td>-1.21</td>\n",
       "      <td>text disclosure [yes]</td>\n",
       "      <td>1.0000</td>\n",
       "      <td>update</td>\n",
       "    </tr>\n",
       "    <tr>\n",
       "      <th>28</th>\n",
       "      <td>public funding [yes]</td>\n",
       "      <td>2.87</td>\n",
       "      <td>2.62</td>\n",
       "      <td>3.11</td>\n",
       "      <td>family linking [yes]</td>\n",
       "      <td>1.0000</td>\n",
       "      <td>source</td>\n",
       "    </tr>\n",
       "    <tr>\n",
       "      <th>29</th>\n",
       "      <td>public funding [yes]</td>\n",
       "      <td>1.13</td>\n",
       "      <td>1.05</td>\n",
       "      <td>1.22</td>\n",
       "      <td>internal linking [yes]</td>\n",
       "      <td>1.0000</td>\n",
       "      <td>source</td>\n",
       "    </tr>\n",
       "    <tr>\n",
       "      <th>30</th>\n",
       "      <td>quality [yes]</td>\n",
       "      <td>2.22</td>\n",
       "      <td>1.76</td>\n",
       "      <td>2.67</td>\n",
       "      <td>document linking [yes]</td>\n",
       "      <td>1.0000</td>\n",
       "      <td>source</td>\n",
       "    </tr>\n",
       "    <tr>\n",
       "      <th>31</th>\n",
       "      <td>quality [yes]</td>\n",
       "      <td>0.10</td>\n",
       "      <td>0.03</td>\n",
       "      <td>0.16</td>\n",
       "      <td>explicit sourcing [yes]</td>\n",
       "      <td>1.0000</td>\n",
       "      <td>source</td>\n",
       "    </tr>\n",
       "    <tr>\n",
       "      <th>32</th>\n",
       "      <td>quality [yes]</td>\n",
       "      <td>0.89</td>\n",
       "      <td>0.81</td>\n",
       "      <td>0.96</td>\n",
       "      <td>explicit author [yes]</td>\n",
       "      <td>1.0000</td>\n",
       "      <td>author</td>\n",
       "    </tr>\n",
       "    <tr>\n",
       "      <th>33</th>\n",
       "      <td>quality [yes]</td>\n",
       "      <td>20.79</td>\n",
       "      <td>-259.61</td>\n",
       "      <td>301.20</td>\n",
       "      <td>bio info [yes]</td>\n",
       "      <td>0.0000</td>\n",
       "      <td>author</td>\n",
       "    </tr>\n",
       "    <tr>\n",
       "      <th>34</th>\n",
       "      <td>quality [yes]</td>\n",
       "      <td>-0.29</td>\n",
       "      <td>-0.61</td>\n",
       "      <td>0.03</td>\n",
       "      <td>family linking [yes]</td>\n",
       "      <td>1.0000</td>\n",
       "      <td>source</td>\n",
       "    </tr>\n",
       "    <tr>\n",
       "      <th>35</th>\n",
       "      <td>quality [yes]</td>\n",
       "      <td>-0.06</td>\n",
       "      <td>-0.24</td>\n",
       "      <td>0.12</td>\n",
       "      <td>contact info [yes]</td>\n",
       "      <td>1.0000</td>\n",
       "      <td>author</td>\n",
       "    </tr>\n",
       "    <tr>\n",
       "      <th>36</th>\n",
       "      <td>quality [yes]</td>\n",
       "      <td>0.75</td>\n",
       "      <td>0.57</td>\n",
       "      <td>0.92</td>\n",
       "      <td>process info [yes]</td>\n",
       "      <td>1.0000</td>\n",
       "      <td>production</td>\n",
       "    </tr>\n",
       "    <tr>\n",
       "      <th>37</th>\n",
       "      <td>quality [yes]</td>\n",
       "      <td>0.02</td>\n",
       "      <td>-0.06</td>\n",
       "      <td>0.10</td>\n",
       "      <td>internal linking [yes]</td>\n",
       "      <td>1.0000</td>\n",
       "      <td>source</td>\n",
       "    </tr>\n",
       "    <tr>\n",
       "      <th>38</th>\n",
       "      <td>quality [yes]</td>\n",
       "      <td>2.89</td>\n",
       "      <td>2.07</td>\n",
       "      <td>3.71</td>\n",
       "      <td>text disclosure [yes]</td>\n",
       "      <td>1.0000</td>\n",
       "      <td>update</td>\n",
       "    </tr>\n",
       "    <tr>\n",
       "      <th>39</th>\n",
       "      <td>quality [yes]</td>\n",
       "      <td>1.60</td>\n",
       "      <td>1.49</td>\n",
       "      <td>1.71</td>\n",
       "      <td>external linking [yes]</td>\n",
       "      <td>1.0000</td>\n",
       "      <td>source</td>\n",
       "    </tr>\n",
       "  </tbody>\n",
       "</table>\n",
       "</div>"
      ],
      "text/plain": [
       "                       x      B       lb       ub                        y  \\\n",
       "0   digital native [yes]   1.63     1.46     1.80       process info [yes]   \n",
       "1   digital native [yes]  -1.26    -1.34    -1.18    explicit author [yes]   \n",
       "2   digital native [yes]  -1.76    -2.18    -1.34       contact info [yes]   \n",
       "3   digital native [yes]   0.30     0.22     0.37  explicit sourcing [yes]   \n",
       "4   digital native [yes]  11.90  -268.51   292.31           bio info [yes]   \n",
       "5   digital native [yes]   0.23    -0.12     0.57     family linking [yes]   \n",
       "6   digital native [yes]   1.74     0.82     2.65    text disclosure [yes]   \n",
       "7   digital native [yes]   0.10     0.01     0.19   internal linking [yes]   \n",
       "8   digital native [yes]   1.52     1.00     2.03   document linking [yes]   \n",
       "9   digital native [yes]   1.29     1.17     1.41   external linking [yes]   \n",
       "10       hard news [yes]  -0.03    -0.17     0.11       contact info [yes]   \n",
       "11       hard news [yes]  -0.26    -0.39    -0.13           bio info [yes]   \n",
       "12       hard news [yes]   1.01     0.61     1.41    text disclosure [yes]   \n",
       "13       hard news [yes]   0.15     0.09     0.21   internal linking [yes]   \n",
       "14       hard news [yes]   1.80     1.48     2.13   document linking [yes]   \n",
       "15       hard news [yes]   0.77     0.70     0.85   external linking [yes]   \n",
       "16       hard news [yes]   1.07     1.01     1.12  explicit sourcing [yes]   \n",
       "17       hard news [yes]   0.76     0.63     0.89       process info [yes]   \n",
       "18       hard news [yes]   2.01     1.75     2.27     family linking [yes]   \n",
       "19       hard news [yes]   0.32     0.26     0.38    explicit author [yes]   \n",
       "20  public funding [yes] -25.62 -4546.53  4495.29           bio info [yes]   \n",
       "21  public funding [yes]  -3.69    -3.81    -3.58    explicit author [yes]   \n",
       "22  public funding [yes]  -0.75    -0.96    -0.54       process info [yes]   \n",
       "23  public funding [yes]   0.97     0.80     1.14       contact info [yes]   \n",
       "24  public funding [yes]  -0.15    -0.24    -0.06   external linking [yes]   \n",
       "25  public funding [yes]   0.36     0.29     0.44  explicit sourcing [yes]   \n",
       "26  public funding [yes]  -0.04    -0.27     0.19   document linking [yes]   \n",
       "27  public funding [yes]  -1.86    -2.51    -1.21    text disclosure [yes]   \n",
       "28  public funding [yes]   2.87     2.62     3.11     family linking [yes]   \n",
       "29  public funding [yes]   1.13     1.05     1.22   internal linking [yes]   \n",
       "30         quality [yes]   2.22     1.76     2.67   document linking [yes]   \n",
       "31         quality [yes]   0.10     0.03     0.16  explicit sourcing [yes]   \n",
       "32         quality [yes]   0.89     0.81     0.96    explicit author [yes]   \n",
       "33         quality [yes]  20.79  -259.61   301.20           bio info [yes]   \n",
       "34         quality [yes]  -0.29    -0.61     0.03     family linking [yes]   \n",
       "35         quality [yes]  -0.06    -0.24     0.12       contact info [yes]   \n",
       "36         quality [yes]   0.75     0.57     0.92       process info [yes]   \n",
       "37         quality [yes]   0.02    -0.06     0.10   internal linking [yes]   \n",
       "38         quality [yes]   2.89     2.07     3.71    text disclosure [yes]   \n",
       "39         quality [yes]   1.60     1.49     1.71   external linking [yes]   \n",
       "\n",
       "   converged   dimension  \n",
       "0     1.0000  production  \n",
       "1     1.0000      author  \n",
       "2     1.0000      author  \n",
       "3     1.0000      source  \n",
       "4     0.0000      author  \n",
       "5     1.0000      source  \n",
       "6     1.0000      update  \n",
       "7     1.0000      source  \n",
       "8     1.0000      source  \n",
       "9     1.0000      source  \n",
       "10    1.0000      author  \n",
       "11    0.0000      author  \n",
       "12    1.0000      update  \n",
       "13    1.0000      source  \n",
       "14    1.0000      source  \n",
       "15    1.0000      source  \n",
       "16    1.0000      source  \n",
       "17    1.0000  production  \n",
       "18    1.0000      source  \n",
       "19    1.0000      author  \n",
       "20    0.0000      author  \n",
       "21    1.0000      author  \n",
       "22    1.0000  production  \n",
       "23    1.0000      author  \n",
       "24    1.0000      source  \n",
       "25    1.0000      source  \n",
       "26    1.0000      source  \n",
       "27    1.0000      update  \n",
       "28    1.0000      source  \n",
       "29    1.0000      source  \n",
       "30    1.0000      source  \n",
       "31    1.0000      source  \n",
       "32    1.0000      author  \n",
       "33    0.0000      author  \n",
       "34    1.0000      source  \n",
       "35    1.0000      author  \n",
       "36    1.0000  production  \n",
       "37    1.0000      source  \n",
       "38    1.0000      update  \n",
       "39    1.0000      source  "
      ]
     },
     "execution_count": 111,
     "metadata": {},
     "output_type": "execute_result"
    }
   ],
   "source": [
    "#We sort the results of this multiverse analysis.\n",
    "results.sort_values(\"x\", inplace=True); results.reset_index(drop=True, inplace=True); results"
   ]
  },
  {
   "cell_type": "code",
   "execution_count": 113,
   "id": "659e6a6d-7e1a-4e93-a2b3-5320173145eb",
   "metadata": {
    "tags": []
   },
   "outputs": [],
   "source": [
    "#We specificy the order.\n",
    "y_order = [\"explicit author [yes]\", \"contact info [yes]\", \n",
    "           \"timestamp disclosure [yes]\", \"text disclosure [yes]\",\n",
    "           \"internal linking [yes]\", \"family linking [yes]\", \"external linking [yes]\", \"document linking [yes]\",\n",
    "           \"explicit sourcing [yes]\",\n",
    "           \"process info [yes]\"]"
   ]
  },
  {
   "cell_type": "code",
   "execution_count": 114,
   "id": "7bf5cd9b-3770-4489-a818-06e2169c7096",
   "metadata": {
    "tags": []
   },
   "outputs": [],
   "source": [
    "#We exclude the wrongly converged models.\n",
    "results_wo_bio = results[results.y !=  \"bio info [yes]\"].sort_values(by=\"y\", key=lambda x: x.map({v: -i for i, v in enumerate(y_order)}))"
   ]
  },
  {
   "cell_type": "code",
   "execution_count": 115,
   "id": "4036bff9-b68d-4903-897b-534bf0ca0aa1",
   "metadata": {
    "tags": []
   },
   "outputs": [],
   "source": [
    "#We specify the order of the facets.\n",
    "facet_order = [\"public funding [yes]\", \"digital native [yes]\", \"quality [yes]\", \"hard news [yes]\"]"
   ]
  },
  {
   "cell_type": "code",
   "execution_count": 116,
   "id": "df8a2b22-18b8-4478-b990-ed146a1cad87",
   "metadata": {
    "tags": []
   },
   "outputs": [],
   "source": [
    "#We specify the colors used.\n",
    "custom_palette = [\"#FFD098\", \"#14A5B6\", \"#D61F33\", \"#8BE1AF\"]"
   ]
  },
  {
   "cell_type": "code",
   "execution_count": 117,
   "id": "bfd22dbb-dd14-40df-8c50-4e0c05e5bd1f",
   "metadata": {
    "tags": []
   },
   "outputs": [
    {
     "name": "stderr",
     "output_type": "stream",
     "text": [
      "C:\\Users\\dubel\\AppData\\Local\\Programs\\Python\\Python311\\Lib\\site-packages\\seaborn\\axisgrid.py:123: UserWarning: The figure layout has changed to tight\n",
      "  self._figure.tight_layout(*args, **kwargs)\n",
      "C:\\Users\\dubel\\AppData\\Local\\Programs\\Python\\Python311\\Lib\\site-packages\\seaborn\\axisgrid.py:123: UserWarning: The figure layout has changed to tight\n",
      "  self._figure.tight_layout(*args, **kwargs)\n"
     ]
    },
    {
     "data": {
      "image/png": "[encoded data removed]",
      "text/plain": [
       "<Figure size 1353.38x1200 with 4 Axes>"
      ]
     },
     "metadata": {},
     "output_type": "display_data"
    }
   ],
   "source": [
    "results_wo_bio[\"facet_col\"] = results_wo_bio[\"x\"]\n",
    "\n",
    "#We define our font.\n",
    "plt.rcParams['font.family'] = ['Latin Modern Roman']\n",
    "#We specify our style and plot the effect for each main predictor on each dummy.\n",
    "g = sns.FacetGrid(results_wo_bio, col=\"facet_col\", col_wrap=2, height=6, sharex=False, col_order=facet_order,\n",
    "                 hue=\"dimension\", palette=custom_palette)\n",
    "\n",
    "sns.set(font_scale=1, style=\"whitegrid\")\n",
    "\n",
    "#We add a line for 0.\n",
    "g.map(plt.axvline, x=0, linestyle=\"--\", color=\"black\")\n",
    "g.map_dataframe(plt.hlines, y=\"y\", xmin=\"lb\", xmax=\"ub\", linewidth=1)\n",
    "g.map(plt.scatter, \"B\", \"y\", marker=\"o\")\n",
    "\n",
    "plt.rcParams['font.family'] = ['Latin Modern Roman']\n",
    "g.add_legend(title=\"\", bbox_to_anchor=(1.01, 0.1), ncol=1, frameon=True, fancybox=True)\n",
    "\n",
    "g.set_axis_labels(\"\", \"\")\n",
    "g.set_titles(col_template=\"{col_name}\")\n",
    "\n",
    "plt.savefig(f\"transparency_multiverse.pdf\", format=\"pdf\", bbox_inches=\"tight\")"
   ]
  },
  {
   "cell_type": "code",
   "execution_count": 118,
   "id": "1d2768c0-b978-4e57-a7e9-74a5ad58efb5",
   "metadata": {
    "tags": []
   },
   "outputs": [],
   "source": [
    "#W write away the results.\n",
    "results.to_csv(\"multiverse_results.csv\")"
   ]
  },
  {
   "cell_type": "markdown",
   "id": "20659ff4-1b1c-4b0e-bcb5-c5110292fed3",
   "metadata": {
    "tags": []
   },
   "source": [
    "### fe transparency index ! see R script"
   ]
  },
  {
   "cell_type": "code",
   "execution_count": 119,
   "id": "63ce9ecd-b933-4516-9c8e-10027661a74d",
   "metadata": {
    "tags": []
   },
   "outputs": [],
   "source": [
    "#We create a function that creates nested section names within outlet.\n",
    "#As well as nested author names, within section, within outlet.\n",
    "#We simply do so by appending the strings.\n",
    "def get_nested_section_and_author(x):\n",
    "    source = str(x[\"news_source\"])\n",
    "    section = str(x[\"section_clean\"])\n",
    "    author = str(x[\"author_clean\"])\n",
    "    \n",
    "    nested_section = source + \"_\" + section\n",
    "    nested_author = author + \"_\" + nested_section\n",
    "    \n",
    "    return nested_section, nested_author"
   ]
  },
  {
   "cell_type": "code",
   "execution_count": 120,
   "id": "7f28fc48-9c80-4f03-a098-686e0e193dee",
   "metadata": {
    "tags": []
   },
   "outputs": [
    {
     "name": "stderr",
     "output_type": "stream",
     "text": [
      "100%|██████████████████████████████████████████████████████████████████████████| 27096/27096 [00:03<00:00, 9013.06it/s]\n",
      "C:\\Users\\dubel\\AppData\\Local\\Temp\\ipykernel_9444\\3062151948.py:2: SettingWithCopyWarning: \n",
      "A value is trying to be set on a copy of a slice from a DataFrame.\n",
      "Try using .loc[row_indexer,col_indexer] = value instead\n",
      "\n",
      "See the caveats in the documentation: https://pandas.pydata.org/pandas-docs/stable/user_guide/indexing.html#returning-a-view-versus-a-copy\n",
      "  tp[[\"nested_section\", \"nested_author\"]] = tp.progress_apply(lambda x: pd.Series(get_nested_section_and_author(x)), axis=1)\n",
      "C:\\Users\\dubel\\AppData\\Local\\Temp\\ipykernel_9444\\3062151948.py:2: SettingWithCopyWarning: \n",
      "A value is trying to be set on a copy of a slice from a DataFrame.\n",
      "Try using .loc[row_indexer,col_indexer] = value instead\n",
      "\n",
      "See the caveats in the documentation: https://pandas.pydata.org/pandas-docs/stable/user_guide/indexing.html#returning-a-view-versus-a-copy\n",
      "  tp[[\"nested_section\", \"nested_author\"]] = tp.progress_apply(lambda x: pd.Series(get_nested_section_and_author(x)), axis=1)\n"
     ]
    }
   ],
   "source": [
    "#We apply the function.\n",
    "tp[[\"nested_section\", \"nested_author\"]] = tp.progress_apply(lambda x: pd.Series(get_nested_section_and_author(x)), axis=1)"
   ]
  },
  {
   "cell_type": "code",
   "execution_count": 121,
   "id": "2934d770-09fa-47b0-8eed-e490179a9c67",
   "metadata": {
    "tags": []
   },
   "outputs": [],
   "source": [
    "#We extract all variables that we need.\n",
    "fe_tp = tp[[\"transparency_index\", \"news_source\", \"nested_section\", \"nested_author\", \"dateMonth\"]]"
   ]
  },
  {
   "cell_type": "code",
   "execution_count": 122,
   "id": "bbb0e63b-7b4e-4575-b8a3-072f46e3adf7",
   "metadata": {
    "tags": []
   },
   "outputs": [
    {
     "data": {
      "text/plain": [
       "news_source\n",
       "AD            0.228665\n",
       "NOS           0.190795\n",
       "NRC           0.334506\n",
       "NU            0.229099\n",
       "Telegraaf     0.086849\n",
       "Volkskrant    0.267309\n",
       "Name: transparency_index, dtype: float64"
      ]
     },
     "execution_count": 122,
     "metadata": {},
     "output_type": "execute_result"
    }
   ],
   "source": [
    "#We quickly calculate the mean transparency index scores per outlet.\n",
    "fe_tp.groupby(\"news_source\").transparency_index.mean()"
   ]
  },
  {
   "cell_type": "code",
   "execution_count": 123,
   "id": "3e9fe7dc-18b9-4def-b843-ee6558abb3cd",
   "metadata": {
    "tags": []
   },
   "outputs": [],
   "source": [
    "#We calculate the prevalence of the authors.\n",
    "authors = fe_tp[\"nested_author\"].value_counts()"
   ]
  },
  {
   "cell_type": "code",
   "execution_count": 124,
   "id": "ee186ced-4534-4f44-9f80-17ba63697e44",
   "metadata": {
    "tags": []
   },
   "outputs": [],
   "source": [
    "#We indicate the rows of nested authors that only occur once.\n",
    "rare_authors_rows = fe_tp[\"nested_author\"].isin(authors[authors == 1].index)"
   ]
  },
  {
   "cell_type": "code",
   "execution_count": 125,
   "id": "f640e930-bd9b-4a43-b89f-69af399ba600",
   "metadata": {
    "tags": []
   },
   "outputs": [],
   "source": [
    "#We exclude these rare authors.\n",
    "fe_tp_2 = fe_tp[~rare_authors_rows]"
   ]
  },
  {
   "cell_type": "code",
   "execution_count": 127,
   "id": "3e37f429-a061-4148-b7cd-a70e15402449",
   "metadata": {
    "tags": []
   },
   "outputs": [
    {
     "data": {
      "text/plain": [
       "2"
      ]
     },
     "execution_count": 127,
     "metadata": {},
     "output_type": "execute_result"
    }
   ],
   "source": [
    "#We validate that now indeed \n",
    "fe_tp_2.nested_section.value_counts().min()"
   ]
  },
  {
   "cell_type": "code",
   "execution_count": 126,
   "id": "02a7355f-66e3-41cb-8218-198945811c04",
   "metadata": {
    "tags": []
   },
   "outputs": [],
   "source": [
    "#We write this data away.\n",
    "fe_tp_2.to_csv(\"nested_transparency.csv\")"
   ]
  },
  {
   "cell_type": "markdown",
   "id": "fbc242fd-d8bb-4a68-922d-97121941555b",
   "metadata": {
    "jp-MarkdownHeadingCollapsed": true,
    "tags": []
   },
   "source": [
    "## bin"
   ]
  },
  {
   "cell_type": "code",
   "execution_count": 110,
   "id": "737522c3-96e9-4ab0-b5be-9c6002ef5dca",
   "metadata": {
    "tags": []
   },
   "outputs": [],
   "source": [
    "df_int = pd.DataFrame({\"category\": [\"fixed\", \"random\", \"news source\", \"section\", \"author\"],\n",
    "                       \"percentage\": [100, 63, 38, 10, 18]})\n",
    "df_int = df_int.sort_values(by=\"percentage\", ascending=False)\n",
    "int_palette = [\"darkgrey\", \"lightgrey\", \"lightsteelblue\", \"royalblue\", \"cornflowerblue\"]"
   ]
  },
  {
   "cell_type": "code",
   "execution_count": 111,
   "id": "c086b43e-2c58-4b0d-957d-59b9f24c192b",
   "metadata": {
    "tags": []
   },
   "outputs": [
    {
     "data": {
      "image/png": "[encoded data removed]",
      "text/plain": [
       "<Figure size 400x400 with 1 Axes>"
      ]
     },
     "metadata": {},
     "output_type": "display_data"
    }
   ],
   "source": [
    "fig, ax = plt.subplots(figsize=(4, 4))\n",
    "sns.set(font_scale=1.2, palette=custom_palette, style=\"whitegrid\")\n",
    "sns.barplot(y=\"percentage\", hue=\"category\", data=df_int, palette=int_palette, dodge=False)\n",
    "ax.legend(bbox_to_anchor=(1.3, 0), loc=\"lower center\", ncol=1)\n",
    "ax.set_ylabel(\"\")\n",
    "def format_n(value, _):\n",
    "    return f\"{value:.0f}%\"\n",
    "ax.yaxis.set_major_formatter(FuncFormatter(format_n))\n",
    "plt.xticks(rotation=0)\n",
    "plt.savefig(\"int_analysis.pdf\", format=\"pdf\", bbox_inches=\"tight\")"
   ]
  },
  {
   "cell_type": "code",
   "execution_count": null,
   "id": "926cb1dd-ad31-43cc-aa2e-4675c282c031",
   "metadata": {},
   "outputs": [],
   "source": []
  },
  {
   "cell_type": "code",
   "execution_count": null,
   "id": "3d7e96f5-9a67-4ba1-ba1e-e7bb2dcfa618",
   "metadata": {
    "tags": []
   },
   "outputs": [],
   "source": [
    "from sklearn.preprocessing import normalize\n",
    "data_scaled = normalize(test)\n",
    "data_scaled = pd.DataFrame(data_scaled, columns=test.columns)\n",
    "data_scaled.head()"
   ]
  },
  {
   "cell_type": "code",
   "execution_count": null,
   "id": "9993bc47-ba66-47b8-9291-19e7c2cb6423",
   "metadata": {
    "tags": []
   },
   "outputs": [],
   "source": [
    "import scipy.cluster.hierarchy as shc\n",
    "plt.figure(figsize=(10, 7))  \n",
    "plt.title(\"Dendrograms\")  \n",
    "dend = shc.dendrogram(shc.linkage(data_scaled, method='ward'))"
   ]
  },
  {
   "cell_type": "code",
   "execution_count": null,
   "id": "20462465-a5cd-4510-af61-a0760124906d",
   "metadata": {
    "tags": []
   },
   "outputs": [],
   "source": [
    "from sklearn.cluster import AgglomerativeClustering\n",
    "cluster = AgglomerativeClustering(n_clusters=2, affinity='euclidean', linkage='ward')  \n",
    "test = cluster.fit_predict(data_scaled)"
   ]
  },
  {
   "cell_type": "code",
   "execution_count": null,
   "id": "729324e0-aafd-4f4b-b1ba-1e041848c2d2",
   "metadata": {
    "tags": []
   },
   "outputs": [],
   "source": [
    "df[\"cluster\"] = test"
   ]
  },
  {
   "cell_type": "code",
   "execution_count": null,
   "id": "064aec1b-dd22-494e-99e4-6b92477ca571",
   "metadata": {
    "tags": []
   },
   "outputs": [],
   "source": [
    "df.cluster"
   ]
  },
  {
   "cell_type": "code",
   "execution_count": null,
   "id": "6dd54891-f279-420a-96d4-96e17c11371c",
   "metadata": {
    "tags": []
   },
   "outputs": [],
   "source": [
    "plt.figure(figsize=(10, 7))  \n",
    "plt.scatter(data_scaled['Milk'], data_scaled['Grocery'], c=cluster.labels_) "
   ]
  },
  {
   "cell_type": "code",
   "execution_count": null,
   "id": "068acbf2-bb95-42f2-83cc-697db2c70b54",
   "metadata": {},
   "outputs": [],
   "source": []
  },
  {
   "cell_type": "code",
   "execution_count": null,
   "id": "8b20aad6-188b-47cc-a674-8eb97df607b7",
   "metadata": {
    "tags": []
   },
   "outputs": [],
   "source": [
    "# Assuming results_wo_bio is your DataFrame\n",
    "results_wo_bio[\"facet_col\"] = results_wo_bio[\"x\"]\n",
    "\n",
    "# Specify the order of outer and inner facets\n",
    "  # Replace with your actual inner facet values\n",
    "\n",
    "# Create a FacetGrid with nested facets\n",
    "g = sns.FacetGrid(results_wo_bio, col=\"facet_col\", \n",
    "                  row=\"dimension\",\n",
    "                  height=4, aspect=1.5, sharey=False)\n",
    "\n",
    "sns.set(font_scale=1, style=\"whitegrid\")\n",
    "\n",
    "# Map hlines, scatter plot, and axvline to each facet\n",
    "g.map_dataframe(plt.hlines, y=\"y\", xmin=\"lb\", xmax=\"ub\", color='black', linewidth=1)\n",
    "g.map(plt.scatter, \"B\", \"y\", color='black', marker='o')\n",
    "g.map(plt.axvline, x=0, linestyle=\"--\", color=\"red\", linewidth=1)\n",
    "\n",
    "# Customize appearance\n",
    "g.set_axis_labels(\"\", \"\")\n",
    "g.set_titles(col_template=\"{col_name}\", row_template=\"{row_name}\")\n",
    "\n",
    "# Show the plot\n",
    "plt.show()"
   ]
  }
 ],
 "metadata": {
  "kernelspec": {
   "display_name": "Python 3 (ipykernel)",
   "language": "python",
   "name": "python3"
  },
  "language_info": {
   "codemirror_mode": {
    "name": "ipython",
    "version": 3
   },
   "file_extension": ".py",
   "mimetype": "text/x-python",
   "name": "python",
   "nbconvert_exporter": "python",
   "pygments_lexer": "ipython3",
   "version": "3.11.3"
  }
 },
 "nbformat": 4,
 "nbformat_minor": 5
}
