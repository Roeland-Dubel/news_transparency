{
 "cells": [
  {
   "cell_type": "code",
   "execution_count": 1,
   "id": "5c0be9ad-6b6f-475f-b94a-c006d387208c",
   "metadata": {
    "tags": []
   },
   "outputs": [
    {
     "name": "stderr",
     "output_type": "stream",
     "text": [
      "── \u001b[1mAttaching core tidyverse packages\u001b[22m ──────────────────────────────────────────────────────────────── tidyverse 2.0.0 ──\n",
      "\u001b[32m✔\u001b[39m \u001b[34mdplyr    \u001b[39m 1.1.2     \u001b[32m✔\u001b[39m \u001b[34mreadr    \u001b[39m 2.1.4\n",
      "\u001b[32m✔\u001b[39m \u001b[34mforcats  \u001b[39m 1.0.0     \u001b[32m✔\u001b[39m \u001b[34mstringr  \u001b[39m 1.5.0\n",
      "\u001b[32m✔\u001b[39m \u001b[34mggplot2  \u001b[39m 3.4.2     \u001b[32m✔\u001b[39m \u001b[34mtibble   \u001b[39m 3.2.1\n",
      "\u001b[32m✔\u001b[39m \u001b[34mlubridate\u001b[39m 1.9.2     \u001b[32m✔\u001b[39m \u001b[34mtidyr    \u001b[39m 1.3.0\n",
      "\u001b[32m✔\u001b[39m \u001b[34mpurrr    \u001b[39m 1.0.1     \n",
      "── \u001b[1mConflicts\u001b[22m ────────────────────────────────────────────────────────────────────────────────── tidyverse_conflicts() ──\n",
      "\u001b[31m✖\u001b[39m \u001b[34mdplyr\u001b[39m::\u001b[32mfilter()\u001b[39m masks \u001b[34mstats\u001b[39m::filter()\n",
      "\u001b[31m✖\u001b[39m \u001b[34mdplyr\u001b[39m::\u001b[32mlag()\u001b[39m    masks \u001b[34mstats\u001b[39m::lag()\n",
      "\u001b[36mℹ\u001b[39m Use the conflicted package (\u001b[3m\u001b[34m<http://conflicted.r-lib.org/>\u001b[39m\u001b[23m) to force all conflicts to become errors\n",
      "Loading required package: Matrix\n",
      "\n",
      "Warning message:\n",
      "\"package 'Matrix' was built under R version 4.3.2\"\n",
      "\n",
      "Attaching package: 'Matrix'\n",
      "\n",
      "\n",
      "The following objects are masked from 'package:tidyr':\n",
      "\n",
      "    expand, pack, unpack\n",
      "\n",
      "\n",
      "Learn more about sjPlot with 'browseVignettes(\"sjPlot\")'.\n",
      "\n",
      "\n",
      "Please cite as: \n",
      "\n",
      "\n",
      " Hlavac, Marek (2022). stargazer: Well-Formatted Regression and Summary Statistics Tables.\n",
      "\n",
      " R package version 5.2.3. https://CRAN.R-project.org/package=stargazer \n",
      "\n",
      "\n"
     ]
    }
   ],
   "source": [
    "#We read in the libraries.\n",
    "library(tidyverse)\n",
    "library(lme4)\n",
    "library(sjPlot)\n",
    "library(stargazer)"
   ]
  },
  {
   "cell_type": "code",
   "execution_count": 3,
   "id": "030e4aa9-424d-4fc1-bd93-a923fb763eb4",
   "metadata": {
    "tags": []
   },
   "outputs": [],
   "source": [
    "#We read in the nested file.\n",
    "df <- read.csv(\"41_nested_data.csv\", row.names=1)"
   ]
  },
  {
   "cell_type": "code",
   "execution_count": null,
   "id": "605afea0-68b8-4783-a4a0-abec8aebe20e",
   "metadata": {
    "tags": []
   },
   "outputs": [],
   "source": [
    "#We estimate an empty intercept model, predicting transparency index by the clusters nested author, nested section, and outlet.\n",
    "empty <- lmer(transparency_index ~ 1 + (1|nested_author) + (1|nested_section) + (1|news_source), data = df, control = lmerControl(optimizer = \"bobyqa\", optCtrl = list(maxfun = 1000000)))"
   ]
  },
  {
   "cell_type": "code",
   "execution_count": 5,
   "id": "770af404-a9d2-47f7-bf7b-d4c1638ab4e2",
   "metadata": {
    "tags": []
   },
   "outputs": [
    {
     "data": {
      "text/plain": [
       "Linear mixed model fit by REML ['lmerMod']\n",
       "Formula: transparency_index ~ 1 + (1 | nested_author) + (1 | nested_section) +  \n",
       "    (1 | news_source)\n",
       "   Data: df\n",
       "Control: lmerControl(optimizer = \"bobyqa\", optCtrl = list(maxfun = 1e+06))\n",
       "\n",
       "REML criterion at convergence: -40936.3\n",
       "\n",
       "Scaled residuals: \n",
       "    Min      1Q  Median      3Q     Max \n",
       "-3.5229 -0.6513 -0.0995  0.5087  5.3736 \n",
       "\n",
       "Random effects:\n",
       " Groups         Name        Variance Std.Dev.\n",
       " nested_author  (Intercept) 0.004437 0.06661 \n",
       " nested_section (Intercept) 0.002540 0.05040 \n",
       " news_source    (Intercept) 0.008664 0.09308 \n",
       " Residual                   0.009027 0.09501 \n",
       "Number of obs: 23546, groups:  \n",
       "nested_author, 2124; nested_section, 327; news_source, 6\n",
       "\n",
       "Fixed effects:\n",
       "            Estimate Std. Error t value\n",
       "(Intercept)  0.23450    0.03825   6.131"
      ]
     },
     "metadata": {},
     "output_type": "display_data"
    }
   ],
   "source": [
    "#wr print the output.\n",
    "summary(empty)"
   ]
  },
  {
   "cell_type": "code",
   "execution_count": 7,
   "id": "003dbdc0-a4b2-48eb-8b27-8776f675106a",
   "metadata": {
    "tags": []
   },
   "outputs": [
    {
     "name": "stderr",
     "output_type": "stream",
     "text": [
      "Warning message:\n",
      "\"package 'modelsummary' was built under R version 4.3.1\"\n"
     ]
    }
   ],
   "source": [
    "library(modelsummary)"
   ]
  },
  {
   "cell_type": "code",
   "execution_count": 8,
   "id": "ca17f951-3ad5-48b9-b1ae-6fe7b13e5a34",
   "metadata": {
    "tags": []
   },
   "outputs": [
    {
     "name": "stderr",
     "output_type": "stream",
     "text": [
      "Warning message:\n",
      "\"To compile a LaTeX document with this table, the following commands must be placed in the document preamble:\n",
      "\n",
      "\\usepackage{booktabs}\n",
      "\\usepackage{siunitx}\n",
      "\\newcolumntype{d}{S[\n",
      "    input-open-uncertainty=,\n",
      "    input-close-uncertainty=,\n",
      "    parse-numbers = false,\n",
      "    table-align-text-pre=false,\n",
      "    table-align-text-post=false\n",
      " ]}\n",
      "\n",
      "To disable `siunitx` and prevent `modelsummary` from wrapping numeric entries in `\\num{}`, call:\n",
      "\n",
      "options(\"modelsummary_format_numeric_latex\" = \"plain\")\n",
      " This warning appears once per session.\"\n"
     ]
    },
    {
     "data": {
      "text/plain": [
       "\\begin{table}\n",
       "\\centering\n",
       "\\begin{tabular}[t]{lc}\n",
       "\\toprule\n",
       "  & (1)\\\\\n",
       "\\midrule\n",
       "(Intercept) & \\num{0.235}\\\\\n",
       " & (\\num{0.038})\\\\\n",
       "SD (Intercept nested\\_author) & \\num{0.067}\\\\\n",
       "SD (Intercept nested\\_section) & \\num{0.050}\\\\\n",
       "SD (Intercept news\\_source) & \\num{0.093}\\\\\n",
       "SD (Observations) & \\num{0.095}\\\\\n",
       "\\midrule\n",
       "Num.Obs. & \\num{23546}\\\\\n",
       "R2 Marg. & \\num{0.000}\\\\\n",
       "R2 Cond. & \\num{0.634}\\\\\n",
       "AIC & \\num{-40926.3}\\\\\n",
       "BIC & \\num{-40885.9}\\\\\n",
       "ICC & \\num{0.6}\\\\\n",
       "RMSE & \\num{0.09}\\\\\n",
       "\\bottomrule\n",
       "\\end{tabular}\n",
       "\\end{table}"
      ]
     },
     "metadata": {},
     "output_type": "display_data"
    }
   ],
   "source": [
    "#We transform the output to a latex format.\n",
    "modelsummary(empty, \"latex\")"
   ]
  },
  {
   "cell_type": "code",
   "execution_count": 6,
   "id": "bdf2f100-795a-44bb-afdc-950026d284f2",
   "metadata": {
    "tags": []
   },
   "outputs": [],
   "source": [
    "#We extract the overall random intercept variation.\n",
    "random_var <- VarCorr(empty)$nested_author + VarCorr(empty)$nested_section + VarCorr(empty)$news_source"
   ]
  },
  {
   "cell_type": "code",
   "execution_count": 7,
   "id": "a7c602bb-0833-4747-a223-500aeb056182",
   "metadata": {
    "tags": []
   },
   "outputs": [],
   "source": [
    "#We extract the residual variance.\n",
    "residual_var <- attr(VarCorr(empty), \"sc\")^2"
   ]
  },
  {
   "cell_type": "code",
   "execution_count": 8,
   "id": "22330f4a-1d0e-44b2-a31e-c0deade022d3",
   "metadata": {
    "tags": []
   },
   "outputs": [],
   "source": [
    "#We add the residual and random intercept variance to get the overall random variance.\n",
    "total_var <- random_var + residual_var"
   ]
  },
  {
   "cell_type": "code",
   "execution_count": 9,
   "id": "b8fcede2-cedf-46c4-b2e5-6d5b4d1ed2a5",
   "metadata": {
    "tags": []
   },
   "outputs": [
    {
     "data": {
      "text/html": [
       "<table class=\"dataframe\">\n",
       "<caption>A matrix: 1 × 1 of type dbl</caption>\n",
       "<thead>\n",
       "\t<tr><th></th><th scope=col>(Intercept)</th></tr>\n",
       "</thead>\n",
       "<tbody>\n",
       "\t<tr><th scope=row>(Intercept)</th><td>0.18</td></tr>\n",
       "</tbody>\n",
       "</table>\n"
      ],
      "text/latex": [
       "A matrix: 1 × 1 of type dbl\n",
       "\\begin{tabular}{r|l}\n",
       "  & (Intercept)\\\\\n",
       "\\hline\n",
       "\t(Intercept) & 0.18\\\\\n",
       "\\end{tabular}\n"
      ],
      "text/markdown": [
       "\n",
       "A matrix: 1 × 1 of type dbl\n",
       "\n",
       "| <!--/--> | (Intercept) |\n",
       "|---|---|\n",
       "| (Intercept) | 0.18 |\n",
       "\n"
      ],
      "text/plain": [
       "            (Intercept)\n",
       "(Intercept) 0.18       "
      ]
     },
     "metadata": {},
     "output_type": "display_data"
    }
   ],
   "source": [
    "#We calculate the VPC for nested author, which we will also do for section and outlet.\n",
    "round(VarCorr(empty)$nested_author / total_var, 2)"
   ]
  },
  {
   "cell_type": "code",
   "execution_count": 10,
   "id": "5e0dcb72-79d5-47fb-9760-c4e7df640ad9",
   "metadata": {
    "tags": []
   },
   "outputs": [
    {
     "data": {
      "text/html": [
       "<table class=\"dataframe\">\n",
       "<caption>A matrix: 1 × 1 of type dbl</caption>\n",
       "<thead>\n",
       "\t<tr><th></th><th scope=col>(Intercept)</th></tr>\n",
       "</thead>\n",
       "<tbody>\n",
       "\t<tr><th scope=row>(Intercept)</th><td>0.1</td></tr>\n",
       "</tbody>\n",
       "</table>\n"
      ],
      "text/latex": [
       "A matrix: 1 × 1 of type dbl\n",
       "\\begin{tabular}{r|l}\n",
       "  & (Intercept)\\\\\n",
       "\\hline\n",
       "\t(Intercept) & 0.1\\\\\n",
       "\\end{tabular}\n"
      ],
      "text/markdown": [
       "\n",
       "A matrix: 1 × 1 of type dbl\n",
       "\n",
       "| <!--/--> | (Intercept) |\n",
       "|---|---|\n",
       "| (Intercept) | 0.1 |\n",
       "\n"
      ],
      "text/plain": [
       "            (Intercept)\n",
       "(Intercept) 0.1        "
      ]
     },
     "metadata": {},
     "output_type": "display_data"
    }
   ],
   "source": [
    "round(VarCorr(empty)$nested_section / total_var, 2)"
   ]
  },
  {
   "cell_type": "code",
   "execution_count": 11,
   "id": "92c656bb-aee0-4f88-9b83-b7b1c5fdb1a0",
   "metadata": {
    "tags": []
   },
   "outputs": [
    {
     "data": {
      "text/html": [
       "<table class=\"dataframe\">\n",
       "<caption>A matrix: 1 × 1 of type dbl</caption>\n",
       "<thead>\n",
       "\t<tr><th></th><th scope=col>(Intercept)</th></tr>\n",
       "</thead>\n",
       "<tbody>\n",
       "\t<tr><th scope=row>(Intercept)</th><td>0.35</td></tr>\n",
       "</tbody>\n",
       "</table>\n"
      ],
      "text/latex": [
       "A matrix: 1 × 1 of type dbl\n",
       "\\begin{tabular}{r|l}\n",
       "  & (Intercept)\\\\\n",
       "\\hline\n",
       "\t(Intercept) & 0.35\\\\\n",
       "\\end{tabular}\n"
      ],
      "text/markdown": [
       "\n",
       "A matrix: 1 × 1 of type dbl\n",
       "\n",
       "| <!--/--> | (Intercept) |\n",
       "|---|---|\n",
       "| (Intercept) | 0.35 |\n",
       "\n"
      ],
      "text/plain": [
       "            (Intercept)\n",
       "(Intercept) 0.35       "
      ]
     },
     "metadata": {},
     "output_type": "display_data"
    }
   ],
   "source": [
    "round(VarCorr(empty)$news_source / total_var, 2)"
   ]
  },
  {
   "cell_type": "code",
   "execution_count": 12,
   "id": "c3f1c73c-8805-40d2-ba0a-cbf4898dc509",
   "metadata": {
    "tags": []
   },
   "outputs": [
    {
     "data": {
      "text/html": [
       "<table class=\"dataframe\">\n",
       "<caption>A matrix: 1 × 1 of type dbl</caption>\n",
       "<thead>\n",
       "\t<tr><th></th><th scope=col>(Intercept)</th></tr>\n",
       "</thead>\n",
       "<tbody>\n",
       "\t<tr><th scope=row>(Intercept)</th><td>0.63</td></tr>\n",
       "</tbody>\n",
       "</table>\n"
      ],
      "text/latex": [
       "A matrix: 1 × 1 of type dbl\n",
       "\\begin{tabular}{r|l}\n",
       "  & (Intercept)\\\\\n",
       "\\hline\n",
       "\t(Intercept) & 0.63\\\\\n",
       "\\end{tabular}\n"
      ],
      "text/markdown": [
       "\n",
       "A matrix: 1 × 1 of type dbl\n",
       "\n",
       "| <!--/--> | (Intercept) |\n",
       "|---|---|\n",
       "| (Intercept) | 0.63 |\n",
       "\n"
      ],
      "text/plain": [
       "            (Intercept)\n",
       "(Intercept) 0.63       "
      ]
     },
     "metadata": {},
     "output_type": "display_data"
    }
   ],
   "source": [
    "#We calculate the total VPC.\n",
    "round(random_var / total_var, 2)"
   ]
  }
 ],
 "metadata": {
  "kernelspec": {
   "display_name": "R",
   "language": "R",
   "name": "ir"
  },
  "language_info": {
   "codemirror_mode": "r",
   "file_extension": ".r",
   "mimetype": "text/x-r-source",
   "name": "R",
   "pygments_lexer": "r",
   "version": "4.3.0"
  }
 },
 "nbformat": 4,
 "nbformat_minor": 5
}
