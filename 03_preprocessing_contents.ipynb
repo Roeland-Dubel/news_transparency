{
 "cells": [
  {
   "cell_type": "code",
   "execution_count": 1,
   "id": "38f5b71d-a2cb-4f5f-b324-1821d7530c67",
   "metadata": {
    "tags": []
   },
   "outputs": [
    {
     "name": "stderr",
     "output_type": "stream",
     "text": [
      "C:\\Users\\dubel\\AppData\\Local\\Programs\\Python\\Python311\\Lib\\site-packages\\tqdm\\auto.py:21: TqdmWarning: IProgress not found. Please update jupyter and ipywidgets. See https://ipywidgets.readthedocs.io/en/stable/user_install.html\n",
      "  from .autonotebook import tqdm as notebook_tqdm\n"
     ]
    }
   ],
   "source": [
    "#We load in the necessary libraries.\n",
    "import pandas as pd\n",
    "from collections import Counter\n",
    "import re\n",
    "from datetime import datetime\n",
    "from tqdm import tqdm; tqdm.pandas()\n",
    "import locale\n",
    "import matplotlib.pyplot as plt\n",
    "import seaborn as sns\n",
    "import numpy as np\n",
    "from scipy.special import softmax\n",
    "import torch\n",
    "from transformers import RobertaTokenizer, RobertaForSequenceClassification, Trainer, TrainingArguments\n",
    "from nltk.tokenize import sent_tokenize\n",
    "from sklearn.feature_extraction.text import CountVectorizer, TfidfVectorizer\n",
    "from sklearn.naive_bayes import MultinomialNB\n",
    "from sklearn.model_selection import train_test_split\n",
    "from sklearn import metrics\n",
    "import joblib\n",
    "from deep_translator import GoogleTranslator\n",
    "import ast\n",
    "from itertools import chain\n",
    "import krippendorff"
   ]
  },
  {
   "cell_type": "code",
   "execution_count": 2,
   "id": "d59ae379-4816-461c-ba1a-4fa8bcce4dfd",
   "metadata": {
    "tags": []
   },
   "outputs": [
    {
     "data": {
      "text/plain": [
       "30000"
      ]
     },
     "execution_count": 2,
     "metadata": {},
     "output_type": "execute_result"
    }
   ],
   "source": [
    "#We read in the article contents.\n",
    "df = pd.read_csv(\"03_contents_final.csv\"); len(df)"
   ]
  },
  {
   "cell_type": "markdown",
   "id": "dc655885-67e5-4d9d-9bd7-171fb15a9419",
   "metadata": {},
   "source": [
    "## extra row filters"
   ]
  },
  {
   "cell_type": "code",
   "execution_count": 3,
   "id": "49627599-7baa-42f4-ac61-c9934f28c9be",
   "metadata": {
    "tags": []
   },
   "outputs": [],
   "source": [
    "#We define a function to clean the body text.\n",
    "def get_clean_text(x):\n",
    "    \n",
    "    lst = []\n",
    "    #We first want to filter out any wrongly scraped content.\n",
    "    #In this case we define a list of sentences with promotional content, such as to take subscriptions.\n",
    "    flter = [\"Na de gekozen periode kunt u maandelijks opzeggen\", \n",
    "             \"Door mijn rekeningnummer in te vullen\", \n",
    "             \"Log in of maak een account aan\"]\n",
    "    \n",
    "    #We first check if the value is correctly stored as a list.\n",
    "    if isinstance(x, str):\n",
    "        x = eval(x)\n",
    "    else:\n",
    "        pass\n",
    "    \n",
    "    #If so we loop over the paragraphs in the list of texts.\n",
    "    for item in x:\n",
    "        #We check if any of the filter items is present in the text.\n",
    "        if not any(f in item for f in flter):\n",
    "            #Furterhmore we replace all faulty symbols by simply empty spaces.\n",
    "            result = item.replace(\"\\\\\", \" \").replace(\"\\n\", \" \").replace(\"\\t\", \" \")\n",
    "            #If more then one space after each other exist, we replace it by a single space.\n",
    "            result = re.sub(r\" +\", \" \", result)\n",
    "            #If we end up with NOT an empty string, we append it to the result list.\n",
    "            if result != \"\":\n",
    "                lst.append(result)\n",
    "            else:\n",
    "                pass\n",
    "        else:\n",
    "            pass\n",
    "    #We return the list.\n",
    "    return lst\n",
    "\n",
    "#We also create a function to combine the paragraphs into one piece of string.\n",
    "def get_text_one(x): \n",
    "    #If there is only one paragraph we simply store the first element of the list.\n",
    "    if len(x) == 1:\n",
    "        x = x[0]\n",
    "    else:\n",
    "        #In any other case we join the paragraphs by single spaces.\n",
    "        x = \" \".join(x)\n",
    "    #We return our result.\n",
    "    return x\n",
    "\n",
    "#We also create a function to extract clean hyperlinks.\n",
    "#That is hyperlinks to actual content, and not to prompotional content, such as puzzle pages or spotify pages.\n",
    "def get_hyperlinks_clean(x):\n",
    "    #We firstly evaluate the hyperlinks list truly as a list (instead of a string).\n",
    "    x = eval(x)\n",
    "    lst = []; result = []\n",
    "    #We have a list of filters. These are hyperlinks we want to exclude.\n",
    "    flter = [\"uit-andere-media\", \"112-nieuws\", \"podcast\", \"www.113.nl\", \"renderer\", \"open.spotify\", \"puzzels\", \"sudoku\", \"survey.\", \"cloudfront.\", \"subscribe\"]\n",
    "    for item in x:\n",
    "        #We firstly check whether the items in the hyperlink value are correclty links.\n",
    "        #We do so by checking wheter either www or http is present in the links.\n",
    "        if \"www.\" in item or \"http\" in item:\n",
    "            #If so we append it to a new list.\n",
    "            lst.append(item)\n",
    "        else:\n",
    "            pass\n",
    "    #We loop over the items of this list.\n",
    "    for item in lst:\n",
    "        #And exclude those which have any of the filter tages in the them.\n",
    "        if not any(f in item for f in flter):\n",
    "            result.append(item)\n",
    "    #We return the result.\n",
    "    return result"
   ]
  },
  {
   "cell_type": "code",
   "execution_count": 4,
   "id": "c19229d9-a9cf-40e8-ac82-84c8e2ecddd6",
   "metadata": {
    "tags": []
   },
   "outputs": [
    {
     "name": "stdout",
     "output_type": "stream",
     "text": [
      "29845\n"
     ]
    }
   ],
   "source": [
    "#We remove all rows which have more then 5 missing values.\n",
    "threshold = 5; df = df.dropna(thresh=len(df.columns) - threshold); print(len(df))"
   ]
  },
  {
   "cell_type": "code",
   "execution_count": 5,
   "id": "060e1528-5fa5-49f8-ae62-03df427c23de",
   "metadata": {
    "tags": []
   },
   "outputs": [
    {
     "name": "stderr",
     "output_type": "stream",
     "text": [
      "100%|██████████████████████████████████████████████████████████████████████████| 29845/29845 [00:03<00:00, 7528.82it/s]\n"
     ]
    }
   ],
   "source": [
    "#We create a column with a clean text using the earlier defined function.\n",
    "df[\"txt_text_clean\"] = df.txt_text.progress_apply(lambda x: get_clean_text(x))"
   ]
  },
  {
   "cell_type": "code",
   "execution_count": 6,
   "id": "6e566b2a-ee6d-471b-9790-c90b440c54f7",
   "metadata": {
    "tags": []
   },
   "outputs": [
    {
     "name": "stderr",
     "output_type": "stream",
     "text": [
      "100%|████████████████████████████████████████████████████████████████████████| 29845/29845 [00:00<00:00, 359642.60it/s]\n"
     ]
    }
   ],
   "source": [
    "#We create a column with a single combined text using the earlier defined function.\n",
    "df[\"txt_text_one\"] = df.txt_text_clean.progress_apply(lambda x: get_text_one(x))"
   ]
  },
  {
   "cell_type": "code",
   "execution_count": 7,
   "id": "eab83277-96ca-48b0-bd19-06174d11cc39",
   "metadata": {
    "tags": []
   },
   "outputs": [
    {
     "name": "stdout",
     "output_type": "stream",
     "text": [
      "29526\n"
     ]
    }
   ],
   "source": [
    "#We exclude the articles which do not have text at all.\n",
    "df = df[df.txt_text_one != \"\"]; print(len(df))"
   ]
  },
  {
   "cell_type": "code",
   "execution_count": 8,
   "id": "f9f06b3b-0f72-43c0-9050-66cff86628d0",
   "metadata": {
    "tags": []
   },
   "outputs": [
    {
     "name": "stderr",
     "output_type": "stream",
     "text": [
      "100%|███████████████████████████████████████████████████████████████████████| 29526/29526 [00:00<00:00, 1109577.19it/s]\n"
     ]
    }
   ],
   "source": [
    "#We create a column with the length of the texts.\n",
    "df[\"text_length\"] = df.txt_text_one.progress_apply(lambda x: len(str(x)))"
   ]
  },
  {
   "cell_type": "code",
   "execution_count": 9,
   "id": "5f636176-392c-4461-a486-300a02d039be",
   "metadata": {
    "tags": []
   },
   "outputs": [
    {
     "name": "stdout",
     "output_type": "stream",
     "text": [
      "10206\n"
     ]
    }
   ],
   "source": [
    "#We create a maximum for the length of the text, namely the mean plus three times the standard deviation\n",
    "txt_length_max = round(np.mean(df.text_length) + 3*np.std(df.text_length)); print(txt_length_max)"
   ]
  },
  {
   "cell_type": "code",
   "execution_count": 10,
   "id": "4b623757-0648-4278-9c5e-5cffbada3820",
   "metadata": {
    "tags": []
   },
   "outputs": [
    {
     "name": "stdout",
     "output_type": "stream",
     "text": [
      "28934\n"
     ]
    }
   ],
   "source": [
    "#We only include rows with texts below the maximum.\n",
    "df = df[df.text_length < txt_length_max]; print(len(df))"
   ]
  },
  {
   "cell_type": "code",
   "execution_count": 11,
   "id": "69687ef7-8f65-4d81-a507-476cde2f3763",
   "metadata": {
    "tags": []
   },
   "outputs": [
    {
     "name": "stderr",
     "output_type": "stream",
     "text": [
      "100%|████████████████████████████████████████████████████████████████████████| 28934/28934 [00:00<00:00, 103319.54it/s]\n"
     ]
    }
   ],
   "source": [
    "#We apply our clean hyperlink function.\n",
    "df[\"hyperlinks_clean\"] = df.hyperlinks.progress_apply(lambda x: get_hyperlinks_clean(x))"
   ]
  },
  {
   "cell_type": "code",
   "execution_count": 12,
   "id": "aa59f9fa-a28d-425f-ad88-7d03e20b0e79",
   "metadata": {
    "tags": []
   },
   "outputs": [
    {
     "name": "stderr",
     "output_type": "stream",
     "text": [
      "100%|███████████████████████████████████████████████████████████████████████| 28934/28934 [00:00<00:00, 1010861.71it/s]\n"
     ]
    }
   ],
   "source": [
    "#We count the number of hyperlinks\n",
    "df[\"n_hyperlinks\"] = df.hyperlinks_clean.progress_apply(lambda x: len(x))"
   ]
  },
  {
   "cell_type": "code",
   "execution_count": 13,
   "id": "9b56aeb4-7c94-404c-b984-d2715ee9c886",
   "metadata": {
    "tags": []
   },
   "outputs": [
    {
     "data": {
      "text/plain": [
       "14"
      ]
     },
     "execution_count": 13,
     "metadata": {},
     "output_type": "execute_result"
    }
   ],
   "source": [
    "#We create a hyperlink count maximum. Namely the 999th quantile.\n",
    "n_hyperlinks_max = np.quantile(df.n_hyperlinks, .999); round(n_hyperlinks_max)"
   ]
  },
  {
   "cell_type": "code",
   "execution_count": 14,
   "id": "37d54872-f0d7-43a6-982f-293de1eb7fc1",
   "metadata": {
    "tags": []
   },
   "outputs": [
    {
     "name": "stdout",
     "output_type": "stream",
     "text": [
      "28901\n"
     ]
    }
   ],
   "source": [
    "#We only include articles with less then the maximum number of hyperlinks.\n",
    "df = df[df.n_hyperlinks < n_hyperlinks_max]; print(len(df))"
   ]
  },
  {
   "cell_type": "code",
   "execution_count": 15,
   "id": "25ebf4ea-456c-42b9-8c40-203d62ef99bb",
   "metadata": {
    "tags": []
   },
   "outputs": [],
   "source": [
    "#We write away the article data so far.\n",
    "df.to_csv(\"ARTICLE_DATA_clean.csv\")"
   ]
  },
  {
   "cell_type": "markdown",
   "id": "2cb51825-a485-40e4-939a-f6d265ebed41",
   "metadata": {},
   "source": [
    "## monthly overview"
   ]
  },
  {
   "cell_type": "code",
   "execution_count": 16,
   "id": "b1355b31-454c-4f2b-b284-01fe7c476011",
   "metadata": {
    "tags": []
   },
   "outputs": [],
   "source": [
    "#We quickly transform the datePublished value to a true datetime format.\n",
    "df[\"datePublished\"] = pd.to_datetime(df.datePublished,  format=\"mixed\", utc=True)"
   ]
  },
  {
   "cell_type": "code",
   "execution_count": 17,
   "id": "ddee67e4-5dbd-487d-9b5a-8150e40d3e3d",
   "metadata": {
    "tags": []
   },
   "outputs": [],
   "source": [
    "#We extract the month of the datetimes.\n",
    "df[\"dateMonth\"] = df.datePublished.dt.month"
   ]
  },
  {
   "cell_type": "code",
   "execution_count": 18,
   "id": "750fb7d3-423a-42dc-b94b-36aa1caf83de",
   "metadata": {
    "tags": []
   },
   "outputs": [],
   "source": [
    "#We create a dataframe which contains per outlet and month the number of rows.\n",
    "df_monthly = df.groupby([\"news_source\", \"dateMonth\"]).size().reset_index(name=\"n\")"
   ]
  },
  {
   "cell_type": "code",
   "execution_count": 19,
   "id": "4f361950-6d2f-49da-83be-ef12929025b3",
   "metadata": {
    "tags": []
   },
   "outputs": [
    {
     "data": {
      "image/png": "[encoded data removed]",
      "text/plain": [
       "<Figure size 1200x600 with 1 Axes>"
      ]
     },
     "metadata": {},
     "output_type": "display_data"
    }
   ],
   "source": [
    "#We plot this data.\n",
    "#Highlighting the number of cases per outlet per month.\n",
    "plt.figure(figsize=(12, 6))\n",
    "sns.barplot(data=df_monthly, x=\"dateMonth\", y=\"n\", hue=\"news_source\")\n",
    "plt.show()"
   ]
  },
  {
   "cell_type": "markdown",
   "id": "6bf1afe7-6cf4-4d7e-b50a-c204f81c64fc",
   "metadata": {},
   "source": [
    "## preprocessing"
   ]
  },
  {
   "cell_type": "markdown",
   "id": "7dd8c2b8-c1a4-4f8c-988b-8958b0c5ef76",
   "metadata": {
    "tags": []
   },
   "source": [
    "### author"
   ]
  },
  {
   "cell_type": "code",
   "execution_count": 20,
   "id": "4372ae6f-fb75-40da-9a20-d5770743c01d",
   "metadata": {
    "tags": []
   },
   "outputs": [],
   "source": [
    "#We define a function to clean the author names.\n",
    "def get_author_clean(x):\n",
    "    #We strip away irrelevant characters.\n",
    "    x = x.strip(\"['']\")\n",
    "    #Similarly we strip away the author introduction term.\n",
    "    x = re.sub(\"door \", \"\", x, flags=re.IGNORECASE)\n",
    "    return x\n",
    "\n",
    "#We define a function to categorize the authors.\n",
    "def get_author_categories(x):\n",
    "    #If the string is empty, it is categorized as absent.\n",
    "    if x == '':\n",
    "        x = \"absent\"\n",
    "    #If the string contains generic names it is categorized as editor(s).\n",
    "    elif \"redact\" in x.lower() or \"correspondent\" in x.lower() or \"verslaggever\" in x.lower():\n",
    "        x = \"editor(s)\"\n",
    "    #If the author contains a term starting with automatic, then it is coded as such.\n",
    "    elif \"automat\" in x.lower():\n",
    "        x = \"automatic\"\n",
    "    #If the author contains a sequence of two capitalized words, then it is assumed to be a full name.\n",
    "    #These are categorized as inidividual author(s).\n",
    "    elif re.search(\"[A-Z|ÇÖ|][a-z|öéïüñá|\\.].*[A-Z|ÇÖ][a-z|öéïüñá]\", x):\n",
    "        x = \"individual author(s)\"\n",
    "    #If the author is just a reference to the outlet, then it is categorized as news website.\n",
    "    elif any(item in x for item in list(set(df.news_source))):\n",
    "        x = \"news website\"\n",
    "    #If it refers to the dutch press agency it is coded as such.\n",
    "    elif x == \"ANP\":\n",
    "        x = \"press agency\"\n",
    "    #In all other cases it is coded as other.\n",
    "    else:\n",
    "        x = \"other\"\n",
    "    return x\n",
    "\n",
    "#In a last step we categorize our earlier categories on the basis of transparency.\n",
    "def get_tp_authors(x):\n",
    "    #Individual authors are explicit.\n",
    "    if x == \"individual author(s)\":\n",
    "        x = \"explicit\"\n",
    "    #Simply references to editor(s) or news websites in a generic way and press agencies are coded abstract.\n",
    "    elif x in [\"editor(s)\", \"news website\", \"press agency\"]:\n",
    "        x = \"abstract\"\n",
    "    #In the case of automatic or other author forms, we will refer to it as other.\n",
    "    elif x == \"automatic\" or x == \"other\":\n",
    "        x = \"other\"\n",
    "    return x"
   ]
  },
  {
   "cell_type": "code",
   "execution_count": 21,
   "id": "44ea4ed2-17ac-4efd-9052-5606899981b2",
   "metadata": {
    "tags": []
   },
   "outputs": [
    {
     "name": "stderr",
     "output_type": "stream",
     "text": [
      "100%|████████████████████████████████████████████████████████████████████████| 28901/28901 [00:00<00:00, 363517.33it/s]\n",
      "100%|█████████████████████████████████████████████████████████████████████████| 28901/28901 [00:00<00:00, 78390.42it/s]\n",
      "100%|███████████████████████████████████████████████████████████████████████| 28901/28901 [00:00<00:00, 1634590.27it/s]\n"
     ]
    }
   ],
   "source": [
    "#We use these functions to create new columns\n",
    "df[\"author_clean\"] = df.txt_author.progress_apply(lambda x: get_author_clean(x))\n",
    "df[\"author_categories\"] = df.author_clean.progress_apply(lambda x: get_author_categories(x))\n",
    "df[\"tp_authors\"] = df.author_categories.progress_apply(lambda x: get_tp_authors(x))"
   ]
  },
  {
   "cell_type": "code",
   "execution_count": 22,
   "id": "401a4266-5e6e-428d-b578-be9ebc1f9cc7",
   "metadata": {
    "tags": []
   },
   "outputs": [
    {
     "name": "stdout",
     "output_type": "stream",
     "text": [
      "Counter({'individual author(s)': 14886, 'absent': 7890, 'editor(s)': 5829, 'other': 111, 'automatic': 97, 'news website': 79, 'press agency': 9})\n"
     ]
    },
    {
     "data": {
      "text/plain": [
       "Counter({'explicit': 14886, 'absent': 7890, 'abstract': 5917, 'other': 208})"
      ]
     },
     "execution_count": 22,
     "metadata": {},
     "output_type": "execute_result"
    }
   ],
   "source": [
    "#We print the occurance of author categories and their transparency categories.\n",
    "print(Counter(df.author_categories))\n",
    "Counter(df.tp_authors)"
   ]
  },
  {
   "cell_type": "markdown",
   "id": "8ab2ad6e-b303-4d5d-906f-e34990adfb61",
   "metadata": {},
   "source": [
    "### author contact & bio"
   ]
  },
  {
   "cell_type": "code",
   "execution_count": 23,
   "id": "f680b6b2-4be0-4cb7-9811-e244a243574c",
   "metadata": {
    "tags": []
   },
   "outputs": [],
   "source": [
    "#We create a function to extract the author contact additions.\n",
    "def get_contact_additions(x):\n",
    "    \n",
    "    #We make sure the byline is interpreted as a list.\n",
    "    byline = eval(x[\"txt_author_links\"])\n",
    "    #And that the text is interpreted as a string.\n",
    "    text = str(x[\"txt_text\"])\n",
    "    hyperlinks = x[\"hyperlinks\"]\n",
    "    \n",
    "    #We define a regular expression to look for emails in both the text as hyperlinks.\n",
    "    #We extract and store those.\n",
    "    text_mails = re.findall(r\"\\b\\w+@\\w+\\b\", text)\n",
    "    hyperlinks_mails = re.findall(r\"\\b\\w+@\\w+\\b\", hyperlinks)\n",
    "    \n",
    "    #We combine all hits together.\n",
    "    y = byline + text_mails + hyperlinks_mails\n",
    "    \n",
    "    #We once again create a filter for all irrelevant byline elements.\n",
    "    flter = [\"uit-andere-media\", \"abonnement\", \"uitgelicht\", \"sudoku\", \"puzzels\", \"/nieuws/\", \"share\", \"download\"]\n",
    "    #We make sure that our list is interpreted as a list.\n",
    "    y = eval(str(y))\n",
    "    #If the list only has a length of 0 then there are no byline additions.\n",
    "    if len(y) == 0:\n",
    "        y = [\"absent\"]\n",
    "    else:\n",
    "        lst = []\n",
    "        #In every other case we loop over the items in the byline elements list.\n",
    "        for item in y:\n",
    "            #If the item contains any of the filter elements then we define it is wrong.\n",
    "            if any(f in item for f in flter):\n",
    "                item = \"wrong\"\n",
    "            #If the terms auteur or redactie are in it, then we store it as other.\n",
    "            if \"/auteur/\" in item.lower() and \"redactie\" in item.lower():\n",
    "                item = \"other\"\n",
    "            #If an email symbol is present we store it as mail.\n",
    "            if \"@\" in item:\n",
    "                item = \"mail\"\n",
    "            #If a twitter link is present we store it as a handle.\n",
    "            #Pretesting highlighted that no other social was every present in the byline.\n",
    "            elif re.search(\"https://twitter.com/\\w+?\", item):\n",
    "                item = \"handle\"\n",
    "            #We assess whether individual author names are present in the element.\n",
    "            #If so we code it as bio.\n",
    "            elif re.search(\"/auteur/[A-ZÇÖa-z].*(-| )[A-ZÇÖa-z]\", item) or \"ombudsman\" in item:\n",
    "                item = \"bio\"   \n",
    "            #We also look for specific instances in which they are referred to via a tag.\n",
    "            elif \"onze-mensen\" in item or re.search(\"tag/[A-ZÇÖa-z].*%\", item):\n",
    "                item = \"bio\"\n",
    "            #If http is in the item it is wrong.\n",
    "            elif \"http\" in item:\n",
    "                item = \"wrong\"\n",
    "            #The rest is stored as other.\n",
    "            else:\n",
    "                item = \"other\"\n",
    "            #We append the items to a new list.\n",
    "            lst.append(item)\n",
    "        #We redefine y, with all unique elements of the list.\n",
    "        y = list(set(lst))\n",
    "    \n",
    "    #We return this new list.\n",
    "    return y\n",
    "\n",
    "#We create a function to assess wheter contact info is present.\n",
    "def get_contact(x):\n",
    "    x = eval(str(x))\n",
    "    #We simply check if our earlier created list of categories has a mail or handle in it.\n",
    "    if \"mail\" in x or \"handle\" in x:\n",
    "        return True\n",
    "    else:\n",
    "        return False\n",
    "    \n",
    "#We also do so for bio info.\n",
    "def get_bio(x):\n",
    "    x = eval(str(x))\n",
    "    #We simply check if bio is in the categories list.\n",
    "    if \"bio\" in x:\n",
    "        return True\n",
    "    else:\n",
    "        return False"
   ]
  },
  {
   "cell_type": "code",
   "execution_count": 24,
   "id": "dcc91bb6-5e3b-4195-b128-c0032d75df56",
   "metadata": {
    "tags": []
   },
   "outputs": [
    {
     "name": "stderr",
     "output_type": "stream",
     "text": [
      "100%|██████████████████████████████████████████████████████████████████████████| 28901/28901 [00:03<00:00, 7251.91it/s]\n"
     ]
    }
   ],
   "source": [
    "#We create the author additions column.\n",
    "df[\"author_additions\"] = df.progress_apply(lambda x: get_contact_additions(x), axis=1)"
   ]
  },
  {
   "cell_type": "code",
   "execution_count": 25,
   "id": "450d708a-a47e-41e8-b127-4bcbddd5215f",
   "metadata": {
    "tags": []
   },
   "outputs": [
    {
     "data": {
      "text/plain": [
       "Counter({\"['absent']\": 18688,\n",
       "         \"['bio']\": 4173,\n",
       "         \"['bio', 'other']\": 3279,\n",
       "         \"['other']\": 1592,\n",
       "         \"['mail']\": 357,\n",
       "         \"['handle', 'mail']\": 158,\n",
       "         \"['mail', 'other']\": 147,\n",
       "         \"['wrong']\": 140,\n",
       "         \"['handle']\": 125,\n",
       "         \"['handle', 'other']\": 86,\n",
       "         \"['bio', 'mail', 'other']\": 61,\n",
       "         \"['wrong', 'other']\": 45,\n",
       "         \"['bio', 'mail']\": 35,\n",
       "         \"['handle', 'mail', 'other']\": 5,\n",
       "         \"['wrong', 'handle', 'other']\": 4,\n",
       "         \"['wrong', 'bio']\": 3,\n",
       "         \"['wrong', 'mail']\": 1,\n",
       "         \"['wrong', 'handle']\": 1,\n",
       "         \"['bio', 'wrong']\": 1})"
      ]
     },
     "execution_count": 25,
     "metadata": {},
     "output_type": "execute_result"
    }
   ],
   "source": [
    "#We look at the occurances.\n",
    "Counter(df[\"author_additions\"].astype(str))"
   ]
  },
  {
   "cell_type": "code",
   "execution_count": 26,
   "id": "6ee35f68-14e2-4c41-a3e6-8105d025a1fa",
   "metadata": {
    "tags": []
   },
   "outputs": [
    {
     "name": "stderr",
     "output_type": "stream",
     "text": [
      "100%|████████████████████████████████████████████████████████████████████████| 28901/28901 [00:00<00:00, 136729.34it/s]\n",
      "100%|████████████████████████████████████████████████████████████████████████| 28901/28901 [00:00<00:00, 135566.59it/s]\n"
     ]
    }
   ],
   "source": [
    "#We define the boolean columns for contact and bio info.\n",
    "df[\"tp_contact\"] = df.author_additions.progress_apply(lambda x: get_contact(x))\n",
    "df[\"tp_bio\"] = df.author_additions.progress_apply(lambda x: get_bio(x))"
   ]
  },
  {
   "cell_type": "code",
   "execution_count": 27,
   "id": "7836a5e4-2e59-4e93-aa7a-a0654d144972",
   "metadata": {
    "tags": []
   },
   "outputs": [
    {
     "data": {
      "text/plain": [
       "Counter({False: 27921, True: 980})"
      ]
     },
     "execution_count": 27,
     "metadata": {},
     "output_type": "execute_result"
    }
   ],
   "source": [
    "#We count the presence of contact info\n",
    "Counter(df.tp_contact)"
   ]
  },
  {
   "cell_type": "code",
   "execution_count": 28,
   "id": "9e5811d8-cecf-4d19-95e1-16661d996ceb",
   "metadata": {
    "tags": []
   },
   "outputs": [
    {
     "data": {
      "text/plain": [
       "Counter({False: 21349, True: 7552})"
      ]
     },
     "execution_count": 28,
     "metadata": {},
     "output_type": "execute_result"
    }
   ],
   "source": [
    "#We count the presence of bio info\n",
    "Counter(df.tp_bio)"
   ]
  },
  {
   "cell_type": "markdown",
   "id": "968a36fa-654b-402d-9b37-8d11c096a24f",
   "metadata": {},
   "source": [
    "### detailed timestamps"
   ]
  },
  {
   "cell_type": "code",
   "execution_count": 29,
   "id": "abeb9f4e-4e6a-4b8a-97b6-29160b44c0ee",
   "metadata": {
    "tags": []
   },
   "outputs": [],
   "source": [
    "#We define a function to extract the info from the timestamps.\n",
    "def get_timestamps(x):\n",
    "    \n",
    "    #We set our timezone to be sure.\n",
    "    locale.setlocale(locale.LC_TIME, \"nl_NL\")\n",
    "    \n",
    "    #We make sure that our column is interpreted as a list.\n",
    "    x = eval(str(x))\n",
    "    \n",
    "    #If the list is emptu, then we refer to it as none.\n",
    "    if len(x) == 0:\n",
    "        x = [\"none\"]\n",
    "        \n",
    "    else:\n",
    "        #In every other instance we define an empty list.\n",
    "        lst = []\n",
    "        #We also define a list of possible date formats.\n",
    "        formats = [\"%d %B %Y\", \"%d %b. %Y\", \"%d-%m-%y, %H:%M\", \"%d %B %Y, %H:%M\",\n",
    "                   \"%d %b %Y om %H:%M\", \"%A %d %B %Y, %H:%M\", \"%A %d %B, %H:%M\", \"%d-%m-%Y\"]\n",
    "        \n",
    "        #We loop over the items in the timestamps list.\n",
    "        for item in x:\n",
    "            #We strip the item and remove the updated term.\n",
    "            item = item.strip(\"\"); item = re.sub(\"aangepast: \", \"\", item, flags=re.IGNORECASE)\n",
    "            result = None\n",
    "            \n",
    "            for f in formats:\n",
    "                #We loop over the formats and try to extract a datetime from it.\n",
    "                try:\n",
    "                    #If succesfull we append date as an item to the new list.\n",
    "                    result = datetime.strptime(item, f); lst.append(\"date\")\n",
    "                except:\n",
    "                    #If unsuccesfull we continue looping over the formats.\n",
    "                    continue\n",
    "            \n",
    "            #We also look for wrong items, such as when it says the duration to read the article.\n",
    "            if re.search(\"\\d+ minu\", item) or \"Beeld\" in item:\n",
    "                result = \"wrong\"; lst.append(result)\n",
    "            \n",
    "            #If the item contains the term update we store it as such.\n",
    "            elif \"Update\" in item:\n",
    "                result = \"update\"; lst.append(result)\n",
    "            \n",
    "            #If nothing is found we store it as other.\n",
    "            elif result == None:\n",
    "                result = \"other\"\n",
    "                \n",
    "        x = list(lst)\n",
    "    \n",
    "    #We return the results.\n",
    "    return x\n",
    "\n",
    "#We create a function to recategorize our timestamp elements.\n",
    "def get_txt_timestamps_cat(x):\n",
    "    #If there is more then one date in the byline we assume that both a date and update is present.\n",
    "    if x.count(\"date\") > 1:\n",
    "        return \"date and update\"\n",
    "    #The same goes if a date and update is present.\n",
    "    elif x.count(\"date\") == 1 and \"update\" in x:\n",
    "        return \"date and update\"\n",
    "    #If not so, there is purely a date.\n",
    "    elif x.count(\"date\") == 1 and \"update\" not in x:\n",
    "        return \"date\"\n",
    "    #All other cases are stored as none.\n",
    "    else:\n",
    "        return \"none\"\n",
    "\n",
    "#We create a function to assess whether an article changed.\n",
    "def get_changed(x):\n",
    "    dp = x[\"datePublished\"]\n",
    "    dm = x[\"dateModified\"]\n",
    "    \n",
    "    #If the datePublished tag is equal to the dateModified tag then it did not change.\n",
    "    if dp == dm:\n",
    "        return False\n",
    "    #If no dateModified tag is present then it did not change.\n",
    "    elif pd.isna(dm):\n",
    "        return False\n",
    "    #If they are not equal then it did change.\n",
    "    elif dp != dm:\n",
    "        return True   \n",
    "\n",
    "#We recategorize the timestamps on the basis of transparency.\n",
    "def tp_timestamp(x):\n",
    "    \n",
    "    byline = x[\"txt_timestamps_cat\"]\n",
    "    meta_changed = x[\"changed\"]\n",
    "    \n",
    "    #If the byline only contains a date and the article did not change, then we code it as no change.\n",
    "    if byline == \"date\" and meta_changed == False:\n",
    "        return \"no change\"\n",
    "    #If the byline only contains a date while the article did change, then we code it as change undisclosed.\n",
    "    elif byline == \"date\" and meta_changed == True:\n",
    "        return \"change undisclosed\"\n",
    "    #If the change was disclosed then we code it as change disclosed.\n",
    "    elif byline == \"date and update\" and meta_changed == True:\n",
    "        return \"change disclosed\"\n",
    "    #The rest will be coded as other.\n",
    "    else:\n",
    "        return \"other\""
   ]
  },
  {
   "cell_type": "code",
   "execution_count": 30,
   "id": "d132d65e-381e-4f3e-a041-b5b83a5f99f2",
   "metadata": {
    "tags": []
   },
   "outputs": [
    {
     "name": "stderr",
     "output_type": "stream",
     "text": [
      "100%|██████████████████████████████████████████████████████████████████████████| 28901/28901 [00:05<00:00, 4831.44it/s]\n"
     ]
    }
   ],
   "source": [
    "#We add the timestamps clean column by its function.\n",
    "df[\"txt_timestamps_clean\"] = df.txt_timestamps.progress_apply(lambda x: get_timestamps(x))"
   ]
  },
  {
   "cell_type": "code",
   "execution_count": 31,
   "id": "ebf8bb6a-126c-4509-ba87-feee55a9869e",
   "metadata": {
    "tags": []
   },
   "outputs": [
    {
     "data": {
      "text/plain": [
       "Counter({\"['date']\": 14679,\n",
       "         \"['date', 'date']\": 4664,\n",
       "         \"['wrong', 'date']\": 2889,\n",
       "         \"['date', 'wrong']\": 2632,\n",
       "         \"['update', 'wrong', 'date']\": 950,\n",
       "         \"['update', 'date', 'wrong']\": 850,\n",
       "         \"['date', 'wrong', 'update']\": 705,\n",
       "         \"['date', 'update', 'wrong']\": 598,\n",
       "         \"['wrong', 'date', 'update']\": 259,\n",
       "         \"['wrong', 'update', 'date']\": 227,\n",
       "         \"['none']\": 210,\n",
       "         \"['update', 'date']\": 79,\n",
       "         '[]': 71,\n",
       "         \"['date', 'update']\": 46,\n",
       "         \"['date', 'date', 'date']\": 42})"
      ]
     },
     "execution_count": 31,
     "metadata": {},
     "output_type": "execute_result"
    }
   ],
   "source": [
    "#We print the occurance of every combination.\n",
    "Counter(df.txt_timestamps_clean.astype(str))"
   ]
  },
  {
   "cell_type": "code",
   "execution_count": 32,
   "id": "71be69b1-a7b7-44fd-bdd9-b5a0a185e528",
   "metadata": {
    "tags": []
   },
   "outputs": [
    {
     "name": "stderr",
     "output_type": "stream",
     "text": [
      "100%|███████████████████████████████████████████████████████████████████████| 28901/28901 [00:00<00:00, 1351645.02it/s]\n"
     ]
    }
   ],
   "source": [
    "#We recategorize them accoriding to our function.\n",
    "df[\"txt_timestamps_cat\"] = df.txt_timestamps_clean.progress_apply(lambda x: get_txt_timestamps_cat(x))"
   ]
  },
  {
   "cell_type": "code",
   "execution_count": 33,
   "id": "0929d676-2b85-4190-9b88-7127f8b46824",
   "metadata": {
    "tags": []
   },
   "outputs": [
    {
     "data": {
      "text/plain": [
       "Counter({'date': 20200, 'date and update': 8420, 'none': 281})"
      ]
     },
     "execution_count": 33,
     "metadata": {},
     "output_type": "execute_result"
    }
   ],
   "source": [
    "Counter(df.txt_timestamps_cat.astype(str))"
   ]
  },
  {
   "cell_type": "code",
   "execution_count": 34,
   "id": "d4db6acf-efe6-4e5e-a5f8-8f299b19f5e1",
   "metadata": {
    "tags": []
   },
   "outputs": [
    {
     "name": "stderr",
     "output_type": "stream",
     "text": [
      "100%|████████████████████████████████████████████████████████████████████████| 28901/28901 [00:00<00:00, 149876.40it/s]\n"
     ]
    }
   ],
   "source": [
    "#We create a column for the output of the changed function.\n",
    "df[\"changed\"] = df.progress_apply(lambda x: get_changed(x), axis=1)"
   ]
  },
  {
   "cell_type": "code",
   "execution_count": 35,
   "id": "b414fa0f-0982-422d-8e5a-5d7e0422661c",
   "metadata": {
    "tags": []
   },
   "outputs": [
    {
     "data": {
      "text/plain": [
       "Counter({'True': 25370, 'False': 3531})"
      ]
     },
     "execution_count": 35,
     "metadata": {},
     "output_type": "execute_result"
    }
   ],
   "source": [
    "Counter(df.changed.astype(str))"
   ]
  },
  {
   "cell_type": "code",
   "execution_count": 36,
   "id": "a6ad0a80-ada7-49c0-a455-73cef8bdf93e",
   "metadata": {
    "tags": []
   },
   "outputs": [
    {
     "name": "stderr",
     "output_type": "stream",
     "text": [
      "100%|████████████████████████████████████████████████████████████████████████| 28901/28901 [00:00<00:00, 144575.63it/s]\n"
     ]
    }
   ],
   "source": [
    "#And lastly we also do so for the transparency of the timestamps\n",
    "df[\"tp_timestamp\"] = df.progress_apply(lambda x: tp_timestamp(x), axis=1)"
   ]
  },
  {
   "cell_type": "code",
   "execution_count": 37,
   "id": "a5c035bf-85bf-4fb2-887e-91dae5307d3e",
   "metadata": {
    "tags": []
   },
   "outputs": [
    {
     "data": {
      "text/plain": [
       "Counter({'change undisclosed': 16678,\n",
       "         'change disclosed': 8420,\n",
       "         'no change': 3522,\n",
       "         'other': 281})"
      ]
     },
     "execution_count": 37,
     "metadata": {},
     "output_type": "execute_result"
    }
   ],
   "source": [
    "Counter(df.tp_timestamp.astype(str))"
   ]
  },
  {
   "cell_type": "markdown",
   "id": "840165bb-33ae-412e-ad06-e8aae2dfe10b",
   "metadata": {},
   "source": [
    "### error corrections"
   ]
  },
  {
   "cell_type": "code",
   "execution_count": 38,
   "id": "35613921-ba8b-482c-b67e-d91ffbfb447c",
   "metadata": {
    "tags": []
   },
   "outputs": [],
   "source": [
    "#We define a function to detect error corrections.\n",
    "def get_error_correction(text, max_distance=20):\n",
    "    #We firstly strip and lower the text.\n",
    "    text = str(text).strip().lower()\n",
    "    #We then look for a pattern in which within 20 words the words version and earlier are close to each other. Or synonyms for it.\n",
    "    pattern = f\"\\\\b(eerder|vorig).{{0,{max_distance}}}\\\\b(versie|publicatie|bericht\\\\b)|\\\\b(versie|publicatie).{{0,{max_distance}}}\\\\b(eerder|vorig)\"\n",
    "    result = re.search(pattern, string=text)\n",
    "    #We return the result as a boolean, being either present yes or no.\n",
    "    return bool(result)"
   ]
  },
  {
   "cell_type": "code",
   "execution_count": 39,
   "id": "8a34b34f-fab5-4af8-b070-87265a4d2f23",
   "metadata": {
    "tags": []
   },
   "outputs": [
    {
     "name": "stderr",
     "output_type": "stream",
     "text": [
      "100%|█████████████████████████████████████████████████████████████████████████| 28901/28901 [00:02<00:00, 12042.24it/s]\n"
     ]
    }
   ],
   "source": [
    "#We add it as a new column.\n",
    "df[\"error_correction\"] = df.txt_text.progress_apply(lambda x: get_error_correction(x))"
   ]
  },
  {
   "cell_type": "code",
   "execution_count": 40,
   "id": "d3af0d14-f078-4e61-aba8-ea3da841f0b8",
   "metadata": {
    "tags": []
   },
   "outputs": [
    {
     "data": {
      "text/plain": [
       "Counter({'False': 28678, 'True': 223})"
      ]
     },
     "execution_count": 40,
     "metadata": {},
     "output_type": "execute_result"
    }
   ],
   "source": [
    "Counter(df.error_correction.astype(str))"
   ]
  },
  {
   "cell_type": "code",
   "execution_count": 41,
   "id": "67501db1-2d96-4012-852c-2aefaa0d7438",
   "metadata": {
    "tags": []
   },
   "outputs": [],
   "source": [
    "#Of the hits we get a random sample of 30.\n",
    "df_error_corr_sample = df[df.error_correction==True][[\"txt_text_one\", \"error_correction\"]].sample(30, random_state=1)"
   ]
  },
  {
   "cell_type": "code",
   "execution_count": 42,
   "id": "9653396e-d727-4208-bd70-4866d33d091d",
   "metadata": {
    "tags": []
   },
   "outputs": [],
   "source": [
    "#We write this away to excel.\n",
    "df_error_corr_sample.to_excel(\"error_corr.xlsx\")"
   ]
  },
  {
   "cell_type": "code",
   "execution_count": 43,
   "id": "c7579b5d-68f9-404e-9897-f49d66afca7b",
   "metadata": {
    "tags": []
   },
   "outputs": [],
   "source": [
    "#We read in a coded version of the sample.\n",
    "df_error_corr_coded = pd.read_csv(\"03_error_coded.csv\",  sep=\";\", index_col=0)"
   ]
  },
  {
   "cell_type": "code",
   "execution_count": 44,
   "id": "afcf3f94-8d5d-4d4a-8e6f-a89f6773737e",
   "metadata": {
    "tags": []
   },
   "outputs": [
    {
     "data": {
      "text/plain": [
       "0.97"
      ]
     },
     "execution_count": 44,
     "metadata": {},
     "output_type": "execute_result"
    }
   ],
   "source": [
    "#We have an agreement with the regular expression of 97%.\n",
    "round(df_error_corr_coded.error_corr_manual.mean(), 2)"
   ]
  },
  {
   "cell_type": "code",
   "execution_count": 45,
   "id": "9e04297f-2b6b-42ea-8ff7-5e79dfe84420",
   "metadata": {
    "tags": []
   },
   "outputs": [],
   "source": [
    "#We create a function to connect these textual disclosures to whether the text actually changed.\n",
    "def get_tp_error(x):\n",
    "    error = x[\"error_correction\"]\n",
    "    meta_changed = x[\"changed\"]\n",
    "    \n",
    "    #If it changed and there is an error disclosure, we return change disclosed.\n",
    "    if meta_changed == True and error == True:\n",
    "        return \"change disclosed\"\n",
    "    #If it changed and no error disclosure is present, we return change undisclosed.\n",
    "    elif meta_changed == True and error == False:\n",
    "        return \"change undisclosed\"\n",
    "    #If there is no change, we return it.\n",
    "    elif meta_changed == False:    \n",
    "        return \"no change\"\n",
    "    #For all else we return other.\n",
    "    else:\n",
    "        return \"other\"    "
   ]
  },
  {
   "cell_type": "code",
   "execution_count": 46,
   "id": "fcefb63d-aa1e-443b-85ca-7b71525de04a",
   "metadata": {
    "tags": []
   },
   "outputs": [
    {
     "name": "stderr",
     "output_type": "stream",
     "text": [
      "100%|████████████████████████████████████████████████████████████████████████| 28901/28901 [00:00<00:00, 154185.13it/s]\n"
     ]
    }
   ],
   "source": [
    "#We add it as a column\n",
    "df[\"tp_error\"] = df.progress_apply(lambda x: get_tp_error(x), axis=1)"
   ]
  },
  {
   "cell_type": "code",
   "execution_count": 47,
   "id": "a2d0f602-6a2b-4bb4-a038-f6b08847e2bb",
   "metadata": {
    "tags": []
   },
   "outputs": [
    {
     "data": {
      "text/plain": [
       "Counter({'change undisclosed': 25152,\n",
       "         'no change': 3531,\n",
       "         'change disclosed': 218})"
      ]
     },
     "execution_count": 47,
     "metadata": {},
     "output_type": "execute_result"
    }
   ],
   "source": [
    "Counter(df.tp_error.astype(str))"
   ]
  },
  {
   "cell_type": "code",
   "execution_count": 49,
   "id": "d977206d-b78f-4786-94dd-cea2e7b56295",
   "metadata": {
    "tags": []
   },
   "outputs": [
    {
     "data": {
      "text/plain": [
       "0               NRC\n",
       "1               NRC\n",
       "2        Volkskrant\n",
       "3               NOS\n",
       "4         Telegraaf\n",
       "            ...    \n",
       "29993           NOS\n",
       "29995            NU\n",
       "29996           NOS\n",
       "29998            AD\n",
       "29999    Volkskrant\n",
       "Name: news_source, Length: 28901, dtype: object"
      ]
     },
     "execution_count": 49,
     "metadata": {},
     "output_type": "execute_result"
    }
   ],
   "source": [
    "df.news_source"
   ]
  },
  {
   "cell_type": "markdown",
   "id": "ab50dd2b-4aaa-4055-a3c1-c26feb5e347a",
   "metadata": {
    "tags": []
   },
   "source": [
    "### hyperlinking"
   ]
  },
  {
   "cell_type": "code",
   "execution_count": 50,
   "id": "f3d3c64e-c22a-4894-8ae2-186332b7ecc8",
   "metadata": {
    "tags": []
   },
   "outputs": [],
   "source": [
    "#To assess what kind of data files, for document hyperlinking, are referred to, we create a function.\n",
    "def get_data_types(x):\n",
    "    links = x[\"hyperlinks_clean\"]\n",
    "    \n",
    "    lst = []\n",
    "    #We loop over the cleaned hyperlinks.\n",
    "    for item in links:\n",
    "        #To be sure we put them in lowercase.\n",
    "        item = item.lower()\n",
    "        #We try to look through a regular expression for possible existance of file extensions.\n",
    "        #Presumably these are past a dot at the end of the hyperlink (e.g. .pdf).\n",
    "        matches = re.search(r\"\\.([^\\.]*)$\", item)\n",
    "        if matches:\n",
    "            #If there is a correct match we append it to a list.\n",
    "            match = matches.group(1)\n",
    "            if len(match) < 10 and not re.search(r\"/|\\\\|\\d+|htm\", match):\n",
    "                lst.append(match)\n",
    "        else:\n",
    "            pass\n",
    "    return set(lst)\n",
    "\n",
    "#We also create a function to get the stems of websites.\n",
    "def get_link_stems(x):\n",
    "    result = []\n",
    "    #We loop over links.\n",
    "    for item in x:\n",
    "        try:\n",
    "            #We try, through a regular expression, to extract the middle part of a web adress.\n",
    "            hit = re.search(r\"(http(s)?:)?//(www.)?(\\w+)\", item).group(4)\n",
    "            #If found we append it to a list.\n",
    "            result.append(hit)\n",
    "        except:\n",
    "            #If we do not find any, we append wrong to the list.\n",
    "            result.append(\"wrong\")\n",
    "    #We return our results.\n",
    "    return result\n",
    "\n",
    "#Lastly we define a function to categorize the hyperlinks on their transparency level.\n",
    "def get_hyperlinks_cat(x):\n",
    "    links = x[\"hyperlinks_clean\"]\n",
    "    stems = x[\"link_stems\"]\n",
    "    source = x[\"news_source\"].lower()\n",
    "    \n",
    "    #We first assess what the parent company is of the news outlet.\n",
    "    #For AD, Volkskrant & NU it is DPG.\n",
    "    if source in [\"ad\", \"volkskrant\", \"nu\"]:\n",
    "        parent = \"DPG\"\n",
    "    #For Telegraaf and NRC it is Mediahuis.\n",
    "    elif source in [\"telegraaf\", \"nrc\"]:\n",
    "        parent = \"Mediahuis\"\n",
    "    else:\n",
    "        #For NOS we will simply refer to it as NOS.\n",
    "        parent = \"NOS\"\n",
    "    \n",
    "    lst = []\n",
    "    #We loop over the links and stems of the links.\n",
    "    for item, stem in zip(links, stems):\n",
    "        item = item.lower()\n",
    "        #If the link simply contains the news outlet itself then it is an internal link.\n",
    "        if re.search(fr\"(www.|http).*{source}.\\w+\", item):\n",
    "            lst.append(\"internal link\")\n",
    "        #If it contains any of the common file extensions, then it is document linking.\n",
    "        elif re.search(r\"(.pdf|.epdf|.doc|.xls|.csv|.txt|.jpeg|.jpg|.png|.gif|.mp4|.avi|.ppt|.m4a|.mp3|.wav|.zip)\", item) or \"document\" in item:\n",
    "            lst.append(\"document\")\n",
    "        #If it refers to a stem of any of its family members, then it is family linking.\n",
    "        elif re.search(r\"(www.|http).*\\w+.\\w+\", item) and stem in parents[parent].values:\n",
    "            lst.append(\"family link\")\n",
    "        #If it refers to any other stem then within its own family, then it is external linking.\n",
    "        elif re.search(r\"(www.|http).*\\w+.\\w+\", item) and stem not in parents[parent].values:\n",
    "            lst.append(\"external link\")\n",
    "        #The rest is coded as other.\n",
    "        else:\n",
    "            lst.append(\"other\")\n",
    "    return lst\n",
    "\n",
    "#Lastly we create a function which simply counts the occurance of each of these link types within the created list.\n",
    "def get_tp_source_links(x):\n",
    "    return x.count(\"internal link\"), x.count(\"document\"), x.count(\"family link\"), x.count(\"external link\")"
   ]
  },
  {
   "cell_type": "code",
   "execution_count": 51,
   "id": "98621ee6-568f-4466-9f48-d5a64d90d63f",
   "metadata": {
    "tags": []
   },
   "outputs": [
    {
     "name": "stderr",
     "output_type": "stream",
     "text": [
      "100%|████████████████████████████████████████████████████████████████████████| 28901/28901 [00:00<00:00, 733534.92it/s]\n"
     ]
    }
   ],
   "source": [
    "#We create a column with the clean link stems.\n",
    "df[\"link_stems\"] = df.hyperlinks_clean.progress_apply(lambda x: get_link_stems(x))"
   ]
  },
  {
   "cell_type": "code",
   "execution_count": 52,
   "id": "01ded761-87bd-4adf-8644-f529ac372717",
   "metadata": {
    "tags": []
   },
   "outputs": [
    {
     "data": {
      "text/plain": [
       "[('nos', 3794),\n",
       " ('ad', 3174),\n",
       " ('nrc', 2253),\n",
       " ('volkskrant', 1510),\n",
       " ('nu', 1365),\n",
       " ('twitter', 832),\n",
       " ('youtube', 477),\n",
       " ('instagram', 178),\n",
       " ('nytimes', 155),\n",
       " ('rijksoverheid', 154)]"
      ]
     },
     "execution_count": 52,
     "metadata": {},
     "output_type": "execute_result"
    }
   ],
   "source": [
    "#We count the most common stems.\n",
    "Counter(df[[\"news_source\", \"link_stems\"]].explode(\"link_stems\").dropna().link_stems).most_common(10)"
   ]
  },
  {
   "cell_type": "code",
   "execution_count": 54,
   "id": "30a0f313-925d-4f0b-b2d8-809593e68f35",
   "metadata": {
    "tags": []
   },
   "outputs": [],
   "source": [
    "#We read in the related parent company sites.\n",
    "parents = pd.read_excel(\"03_family.xlsx\"); parents = parents.fillna(\"\")"
   ]
  },
  {
   "cell_type": "code",
   "execution_count": 56,
   "id": "0b0e738d-e137-4bdc-8440-95f4f7b722fe",
   "metadata": {
    "tags": []
   },
   "outputs": [
    {
     "name": "stdout",
     "output_type": "stream",
     "text": [
      "\\begin{tabular}{llll}\n",
      "\\toprule\n",
      " & NOS & DPG & Mediahuis \\\\\n",
      "\\midrule\n",
      "0 & nos & ad & telegraaf \\\\\n",
      "1 & 1limburg & volkskrant & nrc \\\\\n",
      "2 & nhnieuws & nu & metro \\\\\n",
      "3 & omroepbrabant & trouw & gelderlander \\\\\n",
      "4 & omroepflevoland & bndestem & ijmuidercourant \\\\\n",
      "5 & omropfryslan & bd & noordhollandsdagblad \\\\\n",
      "6 & gld & gelderlander & haarlemsdagblad \\\\\n",
      "7 & omroepwest & destentor & gooieneemlander \\\\\n",
      "8 & omroepzeeland & ed & leidschdagblad \\\\\n",
      "9 & rijnmond & parool & dvhn \\\\\n",
      "10 & rtvdrenthe & pzc & frieschdagblad \\\\\n",
      "11 & rtvnoord & tubantia & lc \\\\\n",
      "12 & rtvoost &  &  \\\\\n",
      "13 & rtvutrecht &  &  \\\\\n",
      "\\bottomrule\n",
      "\\end{tabular}\n",
      "\n"
     ]
    }
   ],
   "source": [
    "#We create a latex table for it.\n",
    "print(parents.to_latex())"
   ]
  },
  {
   "cell_type": "code",
   "execution_count": 57,
   "id": "049efbc1-377b-4c92-a279-59d6ccc5ffbb",
   "metadata": {
    "tags": []
   },
   "outputs": [
    {
     "name": "stderr",
     "output_type": "stream",
     "text": [
      "100%|█████████████████████████████████████████████████████████████████████████| 28901/28901 [00:00<00:00, 59681.33it/s]\n"
     ]
    }
   ],
   "source": [
    "#We create a function to extract all possible data types.\n",
    "df[\"data_types\"] = df.progress_apply(lambda x: get_data_types(x), axis=1)"
   ]
  },
  {
   "cell_type": "code",
   "execution_count": 58,
   "id": "7e7b2849-da3f-4f46-9a86-d9ca8ad15642",
   "metadata": {
    "tags": []
   },
   "outputs": [
    {
     "name": "stdout",
     "output_type": "stream",
     "text": [
      "Counter({'set()': 28455, \"{'pdf'}\": 236, \"{''}\": 73, \"{'aspx'}\": 42, \"{'nl'}\": 25, \"{'php'}\": 17, \"{'com'}\": 5, \"{'jpg'}\": 5, \"{'', 'php'}\": 3, \"{'ece'}\": 3, \"{'', 'pdf'}\": 3, \"{'cms'}\": 3, \"{'org'}\": 2, \"{'net'}\": 2, \"{'cnn'}\": 2, \"{'books'}\": 1, \"{'', 'aspx'}\": 1, \"{'jsp'}\": 1, \"{'', 'aspx', 'pdf'}\": 1, \"{'amp'}\": 1, \"{'for'}\": 1, \"{'datema'}\": 1, \"{'meachen'}\": 1, \"{'uk'}\": 1, \"{'mfa'}\": 1, \"{'gpx', 'pdf'}\": 1, \"{'pdf ', 'txt'}\": 1, \"{'terrorism'}\": 1, \"{'_ehrlich', 'pdf'}\": 1, \"{'png'}\": 1, \"{'_allegro'}\": 1, \"{'stm'}\": 1, \"{'gif'}\": 1, \"{'ds'}\": 1, \"{'fruithof'}\": 1, \"{'android', 'app'}\": 1, \"{'pdf?dd'}\": 1, \"{'ovpay'}\": 1, \"{'aspx', 'pdf'}\": 1, \"{'nl', 'pdf'}\": 1})\n"
     ]
    }
   ],
   "source": [
    "#We print the most occuring data types present.\n",
    "#We used this to inform our regular expression for document hyperlinking.\n",
    "print(Counter(df[\"data_types\"].astype(str)))"
   ]
  },
  {
   "cell_type": "code",
   "execution_count": 59,
   "id": "46e67b41-6942-43f3-a67c-5510c5e818c2",
   "metadata": {
    "tags": []
   },
   "outputs": [
    {
     "name": "stderr",
     "output_type": "stream",
     "text": [
      "100%|█████████████████████████████████████████████████████████████████████████| 28901/28901 [00:00<00:00, 52935.03it/s]\n"
     ]
    }
   ],
   "source": [
    "#We create the categorized hyperlinking lists as a column.\n",
    "df[\"hyperlinks_cat\"] = df.progress_apply(lambda x: get_hyperlinks_cat(x), axis=1)"
   ]
  },
  {
   "cell_type": "code",
   "execution_count": 60,
   "id": "3fc1d0f1-c06c-4248-bbb2-40fd9dbbce15",
   "metadata": {
    "tags": []
   },
   "outputs": [
    {
     "name": "stderr",
     "output_type": "stream",
     "text": [
      "100%|█████████████████████████████████████████████████████████████████████████| 28901/28901 [00:02<00:00, 12326.55it/s]\n"
     ]
    }
   ],
   "source": [
    "#We create seperate columns with the counts of each type of hyperlink.\n",
    "df[[\"tp_internal\", \"tp_document\", \"tp_family\", \"tp_external\"]] = df.hyperlinks_cat.progress_apply(lambda x: pd.Series(get_tp_source_links(x)))"
   ]
  },
  {
   "cell_type": "code",
   "execution_count": 63,
   "id": "0b71e976-eead-437d-b7de-ba3ff7d38b92",
   "metadata": {
    "tags": []
   },
   "outputs": [
    {
     "name": "stdout",
     "output_type": "stream",
     "text": [
      "0.8\n",
      "0.42\n",
      "0.04\n",
      "0.32\n",
      "0.02\n"
     ]
    }
   ],
   "source": [
    "#We print the means of each hyperlinking type count.\n",
    "print(round(np.mean(df[\"n_hyperlinks\"]), 2))\n",
    "print(round(np.mean(df[\"tp_internal\"]), 2))\n",
    "print(round(np.mean(df[\"tp_family\"]), 2))\n",
    "print(round(np.mean(df[\"tp_external\"]), 2))\n",
    "print(round(np.mean(df[\"tp_document\"]), 2))"
   ]
  },
  {
   "cell_type": "code",
   "execution_count": 64,
   "id": "ab3fb444-4f96-49f8-8629-2511b919ad32",
   "metadata": {
    "tags": []
   },
   "outputs": [
    {
     "data": {
      "text/plain": [
       "news_source\n",
       "AD            0.817439\n",
       "NOS           1.241945\n",
       "NRC           1.419398\n",
       "NU            0.564503\n",
       "Telegraaf     0.050517\n",
       "Volkskrant    0.744568\n",
       "Name: n_hyperlinks, dtype: float64"
      ]
     },
     "execution_count": 64,
     "metadata": {},
     "output_type": "execute_result"
    }
   ],
   "source": [
    "#We also assess the means of each outlet of overall hyperlinking.\n",
    "df.groupby(\"news_source\").n_hyperlinks.mean()"
   ]
  },
  {
   "cell_type": "code",
   "execution_count": 66,
   "id": "920069de-cc12-4166-9b46-014cad71897f",
   "metadata": {
    "tags": []
   },
   "outputs": [
    {
     "data": {
      "image/png": "[encoded data removed]",
      "text/plain": [
       "<Figure size 640x480 with 1 Axes>"
      ]
     },
     "metadata": {},
     "output_type": "display_data"
    },
    {
     "data": {
      "image/png": "[encoded data removed]",
      "text/plain": [
       "<Figure size 640x480 with 1 Axes>"
      ]
     },
     "metadata": {},
     "output_type": "display_data"
    },
    {
     "data": {
      "image/png": "[encoded data removed]",
      "text/plain": [
       "<Figure size 640x480 with 1 Axes>"
      ]
     },
     "metadata": {},
     "output_type": "display_data"
    },
    {
     "data": {
      "image/png": "[encoded data removed]",
      "text/plain": [
       "<Figure size 640x480 with 1 Axes>"
      ]
     },
     "metadata": {},
     "output_type": "display_data"
    }
   ],
   "source": [
    "#We quickly assess the distributions of each of these counts by histplots.\n",
    "for x in [\"tp_internal\", \"tp_family\", \"tp_external\", \"tp_document\"]:\n",
    "    df[[x]].hist(bins = len(df[[x]].value_counts()), align=\"left\")\n",
    "    plt.xticks(range(int(min(df[x])), int(max(df[x])) + 1))\n",
    "    plt.show()"
   ]
  },
  {
   "cell_type": "markdown",
   "id": "8bb9ed6f-bfdc-46d6-8b6e-b0e62b840064",
   "metadata": {},
   "source": [
    "### sourcing sampling"
   ]
  },
  {
   "cell_type": "code",
   "execution_count": 68,
   "id": "e817ed1e-5143-4a02-b688-4383441f0202",
   "metadata": {
    "tags": []
   },
   "outputs": [
    {
     "name": "stderr",
     "output_type": "stream",
     "text": [
      "100%|████████████████████████████████████████████████████████████████████████| 28901/28901 [00:00<00:00, 836308.56it/s]\n"
     ]
    }
   ],
   "source": [
    "#Since we limit sourcing detection to the first two paragraphs we combine the first two items of the paragraph list.\n",
    "df[\"intro\"] = df.txt_text_clean.progress_apply(lambda x: \" \".join(x[:2]))"
   ]
  },
  {
   "cell_type": "code",
   "execution_count": 69,
   "id": "db29c96e-9e69-4f15-87a8-f820e5155baf",
   "metadata": {
    "tags": []
   },
   "outputs": [
    {
     "name": "stderr",
     "output_type": "stream",
     "text": [
      "100%|██████████████████████████████████████████████████████████████████████████| 28901/28901 [00:04<00:00, 7068.10it/s]\n"
     ]
    }
   ],
   "source": [
    "#We then tokenize this newly created intro column into sentences in a list.\n",
    "df[\"intro_sentences\"] = df.intro.progress_apply(lambda x: sent_tokenize(x))"
   ]
  },
  {
   "cell_type": "code",
   "execution_count": 70,
   "id": "96e03666-fbe4-4b85-90f5-8279adb53b1b",
   "metadata": {
    "tags": []
   },
   "outputs": [
    {
     "name": "stdout",
     "output_type": "stream",
     "text": [
      "5\n"
     ]
    }
   ],
   "source": [
    "#We assess what the median sentence length is of the intro.\n",
    "intro_sen_n_max = round(np.median(df.intro_sentences.apply(lambda x: len(x)))); print(intro_sen_n_max )"
   ]
  },
  {
   "cell_type": "code",
   "execution_count": 71,
   "id": "6a85ecd8-7182-4aa7-9093-dc81b6cd54de",
   "metadata": {
    "tags": []
   },
   "outputs": [
    {
     "name": "stderr",
     "output_type": "stream",
     "text": [
      "100%|███████████████████████████████████████████████████████████████████████| 28901/28901 [00:00<00:00, 1018651.93it/s]\n"
     ]
    }
   ],
   "source": [
    "#We truncate the intro length by this median intro length.\n",
    "df[\"intro_1st_5_sent\"] = df.intro_sentences.progress_apply(lambda x: x[:intro_sen_n_max])"
   ]
  },
  {
   "cell_type": "code",
   "execution_count": 72,
   "id": "28ea0c46-8754-4fd1-b48a-7ae2986db6b2",
   "metadata": {
    "tags": []
   },
   "outputs": [],
   "source": [
    "#We create a new dataframe in which we extract the index, news_source, and truncated intro column.\n",
    "#We then explode the list of intro sentences. This makes that every row is a sentence of an intro.\n",
    "df_intro = df[[\"index\", \"news_source\", \"intro_1st_5_sent\"]].explode(\"intro_1st_5_sent\").reset_index().drop(columns=\"level_0\").rename(columns={\"intro_1st_5_sent\": \"sent\"})"
   ]
  },
  {
   "cell_type": "code",
   "execution_count": 73,
   "id": "e12986c6-fd8d-4544-987b-0d0cf4c0d498",
   "metadata": {
    "tags": []
   },
   "outputs": [],
   "source": [
    "#We then add a within index for the intro, thus indicating wheter it is the first sentence of the intro, the second, et cetera.\n",
    "#We also create an empty column named source presence, which we will code ourselves manually.\n",
    "df_intro[\"sent_index\"] = df_intro.groupby(\"index\").cumcount(); df_intro[\"source_presence\"] = \"\""
   ]
  },
  {
   "cell_type": "code",
   "execution_count": 74,
   "id": "d27587ab-c6b7-4c97-a6b9-9814e95b8df4",
   "metadata": {
    "tags": []
   },
   "outputs": [],
   "source": [
    "#We then randomly shuffle this data.\n",
    "df_intro_sample = df_intro.sample(frac=1, random_state=1)"
   ]
  },
  {
   "cell_type": "code",
   "execution_count": 75,
   "id": "aa9f082e-715a-45da-9505-14cf832281d7",
   "metadata": {
    "tags": []
   },
   "outputs": [],
   "source": [
    "#We write it away as an excel file.\n",
    "df_intro_sample.to_excel(\"df_intro_sent_sample.xlsx\")"
   ]
  },
  {
   "cell_type": "markdown",
   "id": "850c225a-a627-48aa-a1e0-877b25bbdbf6",
   "metadata": {
    "tags": []
   },
   "source": [
    "### sourcing categories"
   ]
  },
  {
   "cell_type": "markdown",
   "id": "4c70871f-91bc-4510-a4f6-6508bb401842",
   "metadata": {},
   "source": [
    "NOTE: See script 11 to see all taken in between steps. This script was run from a server due to demanding models to run."
   ]
  },
  {
   "cell_type": "code",
   "execution_count": 76,
   "id": "ed1fc202-7612-4730-839e-11ab462115f1",
   "metadata": {},
   "outputs": [],
   "source": [
    "#We read in a version of the endproduct of the sourcing pipeline.\n",
    "df_sourcing = pd.read_csv(\"03_sourcing_pipeline_product.csv\", index_col=0)"
   ]
  },
  {
   "cell_type": "code",
   "execution_count": 77,
   "id": "f0b158da-5cc9-4f4c-94f8-17e139ec6425",
   "metadata": {
    "tags": []
   },
   "outputs": [
    {
     "data": {
      "text/plain": [
       "Counter({3: 15010, 2: 8895, 0: 2344, 1: 384})"
      ]
     },
     "execution_count": 77,
     "metadata": {},
     "output_type": "execute_result"
    }
   ],
   "source": [
    "#We count the occurance of each predicted category.\n",
    "Counter(df_sourcing.p_sourcing_cat)"
   ]
  },
  {
   "cell_type": "code",
   "execution_count": 79,
   "id": "b81d4a9c-02d9-4c4a-841f-50cae44e98db",
   "metadata": {
    "tags": []
   },
   "outputs": [],
   "source": [
    "#We collapse the data back to the intro level, making a list per intro of all predicted values.\n",
    "df_sourcing = (df_sourcing[[\"news_source\", \"index\", \"p_sourcing_cat\"]].groupby([\"index\"]).agg({\"p_sourcing_cat\": lambda x: x.tolist()})).reset_index()"
   ]
  },
  {
   "cell_type": "code",
   "execution_count": 81,
   "id": "be1088b0-c73f-4bb4-8805-c0470236ee49",
   "metadata": {
    "tags": []
   },
   "outputs": [],
   "source": [
    "#We merge it with our larger file.\n",
    "df = df.merge(df_sourcing, how=\"left\")"
   ]
  },
  {
   "cell_type": "code",
   "execution_count": 82,
   "id": "2104d874-70c1-4bc8-ac51-37bdde3908fd",
   "metadata": {
    "tags": []
   },
   "outputs": [],
   "source": [
    "#For all missing instances we fill 0.\n",
    "df[\"p_sourcing_cat\"] = df.p_sourcing_cat.fillna(0)"
   ]
  },
  {
   "cell_type": "code",
   "execution_count": 83,
   "id": "48156777-5f44-4ff2-9b50-c85065a9b645",
   "metadata": {
    "tags": []
   },
   "outputs": [],
   "source": [
    "#We define a function to give the values readable names.\n",
    "def get_intro_sourcing_cat(x):\n",
    "    #If the entire intro has no sourcing we return absent.\n",
    "    if x == 0:\n",
    "        return [\"absent\"]\n",
    "    else:\n",
    "        output = []\n",
    "        for item in x:\n",
    "            #If the item in the list is zero we return absent.\n",
    "            if item == 0:\n",
    "                output.append(\"absent\")\n",
    "            #If the item is 1 we return anonymous.\n",
    "            elif item == 1:\n",
    "                output.append(\"anonymous\")\n",
    "            #For 2 we return opaque.\n",
    "            elif item == 2:\n",
    "                output.append(\"opaque\")\n",
    "            #And 3 is explicit.\n",
    "            elif item == 3:\n",
    "                output.append(\"explicit\")\n",
    "        return output"
   ]
  },
  {
   "cell_type": "code",
   "execution_count": 85,
   "id": "3b8d91e9-1bf5-478c-b489-85ce704d86d3",
   "metadata": {
    "tags": []
   },
   "outputs": [
    {
     "name": "stderr",
     "output_type": "stream",
     "text": [
      "100%|███████████████████████████████████████████████████████████████████████| 28901/28901 [00:00<00:00, 1342439.26it/s]\n"
     ]
    }
   ],
   "source": [
    "#We add this as a new columm.\n",
    "df[\"sourcing\"] = df.p_sourcing_cat.progress_apply(lambda x: get_intro_sourcing_cat(x))"
   ]
  },
  {
   "cell_type": "code",
   "execution_count": 86,
   "id": "3d20ac9d-3afd-4418-9154-aa984be98216",
   "metadata": {
    "tags": []
   },
   "outputs": [
    {
     "data": {
      "text/plain": [
       "[(\"['absent']\", 12852),\n",
       " (\"['explicit']\", 5534),\n",
       " (\"['opaque']\", 2807),\n",
       " (\"['explicit', 'explicit']\", 1525),\n",
       " (\"['explicit', 'opaque']\", 953),\n",
       " (\"['opaque', 'explicit']\", 938),\n",
       " (\"['opaque', 'opaque']\", 567),\n",
       " (\"['explicit', 'explicit', 'explicit']\", 327),\n",
       " (\"['explicit', 'absent']\", 243),\n",
       " (\"['absent', 'explicit']\", 240)]"
      ]
     },
     "execution_count": 86,
     "metadata": {},
     "output_type": "execute_result"
    }
   ],
   "source": [
    "#We count the presence of all sourcing combinations in the intro.\n",
    "Counter(df.sourcing.astype(str)).most_common(10)"
   ]
  },
  {
   "cell_type": "code",
   "execution_count": 87,
   "id": "a1acec31-18b0-42a8-af37-22dbe7d8be89",
   "metadata": {
    "tags": []
   },
   "outputs": [],
   "source": [
    "#We define a simple function to assess what the highest transparency tier is in the list of sources in the intro.\n",
    "def get_tp_sourcing(x):\n",
    "    if \"explicit\" in x:\n",
    "        return \"explicit\"\n",
    "    elif \"opaque\" in x:\n",
    "        return \"opaque\"\n",
    "    elif \"anonymous\" in x:\n",
    "        return \"anonymous\"\n",
    "    elif \"absent\" in x:\n",
    "        return \"absent\""
   ]
  },
  {
   "cell_type": "code",
   "execution_count": 88,
   "id": "01298870-8616-43ad-a9c7-647e807c047d",
   "metadata": {
    "tags": []
   },
   "outputs": [
    {
     "name": "stderr",
     "output_type": "stream",
     "text": [
      "100%|███████████████████████████████████████████████████████████████████████| 28901/28901 [00:00<00:00, 1670588.61it/s]\n"
     ]
    }
   ],
   "source": [
    "#We add it as a column.\n",
    "df[\"tp_sourcing\"] = df.sourcing.progress_apply(lambda x: get_tp_sourcing(x))"
   ]
  },
  {
   "cell_type": "code",
   "execution_count": 86,
   "id": "f3fd3fa9-b7b1-40c5-93c1-6f78fc6055cc",
   "metadata": {
    "tags": []
   },
   "outputs": [
    {
     "data": {
      "text/plain": [
       "Counter({'absent': 12927, 'explicit': 11921, 'opaque': 3868, 'anonymous': 185})"
      ]
     },
     "execution_count": 86,
     "metadata": {},
     "output_type": "execute_result"
    }
   ],
   "source": [
    "#We count the presence on the intro level of the highest transparency tier.\n",
    "Counter(df.tp_sourcing)"
   ]
  },
  {
   "cell_type": "code",
   "execution_count": 89,
   "id": "8236000f-fd95-49ad-a86b-ee7bd2ef1ee8",
   "metadata": {
    "tags": []
   },
   "outputs": [],
   "source": [
    "#We randomly sample 30 intro texts.\n",
    "sourcing_validation = df[[\"index\", \"news_source\", \"intro_1st_5_sent\", \"tp_sourcing\"]].groupby(\"tp_sourcing\").sample(30, random_state=1)"
   ]
  },
  {
   "cell_type": "code",
   "execution_count": 90,
   "id": "94cde7f4-88d6-4da5-bb1f-f7a4ac50fc81",
   "metadata": {
    "tags": []
   },
   "outputs": [],
   "source": [
    "#We write it away to excel.\n",
    "sourcing_validation.to_excel(\"sourcing_validation.xlsx\")"
   ]
  },
  {
   "cell_type": "code",
   "execution_count": 91,
   "id": "41b8aa3f-b834-4a0e-8b62-ff199af8fd1f",
   "metadata": {
    "tags": []
   },
   "outputs": [],
   "source": [
    "#We read in the annotated version.\n",
    "sourcing_validation_coded = pd.read_excel(\"03_intro_sourcing_val.xlsx\", index_col=0)"
   ]
  },
  {
   "cell_type": "code",
   "execution_count": 92,
   "id": "2f92e673-8208-4e35-8549-5d6f0748ddaf",
   "metadata": {
    "tags": []
   },
   "outputs": [],
   "source": [
    "#We map the original values to our category names.\n",
    "sourcing_validation_coded[\"tp_sourcing\"] = sourcing_validation_coded[\"tp_sourcing\"].map({'absent': 0, 'anonymous': 1, 'opaque': 2, 'explicit': 3})"
   ]
  },
  {
   "cell_type": "code",
   "execution_count": 93,
   "id": "dbe4717e-c9cb-453b-8293-0a95fc5a2d7e",
   "metadata": {
    "tags": []
   },
   "outputs": [
    {
     "data": {
      "text/plain": [
       "0.72"
      ]
     },
     "execution_count": 93,
     "metadata": {},
     "output_type": "execute_result"
    }
   ],
   "source": [
    "#We calculate the Krippendorff alpha between our validation and the sourcing as by the automated procedure.\n",
    "round(krippendorff.alpha((sourcing_validation_coded.tp_sourcing, sourcing_validation_coded.tp_sourcing_manual), level_of_measurement=\"ordinal\"), 2)"
   ]
  },
  {
   "cell_type": "markdown",
   "id": "a93fc067-e9e5-4da5-a256-9865baeeacd9",
   "metadata": {
    "tags": []
   },
   "source": [
    "### process information"
   ]
  },
  {
   "cell_type": "code",
   "execution_count": 94,
   "id": "d54edb8d-5a54-47f4-9222-1403230f1d69",
   "metadata": {
    "tags": []
   },
   "outputs": [
    {
     "name": "stderr",
     "output_type": "stream",
     "text": [
      "100%|██████████████████████████████████████████████████████████████████████████| 28901/28901 [00:10<00:00, 2689.27it/s]\n"
     ]
    },
    {
     "data": {
      "text/plain": [
       "680900"
      ]
     },
     "execution_count": 94,
     "metadata": {},
     "output_type": "execute_result"
    }
   ],
   "source": [
    "#We print the length of all sentences combined.\n",
    "len(df[[\"txt_text_one\"]].txt_text_one.progress_apply(lambda x: sent_tokenize(x)).explode())"
   ]
  },
  {
   "cell_type": "code",
   "execution_count": 95,
   "id": "a5a8f3b0-fbef-4130-a0dd-1a3c6b91e7c9",
   "metadata": {
    "tags": []
   },
   "outputs": [],
   "source": [
    "#We define a function to detect self-referall sentences.\n",
    "def get_self_referral_info(x):\n",
    "    \n",
    "    output = []\n",
    "    text = x[\"txt_text_one\"]; text_censored = re.sub(\"('|\\\"|“|‘|,,|„).+('|\\\"|’’|”|’)\", \"'QUOTE'\", text)\n",
    "    author = x[\"author_clean\"]; author_pattern = f\"\\\\b({author})\\\\b\"; author_cat = x[\"author_categories\"]\n",
    "    news_source = x[\"news_source\"]; source_pattern = f\"\\\\b({news_source}(\\.nl)?)\\\\b\"\n",
    "    section = str(x[\"articleSection\"]).lower(); keywords = [\"opinie\", \"columns\", \"wat u zegt\", \"praat mee\", \"vragenoproep\", \"opgebiecht\", \"horoscopen\"]\n",
    "    \n",
    "    #We first tokenize the entire aricle texts into sentences.\n",
    "    sentences = sent_tokenize(text_censored)\n",
    "    \n",
    "    #We loop over every sentence.\n",
    "    for sent in sentences:\n",
    "        #We search if a self referrential pronoun is used outside of opinion sections as defined above.\n",
    "        if re.search(\"\\\\b(wij|we|ons|onze|ik|me|mij|mijn)\\\\b\", string=sent) and not any(keyword in section for keyword in keywords) and not \"?\" in sent:\n",
    "            output.append(sent)\n",
    "        #We search if the own outlet is mentioned as defined above.\n",
    "        elif re.search(source_pattern, string=sent):\n",
    "            #If so we also censor it in the sentence.\n",
    "            sent = re.sub(source_pattern, \"SOURCE\", sent)\n",
    "            output.append(sent)\n",
    "        #We assess whether the name of the individual author(s) are mentioned in the sentence.\n",
    "        elif re.search(author_pattern, string=sent) and author_cat == \"individual author(s)\":\n",
    "            sent = re.sub(author_pattern, \"AUTHOR\", sent)\n",
    "            output.append(sent)\n",
    "        else:\n",
    "            pass\n",
    "        \n",
    "    filters = [\"AD Media Podcast\",\n",
    "               \"AD Groene Hart\",\n",
    "               \"BZV Café\",\n",
    "               \"We doen dat omdat we een debat willen met mensen die staan voor wat ze zeggen\",\n",
    "               \"Anonieme brieven plaatsen we niet\",\n",
    "               \"NOS Radio\",\n",
    "               \"kranten en tijdschriften op NU.nl\",\n",
    "               \"Log in of registreer gratis op NU.nl\"]\n",
    "    \n",
    "    #We remove self promotional sentences in our stored self-referential sentences.\n",
    "    output = [item for item in output if not any(value in item for value in filters)]\n",
    "    \n",
    "    #If the length is not 0 of our output list it means we have atleast one sentence containing self referrence.\n",
    "    if len(output) != 0:\n",
    "        result = True\n",
    "    else:\n",
    "        result = False\n",
    "    \n",
    "    #We return the result and output list.\n",
    "    return pd.Series([result, output], index=[\"self_referral_presence\", \"self_referral_text\"])"
   ]
  },
  {
   "cell_type": "code",
   "execution_count": 96,
   "id": "fd1041b2-130c-4eab-a18c-f284f29c59f4",
   "metadata": {
    "tags": []
   },
   "outputs": [
    {
     "name": "stderr",
     "output_type": "stream",
     "text": [
      "100%|██████████████████████████████████████████████████████████████████████████| 28901/28901 [00:13<00:00, 2118.72it/s]\n"
     ]
    }
   ],
   "source": [
    "#We apply the function and define the columns.\n",
    "df[[\"self_referral_presence\", \"self_referral_text\"]] = df.progress_apply(lambda x: pd.Series(get_self_referral_info(x)), axis=1)"
   ]
  },
  {
   "cell_type": "code",
   "execution_count": 111,
   "id": "c8c397c7-2ab8-4168-906e-fdeabe305d62",
   "metadata": {
    "tags": []
   },
   "outputs": [],
   "source": [
    "#We write away the file.\n",
    "df.to_csv(\"df_w_self_ref.csv\")"
   ]
  },
  {
   "cell_type": "code",
   "execution_count": 112,
   "id": "2b34c9bc-a8fd-4b41-984e-23fbaacfb26f",
   "metadata": {
    "tags": []
   },
   "outputs": [],
   "source": [
    "#We create another exploded dataframe where each self referrence sentence is a seperate row.\n",
    "self_referrence = df[[\"news_source\", \"self_referral_text\"]][df.self_referral_text.astype(str)!=\"[]\"].explode(\"self_referral_text\")"
   ]
  },
  {
   "cell_type": "code",
   "execution_count": 113,
   "id": "e37807f2-fd87-4879-843c-6cfc1d3aec20",
   "metadata": {
    "tags": []
   },
   "outputs": [
    {
     "data": {
      "text/plain": [
       "news_source\n",
       "AD            2130\n",
       "NOS            730\n",
       "NRC           2404\n",
       "NU            1481\n",
       "Telegraaf      509\n",
       "Volkskrant    2151\n",
       "dtype: int64"
      ]
     },
     "execution_count": 113,
     "metadata": {},
     "output_type": "execute_result"
    }
   ],
   "source": [
    "#We assess the size per outlet.\n",
    "self_referrence.groupby(\"news_source\").size()"
   ]
  },
  {
   "cell_type": "code",
   "execution_count": 115,
   "id": "93a41463-4368-48b0-be40-9604324b8c20",
   "metadata": {
    "tags": []
   },
   "outputs": [
    {
     "data": {
      "text/plain": [
       "9405"
      ]
     },
     "execution_count": 115,
     "metadata": {},
     "output_type": "execute_result"
    }
   ],
   "source": [
    "#As well as the total size.\n",
    "len(self_referrence)"
   ]
  },
  {
   "cell_type": "code",
   "execution_count": 116,
   "id": "d8b1ec31-cc34-465d-889a-be0e5ca785dd",
   "metadata": {
    "tags": []
   },
   "outputs": [],
   "source": [
    "#We sample equally from each outlet and shuffle the sentences.\n",
    "self_referrence_sample = self_referrence.groupby(\"news_source\").sample(330, random_state=1).sample(frac=1, random_state=1)"
   ]
  },
  {
   "cell_type": "code",
   "execution_count": 117,
   "id": "a76aa22d-8e8d-4ca1-8b3f-be12e02a28c6",
   "metadata": {
    "tags": []
   },
   "outputs": [],
   "source": [
    "#We add an empty column for our manual annotations and write it away.\n",
    "self_referrence_sample[\"process_code\"] = None; self_referrence_sample.to_excel(\"self_referrence_sample.xlsx\")"
   ]
  },
  {
   "cell_type": "markdown",
   "id": "2d268e8e-d8b2-4634-9101-7f22fd92d683",
   "metadata": {},
   "source": [
    "Note: See script 21 for the entire process info factor pipeline. This was performed on a server due to demanding models."
   ]
  },
  {
   "cell_type": "code",
   "execution_count": 97,
   "id": "4d024ca6-eb69-43da-be27-54b05003bda4",
   "metadata": {
    "tags": []
   },
   "outputs": [],
   "source": [
    "df = pd.read_csv(\"03_process_info_pipeline_product.csv\", index_col=0)"
   ]
  },
  {
   "cell_type": "code",
   "execution_count": 98,
   "id": "b228ff76-e884-4cf8-86ee-903051765a18",
   "metadata": {
    "tags": []
   },
   "outputs": [
    {
     "data": {
      "text/html": [
       "<div>\n",
       "<style scoped>\n",
       "    .dataframe tbody tr th:only-of-type {\n",
       "        vertical-align: middle;\n",
       "    }\n",
       "\n",
       "    .dataframe tbody tr th {\n",
       "        vertical-align: top;\n",
       "    }\n",
       "\n",
       "    .dataframe thead th {\n",
       "        text-align: right;\n",
       "    }\n",
       "</style>\n",
       "<table border=\"1\" class=\"dataframe\">\n",
       "  <thead>\n",
       "    <tr style=\"text-align: right;\">\n",
       "      <th></th>\n",
       "      <th>count</th>\n",
       "      <th>mean</th>\n",
       "      <th>std</th>\n",
       "      <th>min</th>\n",
       "      <th>25%</th>\n",
       "      <th>50%</th>\n",
       "      <th>75%</th>\n",
       "      <th>max</th>\n",
       "    </tr>\n",
       "    <tr>\n",
       "      <th>news_source</th>\n",
       "      <th></th>\n",
       "      <th></th>\n",
       "      <th></th>\n",
       "      <th></th>\n",
       "      <th></th>\n",
       "      <th></th>\n",
       "      <th></th>\n",
       "      <th></th>\n",
       "    </tr>\n",
       "  </thead>\n",
       "  <tbody>\n",
       "    <tr>\n",
       "      <th>NRC</th>\n",
       "      <td>451600.0</td>\n",
       "      <td>0.947701</td>\n",
       "      <td>3.339653</td>\n",
       "      <td>0.0</td>\n",
       "      <td>0.0</td>\n",
       "      <td>0.0</td>\n",
       "      <td>0.0</td>\n",
       "      <td>33.333333</td>\n",
       "    </tr>\n",
       "    <tr>\n",
       "      <th>NU</th>\n",
       "      <td>486800.0</td>\n",
       "      <td>0.638407</td>\n",
       "      <td>3.145942</td>\n",
       "      <td>0.0</td>\n",
       "      <td>0.0</td>\n",
       "      <td>0.0</td>\n",
       "      <td>0.0</td>\n",
       "      <td>63.636364</td>\n",
       "    </tr>\n",
       "    <tr>\n",
       "      <th>AD</th>\n",
       "      <td>489700.0</td>\n",
       "      <td>0.248170</td>\n",
       "      <td>2.004667</td>\n",
       "      <td>0.0</td>\n",
       "      <td>0.0</td>\n",
       "      <td>0.0</td>\n",
       "      <td>0.0</td>\n",
       "      <td>33.333333</td>\n",
       "    </tr>\n",
       "    <tr>\n",
       "      <th>Telegraaf</th>\n",
       "      <td>492900.0</td>\n",
       "      <td>0.247932</td>\n",
       "      <td>2.547932</td>\n",
       "      <td>0.0</td>\n",
       "      <td>0.0</td>\n",
       "      <td>0.0</td>\n",
       "      <td>0.0</td>\n",
       "      <td>40.000000</td>\n",
       "    </tr>\n",
       "    <tr>\n",
       "      <th>Volkskrant</th>\n",
       "      <td>469400.0</td>\n",
       "      <td>0.135824</td>\n",
       "      <td>1.365716</td>\n",
       "      <td>0.0</td>\n",
       "      <td>0.0</td>\n",
       "      <td>0.0</td>\n",
       "      <td>0.0</td>\n",
       "      <td>41.666667</td>\n",
       "    </tr>\n",
       "    <tr>\n",
       "      <th>NOS</th>\n",
       "      <td>499700.0</td>\n",
       "      <td>0.131479</td>\n",
       "      <td>1.099412</td>\n",
       "      <td>0.0</td>\n",
       "      <td>0.0</td>\n",
       "      <td>0.0</td>\n",
       "      <td>0.0</td>\n",
       "      <td>36.842105</td>\n",
       "    </tr>\n",
       "  </tbody>\n",
       "</table>\n",
       "</div>"
      ],
      "text/plain": [
       "                count      mean       std  min  25%  50%  75%        max\n",
       "news_source                                                             \n",
       "NRC          451600.0  0.947701  3.339653  0.0  0.0  0.0  0.0  33.333333\n",
       "NU           486800.0  0.638407  3.145942  0.0  0.0  0.0  0.0  63.636364\n",
       "AD           489700.0  0.248170  2.004667  0.0  0.0  0.0  0.0  33.333333\n",
       "Telegraaf    492900.0  0.247932  2.547932  0.0  0.0  0.0  0.0  40.000000\n",
       "Volkskrant   469400.0  0.135824  1.365716  0.0  0.0  0.0  0.0  41.666667\n",
       "NOS          499700.0  0.131479  1.099412  0.0  0.0  0.0  0.0  36.842105"
      ]
     },
     "execution_count": 98,
     "metadata": {},
     "output_type": "execute_result"
    }
   ],
   "source": [
    "df.groupby(\"news_source\")[\"process_info_factor\"].describe().sort_values(by=\"mean\", ascending=False) * 100"
   ]
  },
  {
   "cell_type": "markdown",
   "id": "f5bab27d-d52e-4667-9df6-d22d3238810a",
   "metadata": {
    "tags": []
   },
   "source": [
    "### newspaper types"
   ]
  },
  {
   "cell_type": "code",
   "execution_count": 99,
   "id": "9439a970-bee4-46e7-95e5-57ed0c4abf8e",
   "metadata": {
    "tags": []
   },
   "outputs": [],
   "source": [
    "#We define a function to categorize the outlets by their types.\n",
    "def get_newspaper_types(x):\n",
    "    if x  == \"NOS\":\n",
    "        funding = \"public\"; mode = \"multimodal\"; quality = \"quality\"\n",
    "    elif x == \"NU\":\n",
    "        funding = \"private\"; mode = \"digital native\"; quality = \"popular\"\n",
    "    elif x == \"Volkskrant\":\n",
    "        funding = \"private\"; mode = \"multimodal\"; quality = \"quality\"\n",
    "    elif x == \"NRC\":\n",
    "        funding = \"private\"; mode = \"multimodal\"; quality = \"quality\"\n",
    "    elif x == \"Telegraaf\":\n",
    "        funding = \"private\"; mode = \"multimodal\"; quality = \"popular\"\n",
    "    elif x == \"AD\":\n",
    "        funding = \"private\"; mode = \"multimodal\"; quality = \"popular\"\n",
    "    \n",
    "    #We return the outputs for funding, mode and quality.\n",
    "    return funding, mode, quality"
   ]
  },
  {
   "cell_type": "code",
   "execution_count": 100,
   "id": "03d1c907-f9cc-43a3-b12b-c3e093aa1a2f",
   "metadata": {
    "tags": []
   },
   "outputs": [
    {
     "name": "stderr",
     "output_type": "stream",
     "text": [
      "100%|██████████████████████████████████████████████████████████████████████████| 28901/28901 [00:03<00:00, 7955.45it/s]\n"
     ]
    }
   ],
   "source": [
    "#We add the function to the three resepective columns.\n",
    "df[[\"np_funding\", \"np_mode\", \"np_quality\"]] = df.news_source.progress_apply(lambda x: pd.Series(get_newspaper_types(x)))"
   ]
  },
  {
   "cell_type": "markdown",
   "id": "99af3c0b-fc44-4c66-981f-e46c0ec320ee",
   "metadata": {
    "tags": []
   },
   "source": [
    "### sections & article softness"
   ]
  },
  {
   "cell_type": "code",
   "execution_count": 102,
   "id": "329c2c8b-0ffe-419c-9194-a0842d5014af",
   "metadata": {
    "tags": []
   },
   "outputs": [],
   "source": [
    "#We create a simply function to clean the section names.\n",
    "def get_section_clean(x):\n",
    "    x = str(x).lower().strip(\"['']\"); return x"
   ]
  },
  {
   "cell_type": "code",
   "execution_count": 103,
   "id": "ba56754b-0c65-489e-85e4-329e0fdcc0aa",
   "metadata": {
    "tags": []
   },
   "outputs": [
    {
     "name": "stderr",
     "output_type": "stream",
     "text": [
      "100%|███████████████████████████████████████████████████████████████████████| 28901/28901 [00:00<00:00, 1445861.47it/s]\n"
     ]
    }
   ],
   "source": [
    "#We use the function above to create a new column.\n",
    "df[\"section_clean\"] = df.articleSection.progress_apply(lambda x: get_section_clean(x))"
   ]
  },
  {
   "cell_type": "code",
   "execution_count": 104,
   "id": "f87e4d5a-8cd7-4740-a618-20ebfe565a5a",
   "metadata": {
    "tags": []
   },
   "outputs": [
    {
     "name": "stdout",
     "output_type": "stream",
     "text": [
      "Counter({'binnenland': 3375, 'buitenland': 3237, 'voetbal': 2275, 'topverhalen vandaag': 1544, 'economie': 1382, 'opinie': 1060, 'cultuur & media': 994, 'sport': 880, 'nan': 612, 'cultuur': 600, 'show': 599, 'politiek': 532, 'wielrennen': 500, 'uit-andere-media': 495, 'regionaal nieuws': 491, 'nederlands voetbal': 488, 'financieel': 443, 'sterren': 394, 'tennis': 377, 'wetenschap': 329, 'wat u zegt': 311, 'columns': 304, 'boeken': 284, 'buitenlands voetbal': 253, 'achterklap': 197, 'muziek': 190, 'sport-overig': 169, 'geld': 168, 'tech': 165, 'achterpagina': 164, 'volkskrant magazine': 161, 'media & tech': 156, 'media': 141, 'auto': 129, 'stelling': 128, 'film': 125, 'formule-1': 125, 'andere sporten': 124, 'leven': 120, 'schaatsen': 113, 'gezond': 112, \"binnenland', 'buitenland\": 112, 'tv': 111, 'autosport': 106, 'darts': 102, 'formule 1': 101, 'regiosport rotterdam': 100, 'lifestyle': 83, 'regiosport den haag': 83, 'regiosport utrecht': 75, 'regiosport dordrecht': 73, 'branded': 70, 'koken en eten': 70, \"autosport', 'formule 1\": 69, 'uitgelicht': 67, 'klimaat': 65, 'spanningen-oekraine': 61, 'wonen': 60, 'cultuur-overig': 59, 'nuenen, gerwen en nederwetten': 56, 'royals': 56, \"binnenland', 'politiek\": 54, 'beter leven': 53, 'mezza': 51, 'vrouw magazine': 51, \"buitenland', 'cultuur & media\": 48, 'regiosport groene hart': 47, 'atletiek': 47, 'gossip': 44, 'regiosport amersfoort': 44, 'koken & eten': 43, 'wk-voetbal-2023': 40, 'culinair': 38, 'súdwest-fryslân': 37, 'werk': 36, 'noardeast-fryslân': 35, 'koningshuis': 35, 'thuis & tuin': 35, 'reizen': 34, 'entertainment': 33, 'opmerkelijk': 33, 'gezondheid': 31, 'de kwestie': 31, 'columns & opinie': 31, 'horoscopen': 31, \"economie', 'tech\": 30, 'theater': 30, 'tour-de-france': 30, \"binnenland', 'economie\": 29, 'nieuws': 29, 'stan huygens journaal': 28, 'dieren': 28, 'tour de france': 28, \"binnenland', 'cultuur & media\": 27, 'hockey': 27, 'commentaar': 26, 'basketbal': 26, 'weerbericht': 26, 'beek (l)': 26, 'films': 26, 'bergen (nh)': 24, 'algemeen': 23, 'praat mee': 23, \"regionaal nieuws', 'binnenland\": 23, 'songfestival': 22, 'vrouw': 22, 'tentoonstellingen': 21, 'opgebiecht': 21, 'ondernemen': 21, 'volleybal': 20, 'bergen (l)': 20, 'motorsport': 19, 'wk vrouwenvoetbal': 19, \"buitenland', 'tech\": 18, \"binnenland', 'voetbal\": 18, \"politiek', 'economie\": 18, 'verhalen achter het nieuws': 18, 'midden-oostenconflict': 17, 'oorlog israël-hamas': 17, 'zwemmen': 17, 'vechtsport': 16, 'glossy': 16, 'golf': 16, 'handbal': 16, 'foto': 15, 'carrière': 15, 'voorne-putten': 15, 'branded content': 15, \"buitenland', 'politiek\": 15, \"buitenland', 'koningshuis\": 15, 'aardbeving-syrie-en-turkije': 15, 'waterpolo': 14, 'nujij': 14, 'gezin': 14, 'judo': 13, 'van de lezer nijmegen': 13, \"buitenland', 'economie\": 13, 'gesponsord': 13, 'turnen': 13, 'transfer talk': 13, \"schaatsen', 'shorttrack\": 13, 'boksen': 13, 'sport algemeen': 13, 'zeilen': 12, 'noord-holland': 12, 'tweede-kamerverkiezingen-2023': 12, \"binnenland', 'politiek', 'economie\": 11, 'nu-formule-1': 11, 'in het nieuws': 11, 'van de lezer tilburg': 11, 'stein (l)': 11, 'limburg': 11, 'van de lezer doetinchem': 11, 'honkbal': 10, \"buitenland', 'opmerkelijk\": 10, 'van de lezer montferland': 10, 'binnenland-en-buitenland': 10, 'europees voetbal': 10, 'geschiedenis': 10, \"buitenland', 'voetbal\": 10, 'ijshockey': 10, 'op weg': 9, 'alpineskiën': 9, 'alphen': 9, 'series': 9, 'tech-wetenschap': 9, 'regiosport helmond': 9, 'dagboek van een minnares': 9, 'american football': 9, 'onderzoek': 9, 'seks & relaties': 9, 'waterweg': 8, 'beachvolleybal': 8, 'van de lezer arnhem': 8, \"veldrijden', 'wielrennen\": 8, 'flevoland': 8, \"regionaal nieuws', 'voetbal\": 8, \"binnenland', 'koningshuis\": 8, 'goed-nieuws': 7, 'gebaseerd-op-jullie-vragen': 7, 'provinciale-statenverkiezingen': 7, 'van de lezer apeldoorn': 7, 'regiosport gorinchem': 7, 'home': 7, 'rivierenland': 7, 'laren (nh)': 7, 'blog': 7, 'uit-tips breda': 7, 'opvoeden': 7, 'regiosport eindhoven': 7, \"baanwielrennen', 'wielrennen\": 7, 'tussen de lakens': 7, 'schaken': 6, \"regionaal nieuws', 'cultuur & media\": 6, 'kind-gezin': 6, 'mama': 6, 'extra': 6, 'tv thermometer': 6, 'marengo-proces': 6, 'vuelta': 6, 'drenthe': 6, 'roeien': 6, 'van de lezer rotterdam': 6, 'lezerscolumn': 6, 'vragenoproep': 6, 'olympische spelen': 5, 'rugby': 5, 'lezersbrieven': 5, \"motocross', 'motorsport\": 5, 'overig': 5, \"economie', 'cultuur & media\": 5, 'slimmer-leven': 5, 'eten-en-drinken': 5, 'van de lezer gennep': 5, 'giro': 5, 'friesland': 5, \"binnenland', 'buitenland', 'politiek\": 5, 'storm-eunice': 5, 'eten en drinken zwolle': 5, \"binnenland', 'tech\": 5, 'coronavirus': 5, \"beachvolleybal', 'volleybal\": 4, \"bmx', 'wielrennen\": 4, \"binnenland', 'sport algemeen\": 4, 'nuverder': 4, 'snowboarden': 4, 'val-kabinet': 4, 'royalty': 4, 'regiosport nijmegen': 4, 'het leven van': 4, 'van de lezer lingewaard': 4, \"mountainbiken', 'wielrennen\": 4, 'regiosport veldhoven': 4, \"cultuur & media', 'sport algemeen\": 4, 'cricket': 4, 'vragenuur': 4, 'nu-voetbal': 4, 'snooker': 4, 'motocross': 4, 'badminton': 3, 'gaswinning-groningen': 3, 'zeeland': 3, 'achter de schermen': 3, 'geldzaken': 3, 'feelgood': 3, '4-en-5-mei': 3, 'korfbal': 3, 'vacatures': 3, 'formatie-2023': 3, 'over-nu': 3, 'skeleton': 3, 'offside': 3, \"cultuur & media', 'voetbal\": 3, \"paardensport springen', 'paardensport\": 3, 'metoo': 3, 'aardbeving turkije en syrië': 2, 'handboogschieten': 2, \"binnenland', 'buitenland', 'koningshuis\": 2, \"buitenland', 'economie', 'tech\": 2, 'van de lezer vlissingen': 2, 'uit-tips rotterdam': 2, \"kunstschaatsen', 'schaatsen\": 2, 'wat hij vindt': 2, 'bmx': 2, 'paardensport': 2, \"politiek', 'economie', 'koningshuis\": 2, 'van de lezer duiven': 2, 'uit-tips zwolle': 2, 'mode': 2, 'van de lezer neder-betuwe': 2, 'voorpagina': 2, \"buitenland', 'sport algemeen\": 2, 'regiosport edam-volendam': 2, 'van de lezer lochem': 2, 'tv & radio': 2, 'mh17': 2, \"economie', 'sport algemeen\": 2, 'bizar': 2, 'prinsjesdag': 2, \"regionaal nieuws', 'opmerkelijk\": 2, \"marathonschaatsen', 'schaatsen\": 2, 'keti-koti': 2, '4daagse': 2, \"binnenland', 'buitenland', 'cultuur & media\": 2, 'pride': 2, \"buitenland', 'tech', 'opmerkelijk\": 2, 'asielcrisis': 2, 'shorttrack': 2, 'games': 2, 'wolf': 2, \"basketbal', 'rolstoelbasketbal', 'paralympische sport\": 2, \"binnenland', 'autosport', 'formule 1\": 2, 'cartoons': 2, \"buitenland', 'opmerkelijk', 'koningshuis\": 2, 'regiosport altena': 2, \"wielrennen', 'paralympische sport\": 2, 'tafeltennis': 2, 'paralympische sport': 2, 'van de lezer deventer': 2, \"regionaal nieuws', 'politiek\": 2, 'nuplus': 2, \"politiek', 'tech\": 2, 'van de lezer altena': 2, \"politiek', 'economie', 'tech\": 1, 'nijmegen': 1, 'de-boordradio': 1, \"paardensport dressuur', 'paardensport\": 1, \"economie', 'voetbal\": 1, 'nucheckt': 1, 'uit-tips noordoostpolder': 1, 'oranje': 1, 'deventer': 1, 'regiosport rivierenland': 1, 'skateboarden': 1, 'regiosport echt-susteren': 1, \"binnenland', 'buitenland', 'tech\": 1, \"regionaal nieuws', 'korfbal', 'voetbal\": 1, 'van de lezer breda': 1, \"regionaal nieuws', 'sport algemeen', 'voetbal\": 1, 'voetbalsamenvattingen': 1, 'regiosport hoeksche waard': 1, 'regiosport woerden': 1, 'van de lezer alphen': 1, 'marathonschaatsen': 1, \"buitenland', 'schaatsen\": 1, 'van de lezer brummen': 1, 'regiosport maasdriel': 1, 'van de lezer veere': 1, 'wk voetbal': 1, 'uit-tips altena': 1, 'uit-tips lochem': 1, 'schoonspringen': 1, \"buitenland', 'formule 1\": 1, 'dvn': 1, 'regiosport reusel-de mierden': 1, \"regionaal nieuws', 'tennis\": 1, 'regiosport voorne aan zee': 1, 'eten en drinken goeree-overflakkee': 1, \"opmerkelijk', 'ijshockey\": 1, \"sport algemeen', 'schaatsen\": 1, 'regiosport westland': 1, \"zwemmen', 'synchroonzwemmen\": 1, \"voetbal', 'wielrennen\": 1, \"buitenland', 'cultuur & media', 'formule 1\": 1, 'peter-r-de-vries': 1, 'regiosport zaanstad': 1, 'natuur': 1, 'van de lezer steenwijkerland': 1, 'enschede': 1, \"economie', 'tech', 'koningshuis\": 1, \"binnenland', 'koningshuis', 'cultuur & media\": 1, \"regionaal nieuws', 'binnenland', 'politiek\": 1, 'van de lezer middelburg': 1, 'gewichtheffen': 1, 'uit-tips zundert': 1, \"regionaal nieuws', 'schaatsen\": 1, 'verkiezingen-turkije': 1, \"buitenland', 'judo\": 1, 'helen’s dagboek': 1, \"binnenland', 'wielrennen\": 1, 'regiosport sint-michielsgestel': 1, 'login-vereist': 1, 'van de lezer zutphen': 1, 'softbal': 1, 'rolstoeltennis': 1, 'klimaatdemonstratie a12': 1, 'klimaattop dubai': 1, 'leiden': 1, \"politiek', 'opmerkelijk', 'cultuur & media\": 1, \"opmerkelijk', 'atletiek\": 1, \"buitenland', 'tennis\": 1, \"tennis', 'paralympische sport\": 1, 'regiosport valkenswaard': 1, 'van de lezer bergen op zoom': 1, 'kunstschaatsen': 1, \"binnenland', 'buitenland', 'economie', 'cultuur & media\": 1, \"sport algemeen', 'wielrennen\": 1, 'van de lezer roosendaal': 1, \"regionaal nieuws', 'binnenland', 'cultuur & media\": 1, 'regiosport montfoort': 1, 'het gooi': 1, 'uit-tips drimmelen': 1, 'interviews-met-lijsttrekkers': 1, 'regiosport nuenen, gerwen en nederwetten': 1, \"sport algemeen', 'basketbal\": 1, 'regiosport land van cuijk': 1, 'regiosport stein (l)': 1, \"regionaal nieuws', 'economie\": 1, \"politiek', 'cultuur & media\": 1, 'haarlem': 1, 'uit-tips den bosch': 1, \"politiek', 'sport algemeen', 'boksen\": 1, 'arnhem': 1, 'uit-tips bergen op zoom': 1, 'nasleep-klassieker': 1, 'uit-tips hoeksche waard': 1, 'van de lezer lelystad': 1, 'nushoptickets-vrijdag': 1, \"gewichtheffen', 'turnen\": 1, 'regiosport hardinxveld-giessendam': 1, \"zwemmen', 'openwaterzwemmen\": 1, 'baanwielrennen': 1, 'uit-tips heusden': 1, 'media-en-cultuur': 1, \"buitenland', 'cultuur & media', 'autosport\": 1, 'kanovaren': 1, 'van de lezer den bosch': 1, \"binnenland', 'atletiek\": 1, 'eten en drinken nijkerk': 1, 'regiosport velsen': 1, 'opstand wagner-huurleger': 1, \"buitenland', 'basketbal\": 1, 'showbytes': 1, 'uit-tips vlaardingen': 1, 'regiosport zwijndrecht': 1, 'mountainbiken': 1, 'van de lezer elburg': 1, 'curling': 1, 'regiosport bergeijk': 1, \"binnenland', 'motorsport\": 1, 'regiosport meierijstad': 1, \"buitenland', 'paardensport\": 1, 'regiosport groningen': 1, 'regiosport steenwijkerland': 1, 'uit-tips roosendaal': 1, 'the-voice': 1, \"binnenland', 'cultuur & media', 'voetbal\": 1, 'regiosport leiden': 1, 'reviews': 1, 'regiosport drimmelen': 1, 'regiosport tilburg': 1, \"binnenland', 'politiek', 'tech\": 1, 'kabinet-rutte iv gevallen': 1, 'van de lezer zeewolde': 1, 'facebooklinks': 1, \"buitenland', 'sport algemeen', 'triatlon\": 1, 'titel-feyenoord': 1, 'uit-tips zutphen': 1, \"regionaal nieuws', 'sport algemeen\": 1, \"buitenland', 'cricket\": 1, 'regiosport oirschot': 1, \"binnenland', 'paralympische sport\": 1, \"tennis', 'rolstoeltennis\": 1, 'regiosport assen': 1, 'van de lezer meppel': 1, \"regionaal nieuws', 'wielrennen\": 1, 'nieuwe pensioenwet': 1, 'kostencrisis': 1, 'futsal': 1, 'vertrek rutte': 1, 'wk-vrouwenvoetbal': 1, 'dammen': 1, 'van de lezer hardenberg': 1, \"atletiek', 'paralympische sport\": 1, 'synchroonzwemmen': 1, 'jaarwisseling': 1, \"binnenland', 'buitenland', 'economie\": 1, 'eten en drinken lelystad': 1, 'hoe gaat het nu met': 1, 'regiosport gouda': 1, 'herdenking slavernijverleden': 1})\n",
      "461\n"
     ]
    }
   ],
   "source": [
    "#We count the presence of all sections.\n",
    "print(Counter(df.section_clean)); print(len(Counter(df.section_clean)))"
   ]
  },
  {
   "cell_type": "code",
   "execution_count": 105,
   "id": "9527b5a2-93b0-42f1-916e-1247da04a650",
   "metadata": {
    "tags": []
   },
   "outputs": [],
   "source": [
    "#We categorize the section on if they are regarded soft or hard.\n",
    "def get_softness(x):\n",
    "    #We define lists of soft and hard sections, present in the counter above.\n",
    "    soft = [\"voetbal\", \"opmerkelijk\", \"koningshuis\", \"sport algemeen\", \"show\", \"andere sporten\", \"sport\",\n",
    "            \"muziek\", \"theater\", \"films\", \"series\", \"sterren\", \"lifestyle\", \"tv\", \"wielrennen\", \"gossip\", \"tennis\",\n",
    "            \"royals\", \"horoscopen\", \"film\", \"entertainment\", \"schaatsen\", \"formule-1\"]\n",
    "    hard = [\"buitenland\", \"binnenland\", \"economie\", \"politiek\", \"wetenschap\", \"financieel\", \"geld\", \"ondernemen\"]\n",
    "    #If the section matches with any of the soft sections we return soft.\n",
    "    if any(s in x for s in soft):\n",
    "        return \"soft\"\n",
    "    #Idem dito for hard.\n",
    "    elif any(h in x for h in hard):\n",
    "        return \"hard\"\n",
    "    #If there is no match for both lists, we return undecided.\n",
    "    else:\n",
    "        return \"undecided\""
   ]
  },
  {
   "cell_type": "code",
   "execution_count": 106,
   "id": "ba40b404-aee4-4051-acd9-3aef11a05a37",
   "metadata": {
    "tags": []
   },
   "outputs": [
    {
     "name": "stderr",
     "output_type": "stream",
     "text": [
      "100%|████████████████████████████████████████████████████████████████████████| 28901/28901 [00:00<00:00, 346455.49it/s]\n"
     ]
    }
   ],
   "source": [
    "#We apply the function and create a new column.\n",
    "df[\"article_softness\"] = df.section_clean.progress_apply(lambda x: get_softness(x))"
   ]
  },
  {
   "cell_type": "code",
   "execution_count": 107,
   "id": "60f1276b-53aa-40c6-b71f-355dd7dfd8a3",
   "metadata": {
    "tags": []
   },
   "outputs": [
    {
     "data": {
      "text/html": [
       "<div>\n",
       "<style scoped>\n",
       "    .dataframe tbody tr th:only-of-type {\n",
       "        vertical-align: middle;\n",
       "    }\n",
       "\n",
       "    .dataframe tbody tr th {\n",
       "        vertical-align: top;\n",
       "    }\n",
       "\n",
       "    .dataframe thead th {\n",
       "        text-align: right;\n",
       "    }\n",
       "</style>\n",
       "<table border=\"1\" class=\"dataframe\">\n",
       "  <thead>\n",
       "    <tr style=\"text-align: right;\">\n",
       "      <th>article_softness</th>\n",
       "      <th>hard</th>\n",
       "      <th>soft</th>\n",
       "      <th>undecided</th>\n",
       "    </tr>\n",
       "    <tr>\n",
       "      <th>news_source</th>\n",
       "      <th></th>\n",
       "      <th></th>\n",
       "      <th></th>\n",
       "    </tr>\n",
       "  </thead>\n",
       "  <tbody>\n",
       "    <tr>\n",
       "      <th>AD</th>\n",
       "      <td>1399</td>\n",
       "      <td>2199</td>\n",
       "      <td>1299</td>\n",
       "    </tr>\n",
       "    <tr>\n",
       "      <th>NOS</th>\n",
       "      <td>2471</td>\n",
       "      <td>1565</td>\n",
       "      <td>961</td>\n",
       "    </tr>\n",
       "    <tr>\n",
       "      <th>NRC</th>\n",
       "      <td>2060</td>\n",
       "      <td>283</td>\n",
       "      <td>2173</td>\n",
       "    </tr>\n",
       "    <tr>\n",
       "      <th>NU</th>\n",
       "      <td>1479</td>\n",
       "      <td>1705</td>\n",
       "      <td>1684</td>\n",
       "    </tr>\n",
       "    <tr>\n",
       "      <th>Telegraaf</th>\n",
       "      <td>2088</td>\n",
       "      <td>1822</td>\n",
       "      <td>1019</td>\n",
       "    </tr>\n",
       "    <tr>\n",
       "      <th>Volkskrant</th>\n",
       "      <td>448</td>\n",
       "      <td>521</td>\n",
       "      <td>3725</td>\n",
       "    </tr>\n",
       "  </tbody>\n",
       "</table>\n",
       "</div>"
      ],
      "text/plain": [
       "article_softness  hard  soft  undecided\n",
       "news_source                            \n",
       "AD                1399  2199       1299\n",
       "NOS               2471  1565        961\n",
       "NRC               2060   283       2173\n",
       "NU                1479  1705       1684\n",
       "Telegraaf         2088  1822       1019\n",
       "Volkskrant         448   521       3725"
      ]
     },
     "execution_count": 107,
     "metadata": {},
     "output_type": "execute_result"
    }
   ],
   "source": [
    "#We assess the prevalence of each category.\n",
    "df.groupby([\"news_source\", \"article_softness\"]).size().unstack(fill_value=0)"
   ]
  },
  {
   "cell_type": "code",
   "execution_count": 108,
   "id": "0a70d6ec-576f-432d-8578-9bbf8b9099d3",
   "metadata": {
    "tags": []
   },
   "outputs": [],
   "source": [
    "#We exclude the undecided category and sample equally from each outlet.\n",
    "df_softness_sample = df[(df.article_softness != \"undecided\")].groupby([\"news_source\", \"article_softness\"]).sample(150, random_state=1)"
   ]
  },
  {
   "cell_type": "code",
   "execution_count": 109,
   "id": "2688406e-68b1-44bc-a377-7e97a52e4c2a",
   "metadata": {
    "tags": []
   },
   "outputs": [],
   "source": [
    "#We create an X and y dataset.\n",
    "X = list(df_softness_sample[\"txt_text_one\"]); y = list(df_softness_sample[\"article_softness\"])"
   ]
  },
  {
   "cell_type": "code",
   "execution_count": 110,
   "id": "94e9b53c-fa83-429e-8ae4-9bd3dbd7cc24",
   "metadata": {
    "tags": []
   },
   "outputs": [],
   "source": [
    "#We label the hard as 1 and soft as 0.\n",
    "y = [{\"hard\": 1, \"soft\": 0}[cat] for cat in y]"
   ]
  },
  {
   "cell_type": "code",
   "execution_count": 111,
   "id": "038f60ca-5f30-414c-a4cb-308aa0f4e76b",
   "metadata": {
    "tags": []
   },
   "outputs": [],
   "source": [
    "#We create training and test datasets.\n",
    "X_train, X_test, y_train, y_test = train_test_split(X, y, test_size = .20, random_state = 1)"
   ]
  },
  {
   "cell_type": "code",
   "execution_count": 112,
   "id": "01d5efd7-d503-4aec-8e72-b3de22f14240",
   "metadata": {
    "tags": []
   },
   "outputs": [],
   "source": [
    "#We define our vectorizer, encode the train and test X data, define our model, fit the data en predict the labels for our test data.\n",
    "vectorizer = TfidfVectorizer(min_df=5, max_df=.5)\n",
    "X_train_enc = vectorizer.fit_transform(X_train)\n",
    "X_test_enc = vectorizer.transform(X_test)\n",
    "nb = MultinomialNB()\n",
    "nb.fit(X_train_enc, y_train)\n",
    "y_pred = nb.predict(X_test_enc)"
   ]
  },
  {
   "cell_type": "code",
   "execution_count": 113,
   "id": "78fe5883-1053-47f3-88cb-57a2e0178338",
   "metadata": {
    "tags": []
   },
   "outputs": [],
   "source": [
    "#We redefine our earlier used metrics label function as used in the script 11 and 21.\n",
    "def get_metrics_table(y_test, y_pred, feature, model):\n",
    "    rep = pd.DataFrame(metrics.classification_report(y_test, y_pred, output_dict=True)).transpose()\n",
    "    print(round(rep, 2))\n",
    "    rep[\"feature\"] = feature; rep[\"model\"] = model\n",
    "    rep[[\"precision\", \"f1-score\", \"recall\"]] = rep[[\"precision\", \"f1-score\", \"recall\"]].apply(lambda x: round(x, 2))\n",
    "    rep[\"support\"] = rep[\"support\"].apply(lambda x: int(x))\n",
    "    rep[\"accuracy\"] = [rep[rep.index==\"accuracy\"].values[0][0]] + 4 * [\" \"] \n",
    "    rep = rep[:2]\n",
    "    rep[\"class\"] = [\"no\", \"yes\"]\n",
    "    rep = rep[[\"feature\", \"model\", \"class\", \"precision\", \"recall\", \"f1-score\", \"support\", \"accuracy\"]][:2]\n",
    "    return rep"
   ]
  },
  {
   "cell_type": "code",
   "execution_count": 114,
   "id": "b8486474-3e71-4cee-9652-a1654b36e352",
   "metadata": {
    "tags": []
   },
   "outputs": [
    {
     "name": "stdout",
     "output_type": "stream",
     "text": [
      "              precision  recall  f1-score  support\n",
      "0                  0.99    0.94      0.96   175.00\n",
      "1                  0.95    0.99      0.97   185.00\n",
      "accuracy           0.97    0.97      0.97     0.97\n",
      "macro avg          0.97    0.97      0.97   360.00\n",
      "weighted avg       0.97    0.97      0.97   360.00\n"
     ]
    }
   ],
   "source": [
    "#We print the performance of our model.\n",
    "overview_article_type = get_metrics_table(y_test, y_pred, \"article type\", \"Naive Bayes\")"
   ]
  },
  {
   "cell_type": "code",
   "execution_count": 115,
   "id": "0d1f7321-9e72-46ed-9547-6a68e09ab905",
   "metadata": {
    "tags": []
   },
   "outputs": [
    {
     "data": {
      "text/plain": [
       "['softness_classifier.joblib']"
      ]
     },
     "execution_count": 115,
     "metadata": {},
     "output_type": "execute_result"
    }
   ],
   "source": [
    "#We dump the used vectorizer and classifier.\n",
    "joblib.dump(vectorizer, \"softness_vectorizer.joblib\")\n",
    "joblib.dump(nb, \"softness_classifier.joblib\")"
   ]
  },
  {
   "cell_type": "code",
   "execution_count": 117,
   "id": "62b92cb5-3a5b-49bd-8df4-e261fde1be31",
   "metadata": {
    "tags": []
   },
   "outputs": [],
   "source": [
    "#We predict the softness of the undecided cases.\n",
    "def predict_softness(x, nb=nb):\n",
    "    softness = x[\"article_softness\"]\n",
    "    text = x[\"txt_text_one\"]\n",
    "    \n",
    "    if softness == \"undecided\":\n",
    "        #We therefor vectorize the text and predict it using our model.\n",
    "        y = nb.predict(vectorizer.transform([text]))[0]\n",
    "        #If zero it is soft.\n",
    "        if y == 0:\n",
    "            return \"soft\"\n",
    "        #If one it is hard.\n",
    "        elif y == 1:\n",
    "            return \"hard\"\n",
    "    else:\n",
    "        return softness"
   ]
  },
  {
   "cell_type": "code",
   "execution_count": 118,
   "id": "a8a7b68c-f252-40e2-bc56-17e6a68d8b07",
   "metadata": {
    "tags": []
   },
   "outputs": [
    {
     "name": "stderr",
     "output_type": "stream",
     "text": [
      "100%|██████████████████████████████████████████████████████████████████████████| 28901/28901 [00:09<00:00, 3201.34it/s]\n"
     ]
    }
   ],
   "source": [
    "#We create a new column for our softness prediction.\n",
    "df[\"p_article_softness\"] = df.progress_apply(lambda x: predict_softness(x), axis=1)"
   ]
  },
  {
   "cell_type": "code",
   "execution_count": 119,
   "id": "ad10b645-1688-4418-9bb9-24ca284f8b7e",
   "metadata": {},
   "outputs": [
    {
     "data": {
      "text/html": [
       "<div>\n",
       "<style scoped>\n",
       "    .dataframe tbody tr th:only-of-type {\n",
       "        vertical-align: middle;\n",
       "    }\n",
       "\n",
       "    .dataframe tbody tr th {\n",
       "        vertical-align: top;\n",
       "    }\n",
       "\n",
       "    .dataframe thead th {\n",
       "        text-align: right;\n",
       "    }\n",
       "</style>\n",
       "<table border=\"1\" class=\"dataframe\">\n",
       "  <thead>\n",
       "    <tr style=\"text-align: right;\">\n",
       "      <th>p_article_softness</th>\n",
       "      <th>hard</th>\n",
       "      <th>soft</th>\n",
       "    </tr>\n",
       "    <tr>\n",
       "      <th>news_source</th>\n",
       "      <th></th>\n",
       "      <th></th>\n",
       "    </tr>\n",
       "  </thead>\n",
       "  <tbody>\n",
       "    <tr>\n",
       "      <th>AD</th>\n",
       "      <td>2161</td>\n",
       "      <td>2736</td>\n",
       "    </tr>\n",
       "    <tr>\n",
       "      <th>NOS</th>\n",
       "      <td>3007</td>\n",
       "      <td>1990</td>\n",
       "    </tr>\n",
       "    <tr>\n",
       "      <th>NRC</th>\n",
       "      <td>3617</td>\n",
       "      <td>899</td>\n",
       "    </tr>\n",
       "    <tr>\n",
       "      <th>NU</th>\n",
       "      <td>2732</td>\n",
       "      <td>2136</td>\n",
       "    </tr>\n",
       "    <tr>\n",
       "      <th>Telegraaf</th>\n",
       "      <td>2770</td>\n",
       "      <td>2159</td>\n",
       "    </tr>\n",
       "    <tr>\n",
       "      <th>Volkskrant</th>\n",
       "      <td>3206</td>\n",
       "      <td>1488</td>\n",
       "    </tr>\n",
       "  </tbody>\n",
       "</table>\n",
       "</div>"
      ],
      "text/plain": [
       "p_article_softness  hard  soft\n",
       "news_source                   \n",
       "AD                  2161  2736\n",
       "NOS                 3007  1990\n",
       "NRC                 3617   899\n",
       "NU                  2732  2136\n",
       "Telegraaf           2770  2159\n",
       "Volkskrant          3206  1488"
      ]
     },
     "execution_count": 119,
     "metadata": {},
     "output_type": "execute_result"
    }
   ],
   "source": [
    "#We assess the prevalence of both classes.\n",
    "df.groupby([\"news_source\", \"p_article_softness\"]).size().unstack(fill_value=0)"
   ]
  },
  {
   "cell_type": "markdown",
   "id": "612b2adc-701b-4ec5-9180-d4b061350035",
   "metadata": {
    "tags": []
   },
   "source": [
    "## output"
   ]
  },
  {
   "cell_type": "code",
   "execution_count": 120,
   "id": "8f6e8c09-fc73-4ecf-b006-1aeb21f47b5f",
   "metadata": {
    "tags": []
   },
   "outputs": [],
   "source": [
    "#We output our final data.\n",
    "df.to_csv(\"ARTICLE_DATA_final.csv\")"
   ]
  },
  {
   "cell_type": "markdown",
   "id": "dac24c84-d65e-4dd8-bb40-110aabb1ea7e",
   "metadata": {
    "tags": []
   },
   "source": [
    "## NOS timestamp validation"
   ]
  },
  {
   "cell_type": "code",
   "execution_count": 121,
   "id": "d02fa486-9c0a-4a86-9b0a-e41602b4df2d",
   "metadata": {
    "tags": []
   },
   "outputs": [],
   "source": [
    "#We read in our final data.\n",
    "df = pd.read_csv(\"31_contents_clean.csv\", index_col=0)"
   ]
  },
  {
   "cell_type": "markdown",
   "id": "87182f13-2008-41f4-af7a-6de0679c9559",
   "metadata": {},
   "source": [
    "Note: Data collection via the Wayback Machine is performed in script 31."
   ]
  },
  {
   "cell_type": "code",
   "execution_count": 123,
   "id": "d15acc4d-e314-4953-921d-b1ac6519b45e",
   "metadata": {
    "tags": []
   },
   "outputs": [],
   "source": [
    "#We read in the product of our nos validation.\n",
    "nos = pd.read_csv(\"31_nos_validation_product.csv\", index_col=0)"
   ]
  },
  {
   "cell_type": "code",
   "execution_count": 124,
   "id": "0430e7b7-bd66-4a4a-8ac4-26d4cffcd266",
   "metadata": {
    "tags": []
   },
   "outputs": [],
   "source": [
    "#We only keep the necessary columns.\n",
    "nos = nos[[\"index\", \"news_source\", \"links\", \"nos_changed\"]]"
   ]
  },
  {
   "cell_type": "code",
   "execution_count": 125,
   "id": "2611f71d-9a76-4a92-9497-38616d83442a",
   "metadata": {
    "tags": []
   },
   "outputs": [],
   "source": [
    "#We merge it with our entire file.\n",
    "df = df.merge(nos, how=\"left\")"
   ]
  },
  {
   "cell_type": "code",
   "execution_count": 126,
   "id": "4ac36e26-31d3-4f80-bd36-c805b2259915",
   "metadata": {
    "tags": []
   },
   "outputs": [
    {
     "data": {
      "text/plain": [
       "Index(['index', 'news_source', 'links', 'retrieval_time', 'errors',\n",
       "       'txt_author', 'txt_author_links', 'txt_timestamps', 'txt_text',\n",
       "       'hyperlinks', 'comments', 'isAccessibleForFree', 'headline',\n",
       "       'datePublished', 'dateModified', 'author', 'articleBody',\n",
       "       'articleSection', 'txt_text_clean', 'txt_text_one', 'text_length',\n",
       "       'hyperlinks_clean', 'n_hyperlinks', 'dateMonth', 'author_clean',\n",
       "       'author_categories', 'tp_authors', 'author_additions', 'tp_contact',\n",
       "       'tp_bio', 'txt_timestamps_clean', 'txt_timestamps_cat', 'changed',\n",
       "       'tp_timestamp', 'error_correction', 'tp_error', 'link_stems',\n",
       "       'data_types', 'hyperlinks_cat', 'tp_internal', 'tp_document',\n",
       "       'tp_family', 'tp_external', 'intro', 'intro_sentences',\n",
       "       'intro_1st_5_sent', 'self_referral_presence', 'self_referral_text',\n",
       "       'process_info_factor', 'tp_comments', 'np_funding', 'np_mode',\n",
       "       'np_quality', 'section_clean', 'article_softness', 'p_article_softness',\n",
       "       'nos_changed', 'tp_timestamp_w_nos', 'changed_w_nos', 'sourcing',\n",
       "       'tp_sourcing'],\n",
       "      dtype='object')"
      ]
     },
     "execution_count": 126,
     "metadata": {},
     "output_type": "execute_result"
    }
   ],
   "source": [
    "#We print the columns.\n",
    "df.columns"
   ]
  },
  {
   "cell_type": "code",
   "execution_count": 128,
   "id": "e9b158a0-fe7f-49bf-ba5a-ed0bb7251d8e",
   "metadata": {
    "tags": []
   },
   "outputs": [
    {
     "data": {
      "text/plain": [
       "Counter({'change undisclosed': 16678,\n",
       "         'change disclosed': 8420,\n",
       "         'no change': 3522,\n",
       "         'other': 281})"
      ]
     },
     "execution_count": 128,
     "metadata": {},
     "output_type": "execute_result"
    }
   ],
   "source": [
    "#We print the initial transparency of timestamps.\n",
    "Counter(df.tp_timestamp)"
   ]
  },
  {
   "cell_type": "code",
   "execution_count": 129,
   "id": "a0ee079e-ece9-488f-9ff1-4863a831df39",
   "metadata": {
    "tags": []
   },
   "outputs": [
    {
     "data": {
      "text/plain": [
       "Counter({nan: 25168, 'same': 2326, 'changed': 1154, 'failed': 253})"
      ]
     },
     "execution_count": 129,
     "metadata": {},
     "output_type": "execute_result"
    }
   ],
   "source": [
    "#We print the changes of NOS of the subset.\n",
    "Counter(df.nos_changed)"
   ]
  },
  {
   "cell_type": "code",
   "execution_count": 130,
   "id": "2cd0d51f-e510-475e-add1-584c71804b52",
   "metadata": {
    "tags": []
   },
   "outputs": [],
   "source": [
    "#We create two functions to update the transparency timestamp and changed column by our validation.\n",
    "\n",
    "def get_tp_timestamp_w_nos(x):\n",
    "    nos_changed = x[\"nos_changed\"]\n",
    "    tp_timestamp = x[\"tp_timestamp\"]\n",
    "    \n",
    "    #Firstly we assess whether NOS is changed, if so we return change undisclosed.\n",
    "    if nos_changed == \"changed\":\n",
    "        return \"change undisclosed\"\n",
    "    #If it remained the same or if the retrieval of a snapshot failed, we return no change.\n",
    "    elif nos_changed in [\"same\", \"failed\"]:\n",
    "        return \"no change\"\n",
    "    #In any other case we return the initial transparency of the timestamps.\n",
    "    else:\n",
    "        return tp_timestamp\n",
    "    \n",
    "def get_changed_w_nos(x):\n",
    "    changed = x[\"changed\"]\n",
    "    nos_changed = x[\"nos_changed\"]\n",
    "    \n",
    "    #If we found for the subsample that it did changed then we return so.\n",
    "    if nos_changed == \"changed\":\n",
    "        return True\n",
    "    #If not we return so.\n",
    "    elif nos_changed == \"same\":\n",
    "        return False\n",
    "    #For every other scenario we return the original value.\n",
    "    else:\n",
    "        return changed"
   ]
  },
  {
   "cell_type": "code",
   "execution_count": 131,
   "id": "5339aa57-1bc0-4b8c-a6c3-2a223c1a9f16",
   "metadata": {
    "tags": []
   },
   "outputs": [
    {
     "name": "stderr",
     "output_type": "stream",
     "text": [
      "100%|████████████████████████████████████████████████████████████████████████| 28901/28901 [00:00<00:00, 125240.16it/s]\n"
     ]
    }
   ],
   "source": [
    "#We update the timestamp column with our validation data.\n",
    "df[\"tp_timestamp_w_nos\"] = df.progress_apply(lambda x: get_tp_timestamp_w_nos(x), axis=1)"
   ]
  },
  {
   "cell_type": "code",
   "execution_count": 132,
   "id": "6d4049ae-f19a-40ee-8580-e99e582e9113",
   "metadata": {
    "tags": []
   },
   "outputs": [
    {
     "name": "stderr",
     "output_type": "stream",
     "text": [
      "100%|████████████████████████████████████████████████████████████████████████| 28901/28901 [00:00<00:00, 140677.53it/s]\n"
     ]
    }
   ],
   "source": [
    "#We also do so for the changed column.\n",
    "df[\"changed_w_nos\"] = df.progress_apply(lambda x: get_changed_w_nos(x), axis=1)"
   ]
  },
  {
   "cell_type": "code",
   "execution_count": 133,
   "id": "a1526dfa-005b-47eb-9316-f9277d4f2a24",
   "metadata": {
    "tags": []
   },
   "outputs": [
    {
     "data": {
      "text/plain": [
       "nos_changed\n",
       "same       62.31\n",
       "changed    30.91\n",
       "failed      6.78\n",
       "Name: proportion, dtype: float64"
      ]
     },
     "execution_count": 133,
     "metadata": {},
     "output_type": "execute_result"
    }
   ],
   "source": [
    "#We print some percentages of the changed values for NOS.\n",
    "round(df.nos_changed.value_counts(normalize=True)*100,2)"
   ]
  },
  {
   "cell_type": "code",
   "execution_count": 134,
   "id": "e8449bed-7566-48f1-ad81-c84d93b02d51",
   "metadata": {
    "tags": []
   },
   "outputs": [
    {
     "data": {
      "text/plain": [
       "news_source  tp_timestamp_w_nos\n",
       "AD           change disclosed      3139\n",
       "             change undisclosed     205\n",
       "             no change             1484\n",
       "             other                   69\n",
       "NOS          change disclosed      1191\n",
       "             change undisclosed    1156\n",
       "             no change             2579\n",
       "             other                   71\n",
       "NRC          change undisclosed    4516\n",
       "NU           change disclosed      3714\n",
       "             change undisclosed    1154\n",
       "Telegraaf    change disclosed       376\n",
       "             change undisclosed    4552\n",
       "             other                    1\n",
       "Volkskrant   change undisclosed    2516\n",
       "             no change             2038\n",
       "             other                  140\n",
       "dtype: int64"
      ]
     },
     "execution_count": 134,
     "metadata": {},
     "output_type": "execute_result"
    }
   ],
   "source": [
    "#We print the transparency timestamp categories for each outlet.\n",
    "df.groupby([\"news_source\", \"tp_timestamp_w_nos\"]).size()"
   ]
  },
  {
   "cell_type": "code",
   "execution_count": 135,
   "id": "a35f9bd5-a236-4867-b6f4-c527a8f9caeb",
   "metadata": {
    "tags": []
   },
   "outputs": [],
   "source": [
    "#We write the added data away.\n",
    "df.to_csv(\"ARTICLE_DATA_final_w_nos.csv\")"
   ]
  },
  {
   "cell_type": "markdown",
   "id": "52cddc29-aafe-456b-8adf-8b957382dc31",
   "metadata": {
    "tags": []
   },
   "source": [
    "## model metrics"
   ]
  },
  {
   "cell_type": "code",
   "execution_count": 137,
   "id": "585083e1-d693-4c51-8e85-bbc9f29dc7d9",
   "metadata": {
    "tags": []
   },
   "outputs": [],
   "source": [
    "#We read in all overviews of the classification performances.\n",
    "overview_presence = pd.read_csv(\"03_overview_presence.csv\", index_col=0)\n",
    "overview_sourcing = pd.read_csv(\"03_overview_sourcing.csv\", index_col=0)\n",
    "overview_process = pd.read_csv(\"03_overview_process.csv\", index_col=0)"
   ]
  },
  {
   "cell_type": "code",
   "execution_count": 138,
   "id": "f74e8cab-ccd1-4e0e-a18f-b71876c161a5",
   "metadata": {
    "tags": []
   },
   "outputs": [],
   "source": [
    "#We combine them all in one big table.\n",
    "overview = pd.concat([overview_article_type, overview_presence, overview_sourcing, overview_process])"
   ]
  },
  {
   "cell_type": "code",
   "execution_count": 159,
   "id": "faa5e027-2707-4744-ba6f-a1d2d520e9a7",
   "metadata": {
    "tags": []
   },
   "outputs": [
    {
     "data": {
      "text/html": [
       "<div>\n",
       "<style scoped>\n",
       "    .dataframe tbody tr th:only-of-type {\n",
       "        vertical-align: middle;\n",
       "    }\n",
       "\n",
       "    .dataframe tbody tr th {\n",
       "        vertical-align: top;\n",
       "    }\n",
       "\n",
       "    .dataframe thead th {\n",
       "        text-align: right;\n",
       "    }\n",
       "</style>\n",
       "<table border=\"1\" class=\"dataframe\">\n",
       "  <thead>\n",
       "    <tr style=\"text-align: right;\">\n",
       "      <th></th>\n",
       "      <th>feature</th>\n",
       "      <th>model</th>\n",
       "      <th>class</th>\n",
       "      <th>precision</th>\n",
       "      <th>recall</th>\n",
       "      <th>f1-score</th>\n",
       "      <th>support</th>\n",
       "      <th>accuracy</th>\n",
       "    </tr>\n",
       "  </thead>\n",
       "  <tbody>\n",
       "    <tr>\n",
       "      <th>0</th>\n",
       "      <td>article type</td>\n",
       "      <td>Naive Bayes</td>\n",
       "      <td>no</td>\n",
       "      <td>0.99</td>\n",
       "      <td>0.94</td>\n",
       "      <td>0.96</td>\n",
       "      <td>175</td>\n",
       "      <td>0.97</td>\n",
       "    </tr>\n",
       "    <tr>\n",
       "      <th>1</th>\n",
       "      <td>article type</td>\n",
       "      <td>Naive Bayes</td>\n",
       "      <td>yes</td>\n",
       "      <td>0.95</td>\n",
       "      <td>0.99</td>\n",
       "      <td>0.97</td>\n",
       "      <td>185</td>\n",
       "      <td></td>\n",
       "    </tr>\n",
       "    <tr>\n",
       "      <th>0</th>\n",
       "      <td>sourcing presence</td>\n",
       "      <td>Naive Bayes</td>\n",
       "      <td>no</td>\n",
       "      <td>0.84</td>\n",
       "      <td>0.76</td>\n",
       "      <td>0.80</td>\n",
       "      <td>55</td>\n",
       "      <td>0.79</td>\n",
       "    </tr>\n",
       "    <tr>\n",
       "      <th>1</th>\n",
       "      <td>sourcing presence</td>\n",
       "      <td>Naive Bayes</td>\n",
       "      <td>yes</td>\n",
       "      <td>0.75</td>\n",
       "      <td>0.83</td>\n",
       "      <td>0.78</td>\n",
       "      <td>46</td>\n",
       "      <td></td>\n",
       "    </tr>\n",
       "    <tr>\n",
       "      <th>0</th>\n",
       "      <td>sourcing presence</td>\n",
       "      <td>LLM</td>\n",
       "      <td>no</td>\n",
       "      <td>0.86</td>\n",
       "      <td>0.81</td>\n",
       "      <td>0.83</td>\n",
       "      <td>272</td>\n",
       "      <td>0.82</td>\n",
       "    </tr>\n",
       "    <tr>\n",
       "      <th>1</th>\n",
       "      <td>sourcing presence</td>\n",
       "      <td>LLM</td>\n",
       "      <td>yes</td>\n",
       "      <td>0.79</td>\n",
       "      <td>0.84</td>\n",
       "      <td>0.81</td>\n",
       "      <td>229</td>\n",
       "      <td></td>\n",
       "    </tr>\n",
       "    <tr>\n",
       "      <th>0</th>\n",
       "      <td>sourcing presence</td>\n",
       "      <td>Roberta</td>\n",
       "      <td>no</td>\n",
       "      <td>0.98</td>\n",
       "      <td>0.91</td>\n",
       "      <td>0.94</td>\n",
       "      <td>55</td>\n",
       "      <td>0.94</td>\n",
       "    </tr>\n",
       "    <tr>\n",
       "      <th>1</th>\n",
       "      <td>sourcing presence</td>\n",
       "      <td>Roberta</td>\n",
       "      <td>yes</td>\n",
       "      <td>0.90</td>\n",
       "      <td>0.98</td>\n",
       "      <td>0.94</td>\n",
       "      <td>46</td>\n",
       "      <td></td>\n",
       "    </tr>\n",
       "    <tr>\n",
       "      <th>0</th>\n",
       "      <td>sourcing category</td>\n",
       "      <td>Logistic Regression</td>\n",
       "      <td>absent</td>\n",
       "      <td>0.62</td>\n",
       "      <td>0.22</td>\n",
       "      <td>0.32</td>\n",
       "      <td>60</td>\n",
       "      <td>0.65</td>\n",
       "    </tr>\n",
       "    <tr>\n",
       "      <th>1</th>\n",
       "      <td>sourcing category</td>\n",
       "      <td>Logistic Regression</td>\n",
       "      <td>anonymous</td>\n",
       "      <td>0.73</td>\n",
       "      <td>0.39</td>\n",
       "      <td>0.51</td>\n",
       "      <td>28</td>\n",
       "      <td></td>\n",
       "    </tr>\n",
       "    <tr>\n",
       "      <th>2</th>\n",
       "      <td>sourcing category</td>\n",
       "      <td>Logistic Regression</td>\n",
       "      <td>opaque</td>\n",
       "      <td>0.61</td>\n",
       "      <td>0.50</td>\n",
       "      <td>0.55</td>\n",
       "      <td>124</td>\n",
       "      <td></td>\n",
       "    </tr>\n",
       "    <tr>\n",
       "      <th>3</th>\n",
       "      <td>sourcing category</td>\n",
       "      <td>Logistic Regression</td>\n",
       "      <td>explicit</td>\n",
       "      <td>0.67</td>\n",
       "      <td>0.87</td>\n",
       "      <td>0.75</td>\n",
       "      <td>248</td>\n",
       "      <td></td>\n",
       "    </tr>\n",
       "    <tr>\n",
       "      <th>0</th>\n",
       "      <td>sourcing category</td>\n",
       "      <td>Roberta</td>\n",
       "      <td>absent</td>\n",
       "      <td>0.75</td>\n",
       "      <td>0.55</td>\n",
       "      <td>0.63</td>\n",
       "      <td>60</td>\n",
       "      <td>0.84</td>\n",
       "    </tr>\n",
       "    <tr>\n",
       "      <th>1</th>\n",
       "      <td>sourcing category</td>\n",
       "      <td>Roberta</td>\n",
       "      <td>anonymous</td>\n",
       "      <td>0.76</td>\n",
       "      <td>0.89</td>\n",
       "      <td>0.82</td>\n",
       "      <td>28</td>\n",
       "      <td></td>\n",
       "    </tr>\n",
       "    <tr>\n",
       "      <th>2</th>\n",
       "      <td>sourcing category</td>\n",
       "      <td>Roberta</td>\n",
       "      <td>opaque</td>\n",
       "      <td>0.79</td>\n",
       "      <td>0.80</td>\n",
       "      <td>0.80</td>\n",
       "      <td>124</td>\n",
       "      <td></td>\n",
       "    </tr>\n",
       "    <tr>\n",
       "      <th>3</th>\n",
       "      <td>sourcing category</td>\n",
       "      <td>Roberta</td>\n",
       "      <td>explicit</td>\n",
       "      <td>0.89</td>\n",
       "      <td>0.92</td>\n",
       "      <td>0.91</td>\n",
       "      <td>248</td>\n",
       "      <td></td>\n",
       "    </tr>\n",
       "    <tr>\n",
       "      <th>0</th>\n",
       "      <td>process information</td>\n",
       "      <td>Naive Bayes</td>\n",
       "      <td>no</td>\n",
       "      <td>0.88</td>\n",
       "      <td>0.98</td>\n",
       "      <td>0.93</td>\n",
       "      <td>308</td>\n",
       "      <td>0.88</td>\n",
       "    </tr>\n",
       "    <tr>\n",
       "      <th>1</th>\n",
       "      <td>process information</td>\n",
       "      <td>Naive Bayes</td>\n",
       "      <td>yes</td>\n",
       "      <td>0.88</td>\n",
       "      <td>0.52</td>\n",
       "      <td>0.66</td>\n",
       "      <td>88</td>\n",
       "      <td></td>\n",
       "    </tr>\n",
       "    <tr>\n",
       "      <th>0</th>\n",
       "      <td>process information</td>\n",
       "      <td>Roberta</td>\n",
       "      <td>no</td>\n",
       "      <td>0.94</td>\n",
       "      <td>0.93</td>\n",
       "      <td>0.94</td>\n",
       "      <td>308</td>\n",
       "      <td>0.9</td>\n",
       "    </tr>\n",
       "    <tr>\n",
       "      <th>1</th>\n",
       "      <td>process information</td>\n",
       "      <td>Roberta</td>\n",
       "      <td>yes</td>\n",
       "      <td>0.77</td>\n",
       "      <td>0.81</td>\n",
       "      <td>0.79</td>\n",
       "      <td>88</td>\n",
       "      <td></td>\n",
       "    </tr>\n",
       "  </tbody>\n",
       "</table>\n",
       "</div>"
      ],
      "text/plain": [
       "               feature                model      class  precision  recall  \\\n",
       "0         article type          Naive Bayes         no       0.99    0.94   \n",
       "1         article type          Naive Bayes        yes       0.95    0.99   \n",
       "0    sourcing presence          Naive Bayes         no       0.84    0.76   \n",
       "1    sourcing presence          Naive Bayes        yes       0.75    0.83   \n",
       "0    sourcing presence                  LLM         no       0.86    0.81   \n",
       "1    sourcing presence                  LLM        yes       0.79    0.84   \n",
       "0    sourcing presence              Roberta         no       0.98    0.91   \n",
       "1    sourcing presence              Roberta        yes       0.90    0.98   \n",
       "0    sourcing category  Logistic Regression     absent       0.62    0.22   \n",
       "1    sourcing category  Logistic Regression  anonymous       0.73    0.39   \n",
       "2    sourcing category  Logistic Regression     opaque       0.61    0.50   \n",
       "3    sourcing category  Logistic Regression   explicit       0.67    0.87   \n",
       "0    sourcing category              Roberta     absent       0.75    0.55   \n",
       "1    sourcing category              Roberta  anonymous       0.76    0.89   \n",
       "2    sourcing category              Roberta     opaque       0.79    0.80   \n",
       "3    sourcing category              Roberta   explicit       0.89    0.92   \n",
       "0  process information          Naive Bayes         no       0.88    0.98   \n",
       "1  process information          Naive Bayes        yes       0.88    0.52   \n",
       "0  process information              Roberta         no       0.94    0.93   \n",
       "1  process information              Roberta        yes       0.77    0.81   \n",
       "\n",
       "   f1-score  support accuracy  \n",
       "0      0.96      175     0.97  \n",
       "1      0.97      185           \n",
       "0      0.80       55     0.79  \n",
       "1      0.78       46           \n",
       "0      0.83      272     0.82  \n",
       "1      0.81      229           \n",
       "0      0.94       55     0.94  \n",
       "1      0.94       46           \n",
       "0      0.32       60     0.65  \n",
       "1      0.51       28           \n",
       "2      0.55      124           \n",
       "3      0.75      248           \n",
       "0      0.63       60     0.84  \n",
       "1      0.82       28           \n",
       "2      0.80      124           \n",
       "3      0.91      248           \n",
       "0      0.93      308     0.88  \n",
       "1      0.66       88           \n",
       "0      0.94      308      0.9  \n",
       "1      0.79       88           "
      ]
     },
     "execution_count": 159,
     "metadata": {},
     "output_type": "execute_result"
    }
   ],
   "source": [
    "overview"
   ]
  },
  {
   "cell_type": "code",
   "execution_count": 139,
   "id": "d1256e8e-22fd-45b2-8352-04048b7baf83",
   "metadata": {
    "tags": []
   },
   "outputs": [
    {
     "name": "stdout",
     "output_type": "stream",
     "text": [
      "\\begin{tabular}{lllrrrrl}\n",
      "\\toprule\n",
      "feature & model & class & precision & recall & f1-score & support & accuracy \\\\\n",
      "\\midrule\n",
      "article type & Naive Bayes & no & 0.99 & 0.94 & 0.96 & 175 & 0.97 \\\\\n",
      "article type & Naive Bayes & yes & 0.95 & 0.99 & 0.97 & 185 &   \\\\\n",
      "sourcing presence & Naive Bayes & no & 0.84 & 0.76 & 0.80 & 55 & 0.79 \\\\\n",
      "sourcing presence & Naive Bayes & yes & 0.75 & 0.83 & 0.78 & 46 &   \\\\\n",
      "sourcing presence & LLM & no & 0.86 & 0.81 & 0.83 & 272 & 0.82 \\\\\n",
      "sourcing presence & LLM & yes & 0.79 & 0.84 & 0.81 & 229 &   \\\\\n",
      "sourcing presence & Roberta & no & 0.98 & 0.91 & 0.94 & 55 & 0.94 \\\\\n",
      "sourcing presence & Roberta & yes & 0.90 & 0.98 & 0.94 & 46 &   \\\\\n",
      "sourcing category & Logistic Regression & absent & 0.62 & 0.22 & 0.32 & 60 & 0.65 \\\\\n",
      "sourcing category & Logistic Regression & anonymous & 0.73 & 0.39 & 0.51 & 28 &   \\\\\n",
      "sourcing category & Logistic Regression & opaque & 0.61 & 0.50 & 0.55 & 124 &   \\\\\n",
      "sourcing category & Logistic Regression & explicit & 0.67 & 0.87 & 0.75 & 248 &   \\\\\n",
      "sourcing category & Roberta & absent & 0.75 & 0.55 & 0.63 & 60 & 0.84 \\\\\n",
      "sourcing category & Roberta & anonymous & 0.76 & 0.89 & 0.82 & 28 &   \\\\\n",
      "sourcing category & Roberta & opaque & 0.79 & 0.80 & 0.80 & 124 &   \\\\\n",
      "sourcing category & Roberta & explicit & 0.89 & 0.92 & 0.91 & 248 &   \\\\\n",
      "process information & Naive Bayes & no & 0.88 & 0.98 & 0.93 & 308 & 0.88 \\\\\n",
      "process information & Naive Bayes & yes & 0.88 & 0.52 & 0.66 & 88 &   \\\\\n",
      "process information & Roberta & no & 0.94 & 0.93 & 0.94 & 308 & 0.9 \\\\\n",
      "process information & Roberta & yes & 0.77 & 0.81 & 0.79 & 88 &   \\\\\n",
      "\\bottomrule\n",
      "\\end{tabular}\n",
      "\n"
     ]
    }
   ],
   "source": [
    "#We print it as a latex table.\n",
    "print(overview.to_latex(float_format=\"%.2f\", index=False))"
   ]
  },
  {
   "cell_type": "markdown",
   "id": "d68a9ee5-85a9-4c59-9e5e-6b70e33b51cb",
   "metadata": {
    "jp-MarkdownHeadingCollapsed": true,
    "tags": []
   },
   "source": [
    "## bin"
   ]
  },
  {
   "cell_type": "code",
   "execution_count": 67,
   "id": "45fd70c5-f97a-4073-8f1c-d168ff2b6c61",
   "metadata": {
    "tags": []
   },
   "outputs": [],
   "source": [
    "import statsmodels.api as sm\n",
    "import statsmodels.formula.api as smf\n",
    "from statsmodels.tools.sm_exceptions import ConvergenceWarning"
   ]
  },
  {
   "cell_type": "code",
   "execution_count": 68,
   "id": "7f146f42-b65b-4a41-9eda-a64b0b4bd943",
   "metadata": {
    "tags": []
   },
   "outputs": [],
   "source": [
    "def get_tp_author_ordinal(x):\n",
    "    if x == \"absent\":\n",
    "        return 0\n",
    "    if x == \"abstract\":\n",
    "        return 1\n",
    "    if x == \"explicit\":\n",
    "        return 2\n",
    "    else: \n",
    "        return None"
   ]
  },
  {
   "cell_type": "code",
   "execution_count": 69,
   "id": "a1cd48db-ad7d-4af4-b0a9-9d53704a9554",
   "metadata": {
    "tags": []
   },
   "outputs": [
    {
     "name": "stderr",
     "output_type": "stream",
     "text": [
      "100%|███████████████████████████████████████████████████████████████████████| 27740/27740 [00:00<00:00, 1531747.30it/s]\n"
     ]
    }
   ],
   "source": [
    "df[\"tp_author_ord\"] = df.tp_authors.progress_apply(lambda x: get_tp_author_ordinal(x))"
   ]
  },
  {
   "cell_type": "code",
   "execution_count": 70,
   "id": "c60bc33b-ffcc-4ceb-905c-0275a0243988",
   "metadata": {
    "tags": []
   },
   "outputs": [
    {
     "name": "stdout",
     "output_type": "stream",
     "text": [
      "                            OLS Regression Results                            \n",
      "==============================================================================\n",
      "Dep. Variable:          tp_author_ord   R-squared:                       0.367\n",
      "Model:                            OLS   Adj. R-squared:                  0.367\n",
      "Method:                 Least Squares   F-statistic:                     3969.\n",
      "Date:                 di, 14 nov 2023   Prob (F-statistic):               0.00\n",
      "Time:                        10:06:09   Log-Likelihood:                -28538.\n",
      "No. Observations:               27376   AIC:                         5.709e+04\n",
      "Df Residuals:                   27371   BIC:                         5.713e+04\n",
      "Df Model:                           4                                         \n",
      "Covariance Type:            nonrobust                                         \n",
      "===================================================================================================================================\n",
      "                                                                      coef    std err          t      P>|t|      [0.025      0.975]\n",
      "-----------------------------------------------------------------------------------------------------------------------------------\n",
      "Intercept                                                           1.4425      0.008    176.473      0.000       1.426       1.458\n",
      "np_funding[T.public]                                               -1.5280      0.012   -123.617      0.000      -1.552      -1.504\n",
      "C(np_mode, Treatment(reference='multimodal'))[T.digital native]    -0.0939      0.012     -7.544      0.000      -0.118      -0.069\n",
      "C(np_quality, Treatment(reference='tabloid'))[T.broadsheet]         0.3277      0.010     31.716      0.000       0.307       0.348\n",
      "p_article_softness[T.soft]                                         -0.0915      0.009     -9.876      0.000      -0.110      -0.073\n",
      "==============================================================================\n",
      "Omnibus:                     2372.371   Durbin-Watson:                   1.986\n",
      "Prob(Omnibus):                  0.000   Jarque-Bera (JB):             3310.609\n",
      "Skew:                          -0.712   Prob(JB):                         0.00\n",
      "Kurtosis:                       3.935   Cond. No.                         4.50\n",
      "==============================================================================\n",
      "\n",
      "Notes:\n",
      "[1] Standard Errors assume that the covariance matrix of the errors is correctly specified.\n"
     ]
    }
   ],
   "source": [
    "md = smf.ols(\"tp_author_ord ~ np_funding + C(np_mode, Treatment(reference='multimodal')) + C(np_quality, Treatment(reference='tabloid')) + p_article_softness\", df)\n",
    "mdf = md.fit()\n",
    "print(mdf.summary())"
   ]
  },
  {
   "cell_type": "code",
   "execution_count": 71,
   "id": "0532918d-8a66-48f0-a16b-67109700aaaf",
   "metadata": {
    "tags": []
   },
   "outputs": [],
   "source": [
    "def get_tp_timestamp_dummy(x):\n",
    "    if x == \"change undisclosed\":\n",
    "        return 0\n",
    "    if x == \"change disclosed\":\n",
    "        return 1\n",
    "    else: \n",
    "        return None"
   ]
  },
  {
   "cell_type": "code",
   "execution_count": 72,
   "id": "2ecb719f-0f98-424c-b55e-11ce7dde1459",
   "metadata": {
    "tags": []
   },
   "outputs": [
    {
     "name": "stderr",
     "output_type": "stream",
     "text": [
      "100%|███████████████████████████████████████████████████████████████████████| 27740/27740 [00:00<00:00, 1356835.41it/s]\n"
     ]
    }
   ],
   "source": [
    "df[\"tp_timestamp_dum\"] = df.tp_timestamp.progress_apply(lambda x: get_tp_timestamp_dummy(x))"
   ]
  },
  {
   "cell_type": "code",
   "execution_count": 73,
   "id": "6f05f801-acd0-4259-8363-fe299da7c905",
   "metadata": {
    "tags": []
   },
   "outputs": [
    {
     "name": "stdout",
     "output_type": "stream",
     "text": [
      "{'private': 0.36, 'public': 1.0}\n",
      "{'digital native': 0.79, 'multimodal': 0.28}\n",
      "{'broadsheet': 0.18, 'tabloid': 0.61}\n",
      "{'hard': 0.4, 'soft': 0.43}\n"
     ]
    }
   ],
   "source": [
    "print(dict(round(df.groupby(\"np_funding\")['tp_timestamp_dum'].mean(),2)))\n",
    "print(dict(round(df.groupby(\"np_mode\")['tp_timestamp_dum'].mean(),2)))\n",
    "print(dict(round(df.groupby(\"np_quality\")['tp_timestamp_dum'].mean(),2)))\n",
    "print(dict(round(df.groupby(\"p_article_softness\")['tp_timestamp_dum'].mean(),2)))"
   ]
  },
  {
   "cell_type": "code",
   "execution_count": 81,
   "id": "34087cc3-0855-4426-a3d6-38d128ebcbd1",
   "metadata": {
    "tags": []
   },
   "outputs": [
    {
     "name": "stdout",
     "output_type": "stream",
     "text": [
      "Optimization terminated successfully.\n",
      "         Current function value: 0.535843\n",
      "         Iterations 5\n",
      "                           Logit Regression Results                           \n",
      "==============================================================================\n",
      "Dep. Variable:       tp_timestamp_dum   No. Observations:                18655\n",
      "Model:                          Logit   Df Residuals:                    18651\n",
      "Method:                           MLE   Df Model:                            3\n",
      "Date:                 di, 14 nov 2023   Pseudo R-squ.:                  0.2091\n",
      "Time:                        10:10:32   Log-Likelihood:                -9996.1\n",
      "converged:                       True   LL-Null:                       -12639.\n",
      "Covariance Type:            nonrobust   LLR p-value:                     0.000\n",
      "===================================================================================================================================\n",
      "                                                                      coef    std err          z      P>|z|      [0.025      0.975]\n",
      "-----------------------------------------------------------------------------------------------------------------------------------\n",
      "Intercept                                                           0.0226      0.031      0.728      0.467      -0.038       0.083\n",
      "C(np_mode, Treatment(reference='multimodal'))[T.digital native]     1.5763      0.046     34.255      0.000       1.486       1.666\n",
      "C(np_quality, Treatment(reference='tabloid'))[T.broadsheet]        -1.4645      0.040    -36.348      0.000      -1.543      -1.386\n",
      "p_article_softness[T.soft]                                         -0.5055      0.038    -13.201      0.000      -0.581      -0.430\n",
      "===================================================================================================================================\n"
     ]
    }
   ],
   "source": [
    "md = smf.logit(\"tp_timestamp_dum ~ C(np_mode, Treatment(reference='multimodal')) + C(np_quality, Treatment(reference='tabloid')) + p_article_softness\", df)\n",
    "mdf = md.fit()\n",
    "print(mdf.summary())"
   ]
  },
  {
   "cell_type": "code",
   "execution_count": 82,
   "id": "601c7c1f-2959-4440-a162-ae3c95801d8d",
   "metadata": {
    "tags": []
   },
   "outputs": [
    {
     "name": "stdout",
     "output_type": "stream",
     "text": [
      "Intercept                                                          1.02\n",
      "C(np_mode, Treatment(reference='multimodal'))[T.digital native]    4.84\n",
      "C(np_quality, Treatment(reference='tabloid'))[T.broadsheet]        0.23\n",
      "p_article_softness[T.soft]                                         0.60\n",
      "dtype: float64\n"
     ]
    }
   ],
   "source": [
    "coefficients = mdf.params; odds_ratios = np.exp(coefficients); print(round(odds_ratios, 2))"
   ]
  },
  {
   "cell_type": "code",
   "execution_count": 75,
   "id": "bf88339c-19c0-4d88-a393-71e13f73e6bd",
   "metadata": {
    "tags": []
   },
   "outputs": [
    {
     "name": "stdout",
     "output_type": "stream",
     "text": [
      "                            OLS Regression Results                            \n",
      "==============================================================================\n",
      "Dep. Variable:           n_hyperlinks   R-squared:                       0.089\n",
      "Model:                            OLS   Adj. R-squared:                  0.089\n",
      "Method:                 Least Squares   F-statistic:                     680.3\n",
      "Date:                 di, 14 nov 2023   Prob (F-statistic):               0.00\n",
      "Time:                        10:06:10   Log-Likelihood:                -49952.\n",
      "No. Observations:               27740   AIC:                         9.991e+04\n",
      "Df Residuals:                   27735   BIC:                         9.996e+04\n",
      "Df Model:                           4                                         \n",
      "Covariance Type:            nonrobust                                         \n",
      "===================================================================================================================================\n",
      "                                                                      coef    std err          t      P>|t|      [0.025      0.975]\n",
      "-----------------------------------------------------------------------------------------------------------------------------------\n",
      "Intercept                                                           0.5969      0.017     34.939      0.000       0.563       0.630\n",
      "np_funding[T.public]                                                0.5178      0.026     19.644      0.000       0.466       0.570\n",
      "C(np_mode, Treatment(reference='multimodal'))[T.digital native]     0.0538      0.026      2.039      0.041       0.002       0.106\n",
      "C(np_quality, Treatment(reference='tabloid'))[T.broadsheet]         0.5520      0.022     25.300      0.000       0.509       0.595\n",
      "p_article_softness[T.soft]                                         -0.3203      0.020    -16.286      0.000      -0.359      -0.282\n",
      "==============================================================================\n",
      "Omnibus:                    16540.669   Durbin-Watson:                   1.999\n",
      "Prob(Omnibus):                  0.000   Jarque-Bera (JB):           178349.441\n",
      "Skew:                           2.736   Prob(JB):                         0.00\n",
      "Kurtosis:                      14.152   Cond. No.                         4.46\n",
      "==============================================================================\n",
      "\n",
      "Notes:\n",
      "[1] Standard Errors assume that the covariance matrix of the errors is correctly specified.\n"
     ]
    }
   ],
   "source": [
    "md = smf.ols(\"n_hyperlinks ~ np_funding + C(np_mode, Treatment(reference='multimodal')) + C(np_quality, Treatment(reference='tabloid')) + p_article_softness\", df)\n",
    "mdf = md.fit()\n",
    "print(mdf.summary())"
   ]
  },
  {
   "cell_type": "raw",
   "id": "80f6b4a3-2d1f-4e3e-b507-5d439be42d9b",
   "metadata": {},
   "source": [
    "def get_error_correction_v2(text, max_distance=50):\n",
    "    text = str(text).strip().lower()\n",
    "    pattern = f\"\\\\b(eerder|vorig|eerst|voorheen|initieel|aanvankelijk|oorspronkelijk|begin|vroeger)(e)?.{{0,{max_distance}}}\\\\b(verwijderd|aangepast|aangevuld|gecorrigeerd|verbeterd|gewijzigd)\"\n",
    "    result = re.search(pattern, string=text)\n",
    "    return bool(result)"
   ]
  },
  {
   "cell_type": "code",
   "execution_count": null,
   "id": "e624e0de-0928-4a9c-ba09-38aa1ba958b6",
   "metadata": {
    "tags": []
   },
   "outputs": [],
   "source": [
    "Counter(df[df.error_correction == True][\"news_source\"].values)"
   ]
  },
  {
   "cell_type": "code",
   "execution_count": null,
   "id": "a2107869-ea1a-44f3-85f7-8e0c3f516e02",
   "metadata": {
    "tags": []
   },
   "outputs": [],
   "source": [
    "df.loc[(df[\"news_source\"] == \"AD\") & (df.error_correction == True)][[\"links\"]].values"
   ]
  },
  {
   "cell_type": "code",
   "execution_count": null,
   "id": "2c7b588c-cba2-4e86-8ed7-3603322d7070",
   "metadata": {},
   "outputs": [],
   "source": []
  },
  {
   "cell_type": "code",
   "execution_count": null,
   "id": "fcbd85ea-5570-45c9-94d1-20c787c2a8ab",
   "metadata": {},
   "outputs": [],
   "source": []
  },
  {
   "cell_type": "code",
   "execution_count": null,
   "id": "d2775040-237c-4212-97d9-d6a862b32bf0",
   "metadata": {},
   "outputs": [],
   "source": []
  },
  {
   "cell_type": "code",
   "execution_count": null,
   "id": "2cb02e1e-2dd2-4cfc-9738-04f2e7c203ac",
   "metadata": {
    "tags": []
   },
   "outputs": [],
   "source": [
    "f\"\\\\b(we|wij)\\\\b\""
   ]
  },
  {
   "cell_type": "code",
   "execution_count": null,
   "id": "a734e75a-8dc3-4377-b66c-daf82e0269ee",
   "metadata": {
    "tags": []
   },
   "outputs": [],
   "source": [
    "def get_process_information_v2(text):\n",
    "    text = str(text).strip()\n",
    "    pattern = \"\\\\b(NU)\\\\b\"\n",
    "    result = re.search(pattern, string=text)\n",
    "    return bool(result)"
   ]
  },
  {
   "cell_type": "markdown",
   "id": "edc7f818-8cfb-4e67-bc0b-38f2ae8eaa88",
   "metadata": {
    "tags": []
   },
   "source": [
    "def get_process_information(text):\n",
    "    text = str(text).strip().lower()\n",
    "    text_without_quotes = re.sub(r\"([\\\"]).*?([\\\"])\", \"\", text)\n",
    "    text_without_quotes = re.sub(r\"([']).*?(['])\", \"\", text_without_quotes)\n",
    "    text_without_quotes = re.sub(r\"([‘]).*?([’])\", \"\", text_without_quotes)\n",
    "    text_without_quotes = re.sub(r\"([,,]).*?([”])\", \"\", text_without_quotes)\n",
    "    pattern = \"\\\\b(we|wij)\\\\b\"\n",
    "    result = re.search(pattern, string=text_without_quotes)\n",
    "    return bool(result)"
   ]
  },
  {
   "cell_type": "code",
   "execution_count": null,
   "id": "b771d3ef-2640-4270-9dcd-f14f211b5cae",
   "metadata": {
    "tags": []
   },
   "outputs": [],
   "source": [
    "df.loc[(df[\"index\"] == \"NU\") & (df.process_information == True)][[\"news_source\", \"articleBody\"]].values"
   ]
  },
  {
   "cell_type": "code",
   "execution_count": null,
   "id": "24f528b0-40ba-483f-8b65-cda47b937865",
   "metadata": {},
   "outputs": [],
   "source": []
  }
 ],
 "metadata": {
  "kernelspec": {
   "display_name": "Python 3 (ipykernel)",
   "language": "python",
   "name": "python3"
  },
  "language_info": {
   "codemirror_mode": {
    "name": "ipython",
    "version": 3
   },
   "file_extension": ".py",
   "mimetype": "text/x-python",
   "name": "python",
   "nbconvert_exporter": "python",
   "pygments_lexer": "ipython3",
   "version": "3.11.3"
  }
 },
 "nbformat": 4,
 "nbformat_minor": 5
}
